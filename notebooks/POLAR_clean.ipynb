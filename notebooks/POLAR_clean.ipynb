{
  "nbformat": 4,
  "nbformat_minor": 0,
  "metadata": {
    "colab": {
      "name": "POLAR-clean.ipynb",
      "provenance": [],
      "collapsed_sections": [
        "eUIlz2N7ILNR"
      ]
    },
    "kernelspec": {
      "name": "python3",
      "display_name": "Python 3"
    },
    "language_info": {
      "name": "python"
    },
    "widgets": {
      "application/vnd.jupyter.widget-state+json": {
        "7aacd4fb730848d7bb41512998f8c361": {
          "model_module": "@jupyter-widgets/controls",
          "model_name": "HBoxModel",
          "model_module_version": "1.5.0",
          "state": {
            "_dom_classes": [],
            "_model_module": "@jupyter-widgets/controls",
            "_model_module_version": "1.5.0",
            "_model_name": "HBoxModel",
            "_view_count": null,
            "_view_module": "@jupyter-widgets/controls",
            "_view_module_version": "1.5.0",
            "_view_name": "HBoxView",
            "box_style": "",
            "children": [
              "IPY_MODEL_b42adbceaea4485f9ba506c5a46bbc1d",
              "IPY_MODEL_3cd161ebb12c4a0583b347c6044a562a",
              "IPY_MODEL_bd09597d668c4616854c73e30ce136ba"
            ],
            "layout": "IPY_MODEL_327e5650df7f410b8056ecd3fe59c264"
          }
        },
        "b42adbceaea4485f9ba506c5a46bbc1d": {
          "model_module": "@jupyter-widgets/controls",
          "model_name": "HTMLModel",
          "model_module_version": "1.5.0",
          "state": {
            "_dom_classes": [],
            "_model_module": "@jupyter-widgets/controls",
            "_model_module_version": "1.5.0",
            "_model_name": "HTMLModel",
            "_view_count": null,
            "_view_module": "@jupyter-widgets/controls",
            "_view_module_version": "1.5.0",
            "_view_name": "HTMLView",
            "description": "",
            "description_tooltip": null,
            "layout": "IPY_MODEL_8da5e739d88f460dbb9891613644a725",
            "placeholder": "​",
            "style": "IPY_MODEL_13bfd9ed81594059928f4a50182a8b3a",
            "value": "100%"
          }
        },
        "3cd161ebb12c4a0583b347c6044a562a": {
          "model_module": "@jupyter-widgets/controls",
          "model_name": "FloatProgressModel",
          "model_module_version": "1.5.0",
          "state": {
            "_dom_classes": [],
            "_model_module": "@jupyter-widgets/controls",
            "_model_module_version": "1.5.0",
            "_model_name": "FloatProgressModel",
            "_view_count": null,
            "_view_module": "@jupyter-widgets/controls",
            "_view_module_version": "1.5.0",
            "_view_name": "ProgressView",
            "bar_style": "success",
            "description": "",
            "description_tooltip": null,
            "layout": "IPY_MODEL_a01d6d08e9b04528b66c4776db934531",
            "max": 1917494,
            "min": 0,
            "orientation": "horizontal",
            "style": "IPY_MODEL_3e2b3fe6d0c04dec9d9b8ae96ba2376c",
            "value": 1917494
          }
        },
        "bd09597d668c4616854c73e30ce136ba": {
          "model_module": "@jupyter-widgets/controls",
          "model_name": "HTMLModel",
          "model_module_version": "1.5.0",
          "state": {
            "_dom_classes": [],
            "_model_module": "@jupyter-widgets/controls",
            "_model_module_version": "1.5.0",
            "_model_name": "HTMLModel",
            "_view_count": null,
            "_view_module": "@jupyter-widgets/controls",
            "_view_module_version": "1.5.0",
            "_view_name": "HTMLView",
            "description": "",
            "description_tooltip": null,
            "layout": "IPY_MODEL_799840b32f1b4f09ab0b3a53de90f7ba",
            "placeholder": "​",
            "style": "IPY_MODEL_428923abfcee405195e00191fb56e29b",
            "value": " 1917494/1917494 [00:43&lt;00:00, 48301.07it/s]"
          }
        },
        "327e5650df7f410b8056ecd3fe59c264": {
          "model_module": "@jupyter-widgets/base",
          "model_name": "LayoutModel",
          "model_module_version": "1.2.0",
          "state": {
            "_model_module": "@jupyter-widgets/base",
            "_model_module_version": "1.2.0",
            "_model_name": "LayoutModel",
            "_view_count": null,
            "_view_module": "@jupyter-widgets/base",
            "_view_module_version": "1.2.0",
            "_view_name": "LayoutView",
            "align_content": null,
            "align_items": null,
            "align_self": null,
            "border": null,
            "bottom": null,
            "display": null,
            "flex": null,
            "flex_flow": null,
            "grid_area": null,
            "grid_auto_columns": null,
            "grid_auto_flow": null,
            "grid_auto_rows": null,
            "grid_column": null,
            "grid_gap": null,
            "grid_row": null,
            "grid_template_areas": null,
            "grid_template_columns": null,
            "grid_template_rows": null,
            "height": null,
            "justify_content": null,
            "justify_items": null,
            "left": null,
            "margin": null,
            "max_height": null,
            "max_width": null,
            "min_height": null,
            "min_width": null,
            "object_fit": null,
            "object_position": null,
            "order": null,
            "overflow": null,
            "overflow_x": null,
            "overflow_y": null,
            "padding": null,
            "right": null,
            "top": null,
            "visibility": null,
            "width": null
          }
        },
        "8da5e739d88f460dbb9891613644a725": {
          "model_module": "@jupyter-widgets/base",
          "model_name": "LayoutModel",
          "model_module_version": "1.2.0",
          "state": {
            "_model_module": "@jupyter-widgets/base",
            "_model_module_version": "1.2.0",
            "_model_name": "LayoutModel",
            "_view_count": null,
            "_view_module": "@jupyter-widgets/base",
            "_view_module_version": "1.2.0",
            "_view_name": "LayoutView",
            "align_content": null,
            "align_items": null,
            "align_self": null,
            "border": null,
            "bottom": null,
            "display": null,
            "flex": null,
            "flex_flow": null,
            "grid_area": null,
            "grid_auto_columns": null,
            "grid_auto_flow": null,
            "grid_auto_rows": null,
            "grid_column": null,
            "grid_gap": null,
            "grid_row": null,
            "grid_template_areas": null,
            "grid_template_columns": null,
            "grid_template_rows": null,
            "height": null,
            "justify_content": null,
            "justify_items": null,
            "left": null,
            "margin": null,
            "max_height": null,
            "max_width": null,
            "min_height": null,
            "min_width": null,
            "object_fit": null,
            "object_position": null,
            "order": null,
            "overflow": null,
            "overflow_x": null,
            "overflow_y": null,
            "padding": null,
            "right": null,
            "top": null,
            "visibility": null,
            "width": null
          }
        },
        "13bfd9ed81594059928f4a50182a8b3a": {
          "model_module": "@jupyter-widgets/controls",
          "model_name": "DescriptionStyleModel",
          "model_module_version": "1.5.0",
          "state": {
            "_model_module": "@jupyter-widgets/controls",
            "_model_module_version": "1.5.0",
            "_model_name": "DescriptionStyleModel",
            "_view_count": null,
            "_view_module": "@jupyter-widgets/base",
            "_view_module_version": "1.2.0",
            "_view_name": "StyleView",
            "description_width": ""
          }
        },
        "a01d6d08e9b04528b66c4776db934531": {
          "model_module": "@jupyter-widgets/base",
          "model_name": "LayoutModel",
          "model_module_version": "1.2.0",
          "state": {
            "_model_module": "@jupyter-widgets/base",
            "_model_module_version": "1.2.0",
            "_model_name": "LayoutModel",
            "_view_count": null,
            "_view_module": "@jupyter-widgets/base",
            "_view_module_version": "1.2.0",
            "_view_name": "LayoutView",
            "align_content": null,
            "align_items": null,
            "align_self": null,
            "border": null,
            "bottom": null,
            "display": null,
            "flex": null,
            "flex_flow": null,
            "grid_area": null,
            "grid_auto_columns": null,
            "grid_auto_flow": null,
            "grid_auto_rows": null,
            "grid_column": null,
            "grid_gap": null,
            "grid_row": null,
            "grid_template_areas": null,
            "grid_template_columns": null,
            "grid_template_rows": null,
            "height": null,
            "justify_content": null,
            "justify_items": null,
            "left": null,
            "margin": null,
            "max_height": null,
            "max_width": null,
            "min_height": null,
            "min_width": null,
            "object_fit": null,
            "object_position": null,
            "order": null,
            "overflow": null,
            "overflow_x": null,
            "overflow_y": null,
            "padding": null,
            "right": null,
            "top": null,
            "visibility": null,
            "width": null
          }
        },
        "3e2b3fe6d0c04dec9d9b8ae96ba2376c": {
          "model_module": "@jupyter-widgets/controls",
          "model_name": "ProgressStyleModel",
          "model_module_version": "1.5.0",
          "state": {
            "_model_module": "@jupyter-widgets/controls",
            "_model_module_version": "1.5.0",
            "_model_name": "ProgressStyleModel",
            "_view_count": null,
            "_view_module": "@jupyter-widgets/base",
            "_view_module_version": "1.2.0",
            "_view_name": "StyleView",
            "bar_color": null,
            "description_width": ""
          }
        },
        "799840b32f1b4f09ab0b3a53de90f7ba": {
          "model_module": "@jupyter-widgets/base",
          "model_name": "LayoutModel",
          "model_module_version": "1.2.0",
          "state": {
            "_model_module": "@jupyter-widgets/base",
            "_model_module_version": "1.2.0",
            "_model_name": "LayoutModel",
            "_view_count": null,
            "_view_module": "@jupyter-widgets/base",
            "_view_module_version": "1.2.0",
            "_view_name": "LayoutView",
            "align_content": null,
            "align_items": null,
            "align_self": null,
            "border": null,
            "bottom": null,
            "display": null,
            "flex": null,
            "flex_flow": null,
            "grid_area": null,
            "grid_auto_columns": null,
            "grid_auto_flow": null,
            "grid_auto_rows": null,
            "grid_column": null,
            "grid_gap": null,
            "grid_row": null,
            "grid_template_areas": null,
            "grid_template_columns": null,
            "grid_template_rows": null,
            "height": null,
            "justify_content": null,
            "justify_items": null,
            "left": null,
            "margin": null,
            "max_height": null,
            "max_width": null,
            "min_height": null,
            "min_width": null,
            "object_fit": null,
            "object_position": null,
            "order": null,
            "overflow": null,
            "overflow_x": null,
            "overflow_y": null,
            "padding": null,
            "right": null,
            "top": null,
            "visibility": null,
            "width": null
          }
        },
        "428923abfcee405195e00191fb56e29b": {
          "model_module": "@jupyter-widgets/controls",
          "model_name": "DescriptionStyleModel",
          "model_module_version": "1.5.0",
          "state": {
            "_model_module": "@jupyter-widgets/controls",
            "_model_module_version": "1.5.0",
            "_model_name": "DescriptionStyleModel",
            "_view_count": null,
            "_view_module": "@jupyter-widgets/base",
            "_view_module_version": "1.2.0",
            "_view_name": "StyleView",
            "description_width": ""
          }
        },
        "2424e2223097464286b549e33ba172a3": {
          "model_module": "@jupyter-widgets/controls",
          "model_name": "HBoxModel",
          "model_module_version": "1.5.0",
          "state": {
            "_dom_classes": [],
            "_model_module": "@jupyter-widgets/controls",
            "_model_module_version": "1.5.0",
            "_model_name": "HBoxModel",
            "_view_count": null,
            "_view_module": "@jupyter-widgets/controls",
            "_view_module_version": "1.5.0",
            "_view_name": "HBoxView",
            "box_style": "",
            "children": [
              "IPY_MODEL_020bb09fd74448d686c9571569a17979",
              "IPY_MODEL_513b371c574e439e9672db8a7584bedd",
              "IPY_MODEL_0e000bde1ea74af8b2bca9ea5abd0bd6"
            ],
            "layout": "IPY_MODEL_66fe8a69216745308f59e1b941202a4a"
          }
        },
        "020bb09fd74448d686c9571569a17979": {
          "model_module": "@jupyter-widgets/controls",
          "model_name": "HTMLModel",
          "model_module_version": "1.5.0",
          "state": {
            "_dom_classes": [],
            "_model_module": "@jupyter-widgets/controls",
            "_model_module_version": "1.5.0",
            "_model_name": "HTMLModel",
            "_view_count": null,
            "_view_module": "@jupyter-widgets/controls",
            "_view_module_version": "1.5.0",
            "_view_name": "HTMLView",
            "description": "",
            "description_tooltip": null,
            "layout": "IPY_MODEL_25d46f2fb3e94f9fb47e31b4f06ceb5b",
            "placeholder": "​",
            "style": "IPY_MODEL_c6005d5f79db45a4abf568daef3df9ad",
            "value": "100%"
          }
        },
        "513b371c574e439e9672db8a7584bedd": {
          "model_module": "@jupyter-widgets/controls",
          "model_name": "FloatProgressModel",
          "model_module_version": "1.5.0",
          "state": {
            "_dom_classes": [],
            "_model_module": "@jupyter-widgets/controls",
            "_model_module_version": "1.5.0",
            "_model_name": "FloatProgressModel",
            "_view_count": null,
            "_view_module": "@jupyter-widgets/controls",
            "_view_module_version": "1.5.0",
            "_view_name": "ProgressView",
            "bar_style": "success",
            "description": "",
            "description_tooltip": null,
            "layout": "IPY_MODEL_b3961e057e754f0186125f3e774aac07",
            "max": 1467,
            "min": 0,
            "orientation": "horizontal",
            "style": "IPY_MODEL_b5630528c2fd4afc852645099aa05745",
            "value": 1467
          }
        },
        "0e000bde1ea74af8b2bca9ea5abd0bd6": {
          "model_module": "@jupyter-widgets/controls",
          "model_name": "HTMLModel",
          "model_module_version": "1.5.0",
          "state": {
            "_dom_classes": [],
            "_model_module": "@jupyter-widgets/controls",
            "_model_module_version": "1.5.0",
            "_model_name": "HTMLModel",
            "_view_count": null,
            "_view_module": "@jupyter-widgets/controls",
            "_view_module_version": "1.5.0",
            "_view_name": "HTMLView",
            "description": "",
            "description_tooltip": null,
            "layout": "IPY_MODEL_37036acbc8f14567b3b90f6c2e075721",
            "placeholder": "​",
            "style": "IPY_MODEL_14578b6802ef43b2b7a44b00f223a77b",
            "value": " 1467/1467 [03:18&lt;00:00, 75.47it/s]"
          }
        },
        "66fe8a69216745308f59e1b941202a4a": {
          "model_module": "@jupyter-widgets/base",
          "model_name": "LayoutModel",
          "model_module_version": "1.2.0",
          "state": {
            "_model_module": "@jupyter-widgets/base",
            "_model_module_version": "1.2.0",
            "_model_name": "LayoutModel",
            "_view_count": null,
            "_view_module": "@jupyter-widgets/base",
            "_view_module_version": "1.2.0",
            "_view_name": "LayoutView",
            "align_content": null,
            "align_items": null,
            "align_self": null,
            "border": null,
            "bottom": null,
            "display": null,
            "flex": null,
            "flex_flow": null,
            "grid_area": null,
            "grid_auto_columns": null,
            "grid_auto_flow": null,
            "grid_auto_rows": null,
            "grid_column": null,
            "grid_gap": null,
            "grid_row": null,
            "grid_template_areas": null,
            "grid_template_columns": null,
            "grid_template_rows": null,
            "height": null,
            "justify_content": null,
            "justify_items": null,
            "left": null,
            "margin": null,
            "max_height": null,
            "max_width": null,
            "min_height": null,
            "min_width": null,
            "object_fit": null,
            "object_position": null,
            "order": null,
            "overflow": null,
            "overflow_x": null,
            "overflow_y": null,
            "padding": null,
            "right": null,
            "top": null,
            "visibility": null,
            "width": null
          }
        },
        "25d46f2fb3e94f9fb47e31b4f06ceb5b": {
          "model_module": "@jupyter-widgets/base",
          "model_name": "LayoutModel",
          "model_module_version": "1.2.0",
          "state": {
            "_model_module": "@jupyter-widgets/base",
            "_model_module_version": "1.2.0",
            "_model_name": "LayoutModel",
            "_view_count": null,
            "_view_module": "@jupyter-widgets/base",
            "_view_module_version": "1.2.0",
            "_view_name": "LayoutView",
            "align_content": null,
            "align_items": null,
            "align_self": null,
            "border": null,
            "bottom": null,
            "display": null,
            "flex": null,
            "flex_flow": null,
            "grid_area": null,
            "grid_auto_columns": null,
            "grid_auto_flow": null,
            "grid_auto_rows": null,
            "grid_column": null,
            "grid_gap": null,
            "grid_row": null,
            "grid_template_areas": null,
            "grid_template_columns": null,
            "grid_template_rows": null,
            "height": null,
            "justify_content": null,
            "justify_items": null,
            "left": null,
            "margin": null,
            "max_height": null,
            "max_width": null,
            "min_height": null,
            "min_width": null,
            "object_fit": null,
            "object_position": null,
            "order": null,
            "overflow": null,
            "overflow_x": null,
            "overflow_y": null,
            "padding": null,
            "right": null,
            "top": null,
            "visibility": null,
            "width": null
          }
        },
        "c6005d5f79db45a4abf568daef3df9ad": {
          "model_module": "@jupyter-widgets/controls",
          "model_name": "DescriptionStyleModel",
          "model_module_version": "1.5.0",
          "state": {
            "_model_module": "@jupyter-widgets/controls",
            "_model_module_version": "1.5.0",
            "_model_name": "DescriptionStyleModel",
            "_view_count": null,
            "_view_module": "@jupyter-widgets/base",
            "_view_module_version": "1.2.0",
            "_view_name": "StyleView",
            "description_width": ""
          }
        },
        "b3961e057e754f0186125f3e774aac07": {
          "model_module": "@jupyter-widgets/base",
          "model_name": "LayoutModel",
          "model_module_version": "1.2.0",
          "state": {
            "_model_module": "@jupyter-widgets/base",
            "_model_module_version": "1.2.0",
            "_model_name": "LayoutModel",
            "_view_count": null,
            "_view_module": "@jupyter-widgets/base",
            "_view_module_version": "1.2.0",
            "_view_name": "LayoutView",
            "align_content": null,
            "align_items": null,
            "align_self": null,
            "border": null,
            "bottom": null,
            "display": null,
            "flex": null,
            "flex_flow": null,
            "grid_area": null,
            "grid_auto_columns": null,
            "grid_auto_flow": null,
            "grid_auto_rows": null,
            "grid_column": null,
            "grid_gap": null,
            "grid_row": null,
            "grid_template_areas": null,
            "grid_template_columns": null,
            "grid_template_rows": null,
            "height": null,
            "justify_content": null,
            "justify_items": null,
            "left": null,
            "margin": null,
            "max_height": null,
            "max_width": null,
            "min_height": null,
            "min_width": null,
            "object_fit": null,
            "object_position": null,
            "order": null,
            "overflow": null,
            "overflow_x": null,
            "overflow_y": null,
            "padding": null,
            "right": null,
            "top": null,
            "visibility": null,
            "width": null
          }
        },
        "b5630528c2fd4afc852645099aa05745": {
          "model_module": "@jupyter-widgets/controls",
          "model_name": "ProgressStyleModel",
          "model_module_version": "1.5.0",
          "state": {
            "_model_module": "@jupyter-widgets/controls",
            "_model_module_version": "1.5.0",
            "_model_name": "ProgressStyleModel",
            "_view_count": null,
            "_view_module": "@jupyter-widgets/base",
            "_view_module_version": "1.2.0",
            "_view_name": "StyleView",
            "bar_color": null,
            "description_width": ""
          }
        },
        "37036acbc8f14567b3b90f6c2e075721": {
          "model_module": "@jupyter-widgets/base",
          "model_name": "LayoutModel",
          "model_module_version": "1.2.0",
          "state": {
            "_model_module": "@jupyter-widgets/base",
            "_model_module_version": "1.2.0",
            "_model_name": "LayoutModel",
            "_view_count": null,
            "_view_module": "@jupyter-widgets/base",
            "_view_module_version": "1.2.0",
            "_view_name": "LayoutView",
            "align_content": null,
            "align_items": null,
            "align_self": null,
            "border": null,
            "bottom": null,
            "display": null,
            "flex": null,
            "flex_flow": null,
            "grid_area": null,
            "grid_auto_columns": null,
            "grid_auto_flow": null,
            "grid_auto_rows": null,
            "grid_column": null,
            "grid_gap": null,
            "grid_row": null,
            "grid_template_areas": null,
            "grid_template_columns": null,
            "grid_template_rows": null,
            "height": null,
            "justify_content": null,
            "justify_items": null,
            "left": null,
            "margin": null,
            "max_height": null,
            "max_width": null,
            "min_height": null,
            "min_width": null,
            "object_fit": null,
            "object_position": null,
            "order": null,
            "overflow": null,
            "overflow_x": null,
            "overflow_y": null,
            "padding": null,
            "right": null,
            "top": null,
            "visibility": null,
            "width": null
          }
        },
        "14578b6802ef43b2b7a44b00f223a77b": {
          "model_module": "@jupyter-widgets/controls",
          "model_name": "DescriptionStyleModel",
          "model_module_version": "1.5.0",
          "state": {
            "_model_module": "@jupyter-widgets/controls",
            "_model_module_version": "1.5.0",
            "_model_name": "DescriptionStyleModel",
            "_view_count": null,
            "_view_module": "@jupyter-widgets/base",
            "_view_module_version": "1.2.0",
            "_view_name": "StyleView",
            "description_width": ""
          }
        }
      }
    }
  },
  "cells": [
    {
      "cell_type": "code",
      "source": [
        "import gensim\n",
        "from numpy import linalg\n",
        "import numpy as np\n",
        "from sklearn.metrics.pairwise import cosine_similarity\n",
        "from tqdm import tqdm_notebook as tqdm\n",
        "import time\n",
        "from random import shuffle\n",
        "import sys\n",
        "import nltk \n",
        "from nltk.corpus import wordnet \n",
        "import gc\n",
        "from collections import defaultdict\n",
        "import random\n",
        "import json\n",
        "import os\n",
        "\n",
        "from gensim.scripts.glove2word2vec import glove2word2vec\n",
        "from gensim.test.utils import datapath, get_tmpfile\n",
        "\n",
        "from gensim.test.utils import datapath\n",
        "\n",
        "!pip install ipython-autotime\n",
        "%load_ext autotime"
      ],
      "metadata": {
        "colab": {
          "base_uri": "https://localhost:8080/"
        },
        "id": "B3oHlMPoGIS5",
        "outputId": "ad374818-ba17-4427-81a3-c8f31eaa9f9b"
      },
      "execution_count": 5,
      "outputs": [
        {
          "output_type": "stream",
          "name": "stdout",
          "text": [
            "Collecting ipython-autotime\n",
            "  Downloading ipython_autotime-0.3.1-py2.py3-none-any.whl (6.8 kB)\n",
            "Requirement already satisfied: ipython in /usr/local/lib/python3.7/dist-packages (from ipython-autotime) (5.5.0)\n",
            "Requirement already satisfied: setuptools>=18.5 in /usr/local/lib/python3.7/dist-packages (from ipython->ipython-autotime) (57.4.0)\n",
            "Requirement already satisfied: pickleshare in /usr/local/lib/python3.7/dist-packages (from ipython->ipython-autotime) (0.7.5)\n",
            "Requirement already satisfied: traitlets>=4.2 in /usr/local/lib/python3.7/dist-packages (from ipython->ipython-autotime) (5.1.1)\n",
            "Requirement already satisfied: decorator in /usr/local/lib/python3.7/dist-packages (from ipython->ipython-autotime) (4.4.2)\n",
            "Requirement already satisfied: pygments in /usr/local/lib/python3.7/dist-packages (from ipython->ipython-autotime) (2.6.1)\n",
            "Requirement already satisfied: prompt-toolkit<2.0.0,>=1.0.4 in /usr/local/lib/python3.7/dist-packages (from ipython->ipython-autotime) (1.0.18)\n",
            "Requirement already satisfied: pexpect in /usr/local/lib/python3.7/dist-packages (from ipython->ipython-autotime) (4.8.0)\n",
            "Requirement already satisfied: simplegeneric>0.8 in /usr/local/lib/python3.7/dist-packages (from ipython->ipython-autotime) (0.8.1)\n",
            "Requirement already satisfied: six>=1.9.0 in /usr/local/lib/python3.7/dist-packages (from prompt-toolkit<2.0.0,>=1.0.4->ipython->ipython-autotime) (1.15.0)\n",
            "Requirement already satisfied: wcwidth in /usr/local/lib/python3.7/dist-packages (from prompt-toolkit<2.0.0,>=1.0.4->ipython->ipython-autotime) (0.2.5)\n",
            "Requirement already satisfied: ptyprocess>=0.5 in /usr/local/lib/python3.7/dist-packages (from pexpect->ipython->ipython-autotime) (0.7.0)\n",
            "Installing collected packages: ipython-autotime\n",
            "Successfully installed ipython-autotime-0.3.1\n",
            "time: 280 µs (started: 2022-03-23 18:54:33 +00:00)\n"
          ]
        }
      ]
    },
    {
      "cell_type": "markdown",
      "source": [
        "### Download & Process Glove. Ignore if mod file exists"
      ],
      "metadata": {
        "id": "WYeDMmrIHtu2"
      }
    },
    {
      "cell_type": "code",
      "source": [
        "#!wget https://nlp.stanford.edu/data/glove.42B.300d.zip\n",
        "#!unzip glove*.zip\n",
        "\n",
        "model_glove = glove2word2vec('glove.42B.300d.txt','gensim_glove_300d.txt')\n",
        "model_glove = gensim.models.KeyedVectors.load_word2vec_format(\"gensim_glove_300d.txt\", binary=False)\n",
        "\n",
        "def generate_norm_embedding(model, output_path):\n",
        "    temp_file = open(output_path,'wb')\n",
        "    temp_file.write(str.encode(str(len(model.vocab))+' '+str(model.vector_size)+'\\n'))\n",
        "    \n",
        "    for each_word in tqdm(model.vocab):\n",
        "        temp_file.write(str.encode(each_word+' '))\n",
        "        temp_file.write(model[each_word]/linalg.norm(model[each_word]))\n",
        "        temp_file.write(str.encode('\\n'))\n",
        "    \n",
        "    temp_file.close()\n",
        "\n",
        "generate_norm_embedding(model_glove,'glove_norm_300.mod')\n"
      ],
      "metadata": {
        "colab": {
          "base_uri": "https://localhost:8080/",
          "height": 140,
          "referenced_widgets": [
            "7aacd4fb730848d7bb41512998f8c361",
            "b42adbceaea4485f9ba506c5a46bbc1d",
            "3cd161ebb12c4a0583b347c6044a562a",
            "bd09597d668c4616854c73e30ce136ba",
            "327e5650df7f410b8056ecd3fe59c264",
            "8da5e739d88f460dbb9891613644a725",
            "13bfd9ed81594059928f4a50182a8b3a",
            "a01d6d08e9b04528b66c4776db934531",
            "3e2b3fe6d0c04dec9d9b8ae96ba2376c",
            "799840b32f1b4f09ab0b3a53de90f7ba",
            "428923abfcee405195e00191fb56e29b"
          ]
        },
        "id": "TXfKliKVGCZd",
        "outputId": "6744a2c4-dfbb-463c-de35-b305ae71b88a"
      },
      "execution_count": 6,
      "outputs": [
        {
          "output_type": "stream",
          "name": "stderr",
          "text": [
            "/usr/local/lib/python3.7/dist-packages/ipykernel_launcher.py:11: TqdmDeprecationWarning: This function will be removed in tqdm==5.0.0\n",
            "Please use `tqdm.notebook.tqdm` instead of `tqdm.tqdm_notebook`\n",
            "  # This is added back by InteractiveShellApp.init_path()\n"
          ]
        },
        {
          "output_type": "display_data",
          "data": {
            "text/plain": [
              "  0%|          | 0/1917494 [00:00<?, ?it/s]"
            ],
            "application/vnd.jupyter.widget-view+json": {
              "version_major": 2,
              "version_minor": 0,
              "model_id": "7aacd4fb730848d7bb41512998f8c361"
            }
          },
          "metadata": {}
        },
        {
          "output_type": "stream",
          "name": "stdout",
          "text": [
            "time: 7min 9s (started: 2022-03-23 18:54:45 +00:00)\n"
          ]
        }
      ]
    },
    {
      "cell_type": "markdown",
      "source": [
        "### Load processed glove"
      ],
      "metadata": {
        "id": "hE74vSGsH4h4"
      }
    },
    {
      "cell_type": "code",
      "source": [
        "model_gn = gensim.models.KeyedVectors.load_word2vec_format('glove_norm_300.mod',binary=True) # ss\n"
      ],
      "metadata": {
        "colab": {
          "base_uri": "https://localhost:8080/"
        },
        "id": "tf47lHBgGjBC",
        "outputId": "834fbfb0-7b97-4325-da3a-2edcd016d894"
      },
      "execution_count": 7,
      "outputs": [
        {
          "output_type": "stream",
          "name": "stdout",
          "text": [
            "time: 33.5 s (started: 2022-03-23 19:02:57 +00:00)\n"
          ]
        }
      ]
    },
    {
      "cell_type": "code",
      "source": [
        "current_model = model_gn \n"
      ],
      "metadata": {
        "colab": {
          "base_uri": "https://localhost:8080/"
        },
        "id": "yZZpuetbGkg3",
        "outputId": "b3ad04cd-7d64-4f8d-d3cc-d53d90583a34"
      },
      "execution_count": 8,
      "outputs": [
        {
          "output_type": "stream",
          "name": "stdout",
          "text": [
            "time: 1.26 ms (started: 2022-03-23 19:03:30 +00:00)\n"
          ]
        }
      ]
    },
    {
      "cell_type": "markdown",
      "source": [
        "### Load and process antonyms. Ignore if final_antonym_list exists."
      ],
      "metadata": {
        "id": "eUIlz2N7ILNR"
      }
    },
    {
      "cell_type": "code",
      "source": [
        "list_antonym = []\n",
        "\n",
        "with open('Antonym_sets/LenciBenotto.val') as fp:\n",
        "    for line in fp:\n",
        "        parts = line.split()\n",
        "        if parts[3]=='antonym':\n",
        "            word1 = parts[0].split('-')[0]\n",
        "            word2 = parts[1].split('-')[0]\n",
        "            if word1 in current_model and word2 in current_model:\n",
        "                list_antonym.append((word1.strip().lower(), word2.strip().lower()))\n",
        "\n",
        "\n",
        "with open('Antonym_sets/LenciBenotto.test') as fp:\n",
        "    for line in fp:\n",
        "        parts = line.split()\n",
        "        if parts[3]=='antonym':\n",
        "            word1 = parts[0].split('-')[0]\n",
        "            word2 = parts[1].split('-')[0]\n",
        "            if word1 in current_model and word2 in current_model:\n",
        "                list_antonym.append((word1.strip().lower(), word2.strip().lower()))\n",
        "                \n",
        "with open('Antonym_sets/EVALution.val') as fp:\n",
        "    for line in fp:\n",
        "        parts = line.split()\n",
        "        if parts[3]=='antonym':\n",
        "            word1 = parts[0].split('-')[0]\n",
        "            word2 = parts[1].split('-')[0]\n",
        "            if word1 in current_model and word2 in current_model:\n",
        "                list_antonym.append((word1.strip().lower(), word2.strip().lower()))\n",
        "\n",
        "with open('Antonym_sets/EVALution.test') as fp:\n",
        "    for line in fp:\n",
        "        parts = line.split()\n",
        "        if parts[3]=='antonym':\n",
        "            word1 = parts[0].split('-')[0]\n",
        "            word2 = parts[1].split('-')[0]\n",
        "            if word1 in current_model and word2 in current_model:\n",
        "                list_antonym.append((word1.strip().lower(), word2.strip().lower()))\n",
        "                \n",
        "                \n",
        "list_antonym = list(dict.fromkeys(list_antonym).keys())\n",
        "\n",
        "similarity_matrix = defaultdict(list)\n",
        "for each_pair in tqdm(list_antonym):\n",
        "    word1 = each_pair[0]\n",
        "    word2 = each_pair[1]\n",
        "    if word1 < word2:\n",
        "        similarity_matrix[word1].append(word2)\n",
        "    else:\n",
        "        similarity_matrix[word2].append(word1)\n",
        "    \n",
        "all_similarity = defaultdict(dict)\n",
        "for each_key in tqdm(similarity_matrix):\n",
        "    for each_value in similarity_matrix[each_key]:\n",
        "#         cosine_similarity([current_model[each_key]]\n",
        "        all_similarity[each_key][each_value] = abs(cosine_similarity([current_model[each_key]],[current_model[each_value]])[0][0])\n",
        "    \n",
        "final_antonym_list = []\n",
        "for index_counter, each_key in enumerate(tqdm(all_similarity)):\n",
        "#     print(each_key,all_similarity[each_key])\n",
        "    listofTuples = sorted(all_similarity[each_key].items() ,  key=lambda x: x[1])\n",
        "#     print(listofTuples)\n",
        "    final_antonym_list.append((each_key, listofTuples[0][0]))\n",
        "print(len(final_antonym_list))\n",
        "\n",
        "list_antonym = final_antonym_list"
      ],
      "metadata": {
        "id": "uDjskS8oIE4r"
      },
      "execution_count": null,
      "outputs": []
    },
    {
      "cell_type": "markdown",
      "source": [
        "### Load final_antonym_list as antonym list"
      ],
      "metadata": {
        "id": "Dpc9BMo8IdIm"
      }
    },
    {
      "cell_type": "code",
      "execution_count": 9,
      "metadata": {
        "colab": {
          "base_uri": "https://localhost:8080/"
        },
        "id": "a5D2hM1VFtrC",
        "outputId": "9931a1f6-8cd1-46ea-d0ff-6b44dc00ba0f"
      },
      "outputs": [
        {
          "output_type": "stream",
          "name": "stdout",
          "text": [
            "time: 6.93 ms (started: 2022-03-23 19:03:30 +00:00)\n"
          ]
        }
      ],
      "source": [
        "import pandas as pd\n",
        "\n",
        "list_antonym = pd.read_pickle(r'final_antonym_list')"
      ]
    },
    {
      "cell_type": "markdown",
      "source": [
        "### Decide on the size of the antonym vector\n"
      ],
      "metadata": {
        "id": "lMKPdb7uIvO9"
      }
    },
    {
      "cell_type": "code",
      "source": [
        "num_antonym = 1468\n",
        "\n",
        "## Find the antonym difference vectors\n",
        "antonymy_vector = []\n",
        "for each_word_pair in list_antonym:\n",
        "    antonymy_vector.append(current_model[each_word_pair[0]]- current_model[each_word_pair[1]])\n",
        "antonymy_vector = np.array(antonymy_vector)\n",
        "print(antonymy_vector.shape)"
      ],
      "metadata": {
        "colab": {
          "base_uri": "https://localhost:8080/"
        },
        "id": "3BIhQHAVI0Xq",
        "outputId": "39cf579a-6ada-405c-8811-a5f42c41c4db"
      },
      "execution_count": 18,
      "outputs": [
        {
          "output_type": "stream",
          "name": "stdout",
          "text": [
            "(1468, 300)\n",
            "time: 27.6 ms (started: 2022-03-23 19:07:27 +00:00)\n"
          ]
        }
      ]
    },
    {
      "cell_type": "markdown",
      "source": [
        "### Subset Dimension Selection Method\n"
      ],
      "metadata": {
        "id": "5ZSqe3J0I1pE"
      }
    },
    {
      "cell_type": "code",
      "source": [
        "import random\n",
        "import scipy\n",
        "\n",
        "random.seed(42)\n",
        "\n",
        "t1 = np.array(antonymy_vector)\n",
        "dimension_similarity_matrix = scipy.spatial.distance.cdist(np.array(antonymy_vector),np.array(antonymy_vector),'cosine')\n",
        "dimension_similarity_matrix = abs(1-dimension_similarity_matrix)\n",
        "        \n",
        "def get_set_score(final_list, each_dim):\n",
        "    final_output = 0.0\n",
        "    for each_vec in final_list:\n",
        "        final_output += dimension_similarity_matrix[each_vec][each_dim]\n",
        "    return final_output/(len(final_list))\n",
        "        \n",
        "def select_subset_dimension(dim_vector, num_dim):\n",
        "    working_list = np.array(dim_vector)\n",
        "    \n",
        "    working_position_index = [i for i in range(working_list.shape[0])]\n",
        "    final_position_index = []\n",
        "    \n",
        "\n",
        "    print('working list is ready, shape', working_list.shape)\n",
        "    sel_dim = random.randrange(0, working_list.shape[0])\n",
        "\n",
        "    final_position_index.append(sel_dim)\n",
        "    \n",
        "    working_position_index.remove(sel_dim)\n",
        "\n",
        "    for test_count in tqdm(range(num_dim-1)):\n",
        "        min_dim = None\n",
        "        min_score = 1000\n",
        "        for temp_index, each_dim in enumerate(working_position_index):\n",
        "            temp_score = get_set_score(final_position_index, each_dim)\n",
        "            if temp_score< min_score:\n",
        "                min_score= temp_score\n",
        "                min_dim = each_dim\n",
        "        final_position_index.append(min_dim)\n",
        "        working_position_index.remove(min_dim)\n",
        "    return final_position_index"
      ],
      "metadata": {
        "colab": {
          "base_uri": "https://localhost:8080/"
        },
        "id": "_2CbH7ZLJIIl",
        "outputId": "49be677f-7ec5-4a01-cb88-822a313f6f17"
      },
      "execution_count": 16,
      "outputs": [
        {
          "output_type": "stream",
          "name": "stdout",
          "text": [
            "time: 665 ms (started: 2022-03-23 19:06:06 +00:00)\n"
          ]
        }
      ]
    },
    {
      "cell_type": "markdown",
      "source": [
        "## Select POLAR dimensions"
      ],
      "metadata": {
        "id": "31GBcutlJynx"
      }
    },
    {
      "cell_type": "markdown",
      "source": [
        "#### Generate the RANDOM DIMENSION Order\n"
      ],
      "metadata": {
        "id": "jdhFIzXoJ38z"
      }
    },
    {
      "cell_type": "code",
      "source": [
        "random_antonym_vector = [i for i in range(len(antonymy_vector))]\n",
        "random.shuffle(random_antonym_vector)\n",
        "print(len(random_antonym_vector))"
      ],
      "metadata": {
        "colab": {
          "base_uri": "https://localhost:8080/"
        },
        "id": "WPiwdKKRJ4FR",
        "outputId": "042fbc65-8bc3-4469-9e7a-7780238ba653"
      },
      "execution_count": 14,
      "outputs": [
        {
          "output_type": "stream",
          "name": "stdout",
          "text": [
            "1468\n",
            "time: 5.37 ms (started: 2022-03-23 19:05:27 +00:00)\n"
          ]
        }
      ]
    },
    {
      "cell_type": "markdown",
      "source": [
        "#### Generate the ORTHOGONAL DIMENSION Order\n"
      ],
      "metadata": {
        "id": "5nGWeEltJo1O"
      }
    },
    {
      "cell_type": "code",
      "source": [
        "orthogonal_antonymy_vector =np.array(select_subset_dimension(antonymy_vector, num_antonym))  \n",
        "print(orthogonal_antonymy_vector.shape)"
      ],
      "metadata": {
        "colab": {
          "base_uri": "https://localhost:8080/",
          "height": 158,
          "referenced_widgets": [
            "2424e2223097464286b549e33ba172a3",
            "020bb09fd74448d686c9571569a17979",
            "513b371c574e439e9672db8a7584bedd",
            "0e000bde1ea74af8b2bca9ea5abd0bd6",
            "66fe8a69216745308f59e1b941202a4a",
            "25d46f2fb3e94f9fb47e31b4f06ceb5b",
            "c6005d5f79db45a4abf568daef3df9ad",
            "b3961e057e754f0186125f3e774aac07",
            "b5630528c2fd4afc852645099aa05745",
            "37036acbc8f14567b3b90f6c2e075721",
            "14578b6802ef43b2b7a44b00f223a77b"
          ]
        },
        "id": "Zl1UESNDJoTX",
        "outputId": "ab81418f-c4e6-4723-b302-4b2cea0e6828"
      },
      "execution_count": 19,
      "outputs": [
        {
          "output_type": "stream",
          "name": "stdout",
          "text": [
            "working list is ready, shape (1468, 300)\n"
          ]
        },
        {
          "output_type": "stream",
          "name": "stderr",
          "text": [
            "/usr/local/lib/python3.7/dist-packages/ipykernel_launcher.py:30: TqdmDeprecationWarning: This function will be removed in tqdm==5.0.0\n",
            "Please use `tqdm.notebook.tqdm` instead of `tqdm.tqdm_notebook`\n"
          ]
        },
        {
          "output_type": "display_data",
          "data": {
            "text/plain": [
              "  0%|          | 0/1467 [00:00<?, ?it/s]"
            ],
            "application/vnd.jupyter.widget-view+json": {
              "version_major": 2,
              "version_minor": 0,
              "model_id": "2424e2223097464286b549e33ba172a3"
            }
          },
          "metadata": {}
        },
        {
          "output_type": "stream",
          "name": "stdout",
          "text": [
            "(1468,)\n",
            "time: 3min 18s (started: 2022-03-23 19:07:31 +00:00)\n"
          ]
        }
      ]
    },
    {
      "cell_type": "markdown",
      "source": [
        "#### Generate the MAXIMUM VARIANCE DIMENSION Order\n"
      ],
      "metadata": {
        "id": "8_0bjrTVKA-O"
      }
    },
    {
      "cell_type": "code",
      "source": [
        "import torch\n",
        "\n",
        "embedding_size = antonymy_vector.shape[0]   \n",
        "print('The embedding size is', embedding_size)\n",
        "\n",
        "\n",
        "variance_antonymy_vector_inverse = np.linalg.pinv(np.transpose(antonymy_vector))\n",
        "variance_antonymy_vector_inverse = torch.tensor(variance_antonymy_vector_inverse)\n",
        "\n",
        "embedding_matrix = []\n",
        "\n",
        "current_model_tensor = torch.t(torch.tensor(current_model.wv.vectors))"
      ],
      "metadata": {
        "colab": {
          "base_uri": "https://localhost:8080/"
        },
        "id": "z65a7C7TN8BQ",
        "outputId": "a02b9438-ef6c-4690-b10d-7cd18d5aea10"
      },
      "execution_count": 23,
      "outputs": [
        {
          "output_type": "stream",
          "name": "stdout",
          "text": [
            "The embedding size is 1468\n",
            "time: 6.43 s (started: 2022-03-23 19:19:13 +00:00)\n"
          ]
        }
      ]
    },
    {
      "cell_type": "code",
      "source": [
        "torch.var_mean(torch.matmul(, current_model_tensor[::,:100]), axis = 1)"
      ],
      "metadata": {
        "colab": {
          "base_uri": "https://localhost:8080/"
        },
        "id": "6_v5HgkQPD8n",
        "outputId": "5dbdd340-47f3-4f2c-e4dc-969d5d790fa8"
      },
      "execution_count": 41,
      "outputs": [
        {
          "output_type": "execute_result",
          "data": {
            "text/plain": [
              "torch.Size([1468])"
            ]
          },
          "metadata": {},
          "execution_count": 41
        },
        {
          "output_type": "stream",
          "name": "stdout",
          "text": [
            "time: 9.5 ms (started: 2022-03-23 19:28:13 +00:00)\n"
          ]
        }
      ]
    },
    {
      "cell_type": "code",
      "source": [
        "var_list = [None for x in range(20)] # variance for each antonym in each batch\n",
        "\n",
        "for i in range(19):  # the first 19 batches, each of size 100k\n",
        "  temp = torch.matmul(variance_antonymy_vector_inverse, current_model_tensor[:,100000*i:100000*i+100000])\n",
        "  temp_var_mean = torch.var(temp, axis = 1)\n",
        "  var_list[i] = temp_var_mean[0].numpy()\n",
        "  del temp\n",
        "\n",
        "temp = torch.matmul(variance_antonymy_vector_inverse, current_model_tensor[:,1900000:])\n",
        "temp_var_mean = torch.var(temp, axis = 1)\n",
        "var_list[19] = temp_var_mean[0].numpy()\n",
        "del temp"
      ],
      "metadata": {
        "colab": {
          "base_uri": "https://localhost:8080/",
          "height": 258
        },
        "id": "_qvK1_BcQR5I",
        "outputId": "285fef25-8bbd-4bce-9d26-de153ab3aef8"
      },
      "execution_count": 60,
      "outputs": [
        {
          "output_type": "error",
          "ename": "IndexError",
          "evalue": "ignored",
          "traceback": [
            "\u001b[0;31m---------------------------------------------------------------------------\u001b[0m",
            "\u001b[0;31mIndexError\u001b[0m                                Traceback (most recent call last)",
            "\u001b[0;32m<ipython-input-60-1880baaa169a>\u001b[0m in \u001b[0;36m<module>\u001b[0;34m()\u001b[0m\n\u001b[1;32m     11\u001b[0m \u001b[0mtemp\u001b[0m \u001b[0;34m=\u001b[0m \u001b[0mtorch\u001b[0m\u001b[0;34m.\u001b[0m\u001b[0mmatmul\u001b[0m\u001b[0;34m(\u001b[0m\u001b[0mvariance_antonymy_vector_inverse\u001b[0m\u001b[0;34m,\u001b[0m \u001b[0mcurrent_model_tensor\u001b[0m\u001b[0;34m[\u001b[0m\u001b[0;34m:\u001b[0m\u001b[0;34m,\u001b[0m\u001b[0;36m1900000\u001b[0m\u001b[0;34m:\u001b[0m\u001b[0;34m]\u001b[0m\u001b[0;34m)\u001b[0m\u001b[0;34m\u001b[0m\u001b[0;34m\u001b[0m\u001b[0m\n\u001b[1;32m     12\u001b[0m \u001b[0mtemp_var_mean\u001b[0m \u001b[0;34m=\u001b[0m \u001b[0mtorch\u001b[0m\u001b[0;34m.\u001b[0m\u001b[0mvar_mean\u001b[0m\u001b[0;34m(\u001b[0m\u001b[0mtemp\u001b[0m\u001b[0;34m,\u001b[0m \u001b[0maxis\u001b[0m \u001b[0;34m=\u001b[0m \u001b[0;36m1\u001b[0m\u001b[0;34m)\u001b[0m\u001b[0;34m\u001b[0m\u001b[0;34m\u001b[0m\u001b[0m\n\u001b[0;32m---> 13\u001b[0;31m \u001b[0mvar_list\u001b[0m\u001b[0;34m[\u001b[0m\u001b[0;36m20\u001b[0m\u001b[0;34m]\u001b[0m \u001b[0;34m=\u001b[0m \u001b[0mtemp_var_mean\u001b[0m\u001b[0;34m[\u001b[0m\u001b[0;36m0\u001b[0m\u001b[0;34m]\u001b[0m\u001b[0;34m.\u001b[0m\u001b[0mnumpy\u001b[0m\u001b[0;34m(\u001b[0m\u001b[0;34m)\u001b[0m\u001b[0;34m\u001b[0m\u001b[0;34m\u001b[0m\u001b[0m\n\u001b[0m\u001b[1;32m     14\u001b[0m \u001b[0mmean_list\u001b[0m\u001b[0;34m[\u001b[0m\u001b[0;36m20\u001b[0m\u001b[0;34m]\u001b[0m \u001b[0;34m=\u001b[0m \u001b[0mtemp_var_mean\u001b[0m\u001b[0;34m[\u001b[0m\u001b[0;36m1\u001b[0m\u001b[0;34m]\u001b[0m\u001b[0;34m.\u001b[0m\u001b[0mnumpy\u001b[0m\u001b[0;34m(\u001b[0m\u001b[0;34m)\u001b[0m\u001b[0;34m\u001b[0m\u001b[0;34m\u001b[0m\u001b[0m\n\u001b[1;32m     15\u001b[0m \u001b[0;32mdel\u001b[0m \u001b[0mtemp\u001b[0m\u001b[0;34m\u001b[0m\u001b[0;34m\u001b[0m\u001b[0m\n",
            "\u001b[0;31mIndexError\u001b[0m: list assignment index out of range"
          ]
        },
        {
          "output_type": "stream",
          "name": "stdout",
          "text": [
            "time: 49.6 s (started: 2022-03-23 19:42:31 +00:00)\n"
          ]
        }
      ]
    },
    {
      "cell_type": "code",
      "source": [
        "# using lazy approach. assume each batch is independent and the overall variance is the average variance over all batches\n",
        "\n",
        "variance_list = np.mean(np.array(var_list),axis = 0)\n",
        "\n",
        "variance_antonymy_vector = [each for each in sorted(range(len(variance_list)), key=lambda i: variance_list[i], reverse=True)]\n"
      ],
      "metadata": {
        "colab": {
          "base_uri": "https://localhost:8080/"
        },
        "id": "ImbGpMq_RBKi",
        "outputId": "63906e1f-064b-4acf-8331-99d64a4b0401"
      },
      "execution_count": 71,
      "outputs": [
        {
          "output_type": "stream",
          "name": "stdout",
          "text": [
            "time: 6.31 ms (started: 2022-03-23 19:46:35 +00:00)\n"
          ]
        }
      ]
    },
    {
      "cell_type": "markdown",
      "source": [
        "### Begin POLAR embedding"
      ],
      "metadata": {
        "id": "GS0V6GdRVRcD"
      }
    },
    {
      "cell_type": "code",
      "source": [
        ""
      ],
      "metadata": {
        "id": "Xq2TX3_wUcYS"
      },
      "execution_count": null,
      "outputs": []
    }
  ]
}