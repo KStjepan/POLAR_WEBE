{
  "nbformat": 4,
  "nbformat_minor": 0,
  "metadata": {
    "colab": {
      "name": "POLAR-clean.ipynb",
      "provenance": [],
      "collapsed_sections": [
        "eUIlz2N7ILNR"
      ]
    },
    "kernelspec": {
      "name": "python3",
      "display_name": "Python 3"
    },
    "language_info": {
      "name": "python"
    },
    "widgets": {
      "application/vnd.jupyter.widget-state+json": {
        "0b23f8a85a8947f9a0e1cfedd59b1847": {
          "model_module": "@jupyter-widgets/controls",
          "model_name": "HBoxModel",
          "model_module_version": "1.5.0",
          "state": {
            "_dom_classes": [],
            "_model_module": "@jupyter-widgets/controls",
            "_model_module_version": "1.5.0",
            "_model_name": "HBoxModel",
            "_view_count": null,
            "_view_module": "@jupyter-widgets/controls",
            "_view_module_version": "1.5.0",
            "_view_name": "HBoxView",
            "box_style": "",
            "children": [
              "IPY_MODEL_03e56dfef34843a192fd3e2da8e86e0c",
              "IPY_MODEL_7fe1f545fead4c3c88ddb4710cb66ec4",
              "IPY_MODEL_277213b5bb8944c98713c2dbaef585d5"
            ],
            "layout": "IPY_MODEL_621212b7e39e49d4a42d3004348959e8"
          }
        },
        "03e56dfef34843a192fd3e2da8e86e0c": {
          "model_module": "@jupyter-widgets/controls",
          "model_name": "HTMLModel",
          "model_module_version": "1.5.0",
          "state": {
            "_dom_classes": [],
            "_model_module": "@jupyter-widgets/controls",
            "_model_module_version": "1.5.0",
            "_model_name": "HTMLModel",
            "_view_count": null,
            "_view_module": "@jupyter-widgets/controls",
            "_view_module_version": "1.5.0",
            "_view_name": "HTMLView",
            "description": "",
            "description_tooltip": null,
            "layout": "IPY_MODEL_bcd6cafbe6ca4c8295599c377542ed51",
            "placeholder": "​",
            "style": "IPY_MODEL_452a59cde1e24097abaa57348b2ca1cc",
            "value": "100%"
          }
        },
        "7fe1f545fead4c3c88ddb4710cb66ec4": {
          "model_module": "@jupyter-widgets/controls",
          "model_name": "FloatProgressModel",
          "model_module_version": "1.5.0",
          "state": {
            "_dom_classes": [],
            "_model_module": "@jupyter-widgets/controls",
            "_model_module_version": "1.5.0",
            "_model_name": "FloatProgressModel",
            "_view_count": null,
            "_view_module": "@jupyter-widgets/controls",
            "_view_module_version": "1.5.0",
            "_view_name": "ProgressView",
            "bar_style": "success",
            "description": "",
            "description_tooltip": null,
            "layout": "IPY_MODEL_b8fea56567854fd9998915d688f1c01e",
            "max": 1917494,
            "min": 0,
            "orientation": "horizontal",
            "style": "IPY_MODEL_4008ee89863a48a0b47a8b9d74a34a4c",
            "value": 1917494
          }
        },
        "277213b5bb8944c98713c2dbaef585d5": {
          "model_module": "@jupyter-widgets/controls",
          "model_name": "HTMLModel",
          "model_module_version": "1.5.0",
          "state": {
            "_dom_classes": [],
            "_model_module": "@jupyter-widgets/controls",
            "_model_module_version": "1.5.0",
            "_model_name": "HTMLModel",
            "_view_count": null,
            "_view_module": "@jupyter-widgets/controls",
            "_view_module_version": "1.5.0",
            "_view_name": "HTMLView",
            "description": "",
            "description_tooltip": null,
            "layout": "IPY_MODEL_edd131d7e8184fd185c00732cd052e9c",
            "placeholder": "​",
            "style": "IPY_MODEL_754d9c2e84c043eeaa9b03844586773c",
            "value": " 1917494/1917494 [00:37&lt;00:00, 49586.71it/s]"
          }
        },
        "621212b7e39e49d4a42d3004348959e8": {
          "model_module": "@jupyter-widgets/base",
          "model_name": "LayoutModel",
          "model_module_version": "1.2.0",
          "state": {
            "_model_module": "@jupyter-widgets/base",
            "_model_module_version": "1.2.0",
            "_model_name": "LayoutModel",
            "_view_count": null,
            "_view_module": "@jupyter-widgets/base",
            "_view_module_version": "1.2.0",
            "_view_name": "LayoutView",
            "align_content": null,
            "align_items": null,
            "align_self": null,
            "border": null,
            "bottom": null,
            "display": null,
            "flex": null,
            "flex_flow": null,
            "grid_area": null,
            "grid_auto_columns": null,
            "grid_auto_flow": null,
            "grid_auto_rows": null,
            "grid_column": null,
            "grid_gap": null,
            "grid_row": null,
            "grid_template_areas": null,
            "grid_template_columns": null,
            "grid_template_rows": null,
            "height": null,
            "justify_content": null,
            "justify_items": null,
            "left": null,
            "margin": null,
            "max_height": null,
            "max_width": null,
            "min_height": null,
            "min_width": null,
            "object_fit": null,
            "object_position": null,
            "order": null,
            "overflow": null,
            "overflow_x": null,
            "overflow_y": null,
            "padding": null,
            "right": null,
            "top": null,
            "visibility": null,
            "width": null
          }
        },
        "bcd6cafbe6ca4c8295599c377542ed51": {
          "model_module": "@jupyter-widgets/base",
          "model_name": "LayoutModel",
          "model_module_version": "1.2.0",
          "state": {
            "_model_module": "@jupyter-widgets/base",
            "_model_module_version": "1.2.0",
            "_model_name": "LayoutModel",
            "_view_count": null,
            "_view_module": "@jupyter-widgets/base",
            "_view_module_version": "1.2.0",
            "_view_name": "LayoutView",
            "align_content": null,
            "align_items": null,
            "align_self": null,
            "border": null,
            "bottom": null,
            "display": null,
            "flex": null,
            "flex_flow": null,
            "grid_area": null,
            "grid_auto_columns": null,
            "grid_auto_flow": null,
            "grid_auto_rows": null,
            "grid_column": null,
            "grid_gap": null,
            "grid_row": null,
            "grid_template_areas": null,
            "grid_template_columns": null,
            "grid_template_rows": null,
            "height": null,
            "justify_content": null,
            "justify_items": null,
            "left": null,
            "margin": null,
            "max_height": null,
            "max_width": null,
            "min_height": null,
            "min_width": null,
            "object_fit": null,
            "object_position": null,
            "order": null,
            "overflow": null,
            "overflow_x": null,
            "overflow_y": null,
            "padding": null,
            "right": null,
            "top": null,
            "visibility": null,
            "width": null
          }
        },
        "452a59cde1e24097abaa57348b2ca1cc": {
          "model_module": "@jupyter-widgets/controls",
          "model_name": "DescriptionStyleModel",
          "model_module_version": "1.5.0",
          "state": {
            "_model_module": "@jupyter-widgets/controls",
            "_model_module_version": "1.5.0",
            "_model_name": "DescriptionStyleModel",
            "_view_count": null,
            "_view_module": "@jupyter-widgets/base",
            "_view_module_version": "1.2.0",
            "_view_name": "StyleView",
            "description_width": ""
          }
        },
        "b8fea56567854fd9998915d688f1c01e": {
          "model_module": "@jupyter-widgets/base",
          "model_name": "LayoutModel",
          "model_module_version": "1.2.0",
          "state": {
            "_model_module": "@jupyter-widgets/base",
            "_model_module_version": "1.2.0",
            "_model_name": "LayoutModel",
            "_view_count": null,
            "_view_module": "@jupyter-widgets/base",
            "_view_module_version": "1.2.0",
            "_view_name": "LayoutView",
            "align_content": null,
            "align_items": null,
            "align_self": null,
            "border": null,
            "bottom": null,
            "display": null,
            "flex": null,
            "flex_flow": null,
            "grid_area": null,
            "grid_auto_columns": null,
            "grid_auto_flow": null,
            "grid_auto_rows": null,
            "grid_column": null,
            "grid_gap": null,
            "grid_row": null,
            "grid_template_areas": null,
            "grid_template_columns": null,
            "grid_template_rows": null,
            "height": null,
            "justify_content": null,
            "justify_items": null,
            "left": null,
            "margin": null,
            "max_height": null,
            "max_width": null,
            "min_height": null,
            "min_width": null,
            "object_fit": null,
            "object_position": null,
            "order": null,
            "overflow": null,
            "overflow_x": null,
            "overflow_y": null,
            "padding": null,
            "right": null,
            "top": null,
            "visibility": null,
            "width": null
          }
        },
        "4008ee89863a48a0b47a8b9d74a34a4c": {
          "model_module": "@jupyter-widgets/controls",
          "model_name": "ProgressStyleModel",
          "model_module_version": "1.5.0",
          "state": {
            "_model_module": "@jupyter-widgets/controls",
            "_model_module_version": "1.5.0",
            "_model_name": "ProgressStyleModel",
            "_view_count": null,
            "_view_module": "@jupyter-widgets/base",
            "_view_module_version": "1.2.0",
            "_view_name": "StyleView",
            "bar_color": null,
            "description_width": ""
          }
        },
        "edd131d7e8184fd185c00732cd052e9c": {
          "model_module": "@jupyter-widgets/base",
          "model_name": "LayoutModel",
          "model_module_version": "1.2.0",
          "state": {
            "_model_module": "@jupyter-widgets/base",
            "_model_module_version": "1.2.0",
            "_model_name": "LayoutModel",
            "_view_count": null,
            "_view_module": "@jupyter-widgets/base",
            "_view_module_version": "1.2.0",
            "_view_name": "LayoutView",
            "align_content": null,
            "align_items": null,
            "align_self": null,
            "border": null,
            "bottom": null,
            "display": null,
            "flex": null,
            "flex_flow": null,
            "grid_area": null,
            "grid_auto_columns": null,
            "grid_auto_flow": null,
            "grid_auto_rows": null,
            "grid_column": null,
            "grid_gap": null,
            "grid_row": null,
            "grid_template_areas": null,
            "grid_template_columns": null,
            "grid_template_rows": null,
            "height": null,
            "justify_content": null,
            "justify_items": null,
            "left": null,
            "margin": null,
            "max_height": null,
            "max_width": null,
            "min_height": null,
            "min_width": null,
            "object_fit": null,
            "object_position": null,
            "order": null,
            "overflow": null,
            "overflow_x": null,
            "overflow_y": null,
            "padding": null,
            "right": null,
            "top": null,
            "visibility": null,
            "width": null
          }
        },
        "754d9c2e84c043eeaa9b03844586773c": {
          "model_module": "@jupyter-widgets/controls",
          "model_name": "DescriptionStyleModel",
          "model_module_version": "1.5.0",
          "state": {
            "_model_module": "@jupyter-widgets/controls",
            "_model_module_version": "1.5.0",
            "_model_name": "DescriptionStyleModel",
            "_view_count": null,
            "_view_module": "@jupyter-widgets/base",
            "_view_module_version": "1.2.0",
            "_view_name": "StyleView",
            "description_width": ""
          }
        },
        "3d2f1650a54e4eb49b60e63284c6ce60": {
          "model_module": "@jupyter-widgets/controls",
          "model_name": "HBoxModel",
          "model_module_version": "1.5.0",
          "state": {
            "_dom_classes": [],
            "_model_module": "@jupyter-widgets/controls",
            "_model_module_version": "1.5.0",
            "_model_name": "HBoxModel",
            "_view_count": null,
            "_view_module": "@jupyter-widgets/controls",
            "_view_module_version": "1.5.0",
            "_view_name": "HBoxView",
            "box_style": "",
            "children": [
              "IPY_MODEL_64fec0bc836a44e78bec162f462e3c36",
              "IPY_MODEL_3f498179fb89431692e44296f4df37c3",
              "IPY_MODEL_cf72a84e5b4e42b7b4f49092f8845ec8"
            ],
            "layout": "IPY_MODEL_c2921047f8a64ea38c7381bb67981240"
          }
        },
        "64fec0bc836a44e78bec162f462e3c36": {
          "model_module": "@jupyter-widgets/controls",
          "model_name": "HTMLModel",
          "model_module_version": "1.5.0",
          "state": {
            "_dom_classes": [],
            "_model_module": "@jupyter-widgets/controls",
            "_model_module_version": "1.5.0",
            "_model_name": "HTMLModel",
            "_view_count": null,
            "_view_module": "@jupyter-widgets/controls",
            "_view_module_version": "1.5.0",
            "_view_name": "HTMLView",
            "description": "",
            "description_tooltip": null,
            "layout": "IPY_MODEL_1de7a26eb3534a29b84acbae05b1b5dc",
            "placeholder": "​",
            "style": "IPY_MODEL_327bc30ae9324095a6a5ca5724f978de",
            "value": "100%"
          }
        },
        "3f498179fb89431692e44296f4df37c3": {
          "model_module": "@jupyter-widgets/controls",
          "model_name": "FloatProgressModel",
          "model_module_version": "1.5.0",
          "state": {
            "_dom_classes": [],
            "_model_module": "@jupyter-widgets/controls",
            "_model_module_version": "1.5.0",
            "_model_name": "FloatProgressModel",
            "_view_count": null,
            "_view_module": "@jupyter-widgets/controls",
            "_view_module_version": "1.5.0",
            "_view_name": "ProgressView",
            "bar_style": "success",
            "description": "",
            "description_tooltip": null,
            "layout": "IPY_MODEL_f9d000bfbd4043d9a3b05a344bbce4e0",
            "max": 1467,
            "min": 0,
            "orientation": "horizontal",
            "style": "IPY_MODEL_c8658a31a3bc4f388f3ed9928b3ef968",
            "value": 1467
          }
        },
        "cf72a84e5b4e42b7b4f49092f8845ec8": {
          "model_module": "@jupyter-widgets/controls",
          "model_name": "HTMLModel",
          "model_module_version": "1.5.0",
          "state": {
            "_dom_classes": [],
            "_model_module": "@jupyter-widgets/controls",
            "_model_module_version": "1.5.0",
            "_model_name": "HTMLModel",
            "_view_count": null,
            "_view_module": "@jupyter-widgets/controls",
            "_view_module_version": "1.5.0",
            "_view_name": "HTMLView",
            "description": "",
            "description_tooltip": null,
            "layout": "IPY_MODEL_18673cde3a9d42f8b185701d9b58a3b4",
            "placeholder": "​",
            "style": "IPY_MODEL_8ae60cb83b5b4d72b96f549ade9fdb6e",
            "value": " 1467/1467 [03:12&lt;00:00, 58.20it/s]"
          }
        },
        "c2921047f8a64ea38c7381bb67981240": {
          "model_module": "@jupyter-widgets/base",
          "model_name": "LayoutModel",
          "model_module_version": "1.2.0",
          "state": {
            "_model_module": "@jupyter-widgets/base",
            "_model_module_version": "1.2.0",
            "_model_name": "LayoutModel",
            "_view_count": null,
            "_view_module": "@jupyter-widgets/base",
            "_view_module_version": "1.2.0",
            "_view_name": "LayoutView",
            "align_content": null,
            "align_items": null,
            "align_self": null,
            "border": null,
            "bottom": null,
            "display": null,
            "flex": null,
            "flex_flow": null,
            "grid_area": null,
            "grid_auto_columns": null,
            "grid_auto_flow": null,
            "grid_auto_rows": null,
            "grid_column": null,
            "grid_gap": null,
            "grid_row": null,
            "grid_template_areas": null,
            "grid_template_columns": null,
            "grid_template_rows": null,
            "height": null,
            "justify_content": null,
            "justify_items": null,
            "left": null,
            "margin": null,
            "max_height": null,
            "max_width": null,
            "min_height": null,
            "min_width": null,
            "object_fit": null,
            "object_position": null,
            "order": null,
            "overflow": null,
            "overflow_x": null,
            "overflow_y": null,
            "padding": null,
            "right": null,
            "top": null,
            "visibility": null,
            "width": null
          }
        },
        "1de7a26eb3534a29b84acbae05b1b5dc": {
          "model_module": "@jupyter-widgets/base",
          "model_name": "LayoutModel",
          "model_module_version": "1.2.0",
          "state": {
            "_model_module": "@jupyter-widgets/base",
            "_model_module_version": "1.2.0",
            "_model_name": "LayoutModel",
            "_view_count": null,
            "_view_module": "@jupyter-widgets/base",
            "_view_module_version": "1.2.0",
            "_view_name": "LayoutView",
            "align_content": null,
            "align_items": null,
            "align_self": null,
            "border": null,
            "bottom": null,
            "display": null,
            "flex": null,
            "flex_flow": null,
            "grid_area": null,
            "grid_auto_columns": null,
            "grid_auto_flow": null,
            "grid_auto_rows": null,
            "grid_column": null,
            "grid_gap": null,
            "grid_row": null,
            "grid_template_areas": null,
            "grid_template_columns": null,
            "grid_template_rows": null,
            "height": null,
            "justify_content": null,
            "justify_items": null,
            "left": null,
            "margin": null,
            "max_height": null,
            "max_width": null,
            "min_height": null,
            "min_width": null,
            "object_fit": null,
            "object_position": null,
            "order": null,
            "overflow": null,
            "overflow_x": null,
            "overflow_y": null,
            "padding": null,
            "right": null,
            "top": null,
            "visibility": null,
            "width": null
          }
        },
        "327bc30ae9324095a6a5ca5724f978de": {
          "model_module": "@jupyter-widgets/controls",
          "model_name": "DescriptionStyleModel",
          "model_module_version": "1.5.0",
          "state": {
            "_model_module": "@jupyter-widgets/controls",
            "_model_module_version": "1.5.0",
            "_model_name": "DescriptionStyleModel",
            "_view_count": null,
            "_view_module": "@jupyter-widgets/base",
            "_view_module_version": "1.2.0",
            "_view_name": "StyleView",
            "description_width": ""
          }
        },
        "f9d000bfbd4043d9a3b05a344bbce4e0": {
          "model_module": "@jupyter-widgets/base",
          "model_name": "LayoutModel",
          "model_module_version": "1.2.0",
          "state": {
            "_model_module": "@jupyter-widgets/base",
            "_model_module_version": "1.2.0",
            "_model_name": "LayoutModel",
            "_view_count": null,
            "_view_module": "@jupyter-widgets/base",
            "_view_module_version": "1.2.0",
            "_view_name": "LayoutView",
            "align_content": null,
            "align_items": null,
            "align_self": null,
            "border": null,
            "bottom": null,
            "display": null,
            "flex": null,
            "flex_flow": null,
            "grid_area": null,
            "grid_auto_columns": null,
            "grid_auto_flow": null,
            "grid_auto_rows": null,
            "grid_column": null,
            "grid_gap": null,
            "grid_row": null,
            "grid_template_areas": null,
            "grid_template_columns": null,
            "grid_template_rows": null,
            "height": null,
            "justify_content": null,
            "justify_items": null,
            "left": null,
            "margin": null,
            "max_height": null,
            "max_width": null,
            "min_height": null,
            "min_width": null,
            "object_fit": null,
            "object_position": null,
            "order": null,
            "overflow": null,
            "overflow_x": null,
            "overflow_y": null,
            "padding": null,
            "right": null,
            "top": null,
            "visibility": null,
            "width": null
          }
        },
        "c8658a31a3bc4f388f3ed9928b3ef968": {
          "model_module": "@jupyter-widgets/controls",
          "model_name": "ProgressStyleModel",
          "model_module_version": "1.5.0",
          "state": {
            "_model_module": "@jupyter-widgets/controls",
            "_model_module_version": "1.5.0",
            "_model_name": "ProgressStyleModel",
            "_view_count": null,
            "_view_module": "@jupyter-widgets/base",
            "_view_module_version": "1.2.0",
            "_view_name": "StyleView",
            "bar_color": null,
            "description_width": ""
          }
        },
        "18673cde3a9d42f8b185701d9b58a3b4": {
          "model_module": "@jupyter-widgets/base",
          "model_name": "LayoutModel",
          "model_module_version": "1.2.0",
          "state": {
            "_model_module": "@jupyter-widgets/base",
            "_model_module_version": "1.2.0",
            "_model_name": "LayoutModel",
            "_view_count": null,
            "_view_module": "@jupyter-widgets/base",
            "_view_module_version": "1.2.0",
            "_view_name": "LayoutView",
            "align_content": null,
            "align_items": null,
            "align_self": null,
            "border": null,
            "bottom": null,
            "display": null,
            "flex": null,
            "flex_flow": null,
            "grid_area": null,
            "grid_auto_columns": null,
            "grid_auto_flow": null,
            "grid_auto_rows": null,
            "grid_column": null,
            "grid_gap": null,
            "grid_row": null,
            "grid_template_areas": null,
            "grid_template_columns": null,
            "grid_template_rows": null,
            "height": null,
            "justify_content": null,
            "justify_items": null,
            "left": null,
            "margin": null,
            "max_height": null,
            "max_width": null,
            "min_height": null,
            "min_width": null,
            "object_fit": null,
            "object_position": null,
            "order": null,
            "overflow": null,
            "overflow_x": null,
            "overflow_y": null,
            "padding": null,
            "right": null,
            "top": null,
            "visibility": null,
            "width": null
          }
        },
        "8ae60cb83b5b4d72b96f549ade9fdb6e": {
          "model_module": "@jupyter-widgets/controls",
          "model_name": "DescriptionStyleModel",
          "model_module_version": "1.5.0",
          "state": {
            "_model_module": "@jupyter-widgets/controls",
            "_model_module_version": "1.5.0",
            "_model_name": "DescriptionStyleModel",
            "_view_count": null,
            "_view_module": "@jupyter-widgets/base",
            "_view_module_version": "1.2.0",
            "_view_name": "StyleView",
            "description_width": ""
          }
        },
        "57211f1f0e744ec0988c9c629a0e7f9d": {
          "model_module": "@jupyter-widgets/controls",
          "model_name": "HBoxModel",
          "model_module_version": "1.5.0",
          "state": {
            "_dom_classes": [],
            "_model_module": "@jupyter-widgets/controls",
            "_model_module_version": "1.5.0",
            "_model_name": "HBoxModel",
            "_view_count": null,
            "_view_module": "@jupyter-widgets/controls",
            "_view_module_version": "1.5.0",
            "_view_name": "HBoxView",
            "box_style": "",
            "children": [
              "IPY_MODEL_f834ab6b15be43b59eeca95ba4676f86",
              "IPY_MODEL_f370d0a3ab314a08b93c6c761ff03903",
              "IPY_MODEL_02cc78009fab4464bde6fd02dee666a8"
            ],
            "layout": "IPY_MODEL_12b77e67f5404ee68cdc4e179902f106"
          }
        },
        "f834ab6b15be43b59eeca95ba4676f86": {
          "model_module": "@jupyter-widgets/controls",
          "model_name": "HTMLModel",
          "model_module_version": "1.5.0",
          "state": {
            "_dom_classes": [],
            "_model_module": "@jupyter-widgets/controls",
            "_model_module_version": "1.5.0",
            "_model_name": "HTMLModel",
            "_view_count": null,
            "_view_module": "@jupyter-widgets/controls",
            "_view_module_version": "1.5.0",
            "_view_name": "HTMLView",
            "description": "",
            "description_tooltip": null,
            "layout": "IPY_MODEL_0fadf889a3f447a3b142adb277f40fd2",
            "placeholder": "​",
            "style": "IPY_MODEL_013cd8f76cc24c528b06c710c90ec9b9",
            "value": "100%"
          }
        },
        "f370d0a3ab314a08b93c6c761ff03903": {
          "model_module": "@jupyter-widgets/controls",
          "model_name": "FloatProgressModel",
          "model_module_version": "1.5.0",
          "state": {
            "_dom_classes": [],
            "_model_module": "@jupyter-widgets/controls",
            "_model_module_version": "1.5.0",
            "_model_name": "FloatProgressModel",
            "_view_count": null,
            "_view_module": "@jupyter-widgets/controls",
            "_view_module_version": "1.5.0",
            "_view_name": "ProgressView",
            "bar_style": "success",
            "description": "",
            "description_tooltip": null,
            "layout": "IPY_MODEL_0042a5d142a74d00934867cce13bf212",
            "max": 892,
            "min": 0,
            "orientation": "horizontal",
            "style": "IPY_MODEL_556bed4d9df6413582e9e84ac624ad1b",
            "value": 892
          }
        },
        "02cc78009fab4464bde6fd02dee666a8": {
          "model_module": "@jupyter-widgets/controls",
          "model_name": "HTMLModel",
          "model_module_version": "1.5.0",
          "state": {
            "_dom_classes": [],
            "_model_module": "@jupyter-widgets/controls",
            "_model_module_version": "1.5.0",
            "_model_name": "HTMLModel",
            "_view_count": null,
            "_view_module": "@jupyter-widgets/controls",
            "_view_module_version": "1.5.0",
            "_view_name": "HTMLView",
            "description": "",
            "description_tooltip": null,
            "layout": "IPY_MODEL_b1ad0388461645f69f4281ba27fda867",
            "placeholder": "​",
            "style": "IPY_MODEL_ea799245f776462da57648f3fc754e61",
            "value": " 892/892 [00:00&lt;00:00, 2189.63it/s]"
          }
        },
        "12b77e67f5404ee68cdc4e179902f106": {
          "model_module": "@jupyter-widgets/base",
          "model_name": "LayoutModel",
          "model_module_version": "1.2.0",
          "state": {
            "_model_module": "@jupyter-widgets/base",
            "_model_module_version": "1.2.0",
            "_model_name": "LayoutModel",
            "_view_count": null,
            "_view_module": "@jupyter-widgets/base",
            "_view_module_version": "1.2.0",
            "_view_name": "LayoutView",
            "align_content": null,
            "align_items": null,
            "align_self": null,
            "border": null,
            "bottom": null,
            "display": null,
            "flex": null,
            "flex_flow": null,
            "grid_area": null,
            "grid_auto_columns": null,
            "grid_auto_flow": null,
            "grid_auto_rows": null,
            "grid_column": null,
            "grid_gap": null,
            "grid_row": null,
            "grid_template_areas": null,
            "grid_template_columns": null,
            "grid_template_rows": null,
            "height": null,
            "justify_content": null,
            "justify_items": null,
            "left": null,
            "margin": null,
            "max_height": null,
            "max_width": null,
            "min_height": null,
            "min_width": null,
            "object_fit": null,
            "object_position": null,
            "order": null,
            "overflow": null,
            "overflow_x": null,
            "overflow_y": null,
            "padding": null,
            "right": null,
            "top": null,
            "visibility": null,
            "width": null
          }
        },
        "0fadf889a3f447a3b142adb277f40fd2": {
          "model_module": "@jupyter-widgets/base",
          "model_name": "LayoutModel",
          "model_module_version": "1.2.0",
          "state": {
            "_model_module": "@jupyter-widgets/base",
            "_model_module_version": "1.2.0",
            "_model_name": "LayoutModel",
            "_view_count": null,
            "_view_module": "@jupyter-widgets/base",
            "_view_module_version": "1.2.0",
            "_view_name": "LayoutView",
            "align_content": null,
            "align_items": null,
            "align_self": null,
            "border": null,
            "bottom": null,
            "display": null,
            "flex": null,
            "flex_flow": null,
            "grid_area": null,
            "grid_auto_columns": null,
            "grid_auto_flow": null,
            "grid_auto_rows": null,
            "grid_column": null,
            "grid_gap": null,
            "grid_row": null,
            "grid_template_areas": null,
            "grid_template_columns": null,
            "grid_template_rows": null,
            "height": null,
            "justify_content": null,
            "justify_items": null,
            "left": null,
            "margin": null,
            "max_height": null,
            "max_width": null,
            "min_height": null,
            "min_width": null,
            "object_fit": null,
            "object_position": null,
            "order": null,
            "overflow": null,
            "overflow_x": null,
            "overflow_y": null,
            "padding": null,
            "right": null,
            "top": null,
            "visibility": null,
            "width": null
          }
        },
        "013cd8f76cc24c528b06c710c90ec9b9": {
          "model_module": "@jupyter-widgets/controls",
          "model_name": "DescriptionStyleModel",
          "model_module_version": "1.5.0",
          "state": {
            "_model_module": "@jupyter-widgets/controls",
            "_model_module_version": "1.5.0",
            "_model_name": "DescriptionStyleModel",
            "_view_count": null,
            "_view_module": "@jupyter-widgets/base",
            "_view_module_version": "1.2.0",
            "_view_name": "StyleView",
            "description_width": ""
          }
        },
        "0042a5d142a74d00934867cce13bf212": {
          "model_module": "@jupyter-widgets/base",
          "model_name": "LayoutModel",
          "model_module_version": "1.2.0",
          "state": {
            "_model_module": "@jupyter-widgets/base",
            "_model_module_version": "1.2.0",
            "_model_name": "LayoutModel",
            "_view_count": null,
            "_view_module": "@jupyter-widgets/base",
            "_view_module_version": "1.2.0",
            "_view_name": "LayoutView",
            "align_content": null,
            "align_items": null,
            "align_self": null,
            "border": null,
            "bottom": null,
            "display": null,
            "flex": null,
            "flex_flow": null,
            "grid_area": null,
            "grid_auto_columns": null,
            "grid_auto_flow": null,
            "grid_auto_rows": null,
            "grid_column": null,
            "grid_gap": null,
            "grid_row": null,
            "grid_template_areas": null,
            "grid_template_columns": null,
            "grid_template_rows": null,
            "height": null,
            "justify_content": null,
            "justify_items": null,
            "left": null,
            "margin": null,
            "max_height": null,
            "max_width": null,
            "min_height": null,
            "min_width": null,
            "object_fit": null,
            "object_position": null,
            "order": null,
            "overflow": null,
            "overflow_x": null,
            "overflow_y": null,
            "padding": null,
            "right": null,
            "top": null,
            "visibility": null,
            "width": null
          }
        },
        "556bed4d9df6413582e9e84ac624ad1b": {
          "model_module": "@jupyter-widgets/controls",
          "model_name": "ProgressStyleModel",
          "model_module_version": "1.5.0",
          "state": {
            "_model_module": "@jupyter-widgets/controls",
            "_model_module_version": "1.5.0",
            "_model_name": "ProgressStyleModel",
            "_view_count": null,
            "_view_module": "@jupyter-widgets/base",
            "_view_module_version": "1.2.0",
            "_view_name": "StyleView",
            "bar_color": null,
            "description_width": ""
          }
        },
        "b1ad0388461645f69f4281ba27fda867": {
          "model_module": "@jupyter-widgets/base",
          "model_name": "LayoutModel",
          "model_module_version": "1.2.0",
          "state": {
            "_model_module": "@jupyter-widgets/base",
            "_model_module_version": "1.2.0",
            "_model_name": "LayoutModel",
            "_view_count": null,
            "_view_module": "@jupyter-widgets/base",
            "_view_module_version": "1.2.0",
            "_view_name": "LayoutView",
            "align_content": null,
            "align_items": null,
            "align_self": null,
            "border": null,
            "bottom": null,
            "display": null,
            "flex": null,
            "flex_flow": null,
            "grid_area": null,
            "grid_auto_columns": null,
            "grid_auto_flow": null,
            "grid_auto_rows": null,
            "grid_column": null,
            "grid_gap": null,
            "grid_row": null,
            "grid_template_areas": null,
            "grid_template_columns": null,
            "grid_template_rows": null,
            "height": null,
            "justify_content": null,
            "justify_items": null,
            "left": null,
            "margin": null,
            "max_height": null,
            "max_width": null,
            "min_height": null,
            "min_width": null,
            "object_fit": null,
            "object_position": null,
            "order": null,
            "overflow": null,
            "overflow_x": null,
            "overflow_y": null,
            "padding": null,
            "right": null,
            "top": null,
            "visibility": null,
            "width": null
          }
        },
        "ea799245f776462da57648f3fc754e61": {
          "model_module": "@jupyter-widgets/controls",
          "model_name": "DescriptionStyleModel",
          "model_module_version": "1.5.0",
          "state": {
            "_model_module": "@jupyter-widgets/controls",
            "_model_module_version": "1.5.0",
            "_model_name": "DescriptionStyleModel",
            "_view_count": null,
            "_view_module": "@jupyter-widgets/base",
            "_view_module_version": "1.2.0",
            "_view_name": "StyleView",
            "description_width": ""
          }
        }
      }
    }
  },
  "cells": [
    {
      "cell_type": "code",
      "source": [
        "import gensim\n",
        "from numpy import linalg\n",
        "import numpy as np\n",
        "from sklearn.metrics.pairwise import cosine_similarity\n",
        "from tqdm import tqdm_notebook as tqdm\n",
        "import time\n",
        "from random import shuffle\n",
        "import sys\n",
        "import nltk \n",
        "from nltk.corpus import wordnet \n",
        "import gc\n",
        "from collections import defaultdict\n",
        "import random\n",
        "import json\n",
        "import os\n",
        "\n",
        "from gensim.scripts.glove2word2vec import glove2word2vec\n",
        "from gensim.test.utils import datapath, get_tmpfile\n",
        "\n",
        "from gensim.test.utils import datapath\n",
        "\n",
        "!pip install ipython-autotime\n",
        "%load_ext autotime"
      ],
      "metadata": {
        "colab": {
          "base_uri": "https://localhost:8080/"
        },
        "id": "B3oHlMPoGIS5",
        "outputId": "63b7897f-c2fc-4a99-bcb6-966d46727686"
      },
      "execution_count": 1,
      "outputs": [
        {
          "output_type": "stream",
          "name": "stdout",
          "text": [
            "Collecting ipython-autotime\n",
            "  Downloading ipython_autotime-0.3.1-py2.py3-none-any.whl (6.8 kB)\n",
            "Requirement already satisfied: ipython in /usr/local/lib/python3.7/dist-packages (from ipython-autotime) (5.5.0)\n",
            "Requirement already satisfied: pexpect in /usr/local/lib/python3.7/dist-packages (from ipython->ipython-autotime) (4.8.0)\n",
            "Requirement already satisfied: setuptools>=18.5 in /usr/local/lib/python3.7/dist-packages (from ipython->ipython-autotime) (57.4.0)\n",
            "Requirement already satisfied: simplegeneric>0.8 in /usr/local/lib/python3.7/dist-packages (from ipython->ipython-autotime) (0.8.1)\n",
            "Requirement already satisfied: prompt-toolkit<2.0.0,>=1.0.4 in /usr/local/lib/python3.7/dist-packages (from ipython->ipython-autotime) (1.0.18)\n",
            "Requirement already satisfied: pickleshare in /usr/local/lib/python3.7/dist-packages (from ipython->ipython-autotime) (0.7.5)\n",
            "Requirement already satisfied: traitlets>=4.2 in /usr/local/lib/python3.7/dist-packages (from ipython->ipython-autotime) (5.1.1)\n",
            "Requirement already satisfied: pygments in /usr/local/lib/python3.7/dist-packages (from ipython->ipython-autotime) (2.6.1)\n",
            "Requirement already satisfied: decorator in /usr/local/lib/python3.7/dist-packages (from ipython->ipython-autotime) (4.4.2)\n",
            "Requirement already satisfied: wcwidth in /usr/local/lib/python3.7/dist-packages (from prompt-toolkit<2.0.0,>=1.0.4->ipython->ipython-autotime) (0.2.5)\n",
            "Requirement already satisfied: six>=1.9.0 in /usr/local/lib/python3.7/dist-packages (from prompt-toolkit<2.0.0,>=1.0.4->ipython->ipython-autotime) (1.15.0)\n",
            "Requirement already satisfied: ptyprocess>=0.5 in /usr/local/lib/python3.7/dist-packages (from pexpect->ipython->ipython-autotime) (0.7.0)\n",
            "Installing collected packages: ipython-autotime\n",
            "Successfully installed ipython-autotime-0.3.1\n",
            "time: 1.54 ms (started: 2022-03-24 21:08:12 +00:00)\n"
          ]
        }
      ]
    },
    {
      "cell_type": "markdown",
      "source": [
        "### Download & Process Glove. Ignore if mod file exists"
      ],
      "metadata": {
        "id": "WYeDMmrIHtu2"
      }
    },
    {
      "cell_type": "code",
      "source": [
        "!wget https://nlp.stanford.edu/data/glove.42B.300d.zip\n",
        "!unzip glove*.zip\n",
        "\n",
        "model_glove = glove2word2vec('glove.42B.300d.txt','gensim_glove_300d.txt')\n",
        "model_glove = gensim.models.KeyedVectors.load_word2vec_format(\"gensim_glove_300d.txt\", binary=False)\n",
        "\n",
        "def generate_norm_embedding(model, output_path):\n",
        "    temp_file = open(output_path,'wb')\n",
        "    temp_file.write(str.encode(str(len(model.vocab))+' '+str(model.vector_size)+'\\n'))\n",
        "    \n",
        "    for each_word in tqdm(model.vocab):\n",
        "        temp_file.write(str.encode(each_word+' '))\n",
        "        temp_file.write(model[each_word]/linalg.norm(model[each_word]))\n",
        "        temp_file.write(str.encode('\\n'))\n",
        "    \n",
        "    temp_file.close()\n",
        "\n",
        "generate_norm_embedding(model_glove,'glove_norm_300.mod')\n"
      ],
      "metadata": {
        "colab": {
          "base_uri": "https://localhost:8080/",
          "height": 462,
          "referenced_widgets": [
            "0b23f8a85a8947f9a0e1cfedd59b1847",
            "03e56dfef34843a192fd3e2da8e86e0c",
            "7fe1f545fead4c3c88ddb4710cb66ec4",
            "277213b5bb8944c98713c2dbaef585d5",
            "621212b7e39e49d4a42d3004348959e8",
            "bcd6cafbe6ca4c8295599c377542ed51",
            "452a59cde1e24097abaa57348b2ca1cc",
            "b8fea56567854fd9998915d688f1c01e",
            "4008ee89863a48a0b47a8b9d74a34a4c",
            "edd131d7e8184fd185c00732cd052e9c",
            "754d9c2e84c043eeaa9b03844586773c"
          ]
        },
        "id": "TXfKliKVGCZd",
        "outputId": "bfc2a68d-ae4c-443f-f78c-d445189bdc4a"
      },
      "execution_count": 2,
      "outputs": [
        {
          "metadata": {
            "tags": null
          },
          "name": "stdout",
          "output_type": "stream",
          "text": [
            "--2022-03-24 21:08:52--  https://nlp.stanford.edu/data/glove.42B.300d.zip\n",
            "Resolving nlp.stanford.edu (nlp.stanford.edu)... 171.64.67.140\n",
            "Connecting to nlp.stanford.edu (nlp.stanford.edu)|171.64.67.140|:443... connected.\n",
            "HTTP request sent, awaiting response... 301 Moved Permanently\n",
            "Location: http://downloads.cs.stanford.edu/nlp/data/glove.42B.300d.zip [following]\n",
            "--2022-03-24 21:08:52--  http://downloads.cs.stanford.edu/nlp/data/glove.42B.300d.zip\n",
            "Resolving downloads.cs.stanford.edu (downloads.cs.stanford.edu)... 171.64.64.22\n",
            "Connecting to downloads.cs.stanford.edu (downloads.cs.stanford.edu)|171.64.64.22|:80... connected.\n",
            "HTTP request sent, awaiting response... 200 OK\n",
            "Length: 1877800501 (1.7G) [application/zip]\n",
            "Saving to: ‘glove.42B.300d.zip’\n",
            "\n",
            "glove.42B.300d.zip  100%[===================>]   1.75G  5.19MB/s    in 5m 54s  \n",
            "\n",
            "2022-03-24 21:14:46 (5.06 MB/s) - ‘glove.42B.300d.zip’ saved [1877800501/1877800501]\n",
            "\n",
            "Archive:  glove.42B.300d.zip\n",
            "  inflating: glove.42B.300d.txt      \n"
          ]
        },
        {
          "output_type": "stream",
          "name": "stderr",
          "text": [
            "/usr/local/lib/python3.7/dist-packages/ipykernel_launcher.py:11: TqdmDeprecationWarning: This function will be removed in tqdm==5.0.0\n",
            "Please use `tqdm.notebook.tqdm` instead of `tqdm.tqdm_notebook`\n",
            "  # This is added back by InteractiveShellApp.init_path()\n"
          ]
        },
        {
          "output_type": "display_data",
          "data": {
            "text/plain": [
              "  0%|          | 0/1917494 [00:00<?, ?it/s]"
            ],
            "application/vnd.jupyter.widget-view+json": {
              "version_major": 2,
              "version_minor": 0,
              "model_id": "0b23f8a85a8947f9a0e1cfedd59b1847"
            }
          },
          "metadata": {}
        },
        {
          "output_type": "stream",
          "name": "stdout",
          "text": [
            "time: 13min 40s (started: 2022-03-24 21:08:52 +00:00)\n"
          ]
        }
      ]
    },
    {
      "cell_type": "markdown",
      "source": [
        "### Load processed glove"
      ],
      "metadata": {
        "id": "hE74vSGsH4h4"
      }
    },
    {
      "cell_type": "code",
      "source": [
        "model_gn = gensim.models.KeyedVectors.load_word2vec_format('glove_norm_300.mod',binary=True) # ss\n"
      ],
      "metadata": {
        "colab": {
          "base_uri": "https://localhost:8080/"
        },
        "id": "tf47lHBgGjBC",
        "outputId": "834fbfb0-7b97-4325-da3a-2edcd016d894"
      },
      "execution_count": null,
      "outputs": [
        {
          "output_type": "stream",
          "name": "stdout",
          "text": [
            "time: 33.5 s (started: 2022-03-23 19:02:57 +00:00)\n"
          ]
        }
      ]
    },
    {
      "cell_type": "code",
      "source": [
        "current_model = model_gn\n"
      ],
      "metadata": {
        "colab": {
          "base_uri": "https://localhost:8080/"
        },
        "id": "yZZpuetbGkg3",
        "outputId": "3b3919ff-a3fb-4a69-b3cb-cd2bba53b131"
      },
      "execution_count": 3,
      "outputs": [
        {
          "output_type": "stream",
          "name": "stdout",
          "text": [
            "time: 4.41 ms (started: 2022-03-24 21:27:52 +00:00)\n"
          ]
        }
      ]
    },
    {
      "cell_type": "markdown",
      "source": [
        "### Load and process antonyms. Ignore if final_antonym_list exists."
      ],
      "metadata": {
        "id": "eUIlz2N7ILNR"
      }
    },
    {
      "cell_type": "code",
      "source": [
        "list_antonym = []\n",
        "\n",
        "with open('Antonym_sets/LenciBenotto.val') as fp:\n",
        "    for line in fp:\n",
        "        parts = line.split()\n",
        "        if parts[3]=='antonym':\n",
        "            word1 = parts[0].split('-')[0]\n",
        "            word2 = parts[1].split('-')[0]\n",
        "            if word1 in current_model and word2 in current_model:\n",
        "                list_antonym.append((word1.strip().lower(), word2.strip().lower()))\n",
        "\n",
        "\n",
        "with open('Antonym_sets/LenciBenotto.test') as fp:\n",
        "    for line in fp:\n",
        "        parts = line.split()\n",
        "        if parts[3]=='antonym':\n",
        "            word1 = parts[0].split('-')[0]\n",
        "            word2 = parts[1].split('-')[0]\n",
        "            if word1 in current_model and word2 in current_model:\n",
        "                list_antonym.append((word1.strip().lower(), word2.strip().lower()))\n",
        "                \n",
        "with open('Antonym_sets/EVALution.val') as fp:\n",
        "    for line in fp:\n",
        "        parts = line.split()\n",
        "        if parts[3]=='antonym':\n",
        "            word1 = parts[0].split('-')[0]\n",
        "            word2 = parts[1].split('-')[0]\n",
        "            if word1 in current_model and word2 in current_model:\n",
        "                list_antonym.append((word1.strip().lower(), word2.strip().lower()))\n",
        "\n",
        "with open('Antonym_sets/EVALution.test') as fp:\n",
        "    for line in fp:\n",
        "        parts = line.split()\n",
        "        if parts[3]=='antonym':\n",
        "            word1 = parts[0].split('-')[0]\n",
        "            word2 = parts[1].split('-')[0]\n",
        "            if word1 in current_model and word2 in current_model:\n",
        "                list_antonym.append((word1.strip().lower(), word2.strip().lower()))\n",
        "                \n",
        "                \n",
        "list_antonym = list(dict.fromkeys(list_antonym).keys())\n",
        "\n",
        "similarity_matrix = defaultdict(list)\n",
        "for each_pair in tqdm(list_antonym):\n",
        "    word1 = each_pair[0]\n",
        "    word2 = each_pair[1]\n",
        "    if word1 < word2:\n",
        "        similarity_matrix[word1].append(word2)\n",
        "    else:\n",
        "        similarity_matrix[word2].append(word1)\n",
        "    \n",
        "all_similarity = defaultdict(dict)\n",
        "for each_key in tqdm(similarity_matrix):\n",
        "    for each_value in similarity_matrix[each_key]:\n",
        "#         cosine_similarity([current_model[each_key]]\n",
        "        all_similarity[each_key][each_value] = abs(cosine_similarity([current_model[each_key]],[current_model[each_value]])[0][0])\n",
        "    \n",
        "final_antonym_list = []\n",
        "for index_counter, each_key in enumerate(tqdm(all_similarity)):\n",
        "#     print(each_key,all_similarity[each_key])\n",
        "    listofTuples = sorted(all_similarity[each_key].items() ,  key=lambda x: x[1])\n",
        "#     print(listofTuples)\n",
        "    final_antonym_list.append((each_key, listofTuples[0][0]))\n",
        "print(len(final_antonym_list))\n",
        "\n",
        "list_antonym = final_antonym_list"
      ],
      "metadata": {
        "id": "uDjskS8oIE4r"
      },
      "execution_count": null,
      "outputs": []
    },
    {
      "cell_type": "markdown",
      "source": [
        "### Load final_antonym_list as antonym list"
      ],
      "metadata": {
        "id": "Dpc9BMo8IdIm"
      }
    },
    {
      "cell_type": "code",
      "execution_count": 4,
      "metadata": {
        "colab": {
          "base_uri": "https://localhost:8080/"
        },
        "id": "a5D2hM1VFtrC",
        "outputId": "2dc480e3-bffd-4949-8402-b8fc15f47162"
      },
      "outputs": [
        {
          "output_type": "stream",
          "name": "stdout",
          "text": [
            "time: 1.02 s (started: 2022-03-24 21:28:33 +00:00)\n"
          ]
        }
      ],
      "source": [
        "import pandas as pd\n",
        "\n",
        "list_antonym = pd.read_pickle(r'final_antonym_list')"
      ]
    },
    {
      "cell_type": "markdown",
      "source": [
        "### Decide on the size of the antonym vector\n"
      ],
      "metadata": {
        "id": "lMKPdb7uIvO9"
      }
    },
    {
      "cell_type": "code",
      "source": [
        "num_antonym = 1468\n",
        "\n",
        "## Find the antonym difference vectors\n",
        "antonymy_vector = []\n",
        "for each_word_pair in list_antonym:\n",
        "    antonymy_vector.append(current_model[each_word_pair[0]]- current_model[each_word_pair[1]])\n",
        "antonymy_vector = np.array(antonymy_vector)\n",
        "print(antonymy_vector.shape)"
      ],
      "metadata": {
        "colab": {
          "base_uri": "https://localhost:8080/"
        },
        "id": "3BIhQHAVI0Xq",
        "outputId": "a3c11d73-20dc-42d3-aacb-165b14eea944"
      },
      "execution_count": 5,
      "outputs": [
        {
          "output_type": "stream",
          "name": "stdout",
          "text": [
            "(1468, 300)\n",
            "time: 45 ms (started: 2022-03-24 21:28:44 +00:00)\n"
          ]
        }
      ]
    },
    {
      "cell_type": "markdown",
      "source": [
        "### Subset Dimension Selection Method\n"
      ],
      "metadata": {
        "id": "5ZSqe3J0I1pE"
      }
    },
    {
      "cell_type": "code",
      "source": [
        "import random\n",
        "import scipy\n",
        "\n",
        "random.seed(42)\n",
        "\n",
        "t1 = np.array(antonymy_vector)\n",
        "dimension_similarity_matrix = scipy.spatial.distance.cdist(np.array(antonymy_vector),np.array(antonymy_vector),'cosine')\n",
        "dimension_similarity_matrix = abs(1-dimension_similarity_matrix)\n",
        "        \n",
        "def get_set_score(final_list, each_dim):\n",
        "    final_output = 0.0\n",
        "    for each_vec in final_list:\n",
        "        final_output += dimension_similarity_matrix[each_vec][each_dim]\n",
        "    return final_output/(len(final_list))\n",
        "        \n",
        "def select_subset_dimension(dim_vector, num_dim):\n",
        "    working_list = np.array(dim_vector)\n",
        "    \n",
        "    working_position_index = [i for i in range(working_list.shape[0])]\n",
        "    final_position_index = []\n",
        "    \n",
        "\n",
        "    print('working list is ready, shape', working_list.shape)\n",
        "    sel_dim = random.randrange(0, working_list.shape[0])\n",
        "\n",
        "    final_position_index.append(sel_dim)\n",
        "    \n",
        "    working_position_index.remove(sel_dim)\n",
        "\n",
        "    for test_count in tqdm(range(num_dim-1)):\n",
        "        min_dim = None\n",
        "        min_score = 1000\n",
        "        for temp_index, each_dim in enumerate(working_position_index):\n",
        "            temp_score = get_set_score(final_position_index, each_dim)\n",
        "            if temp_score< min_score:\n",
        "                min_score= temp_score\n",
        "                min_dim = each_dim\n",
        "        final_position_index.append(min_dim)\n",
        "        working_position_index.remove(min_dim)\n",
        "    return final_position_index"
      ],
      "metadata": {
        "colab": {
          "base_uri": "https://localhost:8080/"
        },
        "id": "_2CbH7ZLJIIl",
        "outputId": "f654890f-184d-4cc1-a5f6-de60f05105c2"
      },
      "execution_count": 6,
      "outputs": [
        {
          "output_type": "stream",
          "name": "stdout",
          "text": [
            "time: 631 ms (started: 2022-03-24 21:28:49 +00:00)\n"
          ]
        }
      ]
    },
    {
      "cell_type": "markdown",
      "source": [
        "## Select POLAR dimensions"
      ],
      "metadata": {
        "id": "31GBcutlJynx"
      }
    },
    {
      "cell_type": "markdown",
      "source": [
        "#### Generate the RANDOM DIMENSION Order\n"
      ],
      "metadata": {
        "id": "jdhFIzXoJ38z"
      }
    },
    {
      "cell_type": "code",
      "source": [
        "random_antonym_vector = [i for i in range(len(antonymy_vector))]\n",
        "random.shuffle(random_antonym_vector)\n",
        "print(len(random_antonym_vector))"
      ],
      "metadata": {
        "colab": {
          "base_uri": "https://localhost:8080/"
        },
        "id": "WPiwdKKRJ4FR",
        "outputId": "c3f6cf1f-59a9-4e59-902a-99c0041fdbc5"
      },
      "execution_count": 7,
      "outputs": [
        {
          "output_type": "stream",
          "name": "stdout",
          "text": [
            "1468\n",
            "time: 4.61 ms (started: 2022-03-24 21:28:54 +00:00)\n"
          ]
        }
      ]
    },
    {
      "cell_type": "markdown",
      "source": [
        "#### Generate the ORTHOGONAL DIMENSION Order\n"
      ],
      "metadata": {
        "id": "5nGWeEltJo1O"
      }
    },
    {
      "cell_type": "code",
      "source": [
        "orthogonal_antonymy_vector =np.array(select_subset_dimension(antonymy_vector, num_antonym))  \n",
        "print(orthogonal_antonymy_vector.shape)"
      ],
      "metadata": {
        "colab": {
          "base_uri": "https://localhost:8080/",
          "height": 158,
          "referenced_widgets": [
            "3d2f1650a54e4eb49b60e63284c6ce60",
            "64fec0bc836a44e78bec162f462e3c36",
            "3f498179fb89431692e44296f4df37c3",
            "cf72a84e5b4e42b7b4f49092f8845ec8",
            "c2921047f8a64ea38c7381bb67981240",
            "1de7a26eb3534a29b84acbae05b1b5dc",
            "327bc30ae9324095a6a5ca5724f978de",
            "f9d000bfbd4043d9a3b05a344bbce4e0",
            "c8658a31a3bc4f388f3ed9928b3ef968",
            "18673cde3a9d42f8b185701d9b58a3b4",
            "8ae60cb83b5b4d72b96f549ade9fdb6e"
          ]
        },
        "id": "Zl1UESNDJoTX",
        "outputId": "c1ebe677-c557-4efe-cca5-96fa62307d93"
      },
      "execution_count": 8,
      "outputs": [
        {
          "output_type": "stream",
          "name": "stdout",
          "text": [
            "working list is ready, shape (1468, 300)\n"
          ]
        },
        {
          "output_type": "stream",
          "name": "stderr",
          "text": [
            "/usr/local/lib/python3.7/dist-packages/ipykernel_launcher.py:30: TqdmDeprecationWarning: This function will be removed in tqdm==5.0.0\n",
            "Please use `tqdm.notebook.tqdm` instead of `tqdm.tqdm_notebook`\n"
          ]
        },
        {
          "output_type": "display_data",
          "data": {
            "text/plain": [
              "  0%|          | 0/1467 [00:00<?, ?it/s]"
            ],
            "application/vnd.jupyter.widget-view+json": {
              "version_major": 2,
              "version_minor": 0,
              "model_id": "3d2f1650a54e4eb49b60e63284c6ce60"
            }
          },
          "metadata": {}
        },
        {
          "output_type": "stream",
          "name": "stdout",
          "text": [
            "(1468,)\n",
            "time: 3min 12s (started: 2022-03-24 21:28:56 +00:00)\n"
          ]
        }
      ]
    },
    {
      "cell_type": "markdown",
      "source": [
        "#### Generate the MAXIMUM VARIANCE DIMENSION Order\n"
      ],
      "metadata": {
        "id": "8_0bjrTVKA-O"
      }
    },
    {
      "cell_type": "code",
      "source": [
        "import torch\n",
        "\n",
        "embedding_size = antonymy_vector.shape[0]   \n",
        "print('The embedding size is', embedding_size)\n",
        "\n",
        "\n",
        "variance_antonymy_vector_inverse = np.linalg.pinv(np.transpose(antonymy_vector))\n",
        "variance_antonymy_vector_inverse = torch.tensor(variance_antonymy_vector_inverse)\n",
        "\n",
        "embedding_matrix = []\n",
        "\n",
        "current_model_tensor = torch.t(torch.tensor(current_model.wv.vectors))"
      ],
      "metadata": {
        "colab": {
          "base_uri": "https://localhost:8080/"
        },
        "id": "z65a7C7TN8BQ",
        "outputId": "d75fee2a-99cd-495d-c4fa-a64467512915"
      },
      "execution_count": 9,
      "outputs": [
        {
          "output_type": "stream",
          "name": "stdout",
          "text": [
            "The embedding size is 1468\n"
          ]
        },
        {
          "output_type": "stream",
          "name": "stderr",
          "text": [
            "/usr/local/lib/python3.7/dist-packages/ipykernel_launcher.py:12: DeprecationWarning: Call to deprecated `wv` (Attribute will be removed in 4.0.0, use self instead).\n",
            "  if sys.path[0] == '':\n"
          ]
        },
        {
          "output_type": "stream",
          "name": "stdout",
          "text": [
            "time: 10.4 s (started: 2022-03-24 21:33:08 +00:00)\n"
          ]
        }
      ]
    },
    {
      "cell_type": "code",
      "source": [
        "var_list = [None for x in range(20)] # variance for each antonym in each batch\n",
        "\n",
        "for i in range(19):  # the first 19 batches, each of size 100k\n",
        "  temp = torch.matmul(variance_antonymy_vector_inverse, current_model_tensor[:,100000*i:100000*i+100000])\n",
        "  temp_var_mean = torch.var(temp, axis = 1)\n",
        "  var_list[i] = temp_var_mean.numpy()\n",
        "  del temp\n",
        "\n",
        "temp = torch.matmul(variance_antonymy_vector_inverse, current_model_tensor[:,1900000:])\n",
        "temp_var_mean = torch.var(temp, axis = 1)\n",
        "var_list[19] = temp_var_mean.numpy()\n",
        "del temp"
      ],
      "metadata": {
        "colab": {
          "base_uri": "https://localhost:8080/"
        },
        "id": "_qvK1_BcQR5I",
        "outputId": "fde4977e-5bee-4831-ee8c-7968a47e08b0"
      },
      "execution_count": 18,
      "outputs": [
        {
          "output_type": "stream",
          "name": "stdout",
          "text": [
            "time: 50.6 s (started: 2022-03-24 21:35:34 +00:00)\n"
          ]
        }
      ]
    },
    {
      "cell_type": "code",
      "source": [
        "# using lazy approach. assume each batch is independent and the overall variance is the average variance over all batches\n",
        "\n",
        "variance_list = np.mean(np.array(var_list),axis = 0)\n",
        "\n",
        "variance_antonymy_vector = [each for each in sorted(range(len(variance_list)), key=lambda i: variance_list[i], reverse=True)]\n"
      ],
      "metadata": {
        "colab": {
          "base_uri": "https://localhost:8080/"
        },
        "id": "ImbGpMq_RBKi",
        "outputId": "7ad959b9-08bc-42e9-f06d-4d21f408a902"
      },
      "execution_count": 19,
      "outputs": [
        {
          "output_type": "stream",
          "name": "stdout",
          "text": [
            "time: 6.19 ms (started: 2022-03-24 21:36:31 +00:00)\n"
          ]
        }
      ]
    },
    {
      "cell_type": "markdown",
      "source": [
        "### Begin POLAR embedding"
      ],
      "metadata": {
        "id": "GS0V6GdRVRcD"
      }
    },
    {
      "cell_type": "code",
      "source": [
        "import pandas as pd\n",
        "\n",
        "company = pd.read_csv('glove-ticker-fortune1000-us.csv')\n",
        "ticker_list = company['Ticker'].str.lower() # a list of tickers"
      ],
      "metadata": {
        "colab": {
          "base_uri": "https://localhost:8080/"
        },
        "id": "3d8tK5cmxYEE",
        "outputId": "a0a68f1c-47c1-4d87-8bac-bcfe6471b76b"
      },
      "execution_count": 21,
      "outputs": [
        {
          "output_type": "stream",
          "name": "stdout",
          "text": [
            "time: 56.5 ms (started: 2022-03-24 21:36:43 +00:00)\n"
          ]
        }
      ]
    },
    {
      "cell_type": "code",
      "source": [
        "ticker_word_embedding = dict()\n",
        "for ticker in ticker_list:    # dictionary of ticker: glove embedding\n",
        "  ticker_word_embedding[ticker] = current_model[ticker]"
      ],
      "metadata": {
        "colab": {
          "base_uri": "https://localhost:8080/"
        },
        "id": "mr0omFMIxeC-",
        "outputId": "d0f00020-3aed-4113-eb0f-ab490e5ca3f5"
      },
      "execution_count": 22,
      "outputs": [
        {
          "output_type": "stream",
          "name": "stdout",
          "text": [
            "time: 31 ms (started: 2022-03-24 21:36:51 +00:00)\n"
          ]
        }
      ]
    },
    {
      "cell_type": "code",
      "source": [
        "def transform_to_antonym_space(current_model, output_file_path, binary, current_antonymy_vector_inverse):\n",
        "\n",
        "    temp_dict = dict()\n",
        "\n",
        "    embedding_size = current_antonymy_vector_inverse.shape[0]   ##CHANGE THIS ACCORDINGLY!!!\n",
        "    print('New model size is',len(current_model), embedding_size)\n",
        "\n",
        "    temp_file = None\n",
        "    \n",
        "    if binary:\n",
        "        temp_file = open(output_file_path,'wb')\n",
        "        temp_file.write(str.encode(str(len(current_model))+' '+str(embedding_size)+'\\n'))\n",
        "    else:\n",
        "        temp_file = open(output_file_path,'w')\n",
        "        temp_file.write(str(len(current_model))+' '+str(embedding_size)+'\\n')\n",
        "\n",
        "    total_words = 0\n",
        "    for each_word in tqdm(current_model):\n",
        "        total_words += 1\n",
        "        if binary:\n",
        "            temp_file.write(str.encode(each_word+' '))\n",
        "        else:\n",
        "            temp_file.write(each_word+' ')\n",
        "\n",
        "        new_vector = np.matmul(current_antonymy_vector_inverse,current_model[each_word])\n",
        "\n",
        "        new_vector = new_vector/linalg.norm(new_vector)\n",
        "        temp_dict[each_word] = new_vector\n",
        "        \n",
        "        if binary:\n",
        "            temp_file.write(new_vector)\n",
        "            temp_file.write(str.encode('\\n'))\n",
        "        else:\n",
        "            temp_file.write(str(new_vector))\n",
        "            temp_file.write('\\n')\n",
        "\n",
        "\n",
        "    temp_file.close()\n",
        "    return temp_dict"
      ],
      "metadata": {
        "id": "Xq2TX3_wUcYS",
        "colab": {
          "base_uri": "https://localhost:8080/"
        },
        "outputId": "41106c7c-6a90-4552-8653-94ecbff0bd42"
      },
      "execution_count": 23,
      "outputs": [
        {
          "output_type": "stream",
          "name": "stdout",
          "text": [
            "time: 31.7 ms (started: 2022-03-24 21:36:55 +00:00)\n"
          ]
        }
      ]
    },
    {
      "cell_type": "code",
      "source": [
        "def generate_embedding_path(current_model, embedding_path, binary, antonym_vector, curr_dim):\n",
        "    curr_antonym_vector = antonymy_vector[antonym_vector[:curr_dim]]\n",
        "    curr_antonymy_vector_inverse = np.linalg.pinv(np.transpose(curr_antonym_vector))\n",
        "    new_embedding_dict = transform_to_antonym_space(current_model, embedding_path, binary,curr_antonymy_vector_inverse)\n",
        "\n",
        "    return new_embedding_dict"
      ],
      "metadata": {
        "colab": {
          "base_uri": "https://localhost:8080/"
        },
        "id": "sJkTtrmR3di0",
        "outputId": "2e622d07-f9d5-4731-95bc-a7b42e2c142b"
      },
      "execution_count": 25,
      "outputs": [
        {
          "output_type": "stream",
          "name": "stdout",
          "text": [
            "time: 13.5 ms (started: 2022-03-24 21:38:30 +00:00)\n"
          ]
        }
      ]
    },
    {
      "cell_type": "markdown",
      "source": [
        "Select the number of POLAR demensions and the method of antonym selection"
      ],
      "metadata": {
        "id": "uqxB2wjk4Z3y"
      }
    },
    {
      "cell_type": "code",
      "source": [
        "import subprocess\n",
        "dim_size = 500 # Number of POLAR dimenions\n",
        "antonym_vector_method = orthogonal_antonymy_vector \n",
        "# random_antonym_vector or orthogonal_antonymy_vector or variance_antonymy_vector \n",
        "antonym_500 = [list_antonym[x] for x in antonym_vector_method[:500]]\n"
      ],
      "metadata": {
        "colab": {
          "base_uri": "https://localhost:8080/"
        },
        "id": "2fMFc9BU3eqo",
        "outputId": "cf867826-f428-463a-f795-0349d7da73d6"
      },
      "execution_count": 35,
      "outputs": [
        {
          "output_type": "stream",
          "name": "stdout",
          "text": [
            "time: 3.41 ms (started: 2022-03-24 21:41:50 +00:00)\n"
          ]
        }
      ]
    },
    {
      "cell_type": "code",
      "source": [
        "# create POLAR embedding of tickers\n",
        "ticker_new_embedding = generate_embedding_path(ticker_word_embedding, 'test_run',True ,antonym_vector_method,500) \n"
      ],
      "metadata": {
        "colab": {
          "base_uri": "https://localhost:8080/",
          "height": 140,
          "referenced_widgets": [
            "57211f1f0e744ec0988c9c629a0e7f9d",
            "f834ab6b15be43b59eeca95ba4676f86",
            "f370d0a3ab314a08b93c6c761ff03903",
            "02cc78009fab4464bde6fd02dee666a8",
            "12b77e67f5404ee68cdc4e179902f106",
            "0fadf889a3f447a3b142adb277f40fd2",
            "013cd8f76cc24c528b06c710c90ec9b9",
            "0042a5d142a74d00934867cce13bf212",
            "556bed4d9df6413582e9e84ac624ad1b",
            "b1ad0388461645f69f4281ba27fda867",
            "ea799245f776462da57648f3fc754e61"
          ]
        },
        "id": "qGxa1qzVxxLZ",
        "outputId": "d5e14acd-b8dd-477e-8503-d400095dabcc"
      },
      "execution_count": 36,
      "outputs": [
        {
          "output_type": "stream",
          "name": "stdout",
          "text": [
            "New model size is 892 500\n"
          ]
        },
        {
          "output_type": "stream",
          "name": "stderr",
          "text": [
            "/usr/local/lib/python3.7/dist-packages/ipykernel_launcher.py:18: TqdmDeprecationWarning: This function will be removed in tqdm==5.0.0\n",
            "Please use `tqdm.notebook.tqdm` instead of `tqdm.tqdm_notebook`\n"
          ]
        },
        {
          "output_type": "display_data",
          "data": {
            "text/plain": [
              "  0%|          | 0/892 [00:00<?, ?it/s]"
            ],
            "application/vnd.jupyter.widget-view+json": {
              "version_major": 2,
              "version_minor": 0,
              "model_id": "57211f1f0e744ec0988c9c629a0e7f9d"
            }
          },
          "metadata": {}
        },
        {
          "output_type": "stream",
          "name": "stdout",
          "text": [
            "time: 629 ms (started: 2022-03-24 21:41:57 +00:00)\n"
          ]
        }
      ]
    },
    {
      "cell_type": "markdown",
      "source": [
        "#### View top embeddings"
      ],
      "metadata": {
        "id": "qHxai9QIyEgE"
      }
    },
    {
      "cell_type": "code",
      "source": [
        "def make_polar_dict(company_name, antonym, embedding, top_n = False, n = 10):\n",
        "  temp_dict = dict()\n",
        "  temp_polar = embedding[company_name]\n",
        "\n",
        "  if top_n:\n",
        "    idx = np.argsort([abs(x) for x in temp_polar])[-n:]\n",
        "    for i in idx:\n",
        "      print(antonym[i],temp_polar[i],'\\n')\n",
        "\n",
        "\n",
        "  if len(antonym) == len(temp_polar):\n",
        "    for a in range(len(antonym)):\n",
        "      temp_dict[antonym[a]] = temp_polar[a]\n",
        "    return temp_dict"
      ],
      "metadata": {
        "colab": {
          "base_uri": "https://localhost:8080/"
        },
        "id": "PjQam7gBw9rn",
        "outputId": "2f692d39-4dce-4351-ca9d-95ca43512632"
      },
      "execution_count": 28,
      "outputs": [
        {
          "output_type": "stream",
          "name": "stdout",
          "text": [
            "time: 9.99 ms (started: 2022-03-24 21:39:25 +00:00)\n"
          ]
        }
      ]
    },
    {
      "cell_type": "code",
      "source": [
        "# amazon \n",
        "amzn_polar = make_polar_dict('amzn', antonym_500, ticker_new_embedding, True)\n"
      ],
      "metadata": {
        "colab": {
          "base_uri": "https://localhost:8080/"
        },
        "id": "1YD9KnnMw9ka",
        "outputId": "9d974d16-017b-40a3-a6cb-cf9d59edb3be"
      },
      "execution_count": 37,
      "outputs": [
        {
          "output_type": "stream",
          "name": "stdout",
          "text": [
            "('ceo', 'workforce') 0.10772923 \n",
            "\n",
            "('punch', 'stroke') 0.10793858 \n",
            "\n",
            "('realism', 'symbolism') -0.1083337 \n",
            "\n",
            "('condenser', 'stretcher') 0.11130721 \n",
            "\n",
            "('test', 'work') 0.1145705 \n",
            "\n",
            "('outside', 'room') 0.12066327 \n",
            "\n",
            "('accidental', 'intentional') -0.12215772 \n",
            "\n",
            "('maximum', 'minimum') -0.12317282 \n",
            "\n",
            "('taxonomic', 'unclassified') -0.14370447 \n",
            "\n",
            "('apple', 'tomato') 0.15129773 \n",
            "\n",
            "time: 6 ms (started: 2022-03-24 21:42:04 +00:00)\n"
          ]
        }
      ]
    },
    {
      "cell_type": "code",
      "source": [
        "# walmart\n",
        "wmt_polar = make_polar_dict('wmt', antonym_500, ticker_new_embedding, True)\n"
      ],
      "metadata": {
        "colab": {
          "base_uri": "https://localhost:8080/"
        },
        "id": "jXXYGuDAyTvp",
        "outputId": "a3778f4a-a46e-4943-95f3-1a90f70e821e"
      },
      "execution_count": 38,
      "outputs": [
        {
          "output_type": "stream",
          "name": "stdout",
          "text": [
            "('desert', 'saloon') -0.12026095 \n",
            "\n",
            "('saunter', 'whisk') 0.12478568 \n",
            "\n",
            "('saloon', 'teahouse') -0.1254237 \n",
            "\n",
            "('apple', 'tomato') 0.12660202 \n",
            "\n",
            "('maximum', 'minimum') -0.12834348 \n",
            "\n",
            "('fortune', 'trouble') 0.13408856 \n",
            "\n",
            "('critic', 'musician') 0.13633755 \n",
            "\n",
            "('outside', 'room') 0.13712038 \n",
            "\n",
            "('airless', 'pneumatic') -0.14000669 \n",
            "\n",
            "('alphabet', 'count') -0.1476502 \n",
            "\n",
            "time: 3.56 ms (started: 2022-03-24 21:42:15 +00:00)\n"
          ]
        }
      ]
    },
    {
      "cell_type": "code",
      "source": [
        "# facebook\n",
        "fb_polar = make_polar_dict('fb', antonym_500, ticker_new_embedding, True)\n"
      ],
      "metadata": {
        "colab": {
          "base_uri": "https://localhost:8080/"
        },
        "id": "tVtWqulRyV_9",
        "outputId": "37a77d93-128e-42df-a965-634bc785229d"
      },
      "execution_count": 39,
      "outputs": [
        {
          "output_type": "stream",
          "name": "stdout",
          "text": [
            "('singular', 'tribal') -0.107639536 \n",
            "\n",
            "('curve', 'square') 0.10996485 \n",
            "\n",
            "('lone', 'tribal') 0.110461906 \n",
            "\n",
            "('extrasensory', 'sensory') 0.11196343 \n",
            "\n",
            "('drama', 'parody') 0.11261892 \n",
            "\n",
            "('ceo', 'workforce') 0.11463114 \n",
            "\n",
            "('unemployed', 'workforce') -0.115528435 \n",
            "\n",
            "('group', 'separate') 0.11801642 \n",
            "\n",
            "('captain', 'follower') -0.1252387 \n",
            "\n",
            "('follower', 'innovator') 0.14101696 \n",
            "\n",
            "time: 3.34 ms (started: 2022-03-24 21:42:18 +00:00)\n"
          ]
        }
      ]
    },
    {
      "cell_type": "code",
      "source": [
        "# wells fargo\n",
        "wfc_polar = make_polar_dict('wfc', antonym_500, ticker_new_embedding, True) \n"
      ],
      "metadata": {
        "colab": {
          "base_uri": "https://localhost:8080/"
        },
        "id": "r5la1U6OyYUE",
        "outputId": "3f8876d0-02fe-466f-fed4-df9414048762"
      },
      "execution_count": 40,
      "outputs": [
        {
          "output_type": "stream",
          "name": "stdout",
          "text": [
            "('accidental', 'intentional') -0.10983897 \n",
            "\n",
            "('outside', 'room') 0.113385014 \n",
            "\n",
            "('bat', 'field') 0.1184059 \n",
            "\n",
            "('hour', 'second') -0.11888394 \n",
            "\n",
            "('hardware', 'software') 0.11955834 \n",
            "\n",
            "('confirm', 'question') 0.12253661 \n",
            "\n",
            "('hail', 'snow') -0.12533107 \n",
            "\n",
            "('cynicism', 'naivety') -0.12634936 \n",
            "\n",
            "('credit', 'tax') 0.12675561 \n",
            "\n",
            "('ceo', 'workforce') 0.14842771 \n",
            "\n",
            "time: 3.62 ms (started: 2022-03-24 21:42:21 +00:00)\n"
          ]
        }
      ]
    },
    {
      "cell_type": "code",
      "source": [
        ""
      ],
      "metadata": {
        "id": "LL1eA3Cy39e-"
      },
      "execution_count": null,
      "outputs": []
    }
  ]
}