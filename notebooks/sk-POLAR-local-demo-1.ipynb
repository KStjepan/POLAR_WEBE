{
 "cells": [
  {
   "cell_type": "code",
   "execution_count": 1,
   "metadata": {
    "colab": {
     "base_uri": "https://localhost:8080/"
    },
    "id": "pcBL5cHirbPX",
    "outputId": "14df5d4d-5429-484f-ee1e-7f32e8329829"
   },
   "outputs": [
    {
     "name": "stdout",
     "output_type": "stream",
     "text": [
      "Requirement already satisfied: ipython-autotime in /Users/stjepankusenic/POLAR_WEBE/venv/lib/python3.9/site-packages (0.3.1)\r\n",
      "Requirement already satisfied: ipython in /Users/stjepankusenic/POLAR_WEBE/venv/lib/python3.9/site-packages (from ipython-autotime) (8.1.1)\r\n",
      "Requirement already satisfied: prompt-toolkit!=3.0.0,!=3.0.1,<3.1.0,>=2.0.0 in /Users/stjepankusenic/POLAR_WEBE/venv/lib/python3.9/site-packages (from ipython->ipython-autotime) (3.0.28)\r\n",
      "Requirement already satisfied: stack-data in /Users/stjepankusenic/POLAR_WEBE/venv/lib/python3.9/site-packages (from ipython->ipython-autotime) (0.2.0)\r\n",
      "Requirement already satisfied: pickleshare in /Users/stjepankusenic/POLAR_WEBE/venv/lib/python3.9/site-packages (from ipython->ipython-autotime) (0.7.5)\r\n",
      "Requirement already satisfied: traitlets>=5 in /Users/stjepankusenic/POLAR_WEBE/venv/lib/python3.9/site-packages (from ipython->ipython-autotime) (5.1.1)\r\n",
      "Requirement already satisfied: backcall in /Users/stjepankusenic/POLAR_WEBE/venv/lib/python3.9/site-packages (from ipython->ipython-autotime) (0.2.0)\r\n",
      "Requirement already satisfied: decorator in /Users/stjepankusenic/POLAR_WEBE/venv/lib/python3.9/site-packages (from ipython->ipython-autotime) (5.1.1)\r\n",
      "Requirement already satisfied: matplotlib-inline in /Users/stjepankusenic/POLAR_WEBE/venv/lib/python3.9/site-packages (from ipython->ipython-autotime) (0.1.3)\r\n",
      "Requirement already satisfied: pexpect>4.3 in /Users/stjepankusenic/POLAR_WEBE/venv/lib/python3.9/site-packages (from ipython->ipython-autotime) (4.8.0)\r\n",
      "Requirement already satisfied: jedi>=0.16 in /Users/stjepankusenic/POLAR_WEBE/venv/lib/python3.9/site-packages (from ipython->ipython-autotime) (0.18.1)\r\n",
      "Requirement already satisfied: pygments>=2.4.0 in /Users/stjepankusenic/POLAR_WEBE/venv/lib/python3.9/site-packages (from ipython->ipython-autotime) (2.11.2)\r\n",
      "Requirement already satisfied: setuptools>=18.5 in /Users/stjepankusenic/POLAR_WEBE/venv/lib/python3.9/site-packages (from ipython->ipython-autotime) (57.0.0)\r\n",
      "Requirement already satisfied: appnope in /Users/stjepankusenic/POLAR_WEBE/venv/lib/python3.9/site-packages (from ipython->ipython-autotime) (0.1.2)\r\n",
      "Requirement already satisfied: parso<0.9.0,>=0.8.0 in /Users/stjepankusenic/POLAR_WEBE/venv/lib/python3.9/site-packages (from jedi>=0.16->ipython->ipython-autotime) (0.8.3)\r\n",
      "Requirement already satisfied: ptyprocess>=0.5 in /Users/stjepankusenic/POLAR_WEBE/venv/lib/python3.9/site-packages (from pexpect>4.3->ipython->ipython-autotime) (0.7.0)\r\n",
      "Requirement already satisfied: wcwidth in /Users/stjepankusenic/POLAR_WEBE/venv/lib/python3.9/site-packages (from prompt-toolkit!=3.0.0,!=3.0.1,<3.1.0,>=2.0.0->ipython->ipython-autotime) (0.2.5)\r\n",
      "Requirement already satisfied: executing in /Users/stjepankusenic/POLAR_WEBE/venv/lib/python3.9/site-packages (from stack-data->ipython->ipython-autotime) (0.8.3)\r\n",
      "Requirement already satisfied: pure-eval in /Users/stjepankusenic/POLAR_WEBE/venv/lib/python3.9/site-packages (from stack-data->ipython->ipython-autotime) (0.2.2)\r\n",
      "Requirement already satisfied: asttokens in /Users/stjepankusenic/POLAR_WEBE/venv/lib/python3.9/site-packages (from stack-data->ipython->ipython-autotime) (2.0.5)\r\n",
      "Requirement already satisfied: six in /Users/stjepankusenic/POLAR_WEBE/venv/lib/python3.9/site-packages (from asttokens->stack-data->ipython->ipython-autotime) (1.16.0)\r\n",
      "\u001B[33mWARNING: You are using pip version 21.1.2; however, version 22.0.4 is available.\r\n",
      "You should consider upgrading via the '/Users/stjepankusenic/POLAR_WEBE/venv/bin/python -m pip install --upgrade pip' command.\u001B[0m\r\n",
      "time: 991 µs (started: 2022-03-24 10:52:10 +01:00)\n"
     ]
    }
   ],
   "source": [
    "import gensim\n",
    "from numpy import linalg\n",
    "import numpy as np\n",
    "from sklearn.metrics.pairwise import cosine_similarity\n",
    "from tqdm import tqdm_notebook as tqdm\n",
    "import time\n",
    "from random import shuffle\n",
    "import sys\n",
    "import nltk \n",
    "from nltk.corpus import wordnet \n",
    "import gc\n",
    "from collections import defaultdict\n",
    "import random\n",
    "import json\n",
    "import os\n",
    "\n",
    "from gensim.scripts.glove2word2vec import glove2word2vec\n",
    "from gensim.test.utils import datapath, get_tmpfile\n",
    "\n",
    "from gensim.test.utils import datapath\n",
    "\n",
    "!pip install ipython-autotime\n",
    "%load_ext autotime"
   ]
  },
  {
   "cell_type": "code",
   "execution_count": 6,
   "metadata": {
    "colab": {
     "base_uri": "https://localhost:8080/"
    },
    "id": "XAb6AgngttMK",
    "outputId": "f5d6ccab-d3aa-48b8-e820-bd8e52731591"
   },
   "outputs": [
    {
     "name": "stdout",
     "output_type": "stream",
     "text": [
      "time: 33.1 s (started: 2022-03-22 11:05:48 +01:00)\n"
     ]
    }
   ],
   "source": [
    "model_glove = glove2word2vec('/Users/stjepankusenic/POLAR_WEBE/data/raw/glove.42B.300d.txt','gensim_glove_300d.txt') ## needed for glove embeddings only \n"
   ]
  },
  {
   "cell_type": "code",
   "execution_count": 7,
   "metadata": {
    "colab": {
     "base_uri": "https://localhost:8080/"
    },
    "id": "aN6sBYcax0_c",
    "outputId": "43ca191d-e75c-4e25-bb72-b685bfdd644c"
   },
   "outputs": [
    {
     "name": "stdout",
     "output_type": "stream",
     "text": [
      "time: 4min 40s (started: 2022-03-22 11:10:20 +01:00)\n"
     ]
    }
   ],
   "source": [
    "model_glove = gensim.models.KeyedVectors.load_word2vec_format(\"gensim_glove_300d.txt\", binary=False)"
   ]
  },
  {
   "cell_type": "code",
   "execution_count": 8,
   "metadata": {
    "colab": {
     "base_uri": "https://localhost:8080/"
    },
    "id": "V0GgIonryZpG",
    "outputId": "4978a635-e0f8-45fe-8175-90342ba3af9b"
   },
   "outputs": [
    {
     "name": "stdout",
     "output_type": "stream",
     "text": [
      "time: 20.7 ms (started: 2022-03-22 15:32:24 +01:00)\n"
     ]
    }
   ],
   "source": [
    "def generate_norm_embedding(model, output_path):\n",
    "    temp_file = open(output_path,'wb')\n",
    "    temp_file.write(str.encode(str(len(model.vocab))+' '+str(model.vector_size)+'\\n'))\n",
    "    \n",
    "    for each_word in tqdm(model.vocab):\n",
    "        temp_file.write(str.encode(each_word+' '))\n",
    "        temp_file.write(model[each_word]/linalg.norm(model[each_word]))\n",
    "        temp_file.write(str.encode('\\n'))\n",
    "    \n",
    "    temp_file.close()"
   ]
  },
  {
   "cell_type": "code",
   "execution_count": 9,
   "metadata": {
    "colab": {
     "base_uri": "https://localhost:8080/",
     "height": 140,
     "referenced_widgets": [
      "86101965873b4f3297a57d00ec7aaa06",
      "741fc3ff8d3f45abb4694b0b1a7719f0",
      "bdb7b651ce1740bdb620190e6ad1329d",
      "311e632c8d614cbcb5b5cf981299fa8f",
      "969bba4632724a8fbbc222f2f9032178",
      "541b76eb5f094d1791ea837ee3d766bc",
      "b1de71b603ff4c9c8b78e45dc10ac925",
      "a91b60fb737a4bd6b784bba090c5a9dc",
      "3b95f59332434b9e9e9ceccafb122259",
      "781ce3e070ce423baba3f3aba863f53d",
      "2f7ce595c5a74de196d3857e89f7e272"
     ]
    },
    "id": "zsDa4Hioyg8F",
    "outputId": "8c6dc664-30c6-4468-bcc5-a5d8e30fbc2b"
   },
   "outputs": [
    {
     "name": "stderr",
     "output_type": "stream",
     "text": [
      "/var/folders/xy/yfm2dhtj3jvfy85hqy16wmk00000gn/T/ipykernel_98626/4225384672.py:5: TqdmDeprecationWarning: This function will be removed in tqdm==5.0.0\n",
      "Please use `tqdm.notebook.tqdm` instead of `tqdm.tqdm_notebook`\n",
      "  for each_word in tqdm(model.vocab):\n"
     ]
    },
    {
     "data": {
      "application/vnd.jupyter.widget-view+json": {
       "model_id": "22a44d43076c4a109059ceec95fbc09c",
       "version_major": 2,
       "version_minor": 0
      },
      "text/plain": [
       "  0%|          | 0/1917494 [00:00<?, ?it/s]"
      ]
     },
     "metadata": {},
     "output_type": "display_data"
    },
    {
     "name": "stdout",
     "output_type": "stream",
     "text": [
      "time: 1min 5s (started: 2022-03-22 15:32:27 +01:00)\n"
     ]
    }
   ],
   "source": [
    "generate_norm_embedding(model_glove,'glove_norm_300.mod')\n"
   ]
  },
  {
   "cell_type": "code",
   "execution_count": 10,
   "metadata": {
    "colab": {
     "base_uri": "https://localhost:8080/"
    },
    "id": "_TmlWQ3_941O",
    "outputId": "ed87f795-7b45-4401-8eb7-33fc47a6ead9"
   },
   "outputs": [
    {
     "name": "stdout",
     "output_type": "stream",
     "text": [
      "time: 25.3 s (started: 2022-03-22 15:33:52 +01:00)\n"
     ]
    }
   ],
   "source": [
    "model_gn = gensim.models.KeyedVectors.load_word2vec_format('glove_norm_300.mod',binary=True) # ss\n"
   ]
  },
  {
   "cell_type": "code",
   "execution_count": 11,
   "metadata": {
    "colab": {
     "base_uri": "https://localhost:8080/"
    },
    "id": "rlR245_a95_O",
    "outputId": "2ac38924-738e-438a-bc6f-3d248d28f068"
   },
   "outputs": [
    {
     "name": "stdout",
     "output_type": "stream",
     "text": [
      "time: 328 µs (started: 2022-03-22 15:34:19 +01:00)\n"
     ]
    }
   ],
   "source": [
    "current_model = model_gn \n"
   ]
  },
  {
   "cell_type": "code",
   "execution_count": null,
   "metadata": {
    "colab": {
     "base_uri": "https://localhost:8080/"
    },
    "id": "AVOps1RqfmkU",
    "outputId": "51ba7434-97d1-449f-9da2-628e657a722e"
   },
   "outputs": [],
   "source": [
    "#%cd POLAR"
   ]
  },
  {
   "cell_type": "code",
   "execution_count": 12,
   "metadata": {
    "colab": {
     "base_uri": "https://localhost:8080/"
    },
    "id": "VwHUwhAMDaYs",
    "outputId": "5b136759-e15e-4588-9cd8-d81a5bdf6a20"
   },
   "outputs": [
    {
     "name": "stdout",
     "output_type": "stream",
     "text": [
      "time: 40.2 ms (started: 2022-03-22 15:34:24 +01:00)\n"
     ]
    }
   ],
   "source": [
    "\n",
    "list_antonym = []\n",
    "\n",
    "with open('/Users/stjepankusenic/POLAR_WEBE/data/raw/Antonym_sets/LenciBenotto.val') as fp:\n",
    "    for line in fp:\n",
    "        parts = line.split()\n",
    "        if parts[3]=='antonym':\n",
    "            word1 = parts[0].split('-')[0]\n",
    "            word2 = parts[1].split('-')[0]\n",
    "            if word1 in current_model and word2 in current_model:\n",
    "                list_antonym.append((word1.strip().lower(), word2.strip().lower()))\n",
    "\n",
    "\n",
    "with open('/Users/stjepankusenic/POLAR_WEBE/data/raw/Antonym_sets/LenciBenotto.test') as fp:\n",
    "    for line in fp:\n",
    "        parts = line.split()\n",
    "        if parts[3]=='antonym':\n",
    "            word1 = parts[0].split('-')[0]\n",
    "            word2 = parts[1].split('-')[0]\n",
    "            if word1 in current_model and word2 in current_model:\n",
    "                list_antonym.append((word1.strip().lower(), word2.strip().lower()))\n",
    "                \n",
    "with open('/Users/stjepankusenic/POLAR_WEBE/data/raw/Antonym_sets/EVALution.val') as fp:\n",
    "    for line in fp:\n",
    "        parts = line.split()\n",
    "        if parts[3]=='antonym':\n",
    "            word1 = parts[0].split('-')[0]\n",
    "            word2 = parts[1].split('-')[0]\n",
    "            if word1 in current_model and word2 in current_model:\n",
    "                list_antonym.append((word1.strip().lower(), word2.strip().lower()))\n",
    "\n",
    "with open('/Users/stjepankusenic/POLAR_WEBE/data/raw/Antonym_sets/EVALution.test') as fp:\n",
    "    for line in fp:\n",
    "        parts = line.split()\n",
    "        if parts[3]=='antonym':\n",
    "            word1 = parts[0].split('-')[0]\n",
    "            word2 = parts[1].split('-')[0]\n",
    "            if word1 in current_model and word2 in current_model:\n",
    "                list_antonym.append((word1.strip().lower(), word2.strip().lower()))\n",
    "                \n",
    "                \n",
    "list_antonym = list(dict.fromkeys(list_antonym).keys())"
   ]
  },
  {
   "cell_type": "code",
   "execution_count": 14,
   "metadata": {
    "colab": {
     "base_uri": "https://localhost:8080/",
     "height": 311,
     "referenced_widgets": [
      "51f942e782d0460291a8576ce612f1bd",
      "c02f4d4bbd484318a1869a7b42132e98",
      "a8d1d791c71140c1973898e071ea4698",
      "fd209af0fc254458bbf79ccb2c405bff",
      "0af2fe8e8ccf47e482be50c604ebd08f",
      "78ca1a27616b4d81b1c7f3bab431f588",
      "a9e36ca2d8d640c1976bb5d2d9f4a00d",
      "3986bcf715204ac49949b466fa3a4097",
      "205ec4f3367747e391bcfff57a73f950",
      "f3e0c2873add4df99c0fcb4460c9efb9",
      "b037af607cd946d1b480b82a1ed39bea",
      "2321d33a09d446bda2647f7730595493",
      "91ac1a8bafe84bd685854f907ca936f0",
      "2998098d1dbf40a6b469a1376ab3cc0a",
      "817401136352496aa938e7fe491caf38",
      "4d7e347315104d96a7738e519d2690b0",
      "6aeabd17c0f24fbf991c07d19cc7c551",
      "43338f8fc0af4dc3b04b5bd020123910",
      "407a07ead08f4dc68a5ea4d7b7863389",
      "ccb7f75901184cd19bd1031791df6477",
      "6250b36cc5c74e7b92165475e354a052",
      "da0fe6db69c94d7599f9d2306d20fd1d",
      "6e614fc2f3704579b545ff829aa17bb5",
      "d51f0dc428f74216ab498ac8eabc11e5",
      "1a722488e6d04bc8af5451e216774dd1",
      "12a5725e75054af5b0ff15eb3c26d151",
      "77ddae69bfe940e992893031d4fd5626",
      "8baf2acdfc87474a8a72c2408017b783",
      "ef7bed3866f141f780bd109fee51d023",
      "b7581b74690545b2a80789f42f1adcee",
      "76842ee579ad4083a2be84bc338b86a5",
      "346372f4ff004fe48bdd91a732e8bbea",
      "a50debed57c54cb28d2025ce778d51f3"
     ]
    },
    "id": "Op4u8AWrfr63",
    "outputId": "81bab469-5902-431a-bec3-75dee932736c"
   },
   "outputs": [
    {
     "name": "stderr",
     "output_type": "stream",
     "text": [
      "/var/folders/xy/yfm2dhtj3jvfy85hqy16wmk00000gn/T/ipykernel_98626/2902666931.py:2: TqdmDeprecationWarning: This function will be removed in tqdm==5.0.0\n",
      "Please use `tqdm.notebook.tqdm` instead of `tqdm.tqdm_notebook`\n",
      "  for each_pair in tqdm(list_antonym):\n"
     ]
    },
    {
     "data": {
      "application/vnd.jupyter.widget-view+json": {
       "model_id": "beabcd45aaf14f6bb6cb7846771cda7a",
       "version_major": 2,
       "version_minor": 0
      },
      "text/plain": [
       "  0%|          | 0/3110 [00:00<?, ?it/s]"
      ]
     },
     "metadata": {},
     "output_type": "display_data"
    },
    {
     "name": "stderr",
     "output_type": "stream",
     "text": [
      "/var/folders/xy/yfm2dhtj3jvfy85hqy16wmk00000gn/T/ipykernel_98626/2902666931.py:11: TqdmDeprecationWarning: This function will be removed in tqdm==5.0.0\n",
      "Please use `tqdm.notebook.tqdm` instead of `tqdm.tqdm_notebook`\n",
      "  for each_key in tqdm(similarity_matrix):\n"
     ]
    },
    {
     "data": {
      "application/vnd.jupyter.widget-view+json": {
       "model_id": "de96ea697ac14a6688867ff035185aaa",
       "version_major": 2,
       "version_minor": 0
      },
      "text/plain": [
       "  0%|          | 0/1468 [00:00<?, ?it/s]"
      ]
     },
     "metadata": {},
     "output_type": "display_data"
    },
    {
     "name": "stderr",
     "output_type": "stream",
     "text": [
      "/var/folders/xy/yfm2dhtj3jvfy85hqy16wmk00000gn/T/ipykernel_98626/2902666931.py:17: TqdmDeprecationWarning: This function will be removed in tqdm==5.0.0\n",
      "Please use `tqdm.notebook.tqdm` instead of `tqdm.tqdm_notebook`\n",
      "  for index_counter, each_key in enumerate(tqdm(all_similarity)):\n"
     ]
    },
    {
     "data": {
      "application/vnd.jupyter.widget-view+json": {
       "model_id": "b7c794bcf99f49748be0832cc50692d4",
       "version_major": 2,
       "version_minor": 0
      },
      "text/plain": [
       "  0%|          | 0/1468 [00:00<?, ?it/s]"
      ]
     },
     "metadata": {},
     "output_type": "display_data"
    },
    {
     "name": "stdout",
     "output_type": "stream",
     "text": [
      "1468\n",
      "time: 1.86 s (started: 2022-03-22 15:44:27 +01:00)\n"
     ]
    }
   ],
   "source": [
    "similarity_matrix = defaultdict(list)\n",
    "for each_pair in tqdm(list_antonym):\n",
    "    word1 = each_pair[0]\n",
    "    word2 = each_pair[1]\n",
    "    if word1 < word2:\n",
    "        similarity_matrix[word1].append(word2)\n",
    "    else:\n",
    "        similarity_matrix[word2].append(word1)\n",
    "    \n",
    "all_similarity = defaultdict(dict)\n",
    "for each_key in tqdm(similarity_matrix):\n",
    "    for each_value in similarity_matrix[each_key]:\n",
    "#         cosine_similarity([current_model[each_key]]\n",
    "        all_similarity[each_key][each_value] = abs(cosine_similarity([current_model[each_key]],[current_model[each_value]])[0][0])\n",
    "    \n",
    "final_antonym_list = []\n",
    "for index_counter, each_key in enumerate(tqdm(all_similarity)):\n",
    "#     print(each_key,all_similarity[each_key])\n",
    "    listofTuples = sorted(all_similarity[each_key].items() ,  key=lambda x: x[1])\n",
    "#     print(listofTuples)\n",
    "    final_antonym_list.append((each_key, listofTuples[0][0]))\n",
    "print(len(final_antonym_list))\n",
    "\n",
    "list_antonym = final_antonym_list"
   ]
  },
  {
   "cell_type": "code",
   "execution_count": 15,
   "metadata": {
    "colab": {
     "base_uri": "https://localhost:8080/"
    },
    "id": "B4Rv4JISgjgO",
    "outputId": "474f6763-5738-4030-9d35-7a11b211c0d8"
   },
   "outputs": [
    {
     "name": "stdout",
     "output_type": "stream",
     "text": [
      "time: 407 µs (started: 2022-03-22 15:44:32 +01:00)\n"
     ]
    }
   ],
   "source": [
    "num_antonym = 1468\n"
   ]
  },
  {
   "cell_type": "code",
   "execution_count": 16,
   "metadata": {
    "colab": {
     "base_uri": "https://localhost:8080/"
    },
    "id": "-7fmUvy8g1CZ",
    "outputId": "075c270d-f17d-4664-c402-4f8a08ba4410"
   },
   "outputs": [
    {
     "name": "stdout",
     "output_type": "stream",
     "text": [
      "(1468, 300)\n",
      "time: 27.9 ms (started: 2022-03-22 15:44:37 +01:00)\n"
     ]
    }
   ],
   "source": [
    "## Find the antonym difference vectors\n",
    "antonymy_vector = []\n",
    "for each_word_pair in list_antonym:\n",
    "    antonymy_vector.append(current_model[each_word_pair[0]]- current_model[each_word_pair[1]])\n",
    "antonymy_vector = np.array(antonymy_vector)\n",
    "print(antonymy_vector.shape)"
   ]
  },
  {
   "cell_type": "code",
   "execution_count": 17,
   "metadata": {
    "colab": {
     "base_uri": "https://localhost:8080/",
     "height": 140,
     "referenced_widgets": [
      "cf0ed7175c274a30b2a10fb9e8ce4741",
      "d112d7dea7f7427486b46581c9b04e25",
      "67e4c9678af841628140bc269e72ec35",
      "db3e71bb16664217806b5c67cd176cf3",
      "8db15249c50a46deb2d98afe1cff1917",
      "8c14e5795ac84d2bb408b2c462189984",
      "6052211018ab4641ba4496d8c88c68e0",
      "1a94b24301184a369d125ef25bbe6086",
      "b2ef8f618f12442cb8cf26703e5c449e",
      "59cf9f59d38f4b97bae4aaaa62c89b67",
      "4e9961aaac5b4e128761450c9c8c9805"
     ]
    },
    "id": "rgSYWOmBg1hm",
    "outputId": "ee71fac1-ede0-4cde-aa9a-5bb8fc5a1daa"
   },
   "outputs": [
    {
     "name": "stderr",
     "output_type": "stream",
     "text": [
      "/var/folders/xy/yfm2dhtj3jvfy85hqy16wmk00000gn/T/ipykernel_98626/1941183735.py:8: TqdmDeprecationWarning: This function will be removed in tqdm==5.0.0\n",
      "Please use `tqdm.notebook.tqdm` instead of `tqdm.tqdm_notebook`\n",
      "  for index_1, each_dim1 in enumerate(tqdm(t1)):\n"
     ]
    },
    {
     "data": {
      "application/vnd.jupyter.widget-view+json": {
       "model_id": "612f0867d01546fe87cc58fc40f5aaa0",
       "version_major": 2,
       "version_minor": 0
      },
      "text/plain": [
       "  0%|          | 0/1468 [00:00<?, ?it/s]"
      ]
     },
     "metadata": {},
     "output_type": "display_data"
    },
    {
     "name": "stdout",
     "output_type": "stream",
     "text": [
      "time: 1min 46s (started: 2022-03-22 15:44:43 +01:00)\n"
     ]
    }
   ],
   "source": [
    "import random\n",
    "\n",
    "from scipy.spatial.distance import cosine as scipy_cosine\n",
    "random.seed(42)\n",
    "\n",
    "t1 = np.array(antonymy_vector)\n",
    "dimension_similarity_matrix = defaultdict(dict)\n",
    "for index_1, each_dim1 in enumerate(tqdm(t1)):\n",
    "    for index_2, each_dim2 in enumerate(t1):\n",
    "        dimension_similarity_matrix[index_1][index_2] = abs(1-scipy_cosine(each_dim1, each_dim2))\n",
    "        \n",
    "        \n",
    "def get_set_score(final_list, each_dim):\n",
    "    final_output = 0.0\n",
    "    for each_vec in final_list:\n",
    "        final_output += dimension_similarity_matrix[each_vec][each_dim]\n",
    "    return final_output/(len(final_list))\n",
    "        \n",
    "def select_subset_dimension(dim_vector, num_dim):\n",
    "    working_list = np.array(dim_vector)\n",
    "    \n",
    "    working_position_index = [i for i in range(working_list.shape[0])]\n",
    "    final_position_index = []\n",
    "    \n",
    "\n",
    "    print('working list is ready, shape', working_list.shape)\n",
    "    sel_dim = random.randrange(0, working_list.shape[0])\n",
    "\n",
    "    final_position_index.append(sel_dim)\n",
    "    \n",
    "    working_position_index.remove(sel_dim)\n",
    "\n",
    "    for test_count in tqdm(range(num_dim-1)):\n",
    "        min_dim = None\n",
    "        min_score = 1000\n",
    "        for temp_index, each_dim in enumerate(working_position_index):\n",
    "#             print(each_dim)\n",
    "            temp_score = get_set_score(final_position_index, each_dim)\n",
    "            if temp_score< min_score:\n",
    "                min_score= temp_score\n",
    "                min_dim = each_dim\n",
    "        print(test_count,min_dim)\n",
    "        final_position_index.append(min_dim)\n",
    "        working_position_index.remove(min_dim)\n",
    "#         print(working_list.shape, len(final_list))\n",
    "    return final_position_index"
   ]
  },
  {
   "cell_type": "code",
   "execution_count": 18,
   "metadata": {
    "colab": {
     "base_uri": "https://localhost:8080/"
    },
    "id": "b_5ozOWCg-54",
    "outputId": "98a186ca-af73-45c4-d32d-a13a6da9c999"
   },
   "outputs": [
    {
     "name": "stdout",
     "output_type": "stream",
     "text": [
      "1468\n",
      "time: 5.13 ms (started: 2022-03-22 15:46:31 +01:00)\n"
     ]
    }
   ],
   "source": [
    "# use random dimension selection\n",
    "\n",
    "random_antonym_vector = [i for i in range(len(antonymy_vector))]\n",
    "random.shuffle(random_antonym_vector)\n",
    "print(len(random_antonym_vector))"
   ]
  },
  {
   "cell_type": "code",
   "execution_count": 19,
   "metadata": {
    "colab": {
     "base_uri": "https://localhost:8080/"
    },
    "id": "L2kA8B8-hvzy",
    "outputId": "cfb00670-01e5-45c4-fea0-fe9a5144797e"
   },
   "outputs": [
    {
     "name": "stdout",
     "output_type": "stream",
     "text": [
      "time: 1.93 ms (started: 2022-03-22 15:46:34 +01:00)\n"
     ]
    }
   ],
   "source": [
    "def transform_to_antonym_space(current_model, output_file_path, binary, current_antonymy_vector_inverse):\n",
    "    embedding_size = current_antonymy_vector_inverse.shape[0]   ##CHANGE THIS ACCORDINGLY!!!\n",
    "    print('New model size is',len(current_model.vocab), embedding_size)\n",
    "\n",
    "    temp_file = None\n",
    "    \n",
    "    if binary:\n",
    "        temp_file = open(output_file_path,'wb')\n",
    "        temp_file.write(str.encode(str(len(current_model.vocab))+' '+str(embedding_size)+'\\n'))\n",
    "    else:\n",
    "        temp_file = open(output_file_path,'w')\n",
    "        temp_file.write(str(len(current_model.vocab))+' '+str(embedding_size)+'\\n')\n",
    "\n",
    "    total_words = 0\n",
    "    for each_word in tqdm(current_model.vocab):\n",
    "        total_words += 1\n",
    "        if binary:\n",
    "            temp_file.write(str.encode(each_word+' '))\n",
    "        else:\n",
    "            temp_file.write(each_word+' ')\n",
    "\n",
    "        new_vector = np.matmul(current_antonymy_vector_inverse,current_model[each_word])\n",
    "\n",
    "        new_vector = new_vector/linalg.norm(new_vector)\n",
    "\n",
    "        \n",
    "        \n",
    "        if binary:\n",
    "            temp_file.write(new_vector)\n",
    "            temp_file.write(str.encode('\\n'))\n",
    "        else:\n",
    "            temp_file.write(str(new_vector))\n",
    "            temp_file.write('\\n')\n",
    "\n",
    "\n",
    "    temp_file.close()"
   ]
  },
  {
   "cell_type": "code",
   "execution_count": 20,
   "metadata": {
    "colab": {
     "base_uri": "https://localhost:8080/"
    },
    "id": "2fAtZ2TAiAue",
    "outputId": "d79eee31-5592-4842-851c-c8ac451a25e0"
   },
   "outputs": [
    {
     "name": "stdout",
     "output_type": "stream",
     "text": [
      "time: 1.66 ms (started: 2022-03-22 15:46:39 +01:00)\n"
     ]
    }
   ],
   "source": [
    "def standard_normal_dist_model(model, new_filename):\n",
    "    embedding_matrix = []\n",
    "    embedding_vocab = []\n",
    "\n",
    "    temp_file = open(new_filename,'wb')\n",
    "    temp_file.write(str.encode(str(model.vectors.shape[0])+' '+str(model.vectors.shape[1])+'\\n'))\n",
    "    \n",
    "    for each_word in tqdm(model.vocab):\n",
    "        embedding_matrix.append(model[each_word])\n",
    "        embedding_vocab.append(each_word)\n",
    "    \n",
    "    embedding_matrix = np.array(embedding_matrix)\n",
    "    \n",
    "    print('The shape of embedding matrix is {}'.format(embedding_matrix.shape))\n",
    "    \n",
    "    norm_embedding_matrix = (embedding_matrix - embedding_matrix.mean(0))/ embedding_matrix.std(0)\n",
    "    \n",
    "    for word_counter, each_word in enumerate(tqdm(embedding_vocab)):\n",
    "#         assert each_word==embedding_vocab[word_counter],'Not matching!!!'\n",
    "        \n",
    "        temp_file.write(str.encode(each_word+' '))\n",
    "        new_vector = norm_embedding_matrix[word_counter]\n",
    "        temp_file.write(new_vector)\n",
    "        temp_file.write(str.encode('\\n'))\n",
    "        \n",
    "    del embedding_matrix\n",
    "    del embedding_vocab\n",
    "    temp_file.close()"
   ]
  },
  {
   "cell_type": "code",
   "execution_count": 21,
   "metadata": {
    "colab": {
     "base_uri": "https://localhost:8080/"
    },
    "id": "lJIZU3HJiEEY",
    "outputId": "9277581d-c7a8-4d3f-b91d-57ed93be9b42"
   },
   "outputs": [
    {
     "name": "stdout",
     "output_type": "stream",
     "text": [
      "time: 745 µs (started: 2022-03-22 15:46:46 +01:00)\n"
     ]
    }
   ],
   "source": [
    "def generate_embedding_path(current_model, embedding_path, binary, antonym_vector, curr_dim):\n",
    "    curr_antonym_vector = antonymy_vector[antonym_vector[:curr_dim]]\n",
    "    curr_antonymy_vector_inverse = np.linalg.pinv(np.transpose(curr_antonym_vector))\n",
    "    new_embedding_dict = transform_to_antonym_space(current_model, embedding_path, binary,curr_antonymy_vector_inverse)\n",
    "\n",
    "    return new_embedding_dict"
   ]
  },
  {
   "cell_type": "code",
   "execution_count": 22,
   "metadata": {
    "colab": {
     "base_uri": "https://localhost:8080/"
    },
    "id": "NqC27wILiGNX",
    "outputId": "75c31329-f091-4dc5-d56a-1b1b924ef066"
   },
   "outputs": [
    {
     "name": "stdout",
     "output_type": "stream",
     "text": [
      "time: 1.76 ms (started: 2022-03-22 15:46:50 +01:00)\n"
     ]
    }
   ],
   "source": [
    "import subprocess\n",
    "dim_size = 500 # Number of POLAR dimenions\n",
    "antonym_vector_method = random_antonym_vector # orthogonal_antonymy_vector, variance_antonymy_vector"
   ]
  },
  {
   "cell_type": "code",
   "execution_count": 26,
   "metadata": {
    "colab": {
     "base_uri": "https://localhost:8080/"
    },
    "id": "KiPcCHxrit9O",
    "outputId": "2fdee41d-8387-4e8e-afdf-7dd472d8abde"
   },
   "outputs": [
    {
     "name": "stdout",
     "output_type": "stream",
     "text": [
      "time: 13.7 ms (started: 2022-03-22 15:57:39 +01:00)\n"
     ]
    }
   ],
   "source": [
    "import pandas as pd"
   ]
  },
  {
   "cell_type": "code",
   "execution_count": 27,
   "metadata": {
    "colab": {
     "base_uri": "https://localhost:8080/"
    },
    "id": "3-lvKZaGmdjM",
    "outputId": "425e0045-bbb7-4e66-c932-940939f64895"
   },
   "outputs": [
    {
     "name": "stdout",
     "output_type": "stream",
     "text": [
      "time: 120 ms (started: 2022-03-22 15:57:40 +01:00)\n"
     ]
    }
   ],
   "source": [
    "company = pd.read_csv('/Users/stjepankusenic/POLAR_WEBE/data/interim/glove-ticker-fortune1000-us.csv')\n",
    "ticker_list = company['Ticker'].str.lower()\n"
   ]
  },
  {
   "cell_type": "code",
   "execution_count": 28,
   "metadata": {
    "colab": {
     "base_uri": "https://localhost:8080/"
    },
    "id": "ydzPSrjkmlWw",
    "outputId": "aaa29721-1c1e-4d3f-e13e-b8e0bc409d0a"
   },
   "outputs": [
    {
     "name": "stdout",
     "output_type": "stream",
     "text": [
      "time: 591 ms (started: 2022-03-22 15:57:42 +01:00)\n"
     ]
    }
   ],
   "source": [
    "ticker_word_embedding = dict()\n",
    "for ticker in ticker_list:\n",
    "  ticker_word_embedding[ticker] = current_model[ticker]"
   ]
  },
  {
   "cell_type": "code",
   "execution_count": 29,
   "metadata": {
    "colab": {
     "base_uri": "https://localhost:8080/"
    },
    "id": "v8FYzh0kmtD1",
    "outputId": "d99c6cbb-51a1-4453-c32f-c2b73fffc66c"
   },
   "outputs": [
    {
     "name": "stdout",
     "output_type": "stream",
     "text": [
      "time: 3.45 ms (started: 2022-03-22 15:57:48 +01:00)\n"
     ]
    }
   ],
   "source": [
    "def transform_to_antonym_space(current_model, output_file_path, binary, current_antonymy_vector_inverse):\n",
    "\n",
    "    temp_dict = dict()\n",
    "\n",
    "    embedding_size = current_antonymy_vector_inverse.shape[0]   ##CHANGE THIS ACCORDINGLY!!!\n",
    "    print('New model size is',len(current_model), embedding_size)\n",
    "\n",
    "    temp_file = None\n",
    "    \n",
    "    if binary:\n",
    "        temp_file = open(output_file_path,'wb')\n",
    "        temp_file.write(str.encode(str(len(current_model))+' '+str(embedding_size)+'\\n'))\n",
    "    else:\n",
    "        temp_file = open(output_file_path,'w')\n",
    "        temp_file.write(str(len(current_model))+' '+str(embedding_size)+'\\n')\n",
    "\n",
    "    total_words = 0\n",
    "    for each_word in tqdm(current_model):\n",
    "        total_words += 1\n",
    "        if binary:\n",
    "            temp_file.write(str.encode(each_word+' '))\n",
    "        else:\n",
    "            temp_file.write(each_word+' ')\n",
    "\n",
    "        new_vector = np.matmul(current_antonymy_vector_inverse,current_model[each_word])\n",
    "\n",
    "        new_vector = new_vector/linalg.norm(new_vector)\n",
    "        temp_dict[each_word] = new_vector\n",
    "        \n",
    "        if binary:\n",
    "            temp_file.write(new_vector)\n",
    "            temp_file.write(str.encode('\\n'))\n",
    "        else:\n",
    "            temp_file.write(str(new_vector))\n",
    "            temp_file.write('\\n')\n",
    "\n",
    "\n",
    "    temp_file.close()\n",
    "    return temp_dict"
   ]
  },
  {
   "cell_type": "code",
   "execution_count": 30,
   "metadata": {
    "colab": {
     "base_uri": "https://localhost:8080/",
     "height": 140,
     "referenced_widgets": [
      "011770e647314aa2b5311d5c83d29824",
      "e58411214a7644ccb3af4f4ee5e86e85",
      "00c259b8c4a34779ac80243e98191088",
      "d1ff4316be104b868f19776dc03ecd00",
      "80b47ec9bd944f69bfa8e1e9b7dd9220",
      "7b3cd462ca78410dbf4a4814988fdd58",
      "9624f068c88d4ab2955b9cbb4d042842",
      "17ccda25ecf5445b9815943b1d6e8a3a",
      "5e421b42c7c345af862a3ee8e91c7f54",
      "cbd66f805ab14849a0ec1692f1779e43",
      "0e069d90eab74975a1a468dfda72c35d"
     ]
    },
    "id": "MEpTsjOunpiQ",
    "outputId": "dc0cbf73-034b-4acd-85b1-c95236980e8a"
   },
   "outputs": [
    {
     "name": "stdout",
     "output_type": "stream",
     "text": [
      "New model size is 892 500\n"
     ]
    },
    {
     "name": "stderr",
     "output_type": "stream",
     "text": [
      "/var/folders/xy/yfm2dhtj3jvfy85hqy16wmk00000gn/T/ipykernel_98626/2921753199.py:18: TqdmDeprecationWarning: This function will be removed in tqdm==5.0.0\n",
      "Please use `tqdm.notebook.tqdm` instead of `tqdm.tqdm_notebook`\n",
      "  for each_word in tqdm(current_model):\n"
     ]
    },
    {
     "data": {
      "application/vnd.jupyter.widget-view+json": {
       "model_id": "307997371f224291b86273d49524c840",
       "version_major": 2,
       "version_minor": 0
      },
      "text/plain": [
       "  0%|          | 0/892 [00:00<?, ?it/s]"
      ]
     },
     "metadata": {},
     "output_type": "display_data"
    },
    {
     "name": "stdout",
     "output_type": "stream",
     "text": [
      "time: 407 ms (started: 2022-03-22 15:57:55 +01:00)\n"
     ]
    }
   ],
   "source": [
    "ticker_new_embedding = generate_embedding_path(ticker_word_embedding, 'test_run',True ,random_antonym_vector,500)"
   ]
  },
  {
   "cell_type": "code",
   "execution_count": 31,
   "metadata": {
    "colab": {
     "base_uri": "https://localhost:8080/"
    },
    "id": "iKwLdpclpTgB",
    "outputId": "9f20d783-34c6-46e7-d211-a42c57105b1b"
   },
   "outputs": [
    {
     "data": {
      "text/plain": [
       "('convict', 'pardon')"
      ]
     },
     "execution_count": 31,
     "metadata": {},
     "output_type": "execute_result"
    },
    {
     "name": "stdout",
     "output_type": "stream",
     "text": [
      "time: 51.3 ms (started: 2022-03-22 15:58:08 +01:00)\n"
     ]
    }
   ],
   "source": [
    "list_antonym[random_antonym_vector[0]]"
   ]
  },
  {
   "cell_type": "code",
   "execution_count": 32,
   "metadata": {
    "colab": {
     "base_uri": "https://localhost:8080/"
    },
    "id": "LNCt9ZqvpUU_",
    "outputId": "c6187bfd-3e4a-43df-9be8-503806cb816a"
   },
   "outputs": [
    {
     "data": {
      "text/plain": [
       "dict_keys(['wmt', 'amzn', 'xom', 'aapl', 'cvs', 'brka', 'unh', 'mck', 't', 'abc', 'googl', 'f', 'ci', 'cost', 'cvx', 'cah', 'jpm', 'gm', 'wba', 'vz', 'msft', 'mpc', 'kr', 'fnma', 'bac', 'hd', 'psx', 'cmcsa', 'antm', 'wfc', 'c', 'vlo', 'ge', 'dell', 'jnj', 'tgt', 'ibm', 'rtx', 'ba', 'fmcc', 'cnc', 'ups', 'low', 'intc', 'fb', 'fdx', 'met', 'dis', 'pg', 'pep', 'hum', 'pru', 'adm', 'aci', 'syy', 'lmt', 'hpq', 'et', 'gs', 'ms', 'cat', 'csco', 'pfe', 'hca', 'aig', 'axp', 'dal', 'mrk', 'aal', 'chtr', 'all', 'bby', 'ual', 'dow', 'tsn', 'tjx', 'orcl', 'gd', 'de', 'nke', 'pgr', 'ko', 'tecd', 'int', 'hon', 'cop', 'exc', 'noc', 'cof', 'pagp', 'abbv', 'epd', 'mmm', 'abt', 'trv', 'pm', 'hpe', 'arw', 'viac', 'dg', 'usb', 'sbux', 'bmy', 'mdlz', 'pcar', 'tmo', 'm', 'jbl', 'khc', 'duk', 'tsla', 'pbf', 'qcom', 'ngl', 'cbre', 'bkr', 'snx', 'dltr', 'cmi', 'unfi', 'mu', 'amgn', 'pag', 'v', 'avgo', 'nue', 'gild', 'luv', 'hal', 'lumn', 'ip', 'lly', 'afl', 'len', 'oxy', 'unp', 'rad', 'pnc', 'dd', 'so', 'an', 'dxc', 'mcd', 'mar', 'man', 'bk', 'hig', 'dhr', 'whr', 'acm', 'nflx', 'kss', 'lea', 'mo', 'avt', 'syf', 'gpc', 'nee', 'kmx', 'thc', 'kmb', 'emr', 'wrk', 'cdw', 'jll', 'shw', 'flr', 'dhi', 'hfc', 'ten', 'eog', 'bdx', 'lnc', 'pcg', 'crm', 'ma', 'gis', 'moh', 'ctsh', 'mmc', 'xpo', 'd', 'wdc', 'gps', 'pfg', 'rost', 'cl', 'aep', 'jwn', 'j', 'wm', 'chrw', 'ppg', 'omc', 'l', 'ecl', 'syk', 'el', 'gt', 'tfc', 'amat', 'blk', 'swk', 'fcx', 'txn', 'biib', 'ph', 'rga', 'hwm', 'adp', 'uber', 'itw', 'dva', 'dfs', 'vfc', 'ctva', 'lvs', 'txt', 'k', 'core', 'cyh', 'kmi', 'bj', 'stt', 'amp', 'glp', 'x', 'lb', 'mgm', 'lhx', 'dish', 'lad', 'dte', 'ed', 'lkq', 'sre', 'eix', 'cnp', 'pwr', 'musa', 'expe', 'gpi', 'bbby', 'unm', 'csx', 'azo', 'vst', 'schw', 'cck', 'ally', 'lh', 'lyv', 'xel', 'glw', 'gww', 'bll', 'foxa', 'uhs', 'bax', 'nsc', 'nav', 'adbe', 'jcp', 'disca', 'kdp', 'ldos', 'iqv', 'rs', 'nvda', 'etr', 'fe', 'ebay', 'bsx', 'odp', 'tap', 'stld', 'sah', 'aa', 'fis', 'hsic', 'rsg', 'ipg', 'phm', 'aes', 'fisv', 'bwa', 'oke', 'orly', 'aiz', 'nwl', 'peg', 'nwsa', 'mhk', 'pvh', 'cpb', 'nrg', 'fitb', 'htz', 'atus', 'nem', 'lng', 'aap', 'lrcx', 'omi', 'cag', 'mkl', 'hrl', 'hlt', 'uri', 'pxd', 'dk', 'emn', 'eme', 'car', 'jbht', 'xrx', 'w', 'kkr', 'agco', 'y', 'iep', 'voya', 'r', 'apd', 'mos', 'hii', 'bery', 'alk', 'dks', 'gnw', 'trgp', 'coty', 'dan', 'alv', 'sptn', 'es', 'dri', 'nov', 'fnf', 'osk', 'casy', 'wcc', 'tsco', 'comm', 'hun', 'afg', 'mas', 'sanm', 'aph', 'wmb', 'wab', 'expd', 'ande', 'wlk', 'stz', 'jblu', 'cfg', 'rjf', 'fl', 'hsy', 'zbh', 'cinf', 'wrb', 'msi', 'tho', 'regn', 'spr', 'sjm', 'ppl', 'nsit', 'dgx', 'key', 'dcp', 'amt', 'wec', 'nvr', 'ulta', 'dvn', 'bx', 'ftv', 'ugi', 'burl', 'bldr', 'tol', 'ori', 'abg', 'ajg', 'mtz', 'oc', 'mgln', 'dov', 'becn', 'avy', 'hbi', 'pkg', 'mtb', 'ncr', 'ntrs', 'ctas', 'pii', 'cms', 'seb', 'intu', 'rf', 'amd', 'ovv', 'bah', 'rok', 'oi', 'wynn', 'ads', 'wy', 'bhf', 'ice', 'axl', 'hes', 'abm', 'atvi', 'gme', 'apa', 'saic', 'dds', 'rl', 'ce', 'rrd', 'zts', 'asna', 'clx', 'ingr', 'faf', 'gpk', 'ntap', 'ta', 'oln', 'rhi', 'avtr', 'tpr', 'adi', 'aee', 'wsm', 'cmc', 'ben', 'fbhs', 'levi', 'cci', 'spg', 'cern', 'post', 'hban', 'kbr', 'sfm', 'lpla', 'trow', 'yum', 'cmg', 'pdco', 'rpm', 'eqix', 'navi', 'cc', 'on', 'tdg', 'hst', 'sem', 'parr', 'son', 'rop', 'hog', 'jef', 'kelya', 'mchp', 'mkc', 'mdu', 'fast', 'big', 'penn', 'wu', 'uaa', 'xyl', 'skx', 'ufs', 'ni', 'mro', 'tds', 'a', 'ame', 'iff', 'adt', 'well', 'mik', 'h', 'alxn', 'rezi', 'caci', 'ea', 'vmc', 'ths', 'gpn', 'thg', 'cwh', 'cnr', 'yell', 'cme', 'knx', 'mco', 'coke', 'csl', 'see', 'wso', 'iac', 'leg', 'omf', 'sndr', 'mlm', 'has', 'sq', 'tex', 'fmc', 'bcc', 'ssnc', 'clr', 'btu', 'ehc', 'gef', 'hubb', 'cf', 'klac', 'gen', 'bc', 'kbh', 'gl', 'mat', 'ryi', 'slgn', 'zbra', 'isrg', 'wmg', 'tpc', 'jnpr', 'vrt', 'eqt', 'ufpi', 'dbd', 'ar', 'mtor', 'br', 'chd', 'vac', 'ew', 'cfx', 'nsp', 'aeo', 'keys', 'jeld', 'irm', 'ndaq', 'it', 'sbgi', 'mnst', 'mur', 'vrtx', 'frc', 'spb', 'quad', 'flo', 'ati', 'odfl', 'lstr', 'anat', 'sna', 'bkd', 'amkr', 'wynd', 'ppd', 'xray', 'cno', 'urbn', 'sabr', 'mcy', 'fang', 'psn', 'aan', 'fls', 'asgn', 'sbh', 'scsc', 'vtr', 'tnet', 'save', 'cma', 'lii', 'tkr', 'payx', 'uhal', 'wor', 'lw', 'laur', 'bco', 'ayi', 'hubg', 'mth', 'mrc', 'lnt', 'wday', 'anf', 'dpz', 'lyft', 'mdp', 'awk', 'alb', 'cien', 'wmk', 'ilmn', 'sivb', 'cri', 'sf', 'md', 'efx', 'kar', 'ash', 'srlp', 'smci', 'dbi', 'pbi', 'ait', 'pnw', 'ael', 'now', 'twtr', 'clmt', 'scs', 'safm', 'clh', 'sgms', 'gva', 'cg', 'swks', 'gts', 'holx', 'tgi', 'dar', 'msm', 'snps', 'pol', 'dy', 'cbt', 'pld', 'byd', 'bfb', 'srcl', 'cit', 'mdc', 'hy', 'cr', 'cnk', 'adsk', 'trmb', 'gtx', 'zion', 'rbc', 'sci', 'var', 'psmt', 'eat', 'dlr', 'pool', 'plxs', 'tdy', 'giii', 'smg', 'apo', 'ttc', 'swx', 'gms', 'cps', 'achc', 'ttek', 'prim', 'tpx', 'hrb', 'tph', 'cbrl', 'elan', 'prah', 'fslr', 'amcx', 'xlnx', 'gpre', 'colm', 'nxst', 'swn', 'gbx', 'ctxs', 'mtd', 'trn', 'leco', 'aos', 'arcb', 'skyw', 'bxp', 'midd', 'dnow', 'uis', 'vc', 'ghc', 'rfp', 'cal', 'agnc', 'hrc', 'moga', 'ato', 'wwd', 'panw', 'ful', 'akam', 'mms', 'pki', 'he', 'ksu', 'atr', 'psa', 'sigi', 'itt', 'dci', 'pk', 'kex', 'ha', 'bpop', 'rrc', 'ens', 'hp', 'vmi', 'pae', 'txrh', 'ctb', 'eeft', 'zg', 'aaww', 'enr', 'mmp', 'hain', 'eqr', 'alsn', 'clny', 'ttmi', 'cco', 'ges', 'rcii', 'ttwo', 'vsh', 'tru', 'coo', 'flt', 'rh', 'regi', 'bxc', 'crc', 'bld', 'crl', 'fix', 'vrsk', 'rmd', 'tfx', 'njr', 'nrz', 'ibkr', 'mlhr', 'go', 'ccs', 'czr', 'ctlt', 'itri', 'mho', 'cboe', 'iex', 'bdc', 'cw', 'cake', 'gel', 'geo', 'pten', 'wern', 'ir', 'vrs', 'mli', 'nus', 'rev', 'anet', 'idxx', 'algn', 'wat', 'snv', 'bv', 'bro', 'vvv', 'cent', 'crs', 'slm', 'kmt', 'lcii', 'tbi', 'xec', 'splk', 'site', 'hxl', 'fcn', 'prty', 'patk', 'cdns', 'cdk', 'avb', 'wnc', 'svc', 'mxim', 'pbct', 'bio', 'lpx', 'tgna', 'ter', 'arch', 'epam', 'amr', 'ensg', 'fhn', 'www', 'mtn', 'bhe', 'hni', 'ffiv', 'amg', 'oge', 'uvv', 'bokf', 'mant', 'sum', 'amn', 'grpn', 'fosl', 'mod', 'gff', 'gnrc', 'matx', 'gco', 'ndsn', 'neu', 'echo', 'rxn', 'incy', 'ftnt', 'fbm', 'air', 'ctrc', 'epc', 'schn', 'por', 'gtn', 'bgcp', 'sats', 'bzh', 'lhcg', 'serv', 'brkr', 'oas', 'capl', 'vsat', 'gnc', 'cog', 'bfam', 'vsto', 'hei', 'wh', 'tcf', 'pri', 'pump', 'oii', 'fnd', 'cprt', 'chs', 'bned', 'maxr', 'evr', 'deck', 'expr', 'hov', 'al', 'rol', 'sbac', 'dlx', 'coop', 'hri', 'peak', 'flow'])"
      ]
     },
     "execution_count": 32,
     "metadata": {},
     "output_type": "execute_result"
    },
    {
     "name": "stdout",
     "output_type": "stream",
     "text": [
      "time: 4.63 ms (started: 2022-03-22 15:58:10 +01:00)\n"
     ]
    }
   ],
   "source": [
    "ticker_new_embedding.keys()"
   ]
  },
  {
   "cell_type": "code",
   "execution_count": 33,
   "metadata": {
    "colab": {
     "base_uri": "https://localhost:8080/"
    },
    "id": "79JrIgBIpfhC",
    "outputId": "fda48a68-6133-431b-8b7c-9312e5a2ec0f"
   },
   "outputs": [
    {
     "data": {
      "text/plain": [
       "0.023439674"
      ]
     },
     "execution_count": 33,
     "metadata": {},
     "output_type": "execute_result"
    },
    {
     "name": "stdout",
     "output_type": "stream",
     "text": [
      "time: 6.81 ms (started: 2022-03-22 15:58:14 +01:00)\n"
     ]
    }
   ],
   "source": [
    "ticker_new_embedding['amzn'][0]"
   ]
  },
  {
   "cell_type": "code",
   "execution_count": 34,
   "metadata": {
    "colab": {
     "base_uri": "https://localhost:8080/"
    },
    "id": "7HB2G7BfqW_o",
    "outputId": "80dbf405-c98f-416c-b725-84b2d55dfe09"
   },
   "outputs": [
    {
     "name": "stdout",
     "output_type": "stream",
     "text": [
      "time: 5.14 ms (started: 2022-03-22 15:58:16 +01:00)\n"
     ]
    }
   ],
   "source": [
    "antonym_500 = [list_antonym[x] for x in random_antonym_vector[:500]]"
   ]
  },
  {
   "cell_type": "code",
   "execution_count": 35,
   "metadata": {
    "colab": {
     "base_uri": "https://localhost:8080/"
    },
    "id": "KFkDAfJ0qhe1",
    "outputId": "6376ad73-e922-41e9-f931-4dad7e68ffd9"
   },
   "outputs": [
    {
     "data": {
      "text/plain": [
       "('convict', 'pardon')"
      ]
     },
     "execution_count": 35,
     "metadata": {},
     "output_type": "execute_result"
    },
    {
     "name": "stdout",
     "output_type": "stream",
     "text": [
      "time: 3.99 ms (started: 2022-03-22 15:58:18 +01:00)\n"
     ]
    }
   ],
   "source": [
    "antonym_500[0]"
   ]
  },
  {
   "cell_type": "code",
   "execution_count": 36,
   "metadata": {
    "colab": {
     "base_uri": "https://localhost:8080/"
    },
    "id": "PfgCKlL2q19M",
    "outputId": "093cd22f-2e27-481a-bcb8-555e076b299c"
   },
   "outputs": [
    {
     "name": "stdout",
     "output_type": "stream",
     "text": [
      "time: 1.59 ms (started: 2022-03-22 15:58:26 +01:00)\n"
     ]
    }
   ],
   "source": [
    "def make_polar_dict(company_name, antonym, embedding, top_n = False, n = 10):\n",
    "  temp_dict = dict()\n",
    "  temp_polar = embedding[company_name]\n",
    "\n",
    "  if top_n:\n",
    "    idx = np.argsort([abs(x) for x in temp_polar])[-n:]\n",
    "    for i in idx:\n",
    "      print(antonym[i],temp_polar[i],'\\n')\n",
    "\n",
    "\n",
    "  if len(antonym) == len(temp_polar):\n",
    "    for a in range(len(antonym)):\n",
    "      temp_dict[antonym[a]] = temp_polar[a]\n",
    "    return temp_dict\n",
    "\n",
    "\n"
   ]
  },
  {
   "cell_type": "code",
   "execution_count": 37,
   "metadata": {
    "colab": {
     "base_uri": "https://localhost:8080/"
    },
    "id": "XUxbsrNQrPrG",
    "outputId": "d6b1125d-01f3-41d7-a76e-487540447a75"
   },
   "outputs": [
    {
     "name": "stdout",
     "output_type": "stream",
     "text": [
      "('impossible', 'probable') -0.10476119 \n",
      "\n",
      "('distribution', 'hoarding') -0.10681351 \n",
      "\n",
      "('hail', 'snow') -0.10899254 \n",
      "\n",
      "('loathe', 'pine') 0.10918275 \n",
      "\n",
      "('kill', 'reanimate') 0.11325264 \n",
      "\n",
      "('sidewalk', 'street') -0.11691613 \n",
      "\n",
      "('school', 'work') -0.12668113 \n",
      "\n",
      "('apple', 'tomato') 0.13062127 \n",
      "\n",
      "('practice', 'theory') 0.13276422 \n",
      "\n",
      "('we', 'you') 0.14179388 \n",
      "\n",
      "time: 5.95 ms (started: 2022-03-22 15:58:27 +01:00)\n"
     ]
    }
   ],
   "source": [
    "jpm_polar = make_polar_dict('jpm', antonym_500, ticker_new_embedding, True)"
   ]
  },
  {
   "cell_type": "code",
   "execution_count": 38,
   "metadata": {
    "colab": {
     "base_uri": "https://localhost:8080/"
    },
    "id": "PbBT5upWsLIg",
    "outputId": "ee8bf18d-b642-40c5-eb7b-3a2e282197aa"
   },
   "outputs": [
    {
     "name": "stdout",
     "output_type": "stream",
     "text": [
      "('lop', 'secure') -0.100378804 \n",
      "\n",
      "('mate', 'split') -0.10372001 \n",
      "\n",
      "('cell', 'freedom') -0.109427296 \n",
      "\n",
      "('handle', 'spout') -0.11193576 \n",
      "\n",
      "('breathless', 'pulmonary') 0.1210895 \n",
      "\n",
      "('dash', 'dot') -0.122882806 \n",
      "\n",
      "('relax', 'toil') -0.12576643 \n",
      "\n",
      "('impossible', 'probable') -0.13877329 \n",
      "\n",
      "('loathe', 'pine') 0.15112714 \n",
      "\n",
      "('apple', 'tomato') 0.20126188 \n",
      "\n",
      "time: 18.8 ms (started: 2022-03-22 17:13:02 +01:00)\n"
     ]
    }
   ],
   "source": [
    "amzn_polar = make_polar_dict('amzn', antonym_500, ticker_new_embedding, True)"
   ]
  },
  {
   "cell_type": "code",
   "execution_count": null,
   "metadata": {
    "colab": {
     "base_uri": "https://localhost:8080/"
    },
    "id": "gXqlXK0At2Ce",
    "outputId": "1815335f-3329-4b96-b3a8-33ff55d80d1b"
   },
   "outputs": [],
   "source": [
    "wmt_polar = make_polar_dict('wmt', antonym_500, ticker_new_embedding, True)"
   ]
  },
  {
   "cell_type": "code",
   "execution_count": null,
   "metadata": {
    "colab": {
     "base_uri": "https://localhost:8080/"
    },
    "id": "yBNA8eZct-6V",
    "outputId": "9969c8ab-e69e-42a5-fbfe-85367e397c4b"
   },
   "outputs": [],
   "source": [
    "fb_polar = make_polar_dict('fb', antonym_500, ticker_new_embedding, True)"
   ]
  },
  {
   "cell_type": "code",
   "execution_count": null,
   "metadata": {
    "colab": {
     "base_uri": "https://localhost:8080/"
    },
    "id": "b-2diOQsuOIU",
    "outputId": "5f627b37-2a28-442b-fe7e-65dfecf5efce"
   },
   "outputs": [],
   "source": [
    "wfc_polar = make_polar_dict('wfc', antonym_500, ticker_new_embedding, True) # wells fargo"
   ]
  },
  {
   "cell_type": "code",
   "execution_count": null,
   "metadata": {
    "id": "ri2wRHvzu58Q"
   },
   "outputs": [],
   "source": []
  }
 ],
 "metadata": {
  "accelerator": "GPU",
  "colab": {
   "name": "POLAR.ipynb",
   "provenance": []
  },
  "kernelspec": {
   "display_name": "Python 3 (ipykernel)",
   "language": "python",
   "name": "python3"
  },
  "language_info": {
   "codemirror_mode": {
    "name": "ipython",
    "version": 3
   },
   "file_extension": ".py",
   "mimetype": "text/x-python",
   "name": "python",
   "nbconvert_exporter": "python",
   "pygments_lexer": "ipython3",
   "version": "3.9.5"
  },
  "widgets": {
   "application/vnd.jupyter.widget-state+json": {
    "00c259b8c4a34779ac80243e98191088": {
     "model_module": "@jupyter-widgets/controls",
     "model_module_version": "1.5.0",
     "model_name": "FloatProgressModel",
     "state": {
      "_dom_classes": [],
      "_model_module": "@jupyter-widgets/controls",
      "_model_module_version": "1.5.0",
      "_model_name": "FloatProgressModel",
      "_view_count": null,
      "_view_module": "@jupyter-widgets/controls",
      "_view_module_version": "1.5.0",
      "_view_name": "ProgressView",
      "bar_style": "success",
      "description": "",
      "description_tooltip": null,
      "layout": "IPY_MODEL_17ccda25ecf5445b9815943b1d6e8a3a",
      "max": 892,
      "min": 0,
      "orientation": "horizontal",
      "style": "IPY_MODEL_5e421b42c7c345af862a3ee8e91c7f54",
      "value": 892
     }
    },
    "011770e647314aa2b5311d5c83d29824": {
     "model_module": "@jupyter-widgets/controls",
     "model_module_version": "1.5.0",
     "model_name": "HBoxModel",
     "state": {
      "_dom_classes": [],
      "_model_module": "@jupyter-widgets/controls",
      "_model_module_version": "1.5.0",
      "_model_name": "HBoxModel",
      "_view_count": null,
      "_view_module": "@jupyter-widgets/controls",
      "_view_module_version": "1.5.0",
      "_view_name": "HBoxView",
      "box_style": "",
      "children": [
       "IPY_MODEL_e58411214a7644ccb3af4f4ee5e86e85",
       "IPY_MODEL_00c259b8c4a34779ac80243e98191088",
       "IPY_MODEL_d1ff4316be104b868f19776dc03ecd00"
      ],
      "layout": "IPY_MODEL_80b47ec9bd944f69bfa8e1e9b7dd9220"
     }
    },
    "0af2fe8e8ccf47e482be50c604ebd08f": {
     "model_module": "@jupyter-widgets/base",
     "model_module_version": "1.2.0",
     "model_name": "LayoutModel",
     "state": {
      "_model_module": "@jupyter-widgets/base",
      "_model_module_version": "1.2.0",
      "_model_name": "LayoutModel",
      "_view_count": null,
      "_view_module": "@jupyter-widgets/base",
      "_view_module_version": "1.2.0",
      "_view_name": "LayoutView",
      "align_content": null,
      "align_items": null,
      "align_self": null,
      "border": null,
      "bottom": null,
      "display": null,
      "flex": null,
      "flex_flow": null,
      "grid_area": null,
      "grid_auto_columns": null,
      "grid_auto_flow": null,
      "grid_auto_rows": null,
      "grid_column": null,
      "grid_gap": null,
      "grid_row": null,
      "grid_template_areas": null,
      "grid_template_columns": null,
      "grid_template_rows": null,
      "height": null,
      "justify_content": null,
      "justify_items": null,
      "left": null,
      "margin": null,
      "max_height": null,
      "max_width": null,
      "min_height": null,
      "min_width": null,
      "object_fit": null,
      "object_position": null,
      "order": null,
      "overflow": null,
      "overflow_x": null,
      "overflow_y": null,
      "padding": null,
      "right": null,
      "top": null,
      "visibility": null,
      "width": null
     }
    },
    "0e069d90eab74975a1a468dfda72c35d": {
     "model_module": "@jupyter-widgets/controls",
     "model_module_version": "1.5.0",
     "model_name": "DescriptionStyleModel",
     "state": {
      "_model_module": "@jupyter-widgets/controls",
      "_model_module_version": "1.5.0",
      "_model_name": "DescriptionStyleModel",
      "_view_count": null,
      "_view_module": "@jupyter-widgets/base",
      "_view_module_version": "1.2.0",
      "_view_name": "StyleView",
      "description_width": ""
     }
    },
    "12a5725e75054af5b0ff15eb3c26d151": {
     "model_module": "@jupyter-widgets/controls",
     "model_module_version": "1.5.0",
     "model_name": "HTMLModel",
     "state": {
      "_dom_classes": [],
      "_model_module": "@jupyter-widgets/controls",
      "_model_module_version": "1.5.0",
      "_model_name": "HTMLModel",
      "_view_count": null,
      "_view_module": "@jupyter-widgets/controls",
      "_view_module_version": "1.5.0",
      "_view_name": "HTMLView",
      "description": "",
      "description_tooltip": null,
      "layout": "IPY_MODEL_346372f4ff004fe48bdd91a732e8bbea",
      "placeholder": "​",
      "style": "IPY_MODEL_a50debed57c54cb28d2025ce778d51f3",
      "value": " 1468/1468 [00:00&lt;00:00, 18391.07it/s]"
     }
    },
    "17ccda25ecf5445b9815943b1d6e8a3a": {
     "model_module": "@jupyter-widgets/base",
     "model_module_version": "1.2.0",
     "model_name": "LayoutModel",
     "state": {
      "_model_module": "@jupyter-widgets/base",
      "_model_module_version": "1.2.0",
      "_model_name": "LayoutModel",
      "_view_count": null,
      "_view_module": "@jupyter-widgets/base",
      "_view_module_version": "1.2.0",
      "_view_name": "LayoutView",
      "align_content": null,
      "align_items": null,
      "align_self": null,
      "border": null,
      "bottom": null,
      "display": null,
      "flex": null,
      "flex_flow": null,
      "grid_area": null,
      "grid_auto_columns": null,
      "grid_auto_flow": null,
      "grid_auto_rows": null,
      "grid_column": null,
      "grid_gap": null,
      "grid_row": null,
      "grid_template_areas": null,
      "grid_template_columns": null,
      "grid_template_rows": null,
      "height": null,
      "justify_content": null,
      "justify_items": null,
      "left": null,
      "margin": null,
      "max_height": null,
      "max_width": null,
      "min_height": null,
      "min_width": null,
      "object_fit": null,
      "object_position": null,
      "order": null,
      "overflow": null,
      "overflow_x": null,
      "overflow_y": null,
      "padding": null,
      "right": null,
      "top": null,
      "visibility": null,
      "width": null
     }
    },
    "1a343519090a4268866a97fec3737de8": {
     "model_module": "@jupyter-widgets/controls",
     "model_module_version": "1.5.0",
     "model_name": "FloatProgressModel",
     "state": {
      "_dom_classes": [],
      "_model_module": "@jupyter-widgets/controls",
      "_model_module_version": "1.5.0",
      "_model_name": "FloatProgressModel",
      "_view_count": null,
      "_view_module": "@jupyter-widgets/controls",
      "_view_module_version": "1.5.0",
      "_view_name": "ProgressView",
      "bar_style": "success",
      "description": "",
      "description_tooltip": null,
      "layout": "IPY_MODEL_8422c48119514320a80155cbc56d6917",
      "max": 892,
      "min": 0,
      "orientation": "horizontal",
      "style": "IPY_MODEL_82a7324279074b14a5ac7ed468790055",
      "value": 892
     }
    },
    "1a722488e6d04bc8af5451e216774dd1": {
     "model_module": "@jupyter-widgets/controls",
     "model_module_version": "1.5.0",
     "model_name": "FloatProgressModel",
     "state": {
      "_dom_classes": [],
      "_model_module": "@jupyter-widgets/controls",
      "_model_module_version": "1.5.0",
      "_model_name": "FloatProgressModel",
      "_view_count": null,
      "_view_module": "@jupyter-widgets/controls",
      "_view_module_version": "1.5.0",
      "_view_name": "ProgressView",
      "bar_style": "success",
      "description": "",
      "description_tooltip": null,
      "layout": "IPY_MODEL_b7581b74690545b2a80789f42f1adcee",
      "max": 1468,
      "min": 0,
      "orientation": "horizontal",
      "style": "IPY_MODEL_76842ee579ad4083a2be84bc338b86a5",
      "value": 1468
     }
    },
    "1a94b24301184a369d125ef25bbe6086": {
     "model_module": "@jupyter-widgets/base",
     "model_module_version": "1.2.0",
     "model_name": "LayoutModel",
     "state": {
      "_model_module": "@jupyter-widgets/base",
      "_model_module_version": "1.2.0",
      "_model_name": "LayoutModel",
      "_view_count": null,
      "_view_module": "@jupyter-widgets/base",
      "_view_module_version": "1.2.0",
      "_view_name": "LayoutView",
      "align_content": null,
      "align_items": null,
      "align_self": null,
      "border": null,
      "bottom": null,
      "display": null,
      "flex": null,
      "flex_flow": null,
      "grid_area": null,
      "grid_auto_columns": null,
      "grid_auto_flow": null,
      "grid_auto_rows": null,
      "grid_column": null,
      "grid_gap": null,
      "grid_row": null,
      "grid_template_areas": null,
      "grid_template_columns": null,
      "grid_template_rows": null,
      "height": null,
      "justify_content": null,
      "justify_items": null,
      "left": null,
      "margin": null,
      "max_height": null,
      "max_width": null,
      "min_height": null,
      "min_width": null,
      "object_fit": null,
      "object_position": null,
      "order": null,
      "overflow": null,
      "overflow_x": null,
      "overflow_y": null,
      "padding": null,
      "right": null,
      "top": null,
      "visibility": null,
      "width": null
     }
    },
    "205ec4f3367747e391bcfff57a73f950": {
     "model_module": "@jupyter-widgets/controls",
     "model_module_version": "1.5.0",
     "model_name": "ProgressStyleModel",
     "state": {
      "_model_module": "@jupyter-widgets/controls",
      "_model_module_version": "1.5.0",
      "_model_name": "ProgressStyleModel",
      "_view_count": null,
      "_view_module": "@jupyter-widgets/base",
      "_view_module_version": "1.2.0",
      "_view_name": "StyleView",
      "bar_color": null,
      "description_width": ""
     }
    },
    "2321d33a09d446bda2647f7730595493": {
     "model_module": "@jupyter-widgets/controls",
     "model_module_version": "1.5.0",
     "model_name": "HBoxModel",
     "state": {
      "_dom_classes": [],
      "_model_module": "@jupyter-widgets/controls",
      "_model_module_version": "1.5.0",
      "_model_name": "HBoxModel",
      "_view_count": null,
      "_view_module": "@jupyter-widgets/controls",
      "_view_module_version": "1.5.0",
      "_view_name": "HBoxView",
      "box_style": "",
      "children": [
       "IPY_MODEL_91ac1a8bafe84bd685854f907ca936f0",
       "IPY_MODEL_2998098d1dbf40a6b469a1376ab3cc0a",
       "IPY_MODEL_817401136352496aa938e7fe491caf38"
      ],
      "layout": "IPY_MODEL_4d7e347315104d96a7738e519d2690b0"
     }
    },
    "2998098d1dbf40a6b469a1376ab3cc0a": {
     "model_module": "@jupyter-widgets/controls",
     "model_module_version": "1.5.0",
     "model_name": "FloatProgressModel",
     "state": {
      "_dom_classes": [],
      "_model_module": "@jupyter-widgets/controls",
      "_model_module_version": "1.5.0",
      "_model_name": "FloatProgressModel",
      "_view_count": null,
      "_view_module": "@jupyter-widgets/controls",
      "_view_module_version": "1.5.0",
      "_view_name": "ProgressView",
      "bar_style": "success",
      "description": "",
      "description_tooltip": null,
      "layout": "IPY_MODEL_407a07ead08f4dc68a5ea4d7b7863389",
      "max": 1468,
      "min": 0,
      "orientation": "horizontal",
      "style": "IPY_MODEL_ccb7f75901184cd19bd1031791df6477",
      "value": 1468
     }
    },
    "2b010c04aa2940d0bb5e3afcf2e8461c": {
     "model_module": "@jupyter-widgets/controls",
     "model_module_version": "1.5.0",
     "model_name": "HTMLModel",
     "state": {
      "_dom_classes": [],
      "_model_module": "@jupyter-widgets/controls",
      "_model_module_version": "1.5.0",
      "_model_name": "HTMLModel",
      "_view_count": null,
      "_view_module": "@jupyter-widgets/controls",
      "_view_module_version": "1.5.0",
      "_view_name": "HTMLView",
      "description": "",
      "description_tooltip": null,
      "layout": "IPY_MODEL_9cc76b745b0c4a4fad0c5044a6cfd75b",
      "placeholder": "​",
      "style": "IPY_MODEL_3b89098b313e4cd3aa334915fefc7292",
      "value": "100%"
     }
    },
    "2bf3ff8f2d8e4490aea130a72e77d4ee": {
     "model_module": "@jupyter-widgets/controls",
     "model_module_version": "1.5.0",
     "model_name": "HBoxModel",
     "state": {
      "_dom_classes": [],
      "_model_module": "@jupyter-widgets/controls",
      "_model_module_version": "1.5.0",
      "_model_name": "HBoxModel",
      "_view_count": null,
      "_view_module": "@jupyter-widgets/controls",
      "_view_module_version": "1.5.0",
      "_view_name": "HBoxView",
      "box_style": "",
      "children": [
       "IPY_MODEL_2b010c04aa2940d0bb5e3afcf2e8461c",
       "IPY_MODEL_1a343519090a4268866a97fec3737de8",
       "IPY_MODEL_c8bbed0a22544ad8a049e0bba249b663"
      ],
      "layout": "IPY_MODEL_f27b69c2e13a458787f5f2c97a9f03d5"
     }
    },
    "2f7ce595c5a74de196d3857e89f7e272": {
     "model_module": "@jupyter-widgets/controls",
     "model_module_version": "1.5.0",
     "model_name": "DescriptionStyleModel",
     "state": {
      "_model_module": "@jupyter-widgets/controls",
      "_model_module_version": "1.5.0",
      "_model_name": "DescriptionStyleModel",
      "_view_count": null,
      "_view_module": "@jupyter-widgets/base",
      "_view_module_version": "1.2.0",
      "_view_name": "StyleView",
      "description_width": ""
     }
    },
    "311e632c8d614cbcb5b5cf981299fa8f": {
     "model_module": "@jupyter-widgets/controls",
     "model_module_version": "1.5.0",
     "model_name": "HTMLModel",
     "state": {
      "_dom_classes": [],
      "_model_module": "@jupyter-widgets/controls",
      "_model_module_version": "1.5.0",
      "_model_name": "HTMLModel",
      "_view_count": null,
      "_view_module": "@jupyter-widgets/controls",
      "_view_module_version": "1.5.0",
      "_view_name": "HTMLView",
      "description": "",
      "description_tooltip": null,
      "layout": "IPY_MODEL_781ce3e070ce423baba3f3aba863f53d",
      "placeholder": "​",
      "style": "IPY_MODEL_2f7ce595c5a74de196d3857e89f7e272",
      "value": " 1917494/1917494 [00:51&lt;00:00, 36010.23it/s]"
     }
    },
    "346372f4ff004fe48bdd91a732e8bbea": {
     "model_module": "@jupyter-widgets/base",
     "model_module_version": "1.2.0",
     "model_name": "LayoutModel",
     "state": {
      "_model_module": "@jupyter-widgets/base",
      "_model_module_version": "1.2.0",
      "_model_name": "LayoutModel",
      "_view_count": null,
      "_view_module": "@jupyter-widgets/base",
      "_view_module_version": "1.2.0",
      "_view_name": "LayoutView",
      "align_content": null,
      "align_items": null,
      "align_self": null,
      "border": null,
      "bottom": null,
      "display": null,
      "flex": null,
      "flex_flow": null,
      "grid_area": null,
      "grid_auto_columns": null,
      "grid_auto_flow": null,
      "grid_auto_rows": null,
      "grid_column": null,
      "grid_gap": null,
      "grid_row": null,
      "grid_template_areas": null,
      "grid_template_columns": null,
      "grid_template_rows": null,
      "height": null,
      "justify_content": null,
      "justify_items": null,
      "left": null,
      "margin": null,
      "max_height": null,
      "max_width": null,
      "min_height": null,
      "min_width": null,
      "object_fit": null,
      "object_position": null,
      "order": null,
      "overflow": null,
      "overflow_x": null,
      "overflow_y": null,
      "padding": null,
      "right": null,
      "top": null,
      "visibility": null,
      "width": null
     }
    },
    "3986bcf715204ac49949b466fa3a4097": {
     "model_module": "@jupyter-widgets/base",
     "model_module_version": "1.2.0",
     "model_name": "LayoutModel",
     "state": {
      "_model_module": "@jupyter-widgets/base",
      "_model_module_version": "1.2.0",
      "_model_name": "LayoutModel",
      "_view_count": null,
      "_view_module": "@jupyter-widgets/base",
      "_view_module_version": "1.2.0",
      "_view_name": "LayoutView",
      "align_content": null,
      "align_items": null,
      "align_self": null,
      "border": null,
      "bottom": null,
      "display": null,
      "flex": null,
      "flex_flow": null,
      "grid_area": null,
      "grid_auto_columns": null,
      "grid_auto_flow": null,
      "grid_auto_rows": null,
      "grid_column": null,
      "grid_gap": null,
      "grid_row": null,
      "grid_template_areas": null,
      "grid_template_columns": null,
      "grid_template_rows": null,
      "height": null,
      "justify_content": null,
      "justify_items": null,
      "left": null,
      "margin": null,
      "max_height": null,
      "max_width": null,
      "min_height": null,
      "min_width": null,
      "object_fit": null,
      "object_position": null,
      "order": null,
      "overflow": null,
      "overflow_x": null,
      "overflow_y": null,
      "padding": null,
      "right": null,
      "top": null,
      "visibility": null,
      "width": null
     }
    },
    "3b89098b313e4cd3aa334915fefc7292": {
     "model_module": "@jupyter-widgets/controls",
     "model_module_version": "1.5.0",
     "model_name": "DescriptionStyleModel",
     "state": {
      "_model_module": "@jupyter-widgets/controls",
      "_model_module_version": "1.5.0",
      "_model_name": "DescriptionStyleModel",
      "_view_count": null,
      "_view_module": "@jupyter-widgets/base",
      "_view_module_version": "1.2.0",
      "_view_name": "StyleView",
      "description_width": ""
     }
    },
    "3b95f59332434b9e9e9ceccafb122259": {
     "model_module": "@jupyter-widgets/controls",
     "model_module_version": "1.5.0",
     "model_name": "ProgressStyleModel",
     "state": {
      "_model_module": "@jupyter-widgets/controls",
      "_model_module_version": "1.5.0",
      "_model_name": "ProgressStyleModel",
      "_view_count": null,
      "_view_module": "@jupyter-widgets/base",
      "_view_module_version": "1.2.0",
      "_view_name": "StyleView",
      "bar_color": null,
      "description_width": ""
     }
    },
    "407a07ead08f4dc68a5ea4d7b7863389": {
     "model_module": "@jupyter-widgets/base",
     "model_module_version": "1.2.0",
     "model_name": "LayoutModel",
     "state": {
      "_model_module": "@jupyter-widgets/base",
      "_model_module_version": "1.2.0",
      "_model_name": "LayoutModel",
      "_view_count": null,
      "_view_module": "@jupyter-widgets/base",
      "_view_module_version": "1.2.0",
      "_view_name": "LayoutView",
      "align_content": null,
      "align_items": null,
      "align_self": null,
      "border": null,
      "bottom": null,
      "display": null,
      "flex": null,
      "flex_flow": null,
      "grid_area": null,
      "grid_auto_columns": null,
      "grid_auto_flow": null,
      "grid_auto_rows": null,
      "grid_column": null,
      "grid_gap": null,
      "grid_row": null,
      "grid_template_areas": null,
      "grid_template_columns": null,
      "grid_template_rows": null,
      "height": null,
      "justify_content": null,
      "justify_items": null,
      "left": null,
      "margin": null,
      "max_height": null,
      "max_width": null,
      "min_height": null,
      "min_width": null,
      "object_fit": null,
      "object_position": null,
      "order": null,
      "overflow": null,
      "overflow_x": null,
      "overflow_y": null,
      "padding": null,
      "right": null,
      "top": null,
      "visibility": null,
      "width": null
     }
    },
    "414f581e0dfd46e48dedf8b067ccf3d5": {
     "model_module": "@jupyter-widgets/base",
     "model_module_version": "1.2.0",
     "model_name": "LayoutModel",
     "state": {
      "_model_module": "@jupyter-widgets/base",
      "_model_module_version": "1.2.0",
      "_model_name": "LayoutModel",
      "_view_count": null,
      "_view_module": "@jupyter-widgets/base",
      "_view_module_version": "1.2.0",
      "_view_name": "LayoutView",
      "align_content": null,
      "align_items": null,
      "align_self": null,
      "border": null,
      "bottom": null,
      "display": null,
      "flex": null,
      "flex_flow": null,
      "grid_area": null,
      "grid_auto_columns": null,
      "grid_auto_flow": null,
      "grid_auto_rows": null,
      "grid_column": null,
      "grid_gap": null,
      "grid_row": null,
      "grid_template_areas": null,
      "grid_template_columns": null,
      "grid_template_rows": null,
      "height": null,
      "justify_content": null,
      "justify_items": null,
      "left": null,
      "margin": null,
      "max_height": null,
      "max_width": null,
      "min_height": null,
      "min_width": null,
      "object_fit": null,
      "object_position": null,
      "order": null,
      "overflow": null,
      "overflow_x": null,
      "overflow_y": null,
      "padding": null,
      "right": null,
      "top": null,
      "visibility": null,
      "width": null
     }
    },
    "43338f8fc0af4dc3b04b5bd020123910": {
     "model_module": "@jupyter-widgets/controls",
     "model_module_version": "1.5.0",
     "model_name": "DescriptionStyleModel",
     "state": {
      "_model_module": "@jupyter-widgets/controls",
      "_model_module_version": "1.5.0",
      "_model_name": "DescriptionStyleModel",
      "_view_count": null,
      "_view_module": "@jupyter-widgets/base",
      "_view_module_version": "1.2.0",
      "_view_name": "StyleView",
      "description_width": ""
     }
    },
    "4d7e347315104d96a7738e519d2690b0": {
     "model_module": "@jupyter-widgets/base",
     "model_module_version": "1.2.0",
     "model_name": "LayoutModel",
     "state": {
      "_model_module": "@jupyter-widgets/base",
      "_model_module_version": "1.2.0",
      "_model_name": "LayoutModel",
      "_view_count": null,
      "_view_module": "@jupyter-widgets/base",
      "_view_module_version": "1.2.0",
      "_view_name": "LayoutView",
      "align_content": null,
      "align_items": null,
      "align_self": null,
      "border": null,
      "bottom": null,
      "display": null,
      "flex": null,
      "flex_flow": null,
      "grid_area": null,
      "grid_auto_columns": null,
      "grid_auto_flow": null,
      "grid_auto_rows": null,
      "grid_column": null,
      "grid_gap": null,
      "grid_row": null,
      "grid_template_areas": null,
      "grid_template_columns": null,
      "grid_template_rows": null,
      "height": null,
      "justify_content": null,
      "justify_items": null,
      "left": null,
      "margin": null,
      "max_height": null,
      "max_width": null,
      "min_height": null,
      "min_width": null,
      "object_fit": null,
      "object_position": null,
      "order": null,
      "overflow": null,
      "overflow_x": null,
      "overflow_y": null,
      "padding": null,
      "right": null,
      "top": null,
      "visibility": null,
      "width": null
     }
    },
    "4e9961aaac5b4e128761450c9c8c9805": {
     "model_module": "@jupyter-widgets/controls",
     "model_module_version": "1.5.0",
     "model_name": "DescriptionStyleModel",
     "state": {
      "_model_module": "@jupyter-widgets/controls",
      "_model_module_version": "1.5.0",
      "_model_name": "DescriptionStyleModel",
      "_view_count": null,
      "_view_module": "@jupyter-widgets/base",
      "_view_module_version": "1.2.0",
      "_view_name": "StyleView",
      "description_width": ""
     }
    },
    "51f942e782d0460291a8576ce612f1bd": {
     "model_module": "@jupyter-widgets/controls",
     "model_module_version": "1.5.0",
     "model_name": "HBoxModel",
     "state": {
      "_dom_classes": [],
      "_model_module": "@jupyter-widgets/controls",
      "_model_module_version": "1.5.0",
      "_model_name": "HBoxModel",
      "_view_count": null,
      "_view_module": "@jupyter-widgets/controls",
      "_view_module_version": "1.5.0",
      "_view_name": "HBoxView",
      "box_style": "",
      "children": [
       "IPY_MODEL_c02f4d4bbd484318a1869a7b42132e98",
       "IPY_MODEL_a8d1d791c71140c1973898e071ea4698",
       "IPY_MODEL_fd209af0fc254458bbf79ccb2c405bff"
      ],
      "layout": "IPY_MODEL_0af2fe8e8ccf47e482be50c604ebd08f"
     }
    },
    "541b76eb5f094d1791ea837ee3d766bc": {
     "model_module": "@jupyter-widgets/base",
     "model_module_version": "1.2.0",
     "model_name": "LayoutModel",
     "state": {
      "_model_module": "@jupyter-widgets/base",
      "_model_module_version": "1.2.0",
      "_model_name": "LayoutModel",
      "_view_count": null,
      "_view_module": "@jupyter-widgets/base",
      "_view_module_version": "1.2.0",
      "_view_name": "LayoutView",
      "align_content": null,
      "align_items": null,
      "align_self": null,
      "border": null,
      "bottom": null,
      "display": null,
      "flex": null,
      "flex_flow": null,
      "grid_area": null,
      "grid_auto_columns": null,
      "grid_auto_flow": null,
      "grid_auto_rows": null,
      "grid_column": null,
      "grid_gap": null,
      "grid_row": null,
      "grid_template_areas": null,
      "grid_template_columns": null,
      "grid_template_rows": null,
      "height": null,
      "justify_content": null,
      "justify_items": null,
      "left": null,
      "margin": null,
      "max_height": null,
      "max_width": null,
      "min_height": null,
      "min_width": null,
      "object_fit": null,
      "object_position": null,
      "order": null,
      "overflow": null,
      "overflow_x": null,
      "overflow_y": null,
      "padding": null,
      "right": null,
      "top": null,
      "visibility": null,
      "width": null
     }
    },
    "59cf9f59d38f4b97bae4aaaa62c89b67": {
     "model_module": "@jupyter-widgets/base",
     "model_module_version": "1.2.0",
     "model_name": "LayoutModel",
     "state": {
      "_model_module": "@jupyter-widgets/base",
      "_model_module_version": "1.2.0",
      "_model_name": "LayoutModel",
      "_view_count": null,
      "_view_module": "@jupyter-widgets/base",
      "_view_module_version": "1.2.0",
      "_view_name": "LayoutView",
      "align_content": null,
      "align_items": null,
      "align_self": null,
      "border": null,
      "bottom": null,
      "display": null,
      "flex": null,
      "flex_flow": null,
      "grid_area": null,
      "grid_auto_columns": null,
      "grid_auto_flow": null,
      "grid_auto_rows": null,
      "grid_column": null,
      "grid_gap": null,
      "grid_row": null,
      "grid_template_areas": null,
      "grid_template_columns": null,
      "grid_template_rows": null,
      "height": null,
      "justify_content": null,
      "justify_items": null,
      "left": null,
      "margin": null,
      "max_height": null,
      "max_width": null,
      "min_height": null,
      "min_width": null,
      "object_fit": null,
      "object_position": null,
      "order": null,
      "overflow": null,
      "overflow_x": null,
      "overflow_y": null,
      "padding": null,
      "right": null,
      "top": null,
      "visibility": null,
      "width": null
     }
    },
    "5e421b42c7c345af862a3ee8e91c7f54": {
     "model_module": "@jupyter-widgets/controls",
     "model_module_version": "1.5.0",
     "model_name": "ProgressStyleModel",
     "state": {
      "_model_module": "@jupyter-widgets/controls",
      "_model_module_version": "1.5.0",
      "_model_name": "ProgressStyleModel",
      "_view_count": null,
      "_view_module": "@jupyter-widgets/base",
      "_view_module_version": "1.2.0",
      "_view_name": "StyleView",
      "bar_color": null,
      "description_width": ""
     }
    },
    "6052211018ab4641ba4496d8c88c68e0": {
     "model_module": "@jupyter-widgets/controls",
     "model_module_version": "1.5.0",
     "model_name": "DescriptionStyleModel",
     "state": {
      "_model_module": "@jupyter-widgets/controls",
      "_model_module_version": "1.5.0",
      "_model_name": "DescriptionStyleModel",
      "_view_count": null,
      "_view_module": "@jupyter-widgets/base",
      "_view_module_version": "1.2.0",
      "_view_name": "StyleView",
      "description_width": ""
     }
    },
    "6250b36cc5c74e7b92165475e354a052": {
     "model_module": "@jupyter-widgets/base",
     "model_module_version": "1.2.0",
     "model_name": "LayoutModel",
     "state": {
      "_model_module": "@jupyter-widgets/base",
      "_model_module_version": "1.2.0",
      "_model_name": "LayoutModel",
      "_view_count": null,
      "_view_module": "@jupyter-widgets/base",
      "_view_module_version": "1.2.0",
      "_view_name": "LayoutView",
      "align_content": null,
      "align_items": null,
      "align_self": null,
      "border": null,
      "bottom": null,
      "display": null,
      "flex": null,
      "flex_flow": null,
      "grid_area": null,
      "grid_auto_columns": null,
      "grid_auto_flow": null,
      "grid_auto_rows": null,
      "grid_column": null,
      "grid_gap": null,
      "grid_row": null,
      "grid_template_areas": null,
      "grid_template_columns": null,
      "grid_template_rows": null,
      "height": null,
      "justify_content": null,
      "justify_items": null,
      "left": null,
      "margin": null,
      "max_height": null,
      "max_width": null,
      "min_height": null,
      "min_width": null,
      "object_fit": null,
      "object_position": null,
      "order": null,
      "overflow": null,
      "overflow_x": null,
      "overflow_y": null,
      "padding": null,
      "right": null,
      "top": null,
      "visibility": null,
      "width": null
     }
    },
    "67e4c9678af841628140bc269e72ec35": {
     "model_module": "@jupyter-widgets/controls",
     "model_module_version": "1.5.0",
     "model_name": "FloatProgressModel",
     "state": {
      "_dom_classes": [],
      "_model_module": "@jupyter-widgets/controls",
      "_model_module_version": "1.5.0",
      "_model_name": "FloatProgressModel",
      "_view_count": null,
      "_view_module": "@jupyter-widgets/controls",
      "_view_module_version": "1.5.0",
      "_view_name": "ProgressView",
      "bar_style": "success",
      "description": "",
      "description_tooltip": null,
      "layout": "IPY_MODEL_1a94b24301184a369d125ef25bbe6086",
      "max": 1468,
      "min": 0,
      "orientation": "horizontal",
      "style": "IPY_MODEL_b2ef8f618f12442cb8cf26703e5c449e",
      "value": 1468
     }
    },
    "6aeabd17c0f24fbf991c07d19cc7c551": {
     "model_module": "@jupyter-widgets/base",
     "model_module_version": "1.2.0",
     "model_name": "LayoutModel",
     "state": {
      "_model_module": "@jupyter-widgets/base",
      "_model_module_version": "1.2.0",
      "_model_name": "LayoutModel",
      "_view_count": null,
      "_view_module": "@jupyter-widgets/base",
      "_view_module_version": "1.2.0",
      "_view_name": "LayoutView",
      "align_content": null,
      "align_items": null,
      "align_self": null,
      "border": null,
      "bottom": null,
      "display": null,
      "flex": null,
      "flex_flow": null,
      "grid_area": null,
      "grid_auto_columns": null,
      "grid_auto_flow": null,
      "grid_auto_rows": null,
      "grid_column": null,
      "grid_gap": null,
      "grid_row": null,
      "grid_template_areas": null,
      "grid_template_columns": null,
      "grid_template_rows": null,
      "height": null,
      "justify_content": null,
      "justify_items": null,
      "left": null,
      "margin": null,
      "max_height": null,
      "max_width": null,
      "min_height": null,
      "min_width": null,
      "object_fit": null,
      "object_position": null,
      "order": null,
      "overflow": null,
      "overflow_x": null,
      "overflow_y": null,
      "padding": null,
      "right": null,
      "top": null,
      "visibility": null,
      "width": null
     }
    },
    "6e614fc2f3704579b545ff829aa17bb5": {
     "model_module": "@jupyter-widgets/controls",
     "model_module_version": "1.5.0",
     "model_name": "HBoxModel",
     "state": {
      "_dom_classes": [],
      "_model_module": "@jupyter-widgets/controls",
      "_model_module_version": "1.5.0",
      "_model_name": "HBoxModel",
      "_view_count": null,
      "_view_module": "@jupyter-widgets/controls",
      "_view_module_version": "1.5.0",
      "_view_name": "HBoxView",
      "box_style": "",
      "children": [
       "IPY_MODEL_d51f0dc428f74216ab498ac8eabc11e5",
       "IPY_MODEL_1a722488e6d04bc8af5451e216774dd1",
       "IPY_MODEL_12a5725e75054af5b0ff15eb3c26d151"
      ],
      "layout": "IPY_MODEL_77ddae69bfe940e992893031d4fd5626"
     }
    },
    "741fc3ff8d3f45abb4694b0b1a7719f0": {
     "model_module": "@jupyter-widgets/controls",
     "model_module_version": "1.5.0",
     "model_name": "HTMLModel",
     "state": {
      "_dom_classes": [],
      "_model_module": "@jupyter-widgets/controls",
      "_model_module_version": "1.5.0",
      "_model_name": "HTMLModel",
      "_view_count": null,
      "_view_module": "@jupyter-widgets/controls",
      "_view_module_version": "1.5.0",
      "_view_name": "HTMLView",
      "description": "",
      "description_tooltip": null,
      "layout": "IPY_MODEL_541b76eb5f094d1791ea837ee3d766bc",
      "placeholder": "​",
      "style": "IPY_MODEL_b1de71b603ff4c9c8b78e45dc10ac925",
      "value": "100%"
     }
    },
    "76842ee579ad4083a2be84bc338b86a5": {
     "model_module": "@jupyter-widgets/controls",
     "model_module_version": "1.5.0",
     "model_name": "ProgressStyleModel",
     "state": {
      "_model_module": "@jupyter-widgets/controls",
      "_model_module_version": "1.5.0",
      "_model_name": "ProgressStyleModel",
      "_view_count": null,
      "_view_module": "@jupyter-widgets/base",
      "_view_module_version": "1.2.0",
      "_view_name": "StyleView",
      "bar_color": null,
      "description_width": ""
     }
    },
    "77ddae69bfe940e992893031d4fd5626": {
     "model_module": "@jupyter-widgets/base",
     "model_module_version": "1.2.0",
     "model_name": "LayoutModel",
     "state": {
      "_model_module": "@jupyter-widgets/base",
      "_model_module_version": "1.2.0",
      "_model_name": "LayoutModel",
      "_view_count": null,
      "_view_module": "@jupyter-widgets/base",
      "_view_module_version": "1.2.0",
      "_view_name": "LayoutView",
      "align_content": null,
      "align_items": null,
      "align_self": null,
      "border": null,
      "bottom": null,
      "display": null,
      "flex": null,
      "flex_flow": null,
      "grid_area": null,
      "grid_auto_columns": null,
      "grid_auto_flow": null,
      "grid_auto_rows": null,
      "grid_column": null,
      "grid_gap": null,
      "grid_row": null,
      "grid_template_areas": null,
      "grid_template_columns": null,
      "grid_template_rows": null,
      "height": null,
      "justify_content": null,
      "justify_items": null,
      "left": null,
      "margin": null,
      "max_height": null,
      "max_width": null,
      "min_height": null,
      "min_width": null,
      "object_fit": null,
      "object_position": null,
      "order": null,
      "overflow": null,
      "overflow_x": null,
      "overflow_y": null,
      "padding": null,
      "right": null,
      "top": null,
      "visibility": null,
      "width": null
     }
    },
    "781ce3e070ce423baba3f3aba863f53d": {
     "model_module": "@jupyter-widgets/base",
     "model_module_version": "1.2.0",
     "model_name": "LayoutModel",
     "state": {
      "_model_module": "@jupyter-widgets/base",
      "_model_module_version": "1.2.0",
      "_model_name": "LayoutModel",
      "_view_count": null,
      "_view_module": "@jupyter-widgets/base",
      "_view_module_version": "1.2.0",
      "_view_name": "LayoutView",
      "align_content": null,
      "align_items": null,
      "align_self": null,
      "border": null,
      "bottom": null,
      "display": null,
      "flex": null,
      "flex_flow": null,
      "grid_area": null,
      "grid_auto_columns": null,
      "grid_auto_flow": null,
      "grid_auto_rows": null,
      "grid_column": null,
      "grid_gap": null,
      "grid_row": null,
      "grid_template_areas": null,
      "grid_template_columns": null,
      "grid_template_rows": null,
      "height": null,
      "justify_content": null,
      "justify_items": null,
      "left": null,
      "margin": null,
      "max_height": null,
      "max_width": null,
      "min_height": null,
      "min_width": null,
      "object_fit": null,
      "object_position": null,
      "order": null,
      "overflow": null,
      "overflow_x": null,
      "overflow_y": null,
      "padding": null,
      "right": null,
      "top": null,
      "visibility": null,
      "width": null
     }
    },
    "78ca1a27616b4d81b1c7f3bab431f588": {
     "model_module": "@jupyter-widgets/base",
     "model_module_version": "1.2.0",
     "model_name": "LayoutModel",
     "state": {
      "_model_module": "@jupyter-widgets/base",
      "_model_module_version": "1.2.0",
      "_model_name": "LayoutModel",
      "_view_count": null,
      "_view_module": "@jupyter-widgets/base",
      "_view_module_version": "1.2.0",
      "_view_name": "LayoutView",
      "align_content": null,
      "align_items": null,
      "align_self": null,
      "border": null,
      "bottom": null,
      "display": null,
      "flex": null,
      "flex_flow": null,
      "grid_area": null,
      "grid_auto_columns": null,
      "grid_auto_flow": null,
      "grid_auto_rows": null,
      "grid_column": null,
      "grid_gap": null,
      "grid_row": null,
      "grid_template_areas": null,
      "grid_template_columns": null,
      "grid_template_rows": null,
      "height": null,
      "justify_content": null,
      "justify_items": null,
      "left": null,
      "margin": null,
      "max_height": null,
      "max_width": null,
      "min_height": null,
      "min_width": null,
      "object_fit": null,
      "object_position": null,
      "order": null,
      "overflow": null,
      "overflow_x": null,
      "overflow_y": null,
      "padding": null,
      "right": null,
      "top": null,
      "visibility": null,
      "width": null
     }
    },
    "7b3cd462ca78410dbf4a4814988fdd58": {
     "model_module": "@jupyter-widgets/base",
     "model_module_version": "1.2.0",
     "model_name": "LayoutModel",
     "state": {
      "_model_module": "@jupyter-widgets/base",
      "_model_module_version": "1.2.0",
      "_model_name": "LayoutModel",
      "_view_count": null,
      "_view_module": "@jupyter-widgets/base",
      "_view_module_version": "1.2.0",
      "_view_name": "LayoutView",
      "align_content": null,
      "align_items": null,
      "align_self": null,
      "border": null,
      "bottom": null,
      "display": null,
      "flex": null,
      "flex_flow": null,
      "grid_area": null,
      "grid_auto_columns": null,
      "grid_auto_flow": null,
      "grid_auto_rows": null,
      "grid_column": null,
      "grid_gap": null,
      "grid_row": null,
      "grid_template_areas": null,
      "grid_template_columns": null,
      "grid_template_rows": null,
      "height": null,
      "justify_content": null,
      "justify_items": null,
      "left": null,
      "margin": null,
      "max_height": null,
      "max_width": null,
      "min_height": null,
      "min_width": null,
      "object_fit": null,
      "object_position": null,
      "order": null,
      "overflow": null,
      "overflow_x": null,
      "overflow_y": null,
      "padding": null,
      "right": null,
      "top": null,
      "visibility": null,
      "width": null
     }
    },
    "80b47ec9bd944f69bfa8e1e9b7dd9220": {
     "model_module": "@jupyter-widgets/base",
     "model_module_version": "1.2.0",
     "model_name": "LayoutModel",
     "state": {
      "_model_module": "@jupyter-widgets/base",
      "_model_module_version": "1.2.0",
      "_model_name": "LayoutModel",
      "_view_count": null,
      "_view_module": "@jupyter-widgets/base",
      "_view_module_version": "1.2.0",
      "_view_name": "LayoutView",
      "align_content": null,
      "align_items": null,
      "align_self": null,
      "border": null,
      "bottom": null,
      "display": null,
      "flex": null,
      "flex_flow": null,
      "grid_area": null,
      "grid_auto_columns": null,
      "grid_auto_flow": null,
      "grid_auto_rows": null,
      "grid_column": null,
      "grid_gap": null,
      "grid_row": null,
      "grid_template_areas": null,
      "grid_template_columns": null,
      "grid_template_rows": null,
      "height": null,
      "justify_content": null,
      "justify_items": null,
      "left": null,
      "margin": null,
      "max_height": null,
      "max_width": null,
      "min_height": null,
      "min_width": null,
      "object_fit": null,
      "object_position": null,
      "order": null,
      "overflow": null,
      "overflow_x": null,
      "overflow_y": null,
      "padding": null,
      "right": null,
      "top": null,
      "visibility": null,
      "width": null
     }
    },
    "817401136352496aa938e7fe491caf38": {
     "model_module": "@jupyter-widgets/controls",
     "model_module_version": "1.5.0",
     "model_name": "HTMLModel",
     "state": {
      "_dom_classes": [],
      "_model_module": "@jupyter-widgets/controls",
      "_model_module_version": "1.5.0",
      "_model_name": "HTMLModel",
      "_view_count": null,
      "_view_module": "@jupyter-widgets/controls",
      "_view_module_version": "1.5.0",
      "_view_name": "HTMLView",
      "description": "",
      "description_tooltip": null,
      "layout": "IPY_MODEL_6250b36cc5c74e7b92165475e354a052",
      "placeholder": "​",
      "style": "IPY_MODEL_da0fe6db69c94d7599f9d2306d20fd1d",
      "value": " 1468/1468 [00:03&lt;00:00, 627.40it/s]"
     }
    },
    "82a7324279074b14a5ac7ed468790055": {
     "model_module": "@jupyter-widgets/controls",
     "model_module_version": "1.5.0",
     "model_name": "ProgressStyleModel",
     "state": {
      "_model_module": "@jupyter-widgets/controls",
      "_model_module_version": "1.5.0",
      "_model_name": "ProgressStyleModel",
      "_view_count": null,
      "_view_module": "@jupyter-widgets/base",
      "_view_module_version": "1.2.0",
      "_view_name": "StyleView",
      "bar_color": null,
      "description_width": ""
     }
    },
    "8422c48119514320a80155cbc56d6917": {
     "model_module": "@jupyter-widgets/base",
     "model_module_version": "1.2.0",
     "model_name": "LayoutModel",
     "state": {
      "_model_module": "@jupyter-widgets/base",
      "_model_module_version": "1.2.0",
      "_model_name": "LayoutModel",
      "_view_count": null,
      "_view_module": "@jupyter-widgets/base",
      "_view_module_version": "1.2.0",
      "_view_name": "LayoutView",
      "align_content": null,
      "align_items": null,
      "align_self": null,
      "border": null,
      "bottom": null,
      "display": null,
      "flex": null,
      "flex_flow": null,
      "grid_area": null,
      "grid_auto_columns": null,
      "grid_auto_flow": null,
      "grid_auto_rows": null,
      "grid_column": null,
      "grid_gap": null,
      "grid_row": null,
      "grid_template_areas": null,
      "grid_template_columns": null,
      "grid_template_rows": null,
      "height": null,
      "justify_content": null,
      "justify_items": null,
      "left": null,
      "margin": null,
      "max_height": null,
      "max_width": null,
      "min_height": null,
      "min_width": null,
      "object_fit": null,
      "object_position": null,
      "order": null,
      "overflow": null,
      "overflow_x": null,
      "overflow_y": null,
      "padding": null,
      "right": null,
      "top": null,
      "visibility": null,
      "width": null
     }
    },
    "86101965873b4f3297a57d00ec7aaa06": {
     "model_module": "@jupyter-widgets/controls",
     "model_module_version": "1.5.0",
     "model_name": "HBoxModel",
     "state": {
      "_dom_classes": [],
      "_model_module": "@jupyter-widgets/controls",
      "_model_module_version": "1.5.0",
      "_model_name": "HBoxModel",
      "_view_count": null,
      "_view_module": "@jupyter-widgets/controls",
      "_view_module_version": "1.5.0",
      "_view_name": "HBoxView",
      "box_style": "",
      "children": [
       "IPY_MODEL_741fc3ff8d3f45abb4694b0b1a7719f0",
       "IPY_MODEL_bdb7b651ce1740bdb620190e6ad1329d",
       "IPY_MODEL_311e632c8d614cbcb5b5cf981299fa8f"
      ],
      "layout": "IPY_MODEL_969bba4632724a8fbbc222f2f9032178"
     }
    },
    "8baf2acdfc87474a8a72c2408017b783": {
     "model_module": "@jupyter-widgets/base",
     "model_module_version": "1.2.0",
     "model_name": "LayoutModel",
     "state": {
      "_model_module": "@jupyter-widgets/base",
      "_model_module_version": "1.2.0",
      "_model_name": "LayoutModel",
      "_view_count": null,
      "_view_module": "@jupyter-widgets/base",
      "_view_module_version": "1.2.0",
      "_view_name": "LayoutView",
      "align_content": null,
      "align_items": null,
      "align_self": null,
      "border": null,
      "bottom": null,
      "display": null,
      "flex": null,
      "flex_flow": null,
      "grid_area": null,
      "grid_auto_columns": null,
      "grid_auto_flow": null,
      "grid_auto_rows": null,
      "grid_column": null,
      "grid_gap": null,
      "grid_row": null,
      "grid_template_areas": null,
      "grid_template_columns": null,
      "grid_template_rows": null,
      "height": null,
      "justify_content": null,
      "justify_items": null,
      "left": null,
      "margin": null,
      "max_height": null,
      "max_width": null,
      "min_height": null,
      "min_width": null,
      "object_fit": null,
      "object_position": null,
      "order": null,
      "overflow": null,
      "overflow_x": null,
      "overflow_y": null,
      "padding": null,
      "right": null,
      "top": null,
      "visibility": null,
      "width": null
     }
    },
    "8c14e5795ac84d2bb408b2c462189984": {
     "model_module": "@jupyter-widgets/base",
     "model_module_version": "1.2.0",
     "model_name": "LayoutModel",
     "state": {
      "_model_module": "@jupyter-widgets/base",
      "_model_module_version": "1.2.0",
      "_model_name": "LayoutModel",
      "_view_count": null,
      "_view_module": "@jupyter-widgets/base",
      "_view_module_version": "1.2.0",
      "_view_name": "LayoutView",
      "align_content": null,
      "align_items": null,
      "align_self": null,
      "border": null,
      "bottom": null,
      "display": null,
      "flex": null,
      "flex_flow": null,
      "grid_area": null,
      "grid_auto_columns": null,
      "grid_auto_flow": null,
      "grid_auto_rows": null,
      "grid_column": null,
      "grid_gap": null,
      "grid_row": null,
      "grid_template_areas": null,
      "grid_template_columns": null,
      "grid_template_rows": null,
      "height": null,
      "justify_content": null,
      "justify_items": null,
      "left": null,
      "margin": null,
      "max_height": null,
      "max_width": null,
      "min_height": null,
      "min_width": null,
      "object_fit": null,
      "object_position": null,
      "order": null,
      "overflow": null,
      "overflow_x": null,
      "overflow_y": null,
      "padding": null,
      "right": null,
      "top": null,
      "visibility": null,
      "width": null
     }
    },
    "8db15249c50a46deb2d98afe1cff1917": {
     "model_module": "@jupyter-widgets/base",
     "model_module_version": "1.2.0",
     "model_name": "LayoutModel",
     "state": {
      "_model_module": "@jupyter-widgets/base",
      "_model_module_version": "1.2.0",
      "_model_name": "LayoutModel",
      "_view_count": null,
      "_view_module": "@jupyter-widgets/base",
      "_view_module_version": "1.2.0",
      "_view_name": "LayoutView",
      "align_content": null,
      "align_items": null,
      "align_self": null,
      "border": null,
      "bottom": null,
      "display": null,
      "flex": null,
      "flex_flow": null,
      "grid_area": null,
      "grid_auto_columns": null,
      "grid_auto_flow": null,
      "grid_auto_rows": null,
      "grid_column": null,
      "grid_gap": null,
      "grid_row": null,
      "grid_template_areas": null,
      "grid_template_columns": null,
      "grid_template_rows": null,
      "height": null,
      "justify_content": null,
      "justify_items": null,
      "left": null,
      "margin": null,
      "max_height": null,
      "max_width": null,
      "min_height": null,
      "min_width": null,
      "object_fit": null,
      "object_position": null,
      "order": null,
      "overflow": null,
      "overflow_x": null,
      "overflow_y": null,
      "padding": null,
      "right": null,
      "top": null,
      "visibility": null,
      "width": null
     }
    },
    "91ac1a8bafe84bd685854f907ca936f0": {
     "model_module": "@jupyter-widgets/controls",
     "model_module_version": "1.5.0",
     "model_name": "HTMLModel",
     "state": {
      "_dom_classes": [],
      "_model_module": "@jupyter-widgets/controls",
      "_model_module_version": "1.5.0",
      "_model_name": "HTMLModel",
      "_view_count": null,
      "_view_module": "@jupyter-widgets/controls",
      "_view_module_version": "1.5.0",
      "_view_name": "HTMLView",
      "description": "",
      "description_tooltip": null,
      "layout": "IPY_MODEL_6aeabd17c0f24fbf991c07d19cc7c551",
      "placeholder": "​",
      "style": "IPY_MODEL_43338f8fc0af4dc3b04b5bd020123910",
      "value": "100%"
     }
    },
    "9624f068c88d4ab2955b9cbb4d042842": {
     "model_module": "@jupyter-widgets/controls",
     "model_module_version": "1.5.0",
     "model_name": "DescriptionStyleModel",
     "state": {
      "_model_module": "@jupyter-widgets/controls",
      "_model_module_version": "1.5.0",
      "_model_name": "DescriptionStyleModel",
      "_view_count": null,
      "_view_module": "@jupyter-widgets/base",
      "_view_module_version": "1.2.0",
      "_view_name": "StyleView",
      "description_width": ""
     }
    },
    "969bba4632724a8fbbc222f2f9032178": {
     "model_module": "@jupyter-widgets/base",
     "model_module_version": "1.2.0",
     "model_name": "LayoutModel",
     "state": {
      "_model_module": "@jupyter-widgets/base",
      "_model_module_version": "1.2.0",
      "_model_name": "LayoutModel",
      "_view_count": null,
      "_view_module": "@jupyter-widgets/base",
      "_view_module_version": "1.2.0",
      "_view_name": "LayoutView",
      "align_content": null,
      "align_items": null,
      "align_self": null,
      "border": null,
      "bottom": null,
      "display": null,
      "flex": null,
      "flex_flow": null,
      "grid_area": null,
      "grid_auto_columns": null,
      "grid_auto_flow": null,
      "grid_auto_rows": null,
      "grid_column": null,
      "grid_gap": null,
      "grid_row": null,
      "grid_template_areas": null,
      "grid_template_columns": null,
      "grid_template_rows": null,
      "height": null,
      "justify_content": null,
      "justify_items": null,
      "left": null,
      "margin": null,
      "max_height": null,
      "max_width": null,
      "min_height": null,
      "min_width": null,
      "object_fit": null,
      "object_position": null,
      "order": null,
      "overflow": null,
      "overflow_x": null,
      "overflow_y": null,
      "padding": null,
      "right": null,
      "top": null,
      "visibility": null,
      "width": null
     }
    },
    "9cc76b745b0c4a4fad0c5044a6cfd75b": {
     "model_module": "@jupyter-widgets/base",
     "model_module_version": "1.2.0",
     "model_name": "LayoutModel",
     "state": {
      "_model_module": "@jupyter-widgets/base",
      "_model_module_version": "1.2.0",
      "_model_name": "LayoutModel",
      "_view_count": null,
      "_view_module": "@jupyter-widgets/base",
      "_view_module_version": "1.2.0",
      "_view_name": "LayoutView",
      "align_content": null,
      "align_items": null,
      "align_self": null,
      "border": null,
      "bottom": null,
      "display": null,
      "flex": null,
      "flex_flow": null,
      "grid_area": null,
      "grid_auto_columns": null,
      "grid_auto_flow": null,
      "grid_auto_rows": null,
      "grid_column": null,
      "grid_gap": null,
      "grid_row": null,
      "grid_template_areas": null,
      "grid_template_columns": null,
      "grid_template_rows": null,
      "height": null,
      "justify_content": null,
      "justify_items": null,
      "left": null,
      "margin": null,
      "max_height": null,
      "max_width": null,
      "min_height": null,
      "min_width": null,
      "object_fit": null,
      "object_position": null,
      "order": null,
      "overflow": null,
      "overflow_x": null,
      "overflow_y": null,
      "padding": null,
      "right": null,
      "top": null,
      "visibility": null,
      "width": null
     }
    },
    "a50debed57c54cb28d2025ce778d51f3": {
     "model_module": "@jupyter-widgets/controls",
     "model_module_version": "1.5.0",
     "model_name": "DescriptionStyleModel",
     "state": {
      "_model_module": "@jupyter-widgets/controls",
      "_model_module_version": "1.5.0",
      "_model_name": "DescriptionStyleModel",
      "_view_count": null,
      "_view_module": "@jupyter-widgets/base",
      "_view_module_version": "1.2.0",
      "_view_name": "StyleView",
      "description_width": ""
     }
    },
    "a8d1d791c71140c1973898e071ea4698": {
     "model_module": "@jupyter-widgets/controls",
     "model_module_version": "1.5.0",
     "model_name": "FloatProgressModel",
     "state": {
      "_dom_classes": [],
      "_model_module": "@jupyter-widgets/controls",
      "_model_module_version": "1.5.0",
      "_model_name": "FloatProgressModel",
      "_view_count": null,
      "_view_module": "@jupyter-widgets/controls",
      "_view_module_version": "1.5.0",
      "_view_name": "ProgressView",
      "bar_style": "success",
      "description": "",
      "description_tooltip": null,
      "layout": "IPY_MODEL_3986bcf715204ac49949b466fa3a4097",
      "max": 3110,
      "min": 0,
      "orientation": "horizontal",
      "style": "IPY_MODEL_205ec4f3367747e391bcfff57a73f950",
      "value": 3110
     }
    },
    "a91b60fb737a4bd6b784bba090c5a9dc": {
     "model_module": "@jupyter-widgets/base",
     "model_module_version": "1.2.0",
     "model_name": "LayoutModel",
     "state": {
      "_model_module": "@jupyter-widgets/base",
      "_model_module_version": "1.2.0",
      "_model_name": "LayoutModel",
      "_view_count": null,
      "_view_module": "@jupyter-widgets/base",
      "_view_module_version": "1.2.0",
      "_view_name": "LayoutView",
      "align_content": null,
      "align_items": null,
      "align_self": null,
      "border": null,
      "bottom": null,
      "display": null,
      "flex": null,
      "flex_flow": null,
      "grid_area": null,
      "grid_auto_columns": null,
      "grid_auto_flow": null,
      "grid_auto_rows": null,
      "grid_column": null,
      "grid_gap": null,
      "grid_row": null,
      "grid_template_areas": null,
      "grid_template_columns": null,
      "grid_template_rows": null,
      "height": null,
      "justify_content": null,
      "justify_items": null,
      "left": null,
      "margin": null,
      "max_height": null,
      "max_width": null,
      "min_height": null,
      "min_width": null,
      "object_fit": null,
      "object_position": null,
      "order": null,
      "overflow": null,
      "overflow_x": null,
      "overflow_y": null,
      "padding": null,
      "right": null,
      "top": null,
      "visibility": null,
      "width": null
     }
    },
    "a9e36ca2d8d640c1976bb5d2d9f4a00d": {
     "model_module": "@jupyter-widgets/controls",
     "model_module_version": "1.5.0",
     "model_name": "DescriptionStyleModel",
     "state": {
      "_model_module": "@jupyter-widgets/controls",
      "_model_module_version": "1.5.0",
      "_model_name": "DescriptionStyleModel",
      "_view_count": null,
      "_view_module": "@jupyter-widgets/base",
      "_view_module_version": "1.2.0",
      "_view_name": "StyleView",
      "description_width": ""
     }
    },
    "b037af607cd946d1b480b82a1ed39bea": {
     "model_module": "@jupyter-widgets/controls",
     "model_module_version": "1.5.0",
     "model_name": "DescriptionStyleModel",
     "state": {
      "_model_module": "@jupyter-widgets/controls",
      "_model_module_version": "1.5.0",
      "_model_name": "DescriptionStyleModel",
      "_view_count": null,
      "_view_module": "@jupyter-widgets/base",
      "_view_module_version": "1.2.0",
      "_view_name": "StyleView",
      "description_width": ""
     }
    },
    "b1de71b603ff4c9c8b78e45dc10ac925": {
     "model_module": "@jupyter-widgets/controls",
     "model_module_version": "1.5.0",
     "model_name": "DescriptionStyleModel",
     "state": {
      "_model_module": "@jupyter-widgets/controls",
      "_model_module_version": "1.5.0",
      "_model_name": "DescriptionStyleModel",
      "_view_count": null,
      "_view_module": "@jupyter-widgets/base",
      "_view_module_version": "1.2.0",
      "_view_name": "StyleView",
      "description_width": ""
     }
    },
    "b2ef8f618f12442cb8cf26703e5c449e": {
     "model_module": "@jupyter-widgets/controls",
     "model_module_version": "1.5.0",
     "model_name": "ProgressStyleModel",
     "state": {
      "_model_module": "@jupyter-widgets/controls",
      "_model_module_version": "1.5.0",
      "_model_name": "ProgressStyleModel",
      "_view_count": null,
      "_view_module": "@jupyter-widgets/base",
      "_view_module_version": "1.2.0",
      "_view_name": "StyleView",
      "bar_color": null,
      "description_width": ""
     }
    },
    "b7581b74690545b2a80789f42f1adcee": {
     "model_module": "@jupyter-widgets/base",
     "model_module_version": "1.2.0",
     "model_name": "LayoutModel",
     "state": {
      "_model_module": "@jupyter-widgets/base",
      "_model_module_version": "1.2.0",
      "_model_name": "LayoutModel",
      "_view_count": null,
      "_view_module": "@jupyter-widgets/base",
      "_view_module_version": "1.2.0",
      "_view_name": "LayoutView",
      "align_content": null,
      "align_items": null,
      "align_self": null,
      "border": null,
      "bottom": null,
      "display": null,
      "flex": null,
      "flex_flow": null,
      "grid_area": null,
      "grid_auto_columns": null,
      "grid_auto_flow": null,
      "grid_auto_rows": null,
      "grid_column": null,
      "grid_gap": null,
      "grid_row": null,
      "grid_template_areas": null,
      "grid_template_columns": null,
      "grid_template_rows": null,
      "height": null,
      "justify_content": null,
      "justify_items": null,
      "left": null,
      "margin": null,
      "max_height": null,
      "max_width": null,
      "min_height": null,
      "min_width": null,
      "object_fit": null,
      "object_position": null,
      "order": null,
      "overflow": null,
      "overflow_x": null,
      "overflow_y": null,
      "padding": null,
      "right": null,
      "top": null,
      "visibility": null,
      "width": null
     }
    },
    "bdb7b651ce1740bdb620190e6ad1329d": {
     "model_module": "@jupyter-widgets/controls",
     "model_module_version": "1.5.0",
     "model_name": "FloatProgressModel",
     "state": {
      "_dom_classes": [],
      "_model_module": "@jupyter-widgets/controls",
      "_model_module_version": "1.5.0",
      "_model_name": "FloatProgressModel",
      "_view_count": null,
      "_view_module": "@jupyter-widgets/controls",
      "_view_module_version": "1.5.0",
      "_view_name": "ProgressView",
      "bar_style": "success",
      "description": "",
      "description_tooltip": null,
      "layout": "IPY_MODEL_a91b60fb737a4bd6b784bba090c5a9dc",
      "max": 1917494,
      "min": 0,
      "orientation": "horizontal",
      "style": "IPY_MODEL_3b95f59332434b9e9e9ceccafb122259",
      "value": 1917494
     }
    },
    "c02f4d4bbd484318a1869a7b42132e98": {
     "model_module": "@jupyter-widgets/controls",
     "model_module_version": "1.5.0",
     "model_name": "HTMLModel",
     "state": {
      "_dom_classes": [],
      "_model_module": "@jupyter-widgets/controls",
      "_model_module_version": "1.5.0",
      "_model_name": "HTMLModel",
      "_view_count": null,
      "_view_module": "@jupyter-widgets/controls",
      "_view_module_version": "1.5.0",
      "_view_name": "HTMLView",
      "description": "",
      "description_tooltip": null,
      "layout": "IPY_MODEL_78ca1a27616b4d81b1c7f3bab431f588",
      "placeholder": "​",
      "style": "IPY_MODEL_a9e36ca2d8d640c1976bb5d2d9f4a00d",
      "value": "100%"
     }
    },
    "c8bbed0a22544ad8a049e0bba249b663": {
     "model_module": "@jupyter-widgets/controls",
     "model_module_version": "1.5.0",
     "model_name": "HTMLModel",
     "state": {
      "_dom_classes": [],
      "_model_module": "@jupyter-widgets/controls",
      "_model_module_version": "1.5.0",
      "_model_name": "HTMLModel",
      "_view_count": null,
      "_view_module": "@jupyter-widgets/controls",
      "_view_module_version": "1.5.0",
      "_view_name": "HTMLView",
      "description": "",
      "description_tooltip": null,
      "layout": "IPY_MODEL_414f581e0dfd46e48dedf8b067ccf3d5",
      "placeholder": "​",
      "style": "IPY_MODEL_e65c2fe162724dfcabb7539819016476",
      "value": " 892/892 [00:00&lt;00:00, 1899.15it/s]"
     }
    },
    "cbd66f805ab14849a0ec1692f1779e43": {
     "model_module": "@jupyter-widgets/base",
     "model_module_version": "1.2.0",
     "model_name": "LayoutModel",
     "state": {
      "_model_module": "@jupyter-widgets/base",
      "_model_module_version": "1.2.0",
      "_model_name": "LayoutModel",
      "_view_count": null,
      "_view_module": "@jupyter-widgets/base",
      "_view_module_version": "1.2.0",
      "_view_name": "LayoutView",
      "align_content": null,
      "align_items": null,
      "align_self": null,
      "border": null,
      "bottom": null,
      "display": null,
      "flex": null,
      "flex_flow": null,
      "grid_area": null,
      "grid_auto_columns": null,
      "grid_auto_flow": null,
      "grid_auto_rows": null,
      "grid_column": null,
      "grid_gap": null,
      "grid_row": null,
      "grid_template_areas": null,
      "grid_template_columns": null,
      "grid_template_rows": null,
      "height": null,
      "justify_content": null,
      "justify_items": null,
      "left": null,
      "margin": null,
      "max_height": null,
      "max_width": null,
      "min_height": null,
      "min_width": null,
      "object_fit": null,
      "object_position": null,
      "order": null,
      "overflow": null,
      "overflow_x": null,
      "overflow_y": null,
      "padding": null,
      "right": null,
      "top": null,
      "visibility": null,
      "width": null
     }
    },
    "ccb7f75901184cd19bd1031791df6477": {
     "model_module": "@jupyter-widgets/controls",
     "model_module_version": "1.5.0",
     "model_name": "ProgressStyleModel",
     "state": {
      "_model_module": "@jupyter-widgets/controls",
      "_model_module_version": "1.5.0",
      "_model_name": "ProgressStyleModel",
      "_view_count": null,
      "_view_module": "@jupyter-widgets/base",
      "_view_module_version": "1.2.0",
      "_view_name": "StyleView",
      "bar_color": null,
      "description_width": ""
     }
    },
    "cf0ed7175c274a30b2a10fb9e8ce4741": {
     "model_module": "@jupyter-widgets/controls",
     "model_module_version": "1.5.0",
     "model_name": "HBoxModel",
     "state": {
      "_dom_classes": [],
      "_model_module": "@jupyter-widgets/controls",
      "_model_module_version": "1.5.0",
      "_model_name": "HBoxModel",
      "_view_count": null,
      "_view_module": "@jupyter-widgets/controls",
      "_view_module_version": "1.5.0",
      "_view_name": "HBoxView",
      "box_style": "",
      "children": [
       "IPY_MODEL_d112d7dea7f7427486b46581c9b04e25",
       "IPY_MODEL_67e4c9678af841628140bc269e72ec35",
       "IPY_MODEL_db3e71bb16664217806b5c67cd176cf3"
      ],
      "layout": "IPY_MODEL_8db15249c50a46deb2d98afe1cff1917"
     }
    },
    "d112d7dea7f7427486b46581c9b04e25": {
     "model_module": "@jupyter-widgets/controls",
     "model_module_version": "1.5.0",
     "model_name": "HTMLModel",
     "state": {
      "_dom_classes": [],
      "_model_module": "@jupyter-widgets/controls",
      "_model_module_version": "1.5.0",
      "_model_name": "HTMLModel",
      "_view_count": null,
      "_view_module": "@jupyter-widgets/controls",
      "_view_module_version": "1.5.0",
      "_view_name": "HTMLView",
      "description": "",
      "description_tooltip": null,
      "layout": "IPY_MODEL_8c14e5795ac84d2bb408b2c462189984",
      "placeholder": "​",
      "style": "IPY_MODEL_6052211018ab4641ba4496d8c88c68e0",
      "value": "100%"
     }
    },
    "d1ff4316be104b868f19776dc03ecd00": {
     "model_module": "@jupyter-widgets/controls",
     "model_module_version": "1.5.0",
     "model_name": "HTMLModel",
     "state": {
      "_dom_classes": [],
      "_model_module": "@jupyter-widgets/controls",
      "_model_module_version": "1.5.0",
      "_model_name": "HTMLModel",
      "_view_count": null,
      "_view_module": "@jupyter-widgets/controls",
      "_view_module_version": "1.5.0",
      "_view_name": "HTMLView",
      "description": "",
      "description_tooltip": null,
      "layout": "IPY_MODEL_cbd66f805ab14849a0ec1692f1779e43",
      "placeholder": "​",
      "style": "IPY_MODEL_0e069d90eab74975a1a468dfda72c35d",
      "value": " 892/892 [00:00&lt;00:00, 512.56it/s]"
     }
    },
    "d51f0dc428f74216ab498ac8eabc11e5": {
     "model_module": "@jupyter-widgets/controls",
     "model_module_version": "1.5.0",
     "model_name": "HTMLModel",
     "state": {
      "_dom_classes": [],
      "_model_module": "@jupyter-widgets/controls",
      "_model_module_version": "1.5.0",
      "_model_name": "HTMLModel",
      "_view_count": null,
      "_view_module": "@jupyter-widgets/controls",
      "_view_module_version": "1.5.0",
      "_view_name": "HTMLView",
      "description": "",
      "description_tooltip": null,
      "layout": "IPY_MODEL_8baf2acdfc87474a8a72c2408017b783",
      "placeholder": "​",
      "style": "IPY_MODEL_ef7bed3866f141f780bd109fee51d023",
      "value": "100%"
     }
    },
    "da0fe6db69c94d7599f9d2306d20fd1d": {
     "model_module": "@jupyter-widgets/controls",
     "model_module_version": "1.5.0",
     "model_name": "DescriptionStyleModel",
     "state": {
      "_model_module": "@jupyter-widgets/controls",
      "_model_module_version": "1.5.0",
      "_model_name": "DescriptionStyleModel",
      "_view_count": null,
      "_view_module": "@jupyter-widgets/base",
      "_view_module_version": "1.2.0",
      "_view_name": "StyleView",
      "description_width": ""
     }
    },
    "db3e71bb16664217806b5c67cd176cf3": {
     "model_module": "@jupyter-widgets/controls",
     "model_module_version": "1.5.0",
     "model_name": "HTMLModel",
     "state": {
      "_dom_classes": [],
      "_model_module": "@jupyter-widgets/controls",
      "_model_module_version": "1.5.0",
      "_model_name": "HTMLModel",
      "_view_count": null,
      "_view_module": "@jupyter-widgets/controls",
      "_view_module_version": "1.5.0",
      "_view_name": "HTMLView",
      "description": "",
      "description_tooltip": null,
      "layout": "IPY_MODEL_59cf9f59d38f4b97bae4aaaa62c89b67",
      "placeholder": "​",
      "style": "IPY_MODEL_4e9961aaac5b4e128761450c9c8c9805",
      "value": " 1468/1468 [02:59&lt;00:00,  8.62it/s]"
     }
    },
    "e58411214a7644ccb3af4f4ee5e86e85": {
     "model_module": "@jupyter-widgets/controls",
     "model_module_version": "1.5.0",
     "model_name": "HTMLModel",
     "state": {
      "_dom_classes": [],
      "_model_module": "@jupyter-widgets/controls",
      "_model_module_version": "1.5.0",
      "_model_name": "HTMLModel",
      "_view_count": null,
      "_view_module": "@jupyter-widgets/controls",
      "_view_module_version": "1.5.0",
      "_view_name": "HTMLView",
      "description": "",
      "description_tooltip": null,
      "layout": "IPY_MODEL_7b3cd462ca78410dbf4a4814988fdd58",
      "placeholder": "​",
      "style": "IPY_MODEL_9624f068c88d4ab2955b9cbb4d042842",
      "value": "100%"
     }
    },
    "e65c2fe162724dfcabb7539819016476": {
     "model_module": "@jupyter-widgets/controls",
     "model_module_version": "1.5.0",
     "model_name": "DescriptionStyleModel",
     "state": {
      "_model_module": "@jupyter-widgets/controls",
      "_model_module_version": "1.5.0",
      "_model_name": "DescriptionStyleModel",
      "_view_count": null,
      "_view_module": "@jupyter-widgets/base",
      "_view_module_version": "1.2.0",
      "_view_name": "StyleView",
      "description_width": ""
     }
    },
    "ef7bed3866f141f780bd109fee51d023": {
     "model_module": "@jupyter-widgets/controls",
     "model_module_version": "1.5.0",
     "model_name": "DescriptionStyleModel",
     "state": {
      "_model_module": "@jupyter-widgets/controls",
      "_model_module_version": "1.5.0",
      "_model_name": "DescriptionStyleModel",
      "_view_count": null,
      "_view_module": "@jupyter-widgets/base",
      "_view_module_version": "1.2.0",
      "_view_name": "StyleView",
      "description_width": ""
     }
    },
    "f27b69c2e13a458787f5f2c97a9f03d5": {
     "model_module": "@jupyter-widgets/base",
     "model_module_version": "1.2.0",
     "model_name": "LayoutModel",
     "state": {
      "_model_module": "@jupyter-widgets/base",
      "_model_module_version": "1.2.0",
      "_model_name": "LayoutModel",
      "_view_count": null,
      "_view_module": "@jupyter-widgets/base",
      "_view_module_version": "1.2.0",
      "_view_name": "LayoutView",
      "align_content": null,
      "align_items": null,
      "align_self": null,
      "border": null,
      "bottom": null,
      "display": null,
      "flex": null,
      "flex_flow": null,
      "grid_area": null,
      "grid_auto_columns": null,
      "grid_auto_flow": null,
      "grid_auto_rows": null,
      "grid_column": null,
      "grid_gap": null,
      "grid_row": null,
      "grid_template_areas": null,
      "grid_template_columns": null,
      "grid_template_rows": null,
      "height": null,
      "justify_content": null,
      "justify_items": null,
      "left": null,
      "margin": null,
      "max_height": null,
      "max_width": null,
      "min_height": null,
      "min_width": null,
      "object_fit": null,
      "object_position": null,
      "order": null,
      "overflow": null,
      "overflow_x": null,
      "overflow_y": null,
      "padding": null,
      "right": null,
      "top": null,
      "visibility": null,
      "width": null
     }
    },
    "f3e0c2873add4df99c0fcb4460c9efb9": {
     "model_module": "@jupyter-widgets/base",
     "model_module_version": "1.2.0",
     "model_name": "LayoutModel",
     "state": {
      "_model_module": "@jupyter-widgets/base",
      "_model_module_version": "1.2.0",
      "_model_name": "LayoutModel",
      "_view_count": null,
      "_view_module": "@jupyter-widgets/base",
      "_view_module_version": "1.2.0",
      "_view_name": "LayoutView",
      "align_content": null,
      "align_items": null,
      "align_self": null,
      "border": null,
      "bottom": null,
      "display": null,
      "flex": null,
      "flex_flow": null,
      "grid_area": null,
      "grid_auto_columns": null,
      "grid_auto_flow": null,
      "grid_auto_rows": null,
      "grid_column": null,
      "grid_gap": null,
      "grid_row": null,
      "grid_template_areas": null,
      "grid_template_columns": null,
      "grid_template_rows": null,
      "height": null,
      "justify_content": null,
      "justify_items": null,
      "left": null,
      "margin": null,
      "max_height": null,
      "max_width": null,
      "min_height": null,
      "min_width": null,
      "object_fit": null,
      "object_position": null,
      "order": null,
      "overflow": null,
      "overflow_x": null,
      "overflow_y": null,
      "padding": null,
      "right": null,
      "top": null,
      "visibility": null,
      "width": null
     }
    },
    "fd209af0fc254458bbf79ccb2c405bff": {
     "model_module": "@jupyter-widgets/controls",
     "model_module_version": "1.5.0",
     "model_name": "HTMLModel",
     "state": {
      "_dom_classes": [],
      "_model_module": "@jupyter-widgets/controls",
      "_model_module_version": "1.5.0",
      "_model_name": "HTMLModel",
      "_view_count": null,
      "_view_module": "@jupyter-widgets/controls",
      "_view_module_version": "1.5.0",
      "_view_name": "HTMLView",
      "description": "",
      "description_tooltip": null,
      "layout": "IPY_MODEL_f3e0c2873add4df99c0fcb4460c9efb9",
      "placeholder": "​",
      "style": "IPY_MODEL_b037af607cd946d1b480b82a1ed39bea",
      "value": " 3110/3110 [00:00&lt;00:00, 61843.53it/s]"
     }
    }
   }
  }
 },
 "nbformat": 4,
 "nbformat_minor": 1
}