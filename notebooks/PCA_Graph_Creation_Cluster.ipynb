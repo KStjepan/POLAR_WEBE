{
 "cells": [
  {
   "cell_type": "markdown",
   "id": "5bade3fa",
   "metadata": {},
   "source": [
    "# PCA Creation with Clustering"
   ]
  },
  {
   "cell_type": "markdown",
   "id": "38fc78b0",
   "metadata": {},
   "source": [
    "Create PCA graphs for visual analysis of the POLAR embeddings together with cluster creation."
   ]
  },
  {
   "cell_type": "markdown",
   "id": "51788329",
   "metadata": {},
   "source": [
    "## 1 Import Data"
   ]
  },
  {
   "cell_type": "markdown",
   "id": "b3302565",
   "metadata": {},
   "source": [
    "### 1.1 Import Packages"
   ]
  },
  {
   "cell_type": "code",
   "execution_count": null,
   "id": "c1b494ea",
   "metadata": {
    "pycharm": {
     "is_executing": true
    }
   },
   "outputs": [],
   "source": [
    "import gensim\n",
    "from numpy import linalg\n",
    "import numpy as np\n",
    "from sklearn.metrics.pairwise import cosine_similarity\n",
    "from tqdm import tqdm_notebook as tqdm\n",
    "import time\n",
    "from random import shuffle\n",
    "import sys\n",
    "import nltk \n",
    "from nltk.corpus import wordnet \n",
    "import gc\n",
    "from collections import defaultdict\n",
    "import random\n",
    "import json\n",
    "import os\n",
    "import pandas as pd\n",
    "\n",
    "import plotly\n",
    "import numpy as np\n",
    "import plotly.graph_objs as go\n",
    "from sklearn.decomposition import PCA\n",
    "\n",
    "from sklearn.cluster import DBSCAN\n",
    "\n",
    "from gensim.scripts.glove2word2vec import glove2word2vec\n",
    "from gensim.test.utils import datapath, get_tmpfile\n",
    "\n",
    "from gensim.test.utils import datapath"
   ]
  },
  {
   "cell_type": "markdown",
   "id": "9070fabd",
   "metadata": {},
   "source": [
    "### 1.2 Select POLAR Embeddings"
   ]
  },
  {
   "cell_type": "code",
   "execution_count": null,
   "id": "6bd15056",
   "metadata": {},
   "outputs": [],
   "source": [
    "#import the business entity and common word embedding you want to analyze via PCA\n",
    "common_df = pd.read_csv('/Users/stjepankusenic/POLAR_WEBE/data/processed/POLAR-Reddit-org-antonyms-common2.csv')\n",
    "company_df = pd.read_csv('/Users/stjepankusenic/POLAR_WEBE/data/processed/POLAR-Reddit-org-antonyms-inter.csv')\n",
    "\n",
    "new_df=pd.concat([common_df, company_df], ignore_index=True)"
   ]
  },
  {
   "cell_type": "markdown",
   "id": "d8f1b9db",
   "metadata": {},
   "source": [
    "## 2 PCA for 2D"
   ]
  },
  {
   "cell_type": "markdown",
   "id": "0781f916",
   "metadata": {},
   "source": [
    "### 2.1 Create Clusters"
   ]
  },
  {
   "cell_type": "code",
   "execution_count": null,
   "id": "b18fbde0",
   "metadata": {},
   "outputs": [],
   "source": [
    "df_cluster=new_df.loc[:,new_df.columns!='Unnamed: 0']\n",
    "#change parameters according to preference\n",
    "#high eps low samples only clusters common\n",
    "dbscan = DBSCAN(metric='cosine', eps=0.3, min_samples=2)\n",
    "cluster_labels = dbscan.fit_predict(df_cluster)\n",
    "#look at the clusters there are\n",
    "display(cluster_labels)"
   ]
  },
  {
   "cell_type": "markdown",
   "id": "a74e7426",
   "metadata": {},
   "source": [
    "### 2.2 Apply PCA "
   ]
  },
  {
   "cell_type": "code",
   "execution_count": null,
   "id": "d5c02fc6",
   "metadata": {},
   "outputs": [],
   "source": [
    "#Apply the PCA algorithm to the data\n",
    "two_dim = PCA(random_state=0).fit_transform(df_cluster)[:,:2]\n",
    "df_cluster[['two_dim1','two_dim2']]=two_dim.tolist()\n",
    "df_cluster['cluster']=cluster_labels\n",
    "df_cluster['Unnamed: 0']=new_df['Unnamed: 0']"
   ]
  },
  {
   "cell_type": "markdown",
   "id": "6ae21217",
   "metadata": {},
   "source": [
    "### 2.3 Create PCA Graph"
   ]
  },
  {
   "cell_type": "code",
   "execution_count": null,
   "id": "3e8ba5e5",
   "metadata": {},
   "outputs": [],
   "source": [
    "#We write a function that plots our PCA plot, we adapted a function from towards datascience https://towardsdatascience.com/visualizing-word-embedding-with-pca-and-t-sne-961a692509f5 30.05.2022\n",
    "def display_pca_scatterplot_2D(model):\n",
    "    data = []\n",
    "    for i in range(-1,model['cluster'].max()+1):\n",
    "        \n",
    "        word_vectors = model.loc[model['cluster']==i]\n",
    "        scat_text = word_vectors['Unnamed: 0']\n",
    "        two_dim = word_vectors[['two_dim1','two_dim2']].to_numpy()\n",
    "        trace = go.Scatter(\n",
    "            x = two_dim[:,0], \n",
    "            y = two_dim[:,1],  \n",
    "            text = scat_text[:],\n",
    "            name = 'Cluster'+str(i+2),\n",
    "            textposition = \"top center\",\n",
    "            textfont_size = 10,#20\n",
    "            mode = 'markers+text',\n",
    "            marker = {\n",
    "                'size': 10,#10\n",
    "                'opacity': 0.8,\n",
    "                'color': i\n",
    "            }\n",
    "        )      \n",
    "        data.append(trace)\n",
    "\n",
    "    # Configure the layout of the graph\n",
    "\n",
    "    layout = go.Layout(\n",
    "        margin = {'l': 0, 'r': 0, 'b': 0, 't': 0},\n",
    "        showlegend=True,\n",
    "        legend=dict(\n",
    "        x=1,\n",
    "        y=0.5,\n",
    "        font=dict(\n",
    "            family=\"Courier New\",\n",
    "            size=25,\n",
    "            color=\"black\"\n",
    "        )),\n",
    "        font = dict(\n",
    "            family = \" Courier New \",\n",
    "            size = 15),\n",
    "        autosize = False,\n",
    "        width = 1000,#1200\n",
    "        height = 500 #700\n",
    "        )\n",
    "\n",
    "    plot_figure = go.Figure(data = data, layout = layout)\n",
    "    plot_figure.show()"
   ]
  },
  {
   "cell_type": "code",
   "execution_count": null,
   "id": "decc5c3d",
   "metadata": {},
   "outputs": [],
   "source": [
    "#here we display the plot for the entities we selected at the top\n",
    "display_pca_scatterplot_2D(df_cluster[:])"
   ]
  },
  {
   "cell_type": "markdown",
   "id": "f52cb688",
   "metadata": {},
   "source": [
    "## 3 PCA for 3D"
   ]
  },
  {
   "cell_type": "markdown",
   "id": "18fd8690",
   "metadata": {},
   "source": [
    "### 3.1 Create Clusters"
   ]
  },
  {
   "cell_type": "code",
   "execution_count": null,
   "id": "c6497d4c",
   "metadata": {},
   "outputs": [],
   "source": [
    "df_cluster=new_df.loc[:,new_df.columns!='Unnamed: 0']\n",
    "#change parameters according to preference\n",
    "#high eps low samples only clusters common\n",
    "dbscan = DBSCAN(metric='cosine', eps=0.3, min_samples=2)\n",
    "cluster_labels = dbscan.fit_predict(df_cluster)\n",
    "#look at the clusters there are\n",
    "display(cluster_labels)"
   ]
  },
  {
   "cell_type": "markdown",
   "id": "4861090c",
   "metadata": {},
   "source": [
    "### 3.2 Apply PCA "
   ]
  },
  {
   "cell_type": "code",
   "execution_count": null,
   "id": "95211971",
   "metadata": {},
   "outputs": [],
   "source": [
    "#Apply the PCA algorithm to the data\n",
    "three_dim = PCA(random_state=0).fit_transform(df_cluster)[:,:3]\n",
    "df_cluster[['three_dim1','three_dim2','three_dim3']]=three_dim.tolist()\n",
    "df_cluster['cluster']=cluster_labels\n",
    "df_cluster['Unnamed: 0']=new_df['Unnamed: 0']"
   ]
  },
  {
   "cell_type": "markdown",
   "id": "93181a83",
   "metadata": {},
   "source": [
    "### 3.3 Create PCA Graph"
   ]
  },
  {
   "cell_type": "code",
   "execution_count": null,
   "id": "43dacde8",
   "metadata": {},
   "outputs": [],
   "source": [
    "#We write a function that plots our PCA plot, we adapted a function from towards datascience https://towardsdatascience.com/visualizing-word-embedding-with-pca-and-t-sne-961a692509f5 30.05.2022\n",
    "def display_pca_scatterplot_3D(model):\n",
    "    data = []\n",
    "    for i in range(-1,model['cluster'].max()+1):\n",
    "        \n",
    "        word_vectors = model.loc[model['cluster']==i]\n",
    "        scat_text = word_vectors['Unnamed: 0']\n",
    "        three_dim = word_vectors[['three_dim1','three_dim2','three_dim3']].to_numpy()\n",
    "        trace = go.Scatter3d(\n",
    "            x = three_dim[:,0], \n",
    "            y = three_dim[:,1],\n",
    "            z = three_dim[:,2],\n",
    "            text = scat_text[:],\n",
    "            name = 'Cluster'+str(i+2),\n",
    "            textposition = \"top center\",\n",
    "            textfont_size = 10,#20\n",
    "            mode = 'markers+text',\n",
    "            marker = {\n",
    "                'size': 10,#10\n",
    "                'opacity': 0.8,\n",
    "                'color': i\n",
    "            }\n",
    "        )      \n",
    "        data.append(trace)\n",
    "\n",
    "    # Configure the layout of the graph\n",
    "\n",
    "    layout = go.Layout(\n",
    "        margin = {'l': 0, 'r': 0, 'b': 0, 't': 0},\n",
    "        showlegend=True,\n",
    "        legend=dict(\n",
    "        x=1,\n",
    "        y=0.5,\n",
    "        font=dict(\n",
    "            family=\"Courier New\",\n",
    "            size=25,\n",
    "            color=\"black\"\n",
    "        )),\n",
    "        font = dict(\n",
    "            family = \" Courier New \",\n",
    "            size = 15),\n",
    "        autosize = False,\n",
    "        width = 1000,\n",
    "        height = 700\n",
    "        )\n",
    "\n",
    "    plot_figure = go.Figure(data = data, layout = layout)\n",
    "    plot_figure.show()"
   ]
  },
  {
   "cell_type": "code",
   "execution_count": null,
   "id": "657188e1",
   "metadata": {},
   "outputs": [],
   "source": [
    "#here we display the plot for the entities we selected at the top\n",
    "display_pca_scatterplot_3D(df_cluster[:])"
   ]
  }
 ],
 "metadata": {
  "kernelspec": {
   "display_name": "Python 3 (ipykernel)",
   "language": "python",
   "name": "python3"
  },
  "language_info": {
   "codemirror_mode": {
    "name": "ipython",
    "version": 3
   },
   "file_extension": ".py",
   "mimetype": "text/x-python",
   "name": "python",
   "nbconvert_exporter": "python",
   "pygments_lexer": "ipython3",
   "version": "3.9.5"
  }
 },
 "nbformat": 4,
 "nbformat_minor": 5
}
