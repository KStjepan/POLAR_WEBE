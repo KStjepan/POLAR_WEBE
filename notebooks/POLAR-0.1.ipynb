{
  "cells": [
    {
      "cell_type": "code",
      "execution_count": 1,
      "metadata": {
        "id": "ZZviYkabn34A",
        "colab": {
          "base_uri": "https://localhost:8080/"
        },
        "outputId": "f067deb8-818e-4fc3-d90a-df76cad2a5ba"
      },
      "outputs": [
        {
          "output_type": "stream",
          "name": "stdout",
          "text": [
            "Cloning into 'POLAR'...\n",
            "remote: Enumerating objects: 181, done.\u001b[K\n",
            "remote: Counting objects: 100% (181/181), done.\u001b[K\n",
            "remote: Compressing objects: 100% (145/145), done.\u001b[K\n",
            "remote: Total 181 (delta 78), reused 115 (delta 35), pack-reused 0\u001b[K\n",
            "Receiving objects: 100% (181/181), 11.08 MiB | 15.94 MiB/s, done.\n",
            "Resolving deltas: 100% (78/78), done.\n"
          ]
        }
      ],
      "source": [
        "!git clone https://github.com/Sandipan99/POLAR.git"
      ]
    },
    {
      "cell_type": "code",
      "execution_count": 2,
      "metadata": {
        "colab": {
          "base_uri": "https://localhost:8080/"
        },
        "id": "i8XNks9wn_5d",
        "outputId": "1ad6d126-65fb-4b18-feb6-d45fa60b6ebb"
      },
      "outputs": [
        {
          "output_type": "stream",
          "name": "stdout",
          "text": [
            "--2022-03-20 22:25:22--  https://nlp.stanford.edu/data/glove.42B.300d.zip\n",
            "Resolving nlp.stanford.edu (nlp.stanford.edu)... 171.64.67.140\n",
            "Connecting to nlp.stanford.edu (nlp.stanford.edu)|171.64.67.140|:443... connected.\n",
            "HTTP request sent, awaiting response... 301 Moved Permanently\n",
            "Location: http://downloads.cs.stanford.edu/nlp/data/glove.42B.300d.zip [following]\n",
            "--2022-03-20 22:25:22--  http://downloads.cs.stanford.edu/nlp/data/glove.42B.300d.zip\n",
            "Resolving downloads.cs.stanford.edu (downloads.cs.stanford.edu)... 171.64.64.22\n",
            "Connecting to downloads.cs.stanford.edu (downloads.cs.stanford.edu)|171.64.64.22|:80... connected.\n",
            "HTTP request sent, awaiting response... 200 OK\n",
            "Length: 1877800501 (1.7G) [application/zip]\n",
            "Saving to: ‘glove.42B.300d.zip’\n",
            "\n",
            "glove.42B.300d.zip  100%[===================>]   1.75G  5.02MB/s    in 5m 54s  \n",
            "\n",
            "2022-03-20 22:31:16 (5.06 MB/s) - ‘glove.42B.300d.zip’ saved [1877800501/1877800501]\n",
            "\n",
            "Archive:  glove.42B.300d.zip\n",
            "  inflating: glove.42B.300d.txt      \n"
          ]
        }
      ],
      "source": [
        "!wget https://nlp.stanford.edu/data/glove.42B.300d.zip\n",
        "!unzip glove*.zip\n"
      ]
    },
    {
      "cell_type": "code",
      "execution_count": 3,
      "metadata": {
        "colab": {
          "base_uri": "https://localhost:8080/"
        },
        "id": "pcBL5cHirbPX",
        "outputId": "14df5d4d-5429-484f-ee1e-7f32e8329829"
      },
      "outputs": [
        {
          "output_type": "stream",
          "name": "stdout",
          "text": [
            "Collecting ipython-autotime\n",
            "  Downloading ipython_autotime-0.3.1-py2.py3-none-any.whl (6.8 kB)\n",
            "Requirement already satisfied: ipython in /usr/local/lib/python3.7/dist-packages (from ipython-autotime) (5.5.0)\n",
            "Requirement already satisfied: decorator in /usr/local/lib/python3.7/dist-packages (from ipython->ipython-autotime) (4.4.2)\n",
            "Requirement already satisfied: setuptools>=18.5 in /usr/local/lib/python3.7/dist-packages (from ipython->ipython-autotime) (57.4.0)\n",
            "Requirement already satisfied: pygments in /usr/local/lib/python3.7/dist-packages (from ipython->ipython-autotime) (2.6.1)\n",
            "Requirement already satisfied: pickleshare in /usr/local/lib/python3.7/dist-packages (from ipython->ipython-autotime) (0.7.5)\n",
            "Requirement already satisfied: pexpect in /usr/local/lib/python3.7/dist-packages (from ipython->ipython-autotime) (4.8.0)\n",
            "Requirement already satisfied: traitlets>=4.2 in /usr/local/lib/python3.7/dist-packages (from ipython->ipython-autotime) (5.1.1)\n",
            "Requirement already satisfied: simplegeneric>0.8 in /usr/local/lib/python3.7/dist-packages (from ipython->ipython-autotime) (0.8.1)\n",
            "Requirement already satisfied: prompt-toolkit<2.0.0,>=1.0.4 in /usr/local/lib/python3.7/dist-packages (from ipython->ipython-autotime) (1.0.18)\n",
            "Requirement already satisfied: wcwidth in /usr/local/lib/python3.7/dist-packages (from prompt-toolkit<2.0.0,>=1.0.4->ipython->ipython-autotime) (0.2.5)\n",
            "Requirement already satisfied: six>=1.9.0 in /usr/local/lib/python3.7/dist-packages (from prompt-toolkit<2.0.0,>=1.0.4->ipython->ipython-autotime) (1.15.0)\n",
            "Requirement already satisfied: ptyprocess>=0.5 in /usr/local/lib/python3.7/dist-packages (from pexpect->ipython->ipython-autotime) (0.7.0)\n",
            "Installing collected packages: ipython-autotime\n",
            "Successfully installed ipython-autotime-0.3.1\n",
            "time: 184 µs (started: 2022-03-20 22:32:11 +00:00)\n"
          ]
        }
      ],
      "source": [
        "import gensim\n",
        "from numpy import linalg\n",
        "import numpy as np\n",
        "from sklearn.metrics.pairwise import cosine_similarity\n",
        "from tqdm import tqdm_notebook as tqdm\n",
        "import time\n",
        "from random import shuffle\n",
        "import sys\n",
        "import nltk \n",
        "from nltk.corpus import wordnet \n",
        "import gc\n",
        "from collections import defaultdict\n",
        "import random\n",
        "import json\n",
        "import os\n",
        "\n",
        "from gensim.scripts.glove2word2vec import glove2word2vec\n",
        "from gensim.test.utils import datapath, get_tmpfile\n",
        "\n",
        "from gensim.test.utils import datapath\n",
        "\n",
        "!pip install ipython-autotime\n",
        "%load_ext autotime"
      ]
    },
    {
      "cell_type": "code",
      "execution_count": 4,
      "metadata": {
        "colab": {
          "base_uri": "https://localhost:8080/"
        },
        "id": "XAb6AgngttMK",
        "outputId": "f5d6ccab-d3aa-48b8-e820-bd8e52731591"
      },
      "outputs": [
        {
          "output_type": "stream",
          "name": "stdout",
          "text": [
            "time: 33.1 s (started: 2022-03-20 22:32:35 +00:00)\n"
          ]
        }
      ],
      "source": [
        "model_glove = glove2word2vec('glove.42B.300d.txt','gensim_glove_300d.txt') ## needed for glove embeddings only \n"
      ]
    },
    {
      "cell_type": "code",
      "execution_count": 5,
      "metadata": {
        "colab": {
          "base_uri": "https://localhost:8080/"
        },
        "id": "aN6sBYcax0_c",
        "outputId": "43ca191d-e75c-4e25-bb72-b685bfdd644c"
      },
      "outputs": [
        {
          "output_type": "stream",
          "name": "stdout",
          "text": [
            "time: 5min 10s (started: 2022-03-20 22:33:08 +00:00)\n"
          ]
        }
      ],
      "source": [
        "model_glove = gensim.models.KeyedVectors.load_word2vec_format(\"gensim_glove_300d.txt\", binary=False)"
      ]
    },
    {
      "cell_type": "code",
      "execution_count": 6,
      "metadata": {
        "colab": {
          "base_uri": "https://localhost:8080/"
        },
        "id": "V0GgIonryZpG",
        "outputId": "4978a635-e0f8-45fe-8175-90342ba3af9b"
      },
      "outputs": [
        {
          "output_type": "stream",
          "name": "stdout",
          "text": [
            "time: 8.5 ms (started: 2022-03-20 22:38:49 +00:00)\n"
          ]
        }
      ],
      "source": [
        "def generate_norm_embedding(model, output_path):\n",
        "    temp_file = open(output_path,'wb')\n",
        "    temp_file.write(str.encode(str(len(model.vocab))+' '+str(model.vector_size)+'\\n'))\n",
        "    \n",
        "    for each_word in tqdm(model.vocab):\n",
        "        temp_file.write(str.encode(each_word+' '))\n",
        "        temp_file.write(model[each_word]/linalg.norm(model[each_word]))\n",
        "        temp_file.write(str.encode('\\n'))\n",
        "    \n",
        "    temp_file.close()"
      ]
    },
    {
      "cell_type": "code",
      "execution_count": 7,
      "metadata": {
        "colab": {
          "base_uri": "https://localhost:8080/",
          "height": 140,
          "referenced_widgets": [
            "86101965873b4f3297a57d00ec7aaa06",
            "741fc3ff8d3f45abb4694b0b1a7719f0",
            "bdb7b651ce1740bdb620190e6ad1329d",
            "311e632c8d614cbcb5b5cf981299fa8f",
            "969bba4632724a8fbbc222f2f9032178",
            "541b76eb5f094d1791ea837ee3d766bc",
            "b1de71b603ff4c9c8b78e45dc10ac925",
            "a91b60fb737a4bd6b784bba090c5a9dc",
            "3b95f59332434b9e9e9ceccafb122259",
            "781ce3e070ce423baba3f3aba863f53d",
            "2f7ce595c5a74de196d3857e89f7e272"
          ]
        },
        "id": "zsDa4Hioyg8F",
        "outputId": "8c6dc664-30c6-4468-bcc5-a5d8e30fbc2b"
      },
      "outputs": [
        {
          "output_type": "stream",
          "name": "stderr",
          "text": [
            "/usr/local/lib/python3.7/dist-packages/ipykernel_launcher.py:5: TqdmDeprecationWarning: This function will be removed in tqdm==5.0.0\n",
            "Please use `tqdm.notebook.tqdm` instead of `tqdm.tqdm_notebook`\n",
            "  \"\"\"\n"
          ]
        },
        {
          "output_type": "display_data",
          "data": {
            "text/plain": [
              "  0%|          | 0/1917494 [00:00<?, ?it/s]"
            ],
            "application/vnd.jupyter.widget-view+json": {
              "version_major": 2,
              "version_minor": 0,
              "model_id": "86101965873b4f3297a57d00ec7aaa06"
            }
          },
          "metadata": {}
        },
        {
          "output_type": "stream",
          "name": "stdout",
          "text": [
            "time: 51.9 s (started: 2022-03-20 22:38:50 +00:00)\n"
          ]
        }
      ],
      "source": [
        "generate_norm_embedding(model_glove,'glove_norm_300.mod')\n"
      ]
    },
    {
      "cell_type": "code",
      "execution_count": 8,
      "metadata": {
        "colab": {
          "base_uri": "https://localhost:8080/"
        },
        "id": "_TmlWQ3_941O",
        "outputId": "ed87f795-7b45-4401-8eb7-33fc47a6ead9"
      },
      "outputs": [
        {
          "output_type": "stream",
          "name": "stdout",
          "text": [
            "time: 29.8 s (started: 2022-03-20 22:39:51 +00:00)\n"
          ]
        }
      ],
      "source": [
        "model_gn = gensim.models.KeyedVectors.load_word2vec_format('glove_norm_300.mod',binary=True) # ss\n"
      ]
    },
    {
      "cell_type": "code",
      "execution_count": 9,
      "metadata": {
        "colab": {
          "base_uri": "https://localhost:8080/"
        },
        "id": "rlR245_a95_O",
        "outputId": "2ac38924-738e-438a-bc6f-3d248d28f068"
      },
      "outputs": [
        {
          "output_type": "stream",
          "name": "stdout",
          "text": [
            "time: 952 µs (started: 2022-03-20 22:40:53 +00:00)\n"
          ]
        }
      ],
      "source": [
        "current_model = model_gn \n"
      ]
    },
    {
      "cell_type": "code",
      "source": [
        "%cd POLAR"
      ],
      "metadata": {
        "colab": {
          "base_uri": "https://localhost:8080/"
        },
        "id": "AVOps1RqfmkU",
        "outputId": "51ba7434-97d1-449f-9da2-628e657a722e"
      },
      "execution_count": 11,
      "outputs": [
        {
          "output_type": "stream",
          "name": "stdout",
          "text": [
            "/content/POLAR\n",
            "time: 10.4 ms (started: 2022-03-20 22:41:53 +00:00)\n"
          ]
        }
      ]
    },
    {
      "cell_type": "code",
      "source": [
        "\n",
        "list_antonym = []\n",
        "\n",
        "with open('Antonym_sets/LenciBenotto.val') as fp:\n",
        "    for line in fp:\n",
        "        parts = line.split()\n",
        "        if parts[3]=='antonym':\n",
        "            word1 = parts[0].split('-')[0]\n",
        "            word2 = parts[1].split('-')[0]\n",
        "            if word1 in current_model and word2 in current_model:\n",
        "                list_antonym.append((word1.strip().lower(), word2.strip().lower()))\n",
        "\n",
        "\n",
        "with open('Antonym_sets/LenciBenotto.test') as fp:\n",
        "    for line in fp:\n",
        "        parts = line.split()\n",
        "        if parts[3]=='antonym':\n",
        "            word1 = parts[0].split('-')[0]\n",
        "            word2 = parts[1].split('-')[0]\n",
        "            if word1 in current_model and word2 in current_model:\n",
        "                list_antonym.append((word1.strip().lower(), word2.strip().lower()))\n",
        "                \n",
        "with open('Antonym_sets/EVALution.val') as fp:\n",
        "    for line in fp:\n",
        "        parts = line.split()\n",
        "        if parts[3]=='antonym':\n",
        "            word1 = parts[0].split('-')[0]\n",
        "            word2 = parts[1].split('-')[0]\n",
        "            if word1 in current_model and word2 in current_model:\n",
        "                list_antonym.append((word1.strip().lower(), word2.strip().lower()))\n",
        "\n",
        "with open('Antonym_sets/EVALution.test') as fp:\n",
        "    for line in fp:\n",
        "        parts = line.split()\n",
        "        if parts[3]=='antonym':\n",
        "            word1 = parts[0].split('-')[0]\n",
        "            word2 = parts[1].split('-')[0]\n",
        "            if word1 in current_model and word2 in current_model:\n",
        "                list_antonym.append((word1.strip().lower(), word2.strip().lower()))\n",
        "                \n",
        "                \n",
        "list_antonym = list(dict.fromkeys(list_antonym).keys())"
      ],
      "metadata": {
        "id": "VwHUwhAMDaYs",
        "colab": {
          "base_uri": "https://localhost:8080/"
        },
        "outputId": "5b136759-e15e-4588-9cd8-d81a5bdf6a20"
      },
      "execution_count": 18,
      "outputs": [
        {
          "output_type": "stream",
          "name": "stdout",
          "text": [
            "time: 49 ms (started: 2022-03-20 22:44:52 +00:00)\n"
          ]
        }
      ]
    },
    {
      "cell_type": "code",
      "source": [
        "import pickle\n",
        "\n",
        "filename = 'ticker_embedding'\n",
        "outfile = open(filename,'wb')\n",
        "\n",
        "pickle.dump(ticker_word_embedding,outfile)\n",
        "outfile.close()"
      ],
      "metadata": {
        "colab": {
          "base_uri": "https://localhost:8080/"
        },
        "id": "THGcc7Q-fikP",
        "outputId": "05d65563-d238-47ec-a02f-c471f936547b"
      },
      "execution_count": 64,
      "outputs": [
        {
          "output_type": "stream",
          "name": "stdout",
          "text": [
            "time: 11.3 ms (started: 2022-03-20 23:21:51 +00:00)\n"
          ]
        }
      ]
    },
    {
      "cell_type": "code",
      "source": [
        "similarity_matrix = defaultdict(list)\n",
        "for each_pair in tqdm(list_antonym):\n",
        "    word1 = each_pair[0]\n",
        "    word2 = each_pair[1]\n",
        "    if word1 < word2:\n",
        "        similarity_matrix[word1].append(word2)\n",
        "    else:\n",
        "        similarity_matrix[word2].append(word1)\n",
        "    \n",
        "all_similarity = defaultdict(dict)\n",
        "for each_key in tqdm(similarity_matrix):\n",
        "    for each_value in similarity_matrix[each_key]:\n",
        "#         cosine_similarity([current_model[each_key]]\n",
        "        all_similarity[each_key][each_value] = abs(cosine_similarity([current_model[each_key]],[current_model[each_value]])[0][0])\n",
        "    \n",
        "final_antonym_list = []\n",
        "for index_counter, each_key in enumerate(tqdm(all_similarity)):\n",
        "#     print(each_key,all_similarity[each_key])\n",
        "    listofTuples = sorted(all_similarity[each_key].items() ,  key=lambda x: x[1])\n",
        "#     print(listofTuples)\n",
        "    final_antonym_list.append((each_key, listofTuples[0][0]))\n",
        "print(len(final_antonym_list))\n",
        "\n",
        "list_antonym = final_antonym_list"
      ],
      "metadata": {
        "colab": {
          "base_uri": "https://localhost:8080/",
          "height": 311,
          "referenced_widgets": [
            "51f942e782d0460291a8576ce612f1bd",
            "c02f4d4bbd484318a1869a7b42132e98",
            "a8d1d791c71140c1973898e071ea4698",
            "fd209af0fc254458bbf79ccb2c405bff",
            "0af2fe8e8ccf47e482be50c604ebd08f",
            "78ca1a27616b4d81b1c7f3bab431f588",
            "a9e36ca2d8d640c1976bb5d2d9f4a00d",
            "3986bcf715204ac49949b466fa3a4097",
            "205ec4f3367747e391bcfff57a73f950",
            "f3e0c2873add4df99c0fcb4460c9efb9",
            "b037af607cd946d1b480b82a1ed39bea",
            "2321d33a09d446bda2647f7730595493",
            "91ac1a8bafe84bd685854f907ca936f0",
            "2998098d1dbf40a6b469a1376ab3cc0a",
            "817401136352496aa938e7fe491caf38",
            "4d7e347315104d96a7738e519d2690b0",
            "6aeabd17c0f24fbf991c07d19cc7c551",
            "43338f8fc0af4dc3b04b5bd020123910",
            "407a07ead08f4dc68a5ea4d7b7863389",
            "ccb7f75901184cd19bd1031791df6477",
            "6250b36cc5c74e7b92165475e354a052",
            "da0fe6db69c94d7599f9d2306d20fd1d",
            "6e614fc2f3704579b545ff829aa17bb5",
            "d51f0dc428f74216ab498ac8eabc11e5",
            "1a722488e6d04bc8af5451e216774dd1",
            "12a5725e75054af5b0ff15eb3c26d151",
            "77ddae69bfe940e992893031d4fd5626",
            "8baf2acdfc87474a8a72c2408017b783",
            "ef7bed3866f141f780bd109fee51d023",
            "b7581b74690545b2a80789f42f1adcee",
            "76842ee579ad4083a2be84bc338b86a5",
            "346372f4ff004fe48bdd91a732e8bbea",
            "a50debed57c54cb28d2025ce778d51f3"
          ]
        },
        "id": "Op4u8AWrfr63",
        "outputId": "81bab469-5902-431a-bec3-75dee932736c"
      },
      "execution_count": 21,
      "outputs": [
        {
          "output_type": "stream",
          "name": "stderr",
          "text": [
            "/usr/local/lib/python3.7/dist-packages/ipykernel_launcher.py:2: TqdmDeprecationWarning: This function will be removed in tqdm==5.0.0\n",
            "Please use `tqdm.notebook.tqdm` instead of `tqdm.tqdm_notebook`\n",
            "  \n"
          ]
        },
        {
          "output_type": "display_data",
          "data": {
            "text/plain": [
              "  0%|          | 0/3110 [00:00<?, ?it/s]"
            ],
            "application/vnd.jupyter.widget-view+json": {
              "version_major": 2,
              "version_minor": 0,
              "model_id": "51f942e782d0460291a8576ce612f1bd"
            }
          },
          "metadata": {}
        },
        {
          "output_type": "stream",
          "name": "stderr",
          "text": [
            "/usr/local/lib/python3.7/dist-packages/ipykernel_launcher.py:11: TqdmDeprecationWarning: This function will be removed in tqdm==5.0.0\n",
            "Please use `tqdm.notebook.tqdm` instead of `tqdm.tqdm_notebook`\n",
            "  # This is added back by InteractiveShellApp.init_path()\n"
          ]
        },
        {
          "output_type": "display_data",
          "data": {
            "text/plain": [
              "  0%|          | 0/1468 [00:00<?, ?it/s]"
            ],
            "application/vnd.jupyter.widget-view+json": {
              "version_major": 2,
              "version_minor": 0,
              "model_id": "2321d33a09d446bda2647f7730595493"
            }
          },
          "metadata": {}
        },
        {
          "output_type": "stream",
          "name": "stderr",
          "text": [
            "/usr/local/lib/python3.7/dist-packages/ipykernel_launcher.py:17: TqdmDeprecationWarning: This function will be removed in tqdm==5.0.0\n",
            "Please use `tqdm.notebook.tqdm` instead of `tqdm.tqdm_notebook`\n"
          ]
        },
        {
          "output_type": "display_data",
          "data": {
            "text/plain": [
              "  0%|          | 0/1468 [00:00<?, ?it/s]"
            ],
            "application/vnd.jupyter.widget-view+json": {
              "version_major": 2,
              "version_minor": 0,
              "model_id": "6e614fc2f3704579b545ff829aa17bb5"
            }
          },
          "metadata": {}
        },
        {
          "output_type": "stream",
          "name": "stdout",
          "text": [
            "1468\n",
            "time: 3.64 s (started: 2022-03-20 22:45:39 +00:00)\n"
          ]
        }
      ]
    },
    {
      "cell_type": "code",
      "source": [
        "num_antonym = 1468\n"
      ],
      "metadata": {
        "colab": {
          "base_uri": "https://localhost:8080/"
        },
        "id": "B4Rv4JISgjgO",
        "outputId": "474f6763-5738-4030-9d35-7a11b211c0d8"
      },
      "execution_count": 25,
      "outputs": [
        {
          "output_type": "stream",
          "name": "stdout",
          "text": [
            "time: 10 ms (started: 2022-03-20 22:47:11 +00:00)\n"
          ]
        }
      ]
    },
    {
      "cell_type": "code",
      "source": [
        "## Find the antonym difference vectors\n",
        "antonymy_vector = []\n",
        "for each_word_pair in list_antonym:\n",
        "    antonymy_vector.append(current_model[each_word_pair[0]]- current_model[each_word_pair[1]])\n",
        "antonymy_vector = np.array(antonymy_vector)\n",
        "print(antonymy_vector.shape)"
      ],
      "metadata": {
        "colab": {
          "base_uri": "https://localhost:8080/"
        },
        "id": "-7fmUvy8g1CZ",
        "outputId": "075c270d-f17d-4664-c402-4f8a08ba4410"
      },
      "execution_count": 26,
      "outputs": [
        {
          "output_type": "stream",
          "name": "stdout",
          "text": [
            "(1468, 300)\n",
            "time: 26.4 ms (started: 2022-03-20 22:47:12 +00:00)\n"
          ]
        }
      ]
    },
    {
      "cell_type": "code",
      "source": [
        "import random\n",
        "\n",
        "from scipy.spatial.distance import cosine as scipy_cosine\n",
        "random.seed(42)\n",
        "\n",
        "t1 = np.array(antonymy_vector)\n",
        "dimension_similarity_matrix = defaultdict(dict)\n",
        "for index_1, each_dim1 in enumerate(tqdm(t1)):\n",
        "    for index_2, each_dim2 in enumerate(t1):\n",
        "        dimension_similarity_matrix[index_1][index_2] = abs(1-scipy_cosine(each_dim1, each_dim2))\n",
        "        \n",
        "        \n",
        "def get_set_score(final_list, each_dim):\n",
        "    final_output = 0.0\n",
        "    for each_vec in final_list:\n",
        "        final_output += dimension_similarity_matrix[each_vec][each_dim]\n",
        "    return final_output/(len(final_list))\n",
        "        \n",
        "def select_subset_dimension(dim_vector, num_dim):\n",
        "    working_list = np.array(dim_vector)\n",
        "    \n",
        "    working_position_index = [i for i in range(working_list.shape[0])]\n",
        "    final_position_index = []\n",
        "    \n",
        "\n",
        "    print('working list is ready, shape', working_list.shape)\n",
        "    sel_dim = random.randrange(0, working_list.shape[0])\n",
        "\n",
        "    final_position_index.append(sel_dim)\n",
        "    \n",
        "    working_position_index.remove(sel_dim)\n",
        "\n",
        "    for test_count in tqdm(range(num_dim-1)):\n",
        "        min_dim = None\n",
        "        min_score = 1000\n",
        "        for temp_index, each_dim in enumerate(working_position_index):\n",
        "#             print(each_dim)\n",
        "            temp_score = get_set_score(final_position_index, each_dim)\n",
        "            if temp_score< min_score:\n",
        "                min_score= temp_score\n",
        "                min_dim = each_dim\n",
        "        print(test_count,min_dim)\n",
        "        final_position_index.append(min_dim)\n",
        "        working_position_index.remove(min_dim)\n",
        "#         print(working_list.shape, len(final_list))\n",
        "    return final_position_index"
      ],
      "metadata": {
        "colab": {
          "base_uri": "https://localhost:8080/",
          "height": 140,
          "referenced_widgets": [
            "cf0ed7175c274a30b2a10fb9e8ce4741",
            "d112d7dea7f7427486b46581c9b04e25",
            "67e4c9678af841628140bc269e72ec35",
            "db3e71bb16664217806b5c67cd176cf3",
            "8db15249c50a46deb2d98afe1cff1917",
            "8c14e5795ac84d2bb408b2c462189984",
            "6052211018ab4641ba4496d8c88c68e0",
            "1a94b24301184a369d125ef25bbe6086",
            "b2ef8f618f12442cb8cf26703e5c449e",
            "59cf9f59d38f4b97bae4aaaa62c89b67",
            "4e9961aaac5b4e128761450c9c8c9805"
          ]
        },
        "id": "rgSYWOmBg1hm",
        "outputId": "ee71fac1-ede0-4cde-aa9a-5bb8fc5a1daa"
      },
      "execution_count": 27,
      "outputs": [
        {
          "output_type": "stream",
          "name": "stderr",
          "text": [
            "/usr/local/lib/python3.7/dist-packages/ipykernel_launcher.py:8: TqdmDeprecationWarning: This function will be removed in tqdm==5.0.0\n",
            "Please use `tqdm.notebook.tqdm` instead of `tqdm.tqdm_notebook`\n",
            "  \n"
          ]
        },
        {
          "output_type": "display_data",
          "data": {
            "text/plain": [
              "  0%|          | 0/1468 [00:00<?, ?it/s]"
            ],
            "application/vnd.jupyter.widget-view+json": {
              "version_major": 2,
              "version_minor": 0,
              "model_id": "cf0ed7175c274a30b2a10fb9e8ce4741"
            }
          },
          "metadata": {}
        },
        {
          "output_type": "stream",
          "name": "stdout",
          "text": [
            "time: 2min 59s (started: 2022-03-20 22:47:50 +00:00)\n"
          ]
        }
      ]
    },
    {
      "cell_type": "code",
      "source": [
        "# use random dimension selection\n",
        "\n",
        "random_antonym_vector = [i for i in range(len(antonymy_vector))]\n",
        "random.shuffle(random_antonym_vector)\n",
        "print(len(random_antonym_vector))"
      ],
      "metadata": {
        "colab": {
          "base_uri": "https://localhost:8080/"
        },
        "id": "b_5ozOWCg-54",
        "outputId": "98a186ca-af73-45c4-d32d-a13a6da9c999"
      },
      "execution_count": 28,
      "outputs": [
        {
          "output_type": "stream",
          "name": "stdout",
          "text": [
            "1468\n",
            "time: 4.91 ms (started: 2022-03-20 22:51:10 +00:00)\n"
          ]
        }
      ]
    },
    {
      "cell_type": "code",
      "source": [
        "def transform_to_antonym_space(current_model, output_file_path, binary, current_antonymy_vector_inverse):\n",
        "    embedding_size = current_antonymy_vector_inverse.shape[0]   ##CHANGE THIS ACCORDINGLY!!!\n",
        "    print('New model size is',len(current_model.vocab), embedding_size)\n",
        "\n",
        "    temp_file = None\n",
        "    \n",
        "    if binary:\n",
        "        temp_file = open(output_file_path,'wb')\n",
        "        temp_file.write(str.encode(str(len(current_model.vocab))+' '+str(embedding_size)+'\\n'))\n",
        "    else:\n",
        "        temp_file = open(output_file_path,'w')\n",
        "        temp_file.write(str(len(current_model.vocab))+' '+str(embedding_size)+'\\n')\n",
        "\n",
        "    total_words = 0\n",
        "    for each_word in tqdm(current_model.vocab):\n",
        "        total_words += 1\n",
        "        if binary:\n",
        "            temp_file.write(str.encode(each_word+' '))\n",
        "        else:\n",
        "            temp_file.write(each_word+' ')\n",
        "\n",
        "        new_vector = np.matmul(current_antonymy_vector_inverse,current_model[each_word])\n",
        "\n",
        "        new_vector = new_vector/linalg.norm(new_vector)\n",
        "\n",
        "        \n",
        "        \n",
        "        if binary:\n",
        "            temp_file.write(new_vector)\n",
        "            temp_file.write(str.encode('\\n'))\n",
        "        else:\n",
        "            temp_file.write(str(new_vector))\n",
        "            temp_file.write('\\n')\n",
        "\n",
        "\n",
        "    temp_file.close()"
      ],
      "metadata": {
        "colab": {
          "base_uri": "https://localhost:8080/"
        },
        "id": "L2kA8B8-hvzy",
        "outputId": "cfb00670-01e5-45c4-fea0-fe9a5144797e"
      },
      "execution_count": 33,
      "outputs": [
        {
          "output_type": "stream",
          "name": "stdout",
          "text": [
            "time: 71.6 ms (started: 2022-03-20 22:52:20 +00:00)\n"
          ]
        }
      ]
    },
    {
      "cell_type": "code",
      "source": [
        "def standard_normal_dist_model(model, new_filename):\n",
        "    embedding_matrix = []\n",
        "    embedding_vocab = []\n",
        "\n",
        "    temp_file = open(new_filename,'wb')\n",
        "    temp_file.write(str.encode(str(model.vectors.shape[0])+' '+str(model.vectors.shape[1])+'\\n'))\n",
        "    \n",
        "    for each_word in tqdm(model.vocab):\n",
        "        embedding_matrix.append(model[each_word])\n",
        "        embedding_vocab.append(each_word)\n",
        "    \n",
        "    embedding_matrix = np.array(embedding_matrix)\n",
        "    \n",
        "    print('The shape of embedding matrix is {}'.format(embedding_matrix.shape))\n",
        "    \n",
        "    norm_embedding_matrix = (embedding_matrix - embedding_matrix.mean(0))/ embedding_matrix.std(0)\n",
        "    \n",
        "    for word_counter, each_word in enumerate(tqdm(embedding_vocab)):\n",
        "#         assert each_word==embedding_vocab[word_counter],'Not matching!!!'\n",
        "        \n",
        "        temp_file.write(str.encode(each_word+' '))\n",
        "        new_vector = norm_embedding_matrix[word_counter]\n",
        "        temp_file.write(new_vector)\n",
        "        temp_file.write(str.encode('\\n'))\n",
        "        \n",
        "    del embedding_matrix\n",
        "    del embedding_vocab\n",
        "    temp_file.close()"
      ],
      "metadata": {
        "colab": {
          "base_uri": "https://localhost:8080/"
        },
        "id": "2fAtZ2TAiAue",
        "outputId": "d79eee31-5592-4842-851c-c8ac451a25e0"
      },
      "execution_count": 34,
      "outputs": [
        {
          "output_type": "stream",
          "name": "stdout",
          "text": [
            "time: 23.6 ms (started: 2022-03-20 22:52:33 +00:00)\n"
          ]
        }
      ]
    },
    {
      "cell_type": "code",
      "source": [
        "def generate_embedding_path(current_model, embedding_path, binary, antonym_vector, curr_dim):\n",
        "    curr_antonym_vector = antonymy_vector[antonym_vector[:curr_dim]]\n",
        "    curr_antonymy_vector_inverse = np.linalg.pinv(np.transpose(curr_antonym_vector))\n",
        "    new_embedding_dict = transform_to_antonym_space(current_model, embedding_path, binary,curr_antonymy_vector_inverse)\n",
        "\n",
        "    return new_embedding_dict"
      ],
      "metadata": {
        "colab": {
          "base_uri": "https://localhost:8080/"
        },
        "id": "lJIZU3HJiEEY",
        "outputId": "9277581d-c7a8-4d3f-b91d-57ed93be9b42"
      },
      "execution_count": 80,
      "outputs": [
        {
          "output_type": "stream",
          "name": "stdout",
          "text": [
            "time: 4.99 ms (started: 2022-03-20 23:27:33 +00:00)\n"
          ]
        }
      ]
    },
    {
      "cell_type": "code",
      "source": [
        "import subprocess\n",
        "dim_size = 500 # Number of POLAR dimenions\n",
        "antonym_vector_method = random_antonym_vector # orthogonal_antonymy_vector, variance_antonymy_vector"
      ],
      "metadata": {
        "colab": {
          "base_uri": "https://localhost:8080/"
        },
        "id": "NqC27wILiGNX",
        "outputId": "75c31329-f091-4dc5-d56a-1b1b924ef066"
      },
      "execution_count": 36,
      "outputs": [
        {
          "output_type": "stream",
          "name": "stdout",
          "text": [
            "time: 2.2 ms (started: 2022-03-20 22:53:23 +00:00)\n"
          ]
        }
      ]
    },
    {
      "cell_type": "code",
      "source": [
        "generate_embedding_path(ticker_word_embedding, 'test_run',True ,random_antonym_vector,500)"
      ],
      "metadata": {
        "colab": {
          "base_uri": "https://localhost:8080/",
          "height": 140,
          "referenced_widgets": [
            "2bf3ff8f2d8e4490aea130a72e77d4ee",
            "2b010c04aa2940d0bb5e3afcf2e8461c",
            "1a343519090a4268866a97fec3737de8",
            "c8bbed0a22544ad8a049e0bba249b663",
            "f27b69c2e13a458787f5f2c97a9f03d5",
            "9cc76b745b0c4a4fad0c5044a6cfd75b",
            "3b89098b313e4cd3aa334915fefc7292",
            "8422c48119514320a80155cbc56d6917",
            "82a7324279074b14a5ac7ed468790055",
            "414f581e0dfd46e48dedf8b067ccf3d5",
            "e65c2fe162724dfcabb7539819016476"
          ]
        },
        "id": "uKjJ0BbMjA4o",
        "outputId": "19f11de5-75bf-45be-b30d-6ec8e5299c52"
      },
      "execution_count": 68,
      "outputs": [
        {
          "output_type": "stream",
          "name": "stdout",
          "text": [
            "New model size is 892 500\n"
          ]
        },
        {
          "output_type": "stream",
          "name": "stderr",
          "text": [
            "/usr/local/lib/python3.7/dist-packages/ipykernel_launcher.py:18: TqdmDeprecationWarning: This function will be removed in tqdm==5.0.0\n",
            "Please use `tqdm.notebook.tqdm` instead of `tqdm.tqdm_notebook`\n"
          ]
        },
        {
          "output_type": "display_data",
          "data": {
            "text/plain": [
              "  0%|          | 0/892 [00:00<?, ?it/s]"
            ],
            "application/vnd.jupyter.widget-view+json": {
              "version_major": 2,
              "version_minor": 0,
              "model_id": "2bf3ff8f2d8e4490aea130a72e77d4ee"
            }
          },
          "metadata": {}
        },
        {
          "output_type": "stream",
          "name": "stdout",
          "text": [
            "time: 274 ms (started: 2022-03-20 23:23:56 +00:00)\n"
          ]
        }
      ]
    },
    {
      "cell_type": "code",
      "source": [
        ""
      ],
      "metadata": {
        "id": "WlWZpFpYmSRG"
      },
      "execution_count": null,
      "outputs": []
    },
    {
      "cell_type": "code",
      "source": [
        "curr_dim = dim_size\n",
        "\n",
        "embedding_path = 'Downstream Task/embeddings/rand_antonym_'+str(curr_dim)+'.bin'\n",
        "generate_embedding_path(current_model, embedding_path,True,random_antonym_vector, curr_dim)\n",
        "\n",
        "print('loading the model')\n",
        "temp_model = gensim.models.KeyedVectors.load_word2vec_format(embedding_path, binary=True)\n",
        "print('loading done..')\n",
        "\n",
        "std_nrml_embedding_path = 'Downstream Task/embeddings/rand_antonym_gl_'+str(curr_dim)+'_StdNrml.bin'\n",
        "standard_normal_dist_model(temp_model, std_nrml_embedding_path)\n",
        "\n",
        "######### Task specific code....\n",
        "command_list = ['python3', \n",
        "                    'Downstream Task/TREC/classify_task.py',\n",
        "                     std_nrml_embedding_path,\n",
        "                     '2',\n",
        "                     'Downstream Task/TREC/data/qa_train_X.pickle',\n",
        "                     'Downstream Task/TREC/data/qa_train_y.pickle',\n",
        "                     'Downstream Task/TREC/data/qa_val_X.pickle',\n",
        "                     'Downstream Task/TREC/data/qa_val_y.pickle',\n",
        "                     'Downstream Task/TREC/data/qa_test_X.pickle',\n",
        "                     'Downstream Task/TREC/data/qa_test_y.pickle'\n",
        "                    ]\n",
        "result = subprocess.run(command_list, stdout=subprocess.PIPE)\n",
        "print(result.stdout)\n",
        "print('finished sentiment task')"
      ],
      "metadata": {
        "colab": {
          "base_uri": "https://localhost:8080/",
          "height": 442
        },
        "id": "YQZFMx4uiQD2",
        "outputId": "38dd3f2b-0fcd-4a2f-e0c9-5f4cc12def38"
      },
      "execution_count": 37,
      "outputs": [
        {
          "output_type": "stream",
          "name": "stdout",
          "text": [
            "New model size is 1917494 500\n"
          ]
        },
        {
          "output_type": "error",
          "ename": "FileNotFoundError",
          "evalue": "ignored",
          "traceback": [
            "\u001b[0;31m---------------------------------------------------------------------------\u001b[0m",
            "\u001b[0;31mFileNotFoundError\u001b[0m                         Traceback (most recent call last)",
            "\u001b[0;32m<ipython-input-37-a472d034094f>\u001b[0m in \u001b[0;36m<module>\u001b[0;34m()\u001b[0m\n\u001b[1;32m      2\u001b[0m \u001b[0;34m\u001b[0m\u001b[0m\n\u001b[1;32m      3\u001b[0m \u001b[0membedding_path\u001b[0m \u001b[0;34m=\u001b[0m \u001b[0;34m'Downstream Task/embeddings/rand_antonym_'\u001b[0m\u001b[0;34m+\u001b[0m\u001b[0mstr\u001b[0m\u001b[0;34m(\u001b[0m\u001b[0mcurr_dim\u001b[0m\u001b[0;34m)\u001b[0m\u001b[0;34m+\u001b[0m\u001b[0;34m'.bin'\u001b[0m\u001b[0;34m\u001b[0m\u001b[0;34m\u001b[0m\u001b[0m\n\u001b[0;32m----> 4\u001b[0;31m \u001b[0mgenerate_embedding_path\u001b[0m\u001b[0;34m(\u001b[0m\u001b[0mcurrent_model\u001b[0m\u001b[0;34m,\u001b[0m \u001b[0membedding_path\u001b[0m\u001b[0;34m,\u001b[0m\u001b[0;32mTrue\u001b[0m\u001b[0;34m,\u001b[0m\u001b[0mrandom_antonym_vector\u001b[0m\u001b[0;34m,\u001b[0m \u001b[0mcurr_dim\u001b[0m\u001b[0;34m)\u001b[0m\u001b[0;34m\u001b[0m\u001b[0;34m\u001b[0m\u001b[0m\n\u001b[0m\u001b[1;32m      5\u001b[0m \u001b[0;34m\u001b[0m\u001b[0m\n\u001b[1;32m      6\u001b[0m \u001b[0mprint\u001b[0m\u001b[0;34m(\u001b[0m\u001b[0;34m'loading the model'\u001b[0m\u001b[0;34m)\u001b[0m\u001b[0;34m\u001b[0m\u001b[0;34m\u001b[0m\u001b[0m\n",
            "\u001b[0;32m<ipython-input-35-665b973873f6>\u001b[0m in \u001b[0;36mgenerate_embedding_path\u001b[0;34m(current_model, embedding_path, binary, antonym_vector, curr_dim)\u001b[0m\n\u001b[1;32m      2\u001b[0m     \u001b[0mcurr_antonym_vector\u001b[0m \u001b[0;34m=\u001b[0m \u001b[0mantonymy_vector\u001b[0m\u001b[0;34m[\u001b[0m\u001b[0mantonym_vector\u001b[0m\u001b[0;34m[\u001b[0m\u001b[0;34m:\u001b[0m\u001b[0mcurr_dim\u001b[0m\u001b[0;34m]\u001b[0m\u001b[0;34m]\u001b[0m\u001b[0;34m\u001b[0m\u001b[0;34m\u001b[0m\u001b[0m\n\u001b[1;32m      3\u001b[0m     \u001b[0mcurr_antonymy_vector_inverse\u001b[0m \u001b[0;34m=\u001b[0m \u001b[0mnp\u001b[0m\u001b[0;34m.\u001b[0m\u001b[0mlinalg\u001b[0m\u001b[0;34m.\u001b[0m\u001b[0mpinv\u001b[0m\u001b[0;34m(\u001b[0m\u001b[0mnp\u001b[0m\u001b[0;34m.\u001b[0m\u001b[0mtranspose\u001b[0m\u001b[0;34m(\u001b[0m\u001b[0mcurr_antonym_vector\u001b[0m\u001b[0;34m)\u001b[0m\u001b[0;34m)\u001b[0m\u001b[0;34m\u001b[0m\u001b[0;34m\u001b[0m\u001b[0m\n\u001b[0;32m----> 4\u001b[0;31m     \u001b[0mtransform_to_antonym_space\u001b[0m\u001b[0;34m(\u001b[0m\u001b[0mcurrent_model\u001b[0m\u001b[0;34m,\u001b[0m \u001b[0membedding_path\u001b[0m\u001b[0;34m,\u001b[0m \u001b[0mbinary\u001b[0m\u001b[0;34m,\u001b[0m\u001b[0mcurr_antonymy_vector_inverse\u001b[0m\u001b[0;34m)\u001b[0m\u001b[0;34m\u001b[0m\u001b[0;34m\u001b[0m\u001b[0m\n\u001b[0m",
            "\u001b[0;32m<ipython-input-33-5787790fa7f9>\u001b[0m in \u001b[0;36mtransform_to_antonym_space\u001b[0;34m(current_model, output_file_path, binary, current_antonymy_vector_inverse)\u001b[0m\n\u001b[1;32m      6\u001b[0m \u001b[0;34m\u001b[0m\u001b[0m\n\u001b[1;32m      7\u001b[0m     \u001b[0;32mif\u001b[0m \u001b[0mbinary\u001b[0m\u001b[0;34m:\u001b[0m\u001b[0;34m\u001b[0m\u001b[0;34m\u001b[0m\u001b[0m\n\u001b[0;32m----> 8\u001b[0;31m         \u001b[0mtemp_file\u001b[0m \u001b[0;34m=\u001b[0m \u001b[0mopen\u001b[0m\u001b[0;34m(\u001b[0m\u001b[0moutput_file_path\u001b[0m\u001b[0;34m,\u001b[0m\u001b[0;34m'wb'\u001b[0m\u001b[0;34m)\u001b[0m\u001b[0;34m\u001b[0m\u001b[0;34m\u001b[0m\u001b[0m\n\u001b[0m\u001b[1;32m      9\u001b[0m         \u001b[0mtemp_file\u001b[0m\u001b[0;34m.\u001b[0m\u001b[0mwrite\u001b[0m\u001b[0;34m(\u001b[0m\u001b[0mstr\u001b[0m\u001b[0;34m.\u001b[0m\u001b[0mencode\u001b[0m\u001b[0;34m(\u001b[0m\u001b[0mstr\u001b[0m\u001b[0;34m(\u001b[0m\u001b[0mlen\u001b[0m\u001b[0;34m(\u001b[0m\u001b[0mcurrent_model\u001b[0m\u001b[0;34m.\u001b[0m\u001b[0mvocab\u001b[0m\u001b[0;34m)\u001b[0m\u001b[0;34m)\u001b[0m\u001b[0;34m+\u001b[0m\u001b[0;34m' '\u001b[0m\u001b[0;34m+\u001b[0m\u001b[0mstr\u001b[0m\u001b[0;34m(\u001b[0m\u001b[0membedding_size\u001b[0m\u001b[0;34m)\u001b[0m\u001b[0;34m+\u001b[0m\u001b[0;34m'\\n'\u001b[0m\u001b[0;34m)\u001b[0m\u001b[0;34m)\u001b[0m\u001b[0;34m\u001b[0m\u001b[0;34m\u001b[0m\u001b[0m\n\u001b[1;32m     10\u001b[0m     \u001b[0;32melse\u001b[0m\u001b[0;34m:\u001b[0m\u001b[0;34m\u001b[0m\u001b[0;34m\u001b[0m\u001b[0m\n",
            "\u001b[0;31mFileNotFoundError\u001b[0m: [Errno 2] No such file or directory: 'Downstream Task/embeddings/rand_antonym_500.bin'"
          ]
        },
        {
          "output_type": "stream",
          "name": "stdout",
          "text": [
            "time: 539 ms (started: 2022-03-20 22:54:50 +00:00)\n"
          ]
        }
      ]
    },
    {
      "cell_type": "code",
      "source": [
        "import pandas as pd"
      ],
      "metadata": {
        "colab": {
          "base_uri": "https://localhost:8080/"
        },
        "id": "KiPcCHxrit9O",
        "outputId": "2fdee41d-8387-4e8e-afdf-7dd472d8abde"
      },
      "execution_count": 45,
      "outputs": [
        {
          "output_type": "stream",
          "name": "stdout",
          "text": [
            "time: 1.24 ms (started: 2022-03-20 23:11:46 +00:00)\n"
          ]
        }
      ]
    },
    {
      "cell_type": "code",
      "source": [
        "company = pd.read_csv('glove-ticker-fortune1000-us.csv')\n",
        "ticker_list = company['Ticker'].str.lower()\n"
      ],
      "metadata": {
        "colab": {
          "base_uri": "https://localhost:8080/"
        },
        "id": "3-lvKZaGmdjM",
        "outputId": "425e0045-bbb7-4e66-c932-940939f64895"
      },
      "execution_count": 54,
      "outputs": [
        {
          "output_type": "stream",
          "name": "stdout",
          "text": [
            "time: 34.1 ms (started: 2022-03-20 23:14:43 +00:00)\n"
          ]
        }
      ]
    },
    {
      "cell_type": "code",
      "source": [
        "ticker_word_embedding = dict()\n",
        "for ticker in ticker_list:\n",
        "  ticker_word_embedding[ticker] = current_model[ticker]"
      ],
      "metadata": {
        "colab": {
          "base_uri": "https://localhost:8080/"
        },
        "id": "ydzPSrjkmlWw",
        "outputId": "aaa29721-1c1e-4d3f-e13e-b8e0bc409d0a"
      },
      "execution_count": 62,
      "outputs": [
        {
          "output_type": "stream",
          "name": "stdout",
          "text": [
            "time: 6.63 ms (started: 2022-03-20 23:20:38 +00:00)\n"
          ]
        }
      ]
    },
    {
      "cell_type": "code",
      "source": [
        "def transform_to_antonym_space(current_model, output_file_path, binary, current_antonymy_vector_inverse):\n",
        "\n",
        "    temp_dict = dict()\n",
        "\n",
        "    embedding_size = current_antonymy_vector_inverse.shape[0]   ##CHANGE THIS ACCORDINGLY!!!\n",
        "    print('New model size is',len(current_model), embedding_size)\n",
        "\n",
        "    temp_file = None\n",
        "    \n",
        "    if binary:\n",
        "        temp_file = open(output_file_path,'wb')\n",
        "        temp_file.write(str.encode(str(len(current_model))+' '+str(embedding_size)+'\\n'))\n",
        "    else:\n",
        "        temp_file = open(output_file_path,'w')\n",
        "        temp_file.write(str(len(current_model))+' '+str(embedding_size)+'\\n')\n",
        "\n",
        "    total_words = 0\n",
        "    for each_word in tqdm(current_model):\n",
        "        total_words += 1\n",
        "        if binary:\n",
        "            temp_file.write(str.encode(each_word+' '))\n",
        "        else:\n",
        "            temp_file.write(each_word+' ')\n",
        "\n",
        "        new_vector = np.matmul(current_antonymy_vector_inverse,current_model[each_word])\n",
        "\n",
        "        new_vector = new_vector/linalg.norm(new_vector)\n",
        "        temp_dict[each_word] = new_vector\n",
        "        \n",
        "        if binary:\n",
        "            temp_file.write(new_vector)\n",
        "            temp_file.write(str.encode('\\n'))\n",
        "        else:\n",
        "            temp_file.write(str(new_vector))\n",
        "            temp_file.write('\\n')\n",
        "\n",
        "\n",
        "    temp_file.close()\n",
        "    return temp_dict"
      ],
      "metadata": {
        "colab": {
          "base_uri": "https://localhost:8080/"
        },
        "id": "v8FYzh0kmtD1",
        "outputId": "d99c6cbb-51a1-4453-c32f-c2b73fffc66c"
      },
      "execution_count": 81,
      "outputs": [
        {
          "output_type": "stream",
          "name": "stdout",
          "text": [
            "time: 64.1 ms (started: 2022-03-20 23:27:41 +00:00)\n"
          ]
        }
      ]
    },
    {
      "cell_type": "code",
      "source": [
        "ticker_new_embedding = generate_embedding_path(ticker_word_embedding, 'test_run',True ,random_antonym_vector,500)"
      ],
      "metadata": {
        "colab": {
          "base_uri": "https://localhost:8080/",
          "height": 140,
          "referenced_widgets": [
            "011770e647314aa2b5311d5c83d29824",
            "e58411214a7644ccb3af4f4ee5e86e85",
            "00c259b8c4a34779ac80243e98191088",
            "d1ff4316be104b868f19776dc03ecd00",
            "80b47ec9bd944f69bfa8e1e9b7dd9220",
            "7b3cd462ca78410dbf4a4814988fdd58",
            "9624f068c88d4ab2955b9cbb4d042842",
            "17ccda25ecf5445b9815943b1d6e8a3a",
            "5e421b42c7c345af862a3ee8e91c7f54",
            "cbd66f805ab14849a0ec1692f1779e43",
            "0e069d90eab74975a1a468dfda72c35d"
          ]
        },
        "id": "MEpTsjOunpiQ",
        "outputId": "dc0cbf73-034b-4acd-85b1-c95236980e8a"
      },
      "execution_count": 82,
      "outputs": [
        {
          "output_type": "stream",
          "name": "stdout",
          "text": [
            "New model size is 892 500\n"
          ]
        },
        {
          "output_type": "stream",
          "name": "stderr",
          "text": [
            "/usr/local/lib/python3.7/dist-packages/ipykernel_launcher.py:18: TqdmDeprecationWarning: This function will be removed in tqdm==5.0.0\n",
            "Please use `tqdm.notebook.tqdm` instead of `tqdm.tqdm_notebook`\n"
          ]
        },
        {
          "output_type": "display_data",
          "data": {
            "text/plain": [
              "  0%|          | 0/892 [00:00<?, ?it/s]"
            ],
            "application/vnd.jupyter.widget-view+json": {
              "version_major": 2,
              "version_minor": 0,
              "model_id": "011770e647314aa2b5311d5c83d29824"
            }
          },
          "metadata": {}
        },
        {
          "output_type": "stream",
          "name": "stdout",
          "text": [
            "time: 293 ms (started: 2022-03-20 23:27:44 +00:00)\n"
          ]
        }
      ]
    },
    {
      "cell_type": "code",
      "source": [
        "list_antonym[random_antonym_vector[0]]"
      ],
      "metadata": {
        "colab": {
          "base_uri": "https://localhost:8080/"
        },
        "id": "iKwLdpclpTgB",
        "outputId": "9f20d783-34c6-46e7-d211-a42c57105b1b"
      },
      "execution_count": 76,
      "outputs": [
        {
          "output_type": "execute_result",
          "data": {
            "text/plain": [
              "('convict', 'pardon')"
            ]
          },
          "metadata": {},
          "execution_count": 76
        },
        {
          "output_type": "stream",
          "name": "stdout",
          "text": [
            "time: 4.5 ms (started: 2022-03-20 23:25:43 +00:00)\n"
          ]
        }
      ]
    },
    {
      "cell_type": "code",
      "source": [
        "ticker_new_embedding.keys()"
      ],
      "metadata": {
        "colab": {
          "base_uri": "https://localhost:8080/"
        },
        "id": "LNCt9ZqvpUU_",
        "outputId": "c6187bfd-3e4a-43df-9be8-503806cb816a"
      },
      "execution_count": 85,
      "outputs": [
        {
          "output_type": "execute_result",
          "data": {
            "text/plain": [
              "dict_keys(['wmt', 'amzn', 'xom', 'aapl', 'cvs', 'brka', 'unh', 'mck', 't', 'abc', 'googl', 'f', 'ci', 'cost', 'cvx', 'cah', 'jpm', 'gm', 'wba', 'vz', 'msft', 'mpc', 'kr', 'fnma', 'bac', 'hd', 'psx', 'cmcsa', 'antm', 'wfc', 'c', 'vlo', 'ge', 'dell', 'jnj', 'tgt', 'ibm', 'rtx', 'ba', 'fmcc', 'cnc', 'ups', 'low', 'intc', 'fb', 'fdx', 'met', 'dis', 'pg', 'pep', 'hum', 'pru', 'adm', 'aci', 'syy', 'lmt', 'hpq', 'et', 'gs', 'ms', 'cat', 'csco', 'pfe', 'hca', 'aig', 'axp', 'dal', 'mrk', 'aal', 'chtr', 'all', 'bby', 'ual', 'dow', 'tsn', 'tjx', 'orcl', 'gd', 'de', 'nke', 'pgr', 'ko', 'tecd', 'int', 'hon', 'cop', 'exc', 'noc', 'cof', 'pagp', 'abbv', 'epd', 'mmm', 'abt', 'trv', 'pm', 'hpe', 'arw', 'viac', 'dg', 'usb', 'sbux', 'bmy', 'mdlz', 'pcar', 'tmo', 'm', 'jbl', 'khc', 'duk', 'tsla', 'pbf', 'qcom', 'ngl', 'cbre', 'bkr', 'snx', 'dltr', 'cmi', 'unfi', 'mu', 'amgn', 'pag', 'v', 'avgo', 'nue', 'gild', 'luv', 'hal', 'lumn', 'ip', 'lly', 'afl', 'len', 'oxy', 'unp', 'rad', 'pnc', 'dd', 'so', 'an', 'dxc', 'mcd', 'mar', 'man', 'bk', 'hig', 'dhr', 'whr', 'acm', 'nflx', 'kss', 'lea', 'mo', 'avt', 'syf', 'gpc', 'nee', 'kmx', 'thc', 'kmb', 'emr', 'wrk', 'cdw', 'jll', 'shw', 'flr', 'dhi', 'hfc', 'ten', 'eog', 'bdx', 'lnc', 'pcg', 'crm', 'ma', 'gis', 'moh', 'ctsh', 'mmc', 'xpo', 'd', 'wdc', 'gps', 'pfg', 'rost', 'cl', 'aep', 'jwn', 'j', 'wm', 'chrw', 'ppg', 'omc', 'l', 'ecl', 'syk', 'el', 'gt', 'tfc', 'amat', 'blk', 'swk', 'fcx', 'txn', 'biib', 'ph', 'rga', 'hwm', 'adp', 'uber', 'itw', 'dva', 'dfs', 'vfc', 'ctva', 'lvs', 'txt', 'k', 'core', 'cyh', 'kmi', 'bj', 'stt', 'amp', 'glp', 'x', 'lb', 'mgm', 'lhx', 'dish', 'lad', 'dte', 'ed', 'lkq', 'sre', 'eix', 'cnp', 'pwr', 'musa', 'expe', 'gpi', 'bbby', 'unm', 'csx', 'azo', 'vst', 'schw', 'cck', 'ally', 'lh', 'lyv', 'xel', 'glw', 'gww', 'bll', 'foxa', 'uhs', 'bax', 'nsc', 'nav', 'adbe', 'jcp', 'disca', 'kdp', 'ldos', 'iqv', 'rs', 'nvda', 'etr', 'fe', 'ebay', 'bsx', 'odp', 'tap', 'stld', 'sah', 'aa', 'fis', 'hsic', 'rsg', 'ipg', 'phm', 'aes', 'fisv', 'bwa', 'oke', 'orly', 'aiz', 'nwl', 'peg', 'nwsa', 'mhk', 'pvh', 'cpb', 'nrg', 'fitb', 'htz', 'atus', 'nem', 'lng', 'aap', 'lrcx', 'omi', 'cag', 'mkl', 'hrl', 'hlt', 'uri', 'pxd', 'dk', 'emn', 'eme', 'car', 'jbht', 'xrx', 'w', 'kkr', 'agco', 'y', 'iep', 'voya', 'r', 'apd', 'mos', 'hii', 'bery', 'alk', 'dks', 'gnw', 'trgp', 'coty', 'dan', 'alv', 'sptn', 'es', 'dri', 'nov', 'fnf', 'osk', 'casy', 'wcc', 'tsco', 'comm', 'hun', 'afg', 'mas', 'sanm', 'aph', 'wmb', 'wab', 'expd', 'ande', 'wlk', 'stz', 'jblu', 'cfg', 'rjf', 'fl', 'hsy', 'zbh', 'cinf', 'wrb', 'msi', 'tho', 'regn', 'spr', 'sjm', 'ppl', 'nsit', 'dgx', 'key', 'dcp', 'amt', 'wec', 'nvr', 'ulta', 'dvn', 'bx', 'ftv', 'ugi', 'burl', 'bldr', 'tol', 'ori', 'abg', 'ajg', 'mtz', 'oc', 'mgln', 'dov', 'becn', 'avy', 'hbi', 'pkg', 'mtb', 'ncr', 'ntrs', 'ctas', 'pii', 'cms', 'seb', 'intu', 'rf', 'amd', 'ovv', 'bah', 'rok', 'oi', 'wynn', 'ads', 'wy', 'bhf', 'ice', 'axl', 'hes', 'abm', 'atvi', 'gme', 'apa', 'saic', 'dds', 'rl', 'ce', 'rrd', 'zts', 'asna', 'clx', 'ingr', 'faf', 'gpk', 'ntap', 'ta', 'oln', 'rhi', 'avtr', 'tpr', 'adi', 'aee', 'wsm', 'cmc', 'ben', 'fbhs', 'levi', 'cci', 'spg', 'cern', 'post', 'hban', 'kbr', 'sfm', 'lpla', 'trow', 'yum', 'cmg', 'pdco', 'rpm', 'eqix', 'navi', 'cc', 'on', 'tdg', 'hst', 'sem', 'parr', 'son', 'rop', 'hog', 'jef', 'kelya', 'mchp', 'mkc', 'mdu', 'fast', 'big', 'penn', 'wu', 'uaa', 'xyl', 'skx', 'ufs', 'ni', 'mro', 'tds', 'a', 'ame', 'iff', 'adt', 'well', 'mik', 'h', 'alxn', 'rezi', 'caci', 'ea', 'vmc', 'ths', 'gpn', 'thg', 'cwh', 'cnr', 'yell', 'cme', 'knx', 'mco', 'coke', 'csl', 'see', 'wso', 'iac', 'leg', 'omf', 'sndr', 'mlm', 'has', 'sq', 'tex', 'fmc', 'bcc', 'ssnc', 'clr', 'btu', 'ehc', 'gef', 'hubb', 'cf', 'klac', 'gen', 'bc', 'kbh', 'gl', 'mat', 'ryi', 'slgn', 'zbra', 'isrg', 'wmg', 'tpc', 'jnpr', 'vrt', 'eqt', 'ufpi', 'dbd', 'ar', 'mtor', 'br', 'chd', 'vac', 'ew', 'cfx', 'nsp', 'aeo', 'keys', 'jeld', 'irm', 'ndaq', 'it', 'sbgi', 'mnst', 'mur', 'vrtx', 'frc', 'spb', 'quad', 'flo', 'ati', 'odfl', 'lstr', 'anat', 'sna', 'bkd', 'amkr', 'wynd', 'ppd', 'xray', 'cno', 'urbn', 'sabr', 'mcy', 'fang', 'psn', 'aan', 'fls', 'asgn', 'sbh', 'scsc', 'vtr', 'tnet', 'save', 'cma', 'lii', 'tkr', 'payx', 'uhal', 'wor', 'lw', 'laur', 'bco', 'ayi', 'hubg', 'mth', 'mrc', 'lnt', 'wday', 'anf', 'dpz', 'lyft', 'mdp', 'awk', 'alb', 'cien', 'wmk', 'ilmn', 'sivb', 'cri', 'sf', 'md', 'efx', 'kar', 'ash', 'srlp', 'smci', 'dbi', 'pbi', 'ait', 'pnw', 'ael', 'now', 'twtr', 'clmt', 'scs', 'safm', 'clh', 'sgms', 'gva', 'cg', 'swks', 'gts', 'holx', 'tgi', 'dar', 'msm', 'snps', 'pol', 'dy', 'cbt', 'pld', 'byd', 'bfb', 'srcl', 'cit', 'mdc', 'hy', 'cr', 'cnk', 'adsk', 'trmb', 'gtx', 'zion', 'rbc', 'sci', 'var', 'psmt', 'eat', 'dlr', 'pool', 'plxs', 'tdy', 'giii', 'smg', 'apo', 'ttc', 'swx', 'gms', 'cps', 'achc', 'ttek', 'prim', 'tpx', 'hrb', 'tph', 'cbrl', 'elan', 'prah', 'fslr', 'amcx', 'xlnx', 'gpre', 'colm', 'nxst', 'swn', 'gbx', 'ctxs', 'mtd', 'trn', 'leco', 'aos', 'arcb', 'skyw', 'bxp', 'midd', 'dnow', 'uis', 'vc', 'ghc', 'rfp', 'cal', 'agnc', 'hrc', 'moga', 'ato', 'wwd', 'panw', 'ful', 'akam', 'mms', 'pki', 'he', 'ksu', 'atr', 'psa', 'sigi', 'itt', 'dci', 'pk', 'kex', 'ha', 'bpop', 'rrc', 'ens', 'hp', 'vmi', 'pae', 'txrh', 'ctb', 'eeft', 'zg', 'aaww', 'enr', 'mmp', 'hain', 'eqr', 'alsn', 'clny', 'ttmi', 'cco', 'ges', 'rcii', 'ttwo', 'vsh', 'tru', 'coo', 'flt', 'rh', 'regi', 'bxc', 'crc', 'bld', 'crl', 'fix', 'vrsk', 'rmd', 'tfx', 'njr', 'nrz', 'ibkr', 'mlhr', 'go', 'ccs', 'czr', 'ctlt', 'itri', 'mho', 'cboe', 'iex', 'bdc', 'cw', 'cake', 'gel', 'geo', 'pten', 'wern', 'ir', 'vrs', 'mli', 'nus', 'rev', 'anet', 'idxx', 'algn', 'wat', 'snv', 'bv', 'bro', 'vvv', 'cent', 'crs', 'slm', 'kmt', 'lcii', 'tbi', 'xec', 'splk', 'site', 'hxl', 'fcn', 'prty', 'patk', 'cdns', 'cdk', 'avb', 'wnc', 'svc', 'mxim', 'pbct', 'bio', 'lpx', 'tgna', 'ter', 'arch', 'epam', 'amr', 'ensg', 'fhn', 'www', 'mtn', 'bhe', 'hni', 'ffiv', 'amg', 'oge', 'uvv', 'bokf', 'mant', 'sum', 'amn', 'grpn', 'fosl', 'mod', 'gff', 'gnrc', 'matx', 'gco', 'ndsn', 'neu', 'echo', 'rxn', 'incy', 'ftnt', 'fbm', 'air', 'ctrc', 'epc', 'schn', 'por', 'gtn', 'bgcp', 'sats', 'bzh', 'lhcg', 'serv', 'brkr', 'oas', 'capl', 'vsat', 'gnc', 'cog', 'bfam', 'vsto', 'hei', 'wh', 'tcf', 'pri', 'pump', 'oii', 'fnd', 'cprt', 'chs', 'bned', 'maxr', 'evr', 'deck', 'expr', 'hov', 'al', 'rol', 'sbac', 'dlx', 'coop', 'hri', 'peak', 'flow'])"
            ]
          },
          "metadata": {},
          "execution_count": 85
        },
        {
          "output_type": "stream",
          "name": "stdout",
          "text": [
            "time: 3.05 ms (started: 2022-03-20 23:28:08 +00:00)\n"
          ]
        }
      ]
    },
    {
      "cell_type": "code",
      "source": [
        "ticker_new_embedding['amzn'][0]"
      ],
      "metadata": {
        "colab": {
          "base_uri": "https://localhost:8080/"
        },
        "id": "79JrIgBIpfhC",
        "outputId": "fda48a68-6133-431b-8b7c-9312e5a2ec0f"
      },
      "execution_count": 96,
      "outputs": [
        {
          "output_type": "execute_result",
          "data": {
            "text/plain": [
              "0.02343967"
            ]
          },
          "metadata": {},
          "execution_count": 96
        },
        {
          "output_type": "stream",
          "name": "stdout",
          "text": [
            "time: 5.87 ms (started: 2022-03-20 23:31:40 +00:00)\n"
          ]
        }
      ]
    },
    {
      "cell_type": "code",
      "source": [
        "antonym_500 = [list_antonym[x] for x in random_antonym_vector[:500]]"
      ],
      "metadata": {
        "colab": {
          "base_uri": "https://localhost:8080/"
        },
        "id": "7HB2G7BfqW_o",
        "outputId": "80dbf405-c98f-416c-b725-84b2d55dfe09"
      },
      "execution_count": 93,
      "outputs": [
        {
          "output_type": "stream",
          "name": "stdout",
          "text": [
            "time: 1.86 ms (started: 2022-03-20 23:30:49 +00:00)\n"
          ]
        }
      ]
    },
    {
      "cell_type": "code",
      "source": [
        "antonym_500[0]"
      ],
      "metadata": {
        "colab": {
          "base_uri": "https://localhost:8080/"
        },
        "id": "KFkDAfJ0qhe1",
        "outputId": "6376ad73-e922-41e9-f931-4dad7e68ffd9"
      },
      "execution_count": 95,
      "outputs": [
        {
          "output_type": "execute_result",
          "data": {
            "text/plain": [
              "('convict', 'pardon')"
            ]
          },
          "metadata": {},
          "execution_count": 95
        },
        {
          "output_type": "stream",
          "name": "stdout",
          "text": [
            "time: 8.7 ms (started: 2022-03-20 23:31:04 +00:00)\n"
          ]
        }
      ]
    },
    {
      "cell_type": "code",
      "source": [
        "def make_polar_dict(company_name, antonym, embedding, top_n = False, n = 10):\n",
        "  temp_dict = dict()\n",
        "  temp_polar = embedding[company_name]\n",
        "\n",
        "  if top_n:\n",
        "    idx = np.argsort([abs(x) for x in temp_polar])[-n:]\n",
        "    for i in idx:\n",
        "      print(antonym[i],temp_polar[i],'\\n')\n",
        "\n",
        "\n",
        "  if len(antonym) == len(temp_polar):\n",
        "    for a in range(len(antonym)):\n",
        "      temp_dict[antonym[a]] = temp_polar[a]\n",
        "    return temp_dict\n",
        "\n",
        "\n"
      ],
      "metadata": {
        "colab": {
          "base_uri": "https://localhost:8080/"
        },
        "id": "PfgCKlL2q19M",
        "outputId": "093cd22f-2e27-481a-bcb8-555e076b299c"
      },
      "execution_count": 116,
      "outputs": [
        {
          "output_type": "stream",
          "name": "stdout",
          "text": [
            "time: 9.92 ms (started: 2022-03-20 23:51:24 +00:00)\n"
          ]
        }
      ]
    },
    {
      "cell_type": "code",
      "source": [
        "jpm_polar = make_polar_dict('jpm', antonym_500, ticker_new_embedding, True)"
      ],
      "metadata": {
        "colab": {
          "base_uri": "https://localhost:8080/"
        },
        "id": "XUxbsrNQrPrG",
        "outputId": "d6b1125d-01f3-41d7-a76e-487540447a75"
      },
      "execution_count": 117,
      "outputs": [
        {
          "output_type": "stream",
          "name": "stdout",
          "text": [
            "('impossible', 'probable') -0.1047612 \n",
            "\n",
            "('distribution', 'hoarding') -0.10681351 \n",
            "\n",
            "('hail', 'snow') -0.10899254 \n",
            "\n",
            "('loathe', 'pine') 0.10918276 \n",
            "\n",
            "('kill', 'reanimate') 0.11325266 \n",
            "\n",
            "('sidewalk', 'street') -0.116916135 \n",
            "\n",
            "('school', 'work') -0.12668115 \n",
            "\n",
            "('apple', 'tomato') 0.13062128 \n",
            "\n",
            "('practice', 'theory') 0.13276422 \n",
            "\n",
            "('we', 'you') 0.14179388 \n",
            "\n",
            "time: 6.65 ms (started: 2022-03-20 23:51:28 +00:00)\n"
          ]
        }
      ]
    },
    {
      "cell_type": "code",
      "source": [
        "amzn_polar = make_polar_dict('amzn', antonym_500, ticker_new_embedding, True)"
      ],
      "metadata": {
        "colab": {
          "base_uri": "https://localhost:8080/"
        },
        "id": "PbBT5upWsLIg",
        "outputId": "ee8bf18d-b642-40c5-eb7b-3a2e282197aa"
      },
      "execution_count": 124,
      "outputs": [
        {
          "output_type": "stream",
          "name": "stdout",
          "text": [
            "('lop', 'secure') -0.100378804 \n",
            "\n",
            "('mate', 'split') -0.10372001 \n",
            "\n",
            "('cell', 'freedom') -0.109427296 \n",
            "\n",
            "('handle', 'spout') -0.11193576 \n",
            "\n",
            "('breathless', 'pulmonary') 0.1210895 \n",
            "\n",
            "('dash', 'dot') -0.12288282 \n",
            "\n",
            "('relax', 'toil') -0.12576644 \n",
            "\n",
            "('impossible', 'probable') -0.1387733 \n",
            "\n",
            "('loathe', 'pine') 0.15112714 \n",
            "\n",
            "('apple', 'tomato') 0.20126186 \n",
            "\n",
            "time: 2.97 ms (started: 2022-03-20 23:53:22 +00:00)\n"
          ]
        }
      ]
    },
    {
      "cell_type": "code",
      "source": [
        "wmt_polar = make_polar_dict('wmt', antonym_500, ticker_new_embedding, True)"
      ],
      "metadata": {
        "colab": {
          "base_uri": "https://localhost:8080/"
        },
        "id": "gXqlXK0At2Ce",
        "outputId": "1815335f-3329-4b96-b3a8-33ff55d80d1b"
      },
      "execution_count": 119,
      "outputs": [
        {
          "output_type": "stream",
          "name": "stdout",
          "text": [
            "('impossible', 'probable') -0.10529984 \n",
            "\n",
            "('lop', 'secure') -0.10963182 \n",
            "\n",
            "('consolidation', 'distribution') -0.114220284 \n",
            "\n",
            "('neglect', 'pontificate') 0.1146768 \n",
            "\n",
            "('recycle', 'waste') 0.11501446 \n",
            "\n",
            "('slowness', 'velocity') 0.11684404 \n",
            "\n",
            "('sidewalk', 'street') -0.11836764 \n",
            "\n",
            "('relax', 'toil') -0.122109905 \n",
            "\n",
            "('loathe', 'pine') 0.16148268 \n",
            "\n",
            "('apple', 'tomato') 0.1854346 \n",
            "\n",
            "time: 16 ms (started: 2022-03-20 23:52:01 +00:00)\n"
          ]
        }
      ]
    },
    {
      "cell_type": "code",
      "source": [
        "fb_polar = make_polar_dict('fb', antonym_500, ticker_new_embedding, True)"
      ],
      "metadata": {
        "colab": {
          "base_uri": "https://localhost:8080/"
        },
        "id": "yBNA8eZct-6V",
        "outputId": "9969c8ab-e69e-42a5-fbfe-85367e397c4b"
      },
      "execution_count": 123,
      "outputs": [
        {
          "output_type": "stream",
          "name": "stdout",
          "text": [
            "('appealing', 'gross') 0.11022391 \n",
            "\n",
            "('bush', 'tree') -0.11114963 \n",
            "\n",
            "('adult', 'small') -0.11564736 \n",
            "\n",
            "('impossible', 'probable') -0.12567075 \n",
            "\n",
            "('boss', 'worker') 0.12983803 \n",
            "\n",
            "('bumpy', 'level') -0.13134277 \n",
            "\n",
            "('careless', 'provident') -0.13689688 \n",
            "\n",
            "('adventure', 'lazy') -0.14274842 \n",
            "\n",
            "('cotton', 'wool') 0.14281982 \n",
            "\n",
            "('orange', 'tomato') 0.14545166 \n",
            "\n",
            "time: 13.5 ms (started: 2022-03-20 23:53:11 +00:00)\n"
          ]
        }
      ]
    },
    {
      "cell_type": "code",
      "source": [
        "wfc_polar = make_polar_dict('wfc', antonym_500, ticker_new_embedding, True) # wells fargo"
      ],
      "metadata": {
        "colab": {
          "base_uri": "https://localhost:8080/"
        },
        "id": "b-2diOQsuOIU",
        "outputId": "5f627b37-2a28-442b-fe7e-65dfecf5efce"
      },
      "execution_count": 121,
      "outputs": [
        {
          "output_type": "stream",
          "name": "stdout",
          "text": [
            "('earth', 'venus') 0.10587819 \n",
            "\n",
            "('rapid', 'slow') 0.106058866 \n",
            "\n",
            "('everybody', 'nobody') -0.10778228 \n",
            "\n",
            "('sidewalk', 'street') -0.113352574 \n",
            "\n",
            "('intense', 'mild') 0.11467203 \n",
            "\n",
            "('orange', 'tomato') -0.11647428 \n",
            "\n",
            "('detail', 'general') -0.12665822 \n",
            "\n",
            "('cement', 'mortar') 0.12883052 \n",
            "\n",
            "('practice', 'theory') 0.13569698 \n",
            "\n",
            "('recycle', 'waste') 0.13713722 \n",
            "\n",
            "time: 18.2 ms (started: 2022-03-20 23:52:44 +00:00)\n"
          ]
        }
      ]
    },
    {
      "cell_type": "code",
      "source": [
        ""
      ],
      "metadata": {
        "id": "ri2wRHvzu58Q"
      },
      "execution_count": null,
      "outputs": []
    }
  ],
  "metadata": {
    "accelerator": "GPU",
    "colab": {
      "name": "POLAR.ipynb",
      "provenance": []
    },
    "kernelspec": {
      "display_name": "Python 3",
      "name": "python3"
    },
    "language_info": {
      "name": "python"
    },
    "widgets": {
      "application/vnd.jupyter.widget-state+json": {
        "86101965873b4f3297a57d00ec7aaa06": {
          "model_module": "@jupyter-widgets/controls",
          "model_name": "HBoxModel",
          "model_module_version": "1.5.0",
          "state": {
            "_dom_classes": [],
            "_model_module": "@jupyter-widgets/controls",
            "_model_module_version": "1.5.0",
            "_model_name": "HBoxModel",
            "_view_count": null,
            "_view_module": "@jupyter-widgets/controls",
            "_view_module_version": "1.5.0",
            "_view_name": "HBoxView",
            "box_style": "",
            "children": [
              "IPY_MODEL_741fc3ff8d3f45abb4694b0b1a7719f0",
              "IPY_MODEL_bdb7b651ce1740bdb620190e6ad1329d",
              "IPY_MODEL_311e632c8d614cbcb5b5cf981299fa8f"
            ],
            "layout": "IPY_MODEL_969bba4632724a8fbbc222f2f9032178"
          }
        },
        "741fc3ff8d3f45abb4694b0b1a7719f0": {
          "model_module": "@jupyter-widgets/controls",
          "model_name": "HTMLModel",
          "model_module_version": "1.5.0",
          "state": {
            "_dom_classes": [],
            "_model_module": "@jupyter-widgets/controls",
            "_model_module_version": "1.5.0",
            "_model_name": "HTMLModel",
            "_view_count": null,
            "_view_module": "@jupyter-widgets/controls",
            "_view_module_version": "1.5.0",
            "_view_name": "HTMLView",
            "description": "",
            "description_tooltip": null,
            "layout": "IPY_MODEL_541b76eb5f094d1791ea837ee3d766bc",
            "placeholder": "​",
            "style": "IPY_MODEL_b1de71b603ff4c9c8b78e45dc10ac925",
            "value": "100%"
          }
        },
        "bdb7b651ce1740bdb620190e6ad1329d": {
          "model_module": "@jupyter-widgets/controls",
          "model_name": "FloatProgressModel",
          "model_module_version": "1.5.0",
          "state": {
            "_dom_classes": [],
            "_model_module": "@jupyter-widgets/controls",
            "_model_module_version": "1.5.0",
            "_model_name": "FloatProgressModel",
            "_view_count": null,
            "_view_module": "@jupyter-widgets/controls",
            "_view_module_version": "1.5.0",
            "_view_name": "ProgressView",
            "bar_style": "success",
            "description": "",
            "description_tooltip": null,
            "layout": "IPY_MODEL_a91b60fb737a4bd6b784bba090c5a9dc",
            "max": 1917494,
            "min": 0,
            "orientation": "horizontal",
            "style": "IPY_MODEL_3b95f59332434b9e9e9ceccafb122259",
            "value": 1917494
          }
        },
        "311e632c8d614cbcb5b5cf981299fa8f": {
          "model_module": "@jupyter-widgets/controls",
          "model_name": "HTMLModel",
          "model_module_version": "1.5.0",
          "state": {
            "_dom_classes": [],
            "_model_module": "@jupyter-widgets/controls",
            "_model_module_version": "1.5.0",
            "_model_name": "HTMLModel",
            "_view_count": null,
            "_view_module": "@jupyter-widgets/controls",
            "_view_module_version": "1.5.0",
            "_view_name": "HTMLView",
            "description": "",
            "description_tooltip": null,
            "layout": "IPY_MODEL_781ce3e070ce423baba3f3aba863f53d",
            "placeholder": "​",
            "style": "IPY_MODEL_2f7ce595c5a74de196d3857e89f7e272",
            "value": " 1917494/1917494 [00:51&lt;00:00, 36010.23it/s]"
          }
        },
        "969bba4632724a8fbbc222f2f9032178": {
          "model_module": "@jupyter-widgets/base",
          "model_name": "LayoutModel",
          "model_module_version": "1.2.0",
          "state": {
            "_model_module": "@jupyter-widgets/base",
            "_model_module_version": "1.2.0",
            "_model_name": "LayoutModel",
            "_view_count": null,
            "_view_module": "@jupyter-widgets/base",
            "_view_module_version": "1.2.0",
            "_view_name": "LayoutView",
            "align_content": null,
            "align_items": null,
            "align_self": null,
            "border": null,
            "bottom": null,
            "display": null,
            "flex": null,
            "flex_flow": null,
            "grid_area": null,
            "grid_auto_columns": null,
            "grid_auto_flow": null,
            "grid_auto_rows": null,
            "grid_column": null,
            "grid_gap": null,
            "grid_row": null,
            "grid_template_areas": null,
            "grid_template_columns": null,
            "grid_template_rows": null,
            "height": null,
            "justify_content": null,
            "justify_items": null,
            "left": null,
            "margin": null,
            "max_height": null,
            "max_width": null,
            "min_height": null,
            "min_width": null,
            "object_fit": null,
            "object_position": null,
            "order": null,
            "overflow": null,
            "overflow_x": null,
            "overflow_y": null,
            "padding": null,
            "right": null,
            "top": null,
            "visibility": null,
            "width": null
          }
        },
        "541b76eb5f094d1791ea837ee3d766bc": {
          "model_module": "@jupyter-widgets/base",
          "model_name": "LayoutModel",
          "model_module_version": "1.2.0",
          "state": {
            "_model_module": "@jupyter-widgets/base",
            "_model_module_version": "1.2.0",
            "_model_name": "LayoutModel",
            "_view_count": null,
            "_view_module": "@jupyter-widgets/base",
            "_view_module_version": "1.2.0",
            "_view_name": "LayoutView",
            "align_content": null,
            "align_items": null,
            "align_self": null,
            "border": null,
            "bottom": null,
            "display": null,
            "flex": null,
            "flex_flow": null,
            "grid_area": null,
            "grid_auto_columns": null,
            "grid_auto_flow": null,
            "grid_auto_rows": null,
            "grid_column": null,
            "grid_gap": null,
            "grid_row": null,
            "grid_template_areas": null,
            "grid_template_columns": null,
            "grid_template_rows": null,
            "height": null,
            "justify_content": null,
            "justify_items": null,
            "left": null,
            "margin": null,
            "max_height": null,
            "max_width": null,
            "min_height": null,
            "min_width": null,
            "object_fit": null,
            "object_position": null,
            "order": null,
            "overflow": null,
            "overflow_x": null,
            "overflow_y": null,
            "padding": null,
            "right": null,
            "top": null,
            "visibility": null,
            "width": null
          }
        },
        "b1de71b603ff4c9c8b78e45dc10ac925": {
          "model_module": "@jupyter-widgets/controls",
          "model_name": "DescriptionStyleModel",
          "model_module_version": "1.5.0",
          "state": {
            "_model_module": "@jupyter-widgets/controls",
            "_model_module_version": "1.5.0",
            "_model_name": "DescriptionStyleModel",
            "_view_count": null,
            "_view_module": "@jupyter-widgets/base",
            "_view_module_version": "1.2.0",
            "_view_name": "StyleView",
            "description_width": ""
          }
        },
        "a91b60fb737a4bd6b784bba090c5a9dc": {
          "model_module": "@jupyter-widgets/base",
          "model_name": "LayoutModel",
          "model_module_version": "1.2.0",
          "state": {
            "_model_module": "@jupyter-widgets/base",
            "_model_module_version": "1.2.0",
            "_model_name": "LayoutModel",
            "_view_count": null,
            "_view_module": "@jupyter-widgets/base",
            "_view_module_version": "1.2.0",
            "_view_name": "LayoutView",
            "align_content": null,
            "align_items": null,
            "align_self": null,
            "border": null,
            "bottom": null,
            "display": null,
            "flex": null,
            "flex_flow": null,
            "grid_area": null,
            "grid_auto_columns": null,
            "grid_auto_flow": null,
            "grid_auto_rows": null,
            "grid_column": null,
            "grid_gap": null,
            "grid_row": null,
            "grid_template_areas": null,
            "grid_template_columns": null,
            "grid_template_rows": null,
            "height": null,
            "justify_content": null,
            "justify_items": null,
            "left": null,
            "margin": null,
            "max_height": null,
            "max_width": null,
            "min_height": null,
            "min_width": null,
            "object_fit": null,
            "object_position": null,
            "order": null,
            "overflow": null,
            "overflow_x": null,
            "overflow_y": null,
            "padding": null,
            "right": null,
            "top": null,
            "visibility": null,
            "width": null
          }
        },
        "3b95f59332434b9e9e9ceccafb122259": {
          "model_module": "@jupyter-widgets/controls",
          "model_name": "ProgressStyleModel",
          "model_module_version": "1.5.0",
          "state": {
            "_model_module": "@jupyter-widgets/controls",
            "_model_module_version": "1.5.0",
            "_model_name": "ProgressStyleModel",
            "_view_count": null,
            "_view_module": "@jupyter-widgets/base",
            "_view_module_version": "1.2.0",
            "_view_name": "StyleView",
            "bar_color": null,
            "description_width": ""
          }
        },
        "781ce3e070ce423baba3f3aba863f53d": {
          "model_module": "@jupyter-widgets/base",
          "model_name": "LayoutModel",
          "model_module_version": "1.2.0",
          "state": {
            "_model_module": "@jupyter-widgets/base",
            "_model_module_version": "1.2.0",
            "_model_name": "LayoutModel",
            "_view_count": null,
            "_view_module": "@jupyter-widgets/base",
            "_view_module_version": "1.2.0",
            "_view_name": "LayoutView",
            "align_content": null,
            "align_items": null,
            "align_self": null,
            "border": null,
            "bottom": null,
            "display": null,
            "flex": null,
            "flex_flow": null,
            "grid_area": null,
            "grid_auto_columns": null,
            "grid_auto_flow": null,
            "grid_auto_rows": null,
            "grid_column": null,
            "grid_gap": null,
            "grid_row": null,
            "grid_template_areas": null,
            "grid_template_columns": null,
            "grid_template_rows": null,
            "height": null,
            "justify_content": null,
            "justify_items": null,
            "left": null,
            "margin": null,
            "max_height": null,
            "max_width": null,
            "min_height": null,
            "min_width": null,
            "object_fit": null,
            "object_position": null,
            "order": null,
            "overflow": null,
            "overflow_x": null,
            "overflow_y": null,
            "padding": null,
            "right": null,
            "top": null,
            "visibility": null,
            "width": null
          }
        },
        "2f7ce595c5a74de196d3857e89f7e272": {
          "model_module": "@jupyter-widgets/controls",
          "model_name": "DescriptionStyleModel",
          "model_module_version": "1.5.0",
          "state": {
            "_model_module": "@jupyter-widgets/controls",
            "_model_module_version": "1.5.0",
            "_model_name": "DescriptionStyleModel",
            "_view_count": null,
            "_view_module": "@jupyter-widgets/base",
            "_view_module_version": "1.2.0",
            "_view_name": "StyleView",
            "description_width": ""
          }
        },
        "51f942e782d0460291a8576ce612f1bd": {
          "model_module": "@jupyter-widgets/controls",
          "model_name": "HBoxModel",
          "model_module_version": "1.5.0",
          "state": {
            "_dom_classes": [],
            "_model_module": "@jupyter-widgets/controls",
            "_model_module_version": "1.5.0",
            "_model_name": "HBoxModel",
            "_view_count": null,
            "_view_module": "@jupyter-widgets/controls",
            "_view_module_version": "1.5.0",
            "_view_name": "HBoxView",
            "box_style": "",
            "children": [
              "IPY_MODEL_c02f4d4bbd484318a1869a7b42132e98",
              "IPY_MODEL_a8d1d791c71140c1973898e071ea4698",
              "IPY_MODEL_fd209af0fc254458bbf79ccb2c405bff"
            ],
            "layout": "IPY_MODEL_0af2fe8e8ccf47e482be50c604ebd08f"
          }
        },
        "c02f4d4bbd484318a1869a7b42132e98": {
          "model_module": "@jupyter-widgets/controls",
          "model_name": "HTMLModel",
          "model_module_version": "1.5.0",
          "state": {
            "_dom_classes": [],
            "_model_module": "@jupyter-widgets/controls",
            "_model_module_version": "1.5.0",
            "_model_name": "HTMLModel",
            "_view_count": null,
            "_view_module": "@jupyter-widgets/controls",
            "_view_module_version": "1.5.0",
            "_view_name": "HTMLView",
            "description": "",
            "description_tooltip": null,
            "layout": "IPY_MODEL_78ca1a27616b4d81b1c7f3bab431f588",
            "placeholder": "​",
            "style": "IPY_MODEL_a9e36ca2d8d640c1976bb5d2d9f4a00d",
            "value": "100%"
          }
        },
        "a8d1d791c71140c1973898e071ea4698": {
          "model_module": "@jupyter-widgets/controls",
          "model_name": "FloatProgressModel",
          "model_module_version": "1.5.0",
          "state": {
            "_dom_classes": [],
            "_model_module": "@jupyter-widgets/controls",
            "_model_module_version": "1.5.0",
            "_model_name": "FloatProgressModel",
            "_view_count": null,
            "_view_module": "@jupyter-widgets/controls",
            "_view_module_version": "1.5.0",
            "_view_name": "ProgressView",
            "bar_style": "success",
            "description": "",
            "description_tooltip": null,
            "layout": "IPY_MODEL_3986bcf715204ac49949b466fa3a4097",
            "max": 3110,
            "min": 0,
            "orientation": "horizontal",
            "style": "IPY_MODEL_205ec4f3367747e391bcfff57a73f950",
            "value": 3110
          }
        },
        "fd209af0fc254458bbf79ccb2c405bff": {
          "model_module": "@jupyter-widgets/controls",
          "model_name": "HTMLModel",
          "model_module_version": "1.5.0",
          "state": {
            "_dom_classes": [],
            "_model_module": "@jupyter-widgets/controls",
            "_model_module_version": "1.5.0",
            "_model_name": "HTMLModel",
            "_view_count": null,
            "_view_module": "@jupyter-widgets/controls",
            "_view_module_version": "1.5.0",
            "_view_name": "HTMLView",
            "description": "",
            "description_tooltip": null,
            "layout": "IPY_MODEL_f3e0c2873add4df99c0fcb4460c9efb9",
            "placeholder": "​",
            "style": "IPY_MODEL_b037af607cd946d1b480b82a1ed39bea",
            "value": " 3110/3110 [00:00&lt;00:00, 61843.53it/s]"
          }
        },
        "0af2fe8e8ccf47e482be50c604ebd08f": {
          "model_module": "@jupyter-widgets/base",
          "model_name": "LayoutModel",
          "model_module_version": "1.2.0",
          "state": {
            "_model_module": "@jupyter-widgets/base",
            "_model_module_version": "1.2.0",
            "_model_name": "LayoutModel",
            "_view_count": null,
            "_view_module": "@jupyter-widgets/base",
            "_view_module_version": "1.2.0",
            "_view_name": "LayoutView",
            "align_content": null,
            "align_items": null,
            "align_self": null,
            "border": null,
            "bottom": null,
            "display": null,
            "flex": null,
            "flex_flow": null,
            "grid_area": null,
            "grid_auto_columns": null,
            "grid_auto_flow": null,
            "grid_auto_rows": null,
            "grid_column": null,
            "grid_gap": null,
            "grid_row": null,
            "grid_template_areas": null,
            "grid_template_columns": null,
            "grid_template_rows": null,
            "height": null,
            "justify_content": null,
            "justify_items": null,
            "left": null,
            "margin": null,
            "max_height": null,
            "max_width": null,
            "min_height": null,
            "min_width": null,
            "object_fit": null,
            "object_position": null,
            "order": null,
            "overflow": null,
            "overflow_x": null,
            "overflow_y": null,
            "padding": null,
            "right": null,
            "top": null,
            "visibility": null,
            "width": null
          }
        },
        "78ca1a27616b4d81b1c7f3bab431f588": {
          "model_module": "@jupyter-widgets/base",
          "model_name": "LayoutModel",
          "model_module_version": "1.2.0",
          "state": {
            "_model_module": "@jupyter-widgets/base",
            "_model_module_version": "1.2.0",
            "_model_name": "LayoutModel",
            "_view_count": null,
            "_view_module": "@jupyter-widgets/base",
            "_view_module_version": "1.2.0",
            "_view_name": "LayoutView",
            "align_content": null,
            "align_items": null,
            "align_self": null,
            "border": null,
            "bottom": null,
            "display": null,
            "flex": null,
            "flex_flow": null,
            "grid_area": null,
            "grid_auto_columns": null,
            "grid_auto_flow": null,
            "grid_auto_rows": null,
            "grid_column": null,
            "grid_gap": null,
            "grid_row": null,
            "grid_template_areas": null,
            "grid_template_columns": null,
            "grid_template_rows": null,
            "height": null,
            "justify_content": null,
            "justify_items": null,
            "left": null,
            "margin": null,
            "max_height": null,
            "max_width": null,
            "min_height": null,
            "min_width": null,
            "object_fit": null,
            "object_position": null,
            "order": null,
            "overflow": null,
            "overflow_x": null,
            "overflow_y": null,
            "padding": null,
            "right": null,
            "top": null,
            "visibility": null,
            "width": null
          }
        },
        "a9e36ca2d8d640c1976bb5d2d9f4a00d": {
          "model_module": "@jupyter-widgets/controls",
          "model_name": "DescriptionStyleModel",
          "model_module_version": "1.5.0",
          "state": {
            "_model_module": "@jupyter-widgets/controls",
            "_model_module_version": "1.5.0",
            "_model_name": "DescriptionStyleModel",
            "_view_count": null,
            "_view_module": "@jupyter-widgets/base",
            "_view_module_version": "1.2.0",
            "_view_name": "StyleView",
            "description_width": ""
          }
        },
        "3986bcf715204ac49949b466fa3a4097": {
          "model_module": "@jupyter-widgets/base",
          "model_name": "LayoutModel",
          "model_module_version": "1.2.0",
          "state": {
            "_model_module": "@jupyter-widgets/base",
            "_model_module_version": "1.2.0",
            "_model_name": "LayoutModel",
            "_view_count": null,
            "_view_module": "@jupyter-widgets/base",
            "_view_module_version": "1.2.0",
            "_view_name": "LayoutView",
            "align_content": null,
            "align_items": null,
            "align_self": null,
            "border": null,
            "bottom": null,
            "display": null,
            "flex": null,
            "flex_flow": null,
            "grid_area": null,
            "grid_auto_columns": null,
            "grid_auto_flow": null,
            "grid_auto_rows": null,
            "grid_column": null,
            "grid_gap": null,
            "grid_row": null,
            "grid_template_areas": null,
            "grid_template_columns": null,
            "grid_template_rows": null,
            "height": null,
            "justify_content": null,
            "justify_items": null,
            "left": null,
            "margin": null,
            "max_height": null,
            "max_width": null,
            "min_height": null,
            "min_width": null,
            "object_fit": null,
            "object_position": null,
            "order": null,
            "overflow": null,
            "overflow_x": null,
            "overflow_y": null,
            "padding": null,
            "right": null,
            "top": null,
            "visibility": null,
            "width": null
          }
        },
        "205ec4f3367747e391bcfff57a73f950": {
          "model_module": "@jupyter-widgets/controls",
          "model_name": "ProgressStyleModel",
          "model_module_version": "1.5.0",
          "state": {
            "_model_module": "@jupyter-widgets/controls",
            "_model_module_version": "1.5.0",
            "_model_name": "ProgressStyleModel",
            "_view_count": null,
            "_view_module": "@jupyter-widgets/base",
            "_view_module_version": "1.2.0",
            "_view_name": "StyleView",
            "bar_color": null,
            "description_width": ""
          }
        },
        "f3e0c2873add4df99c0fcb4460c9efb9": {
          "model_module": "@jupyter-widgets/base",
          "model_name": "LayoutModel",
          "model_module_version": "1.2.0",
          "state": {
            "_model_module": "@jupyter-widgets/base",
            "_model_module_version": "1.2.0",
            "_model_name": "LayoutModel",
            "_view_count": null,
            "_view_module": "@jupyter-widgets/base",
            "_view_module_version": "1.2.0",
            "_view_name": "LayoutView",
            "align_content": null,
            "align_items": null,
            "align_self": null,
            "border": null,
            "bottom": null,
            "display": null,
            "flex": null,
            "flex_flow": null,
            "grid_area": null,
            "grid_auto_columns": null,
            "grid_auto_flow": null,
            "grid_auto_rows": null,
            "grid_column": null,
            "grid_gap": null,
            "grid_row": null,
            "grid_template_areas": null,
            "grid_template_columns": null,
            "grid_template_rows": null,
            "height": null,
            "justify_content": null,
            "justify_items": null,
            "left": null,
            "margin": null,
            "max_height": null,
            "max_width": null,
            "min_height": null,
            "min_width": null,
            "object_fit": null,
            "object_position": null,
            "order": null,
            "overflow": null,
            "overflow_x": null,
            "overflow_y": null,
            "padding": null,
            "right": null,
            "top": null,
            "visibility": null,
            "width": null
          }
        },
        "b037af607cd946d1b480b82a1ed39bea": {
          "model_module": "@jupyter-widgets/controls",
          "model_name": "DescriptionStyleModel",
          "model_module_version": "1.5.0",
          "state": {
            "_model_module": "@jupyter-widgets/controls",
            "_model_module_version": "1.5.0",
            "_model_name": "DescriptionStyleModel",
            "_view_count": null,
            "_view_module": "@jupyter-widgets/base",
            "_view_module_version": "1.2.0",
            "_view_name": "StyleView",
            "description_width": ""
          }
        },
        "2321d33a09d446bda2647f7730595493": {
          "model_module": "@jupyter-widgets/controls",
          "model_name": "HBoxModel",
          "model_module_version": "1.5.0",
          "state": {
            "_dom_classes": [],
            "_model_module": "@jupyter-widgets/controls",
            "_model_module_version": "1.5.0",
            "_model_name": "HBoxModel",
            "_view_count": null,
            "_view_module": "@jupyter-widgets/controls",
            "_view_module_version": "1.5.0",
            "_view_name": "HBoxView",
            "box_style": "",
            "children": [
              "IPY_MODEL_91ac1a8bafe84bd685854f907ca936f0",
              "IPY_MODEL_2998098d1dbf40a6b469a1376ab3cc0a",
              "IPY_MODEL_817401136352496aa938e7fe491caf38"
            ],
            "layout": "IPY_MODEL_4d7e347315104d96a7738e519d2690b0"
          }
        },
        "91ac1a8bafe84bd685854f907ca936f0": {
          "model_module": "@jupyter-widgets/controls",
          "model_name": "HTMLModel",
          "model_module_version": "1.5.0",
          "state": {
            "_dom_classes": [],
            "_model_module": "@jupyter-widgets/controls",
            "_model_module_version": "1.5.0",
            "_model_name": "HTMLModel",
            "_view_count": null,
            "_view_module": "@jupyter-widgets/controls",
            "_view_module_version": "1.5.0",
            "_view_name": "HTMLView",
            "description": "",
            "description_tooltip": null,
            "layout": "IPY_MODEL_6aeabd17c0f24fbf991c07d19cc7c551",
            "placeholder": "​",
            "style": "IPY_MODEL_43338f8fc0af4dc3b04b5bd020123910",
            "value": "100%"
          }
        },
        "2998098d1dbf40a6b469a1376ab3cc0a": {
          "model_module": "@jupyter-widgets/controls",
          "model_name": "FloatProgressModel",
          "model_module_version": "1.5.0",
          "state": {
            "_dom_classes": [],
            "_model_module": "@jupyter-widgets/controls",
            "_model_module_version": "1.5.0",
            "_model_name": "FloatProgressModel",
            "_view_count": null,
            "_view_module": "@jupyter-widgets/controls",
            "_view_module_version": "1.5.0",
            "_view_name": "ProgressView",
            "bar_style": "success",
            "description": "",
            "description_tooltip": null,
            "layout": "IPY_MODEL_407a07ead08f4dc68a5ea4d7b7863389",
            "max": 1468,
            "min": 0,
            "orientation": "horizontal",
            "style": "IPY_MODEL_ccb7f75901184cd19bd1031791df6477",
            "value": 1468
          }
        },
        "817401136352496aa938e7fe491caf38": {
          "model_module": "@jupyter-widgets/controls",
          "model_name": "HTMLModel",
          "model_module_version": "1.5.0",
          "state": {
            "_dom_classes": [],
            "_model_module": "@jupyter-widgets/controls",
            "_model_module_version": "1.5.0",
            "_model_name": "HTMLModel",
            "_view_count": null,
            "_view_module": "@jupyter-widgets/controls",
            "_view_module_version": "1.5.0",
            "_view_name": "HTMLView",
            "description": "",
            "description_tooltip": null,
            "layout": "IPY_MODEL_6250b36cc5c74e7b92165475e354a052",
            "placeholder": "​",
            "style": "IPY_MODEL_da0fe6db69c94d7599f9d2306d20fd1d",
            "value": " 1468/1468 [00:03&lt;00:00, 627.40it/s]"
          }
        },
        "4d7e347315104d96a7738e519d2690b0": {
          "model_module": "@jupyter-widgets/base",
          "model_name": "LayoutModel",
          "model_module_version": "1.2.0",
          "state": {
            "_model_module": "@jupyter-widgets/base",
            "_model_module_version": "1.2.0",
            "_model_name": "LayoutModel",
            "_view_count": null,
            "_view_module": "@jupyter-widgets/base",
            "_view_module_version": "1.2.0",
            "_view_name": "LayoutView",
            "align_content": null,
            "align_items": null,
            "align_self": null,
            "border": null,
            "bottom": null,
            "display": null,
            "flex": null,
            "flex_flow": null,
            "grid_area": null,
            "grid_auto_columns": null,
            "grid_auto_flow": null,
            "grid_auto_rows": null,
            "grid_column": null,
            "grid_gap": null,
            "grid_row": null,
            "grid_template_areas": null,
            "grid_template_columns": null,
            "grid_template_rows": null,
            "height": null,
            "justify_content": null,
            "justify_items": null,
            "left": null,
            "margin": null,
            "max_height": null,
            "max_width": null,
            "min_height": null,
            "min_width": null,
            "object_fit": null,
            "object_position": null,
            "order": null,
            "overflow": null,
            "overflow_x": null,
            "overflow_y": null,
            "padding": null,
            "right": null,
            "top": null,
            "visibility": null,
            "width": null
          }
        },
        "6aeabd17c0f24fbf991c07d19cc7c551": {
          "model_module": "@jupyter-widgets/base",
          "model_name": "LayoutModel",
          "model_module_version": "1.2.0",
          "state": {
            "_model_module": "@jupyter-widgets/base",
            "_model_module_version": "1.2.0",
            "_model_name": "LayoutModel",
            "_view_count": null,
            "_view_module": "@jupyter-widgets/base",
            "_view_module_version": "1.2.0",
            "_view_name": "LayoutView",
            "align_content": null,
            "align_items": null,
            "align_self": null,
            "border": null,
            "bottom": null,
            "display": null,
            "flex": null,
            "flex_flow": null,
            "grid_area": null,
            "grid_auto_columns": null,
            "grid_auto_flow": null,
            "grid_auto_rows": null,
            "grid_column": null,
            "grid_gap": null,
            "grid_row": null,
            "grid_template_areas": null,
            "grid_template_columns": null,
            "grid_template_rows": null,
            "height": null,
            "justify_content": null,
            "justify_items": null,
            "left": null,
            "margin": null,
            "max_height": null,
            "max_width": null,
            "min_height": null,
            "min_width": null,
            "object_fit": null,
            "object_position": null,
            "order": null,
            "overflow": null,
            "overflow_x": null,
            "overflow_y": null,
            "padding": null,
            "right": null,
            "top": null,
            "visibility": null,
            "width": null
          }
        },
        "43338f8fc0af4dc3b04b5bd020123910": {
          "model_module": "@jupyter-widgets/controls",
          "model_name": "DescriptionStyleModel",
          "model_module_version": "1.5.0",
          "state": {
            "_model_module": "@jupyter-widgets/controls",
            "_model_module_version": "1.5.0",
            "_model_name": "DescriptionStyleModel",
            "_view_count": null,
            "_view_module": "@jupyter-widgets/base",
            "_view_module_version": "1.2.0",
            "_view_name": "StyleView",
            "description_width": ""
          }
        },
        "407a07ead08f4dc68a5ea4d7b7863389": {
          "model_module": "@jupyter-widgets/base",
          "model_name": "LayoutModel",
          "model_module_version": "1.2.0",
          "state": {
            "_model_module": "@jupyter-widgets/base",
            "_model_module_version": "1.2.0",
            "_model_name": "LayoutModel",
            "_view_count": null,
            "_view_module": "@jupyter-widgets/base",
            "_view_module_version": "1.2.0",
            "_view_name": "LayoutView",
            "align_content": null,
            "align_items": null,
            "align_self": null,
            "border": null,
            "bottom": null,
            "display": null,
            "flex": null,
            "flex_flow": null,
            "grid_area": null,
            "grid_auto_columns": null,
            "grid_auto_flow": null,
            "grid_auto_rows": null,
            "grid_column": null,
            "grid_gap": null,
            "grid_row": null,
            "grid_template_areas": null,
            "grid_template_columns": null,
            "grid_template_rows": null,
            "height": null,
            "justify_content": null,
            "justify_items": null,
            "left": null,
            "margin": null,
            "max_height": null,
            "max_width": null,
            "min_height": null,
            "min_width": null,
            "object_fit": null,
            "object_position": null,
            "order": null,
            "overflow": null,
            "overflow_x": null,
            "overflow_y": null,
            "padding": null,
            "right": null,
            "top": null,
            "visibility": null,
            "width": null
          }
        },
        "ccb7f75901184cd19bd1031791df6477": {
          "model_module": "@jupyter-widgets/controls",
          "model_name": "ProgressStyleModel",
          "model_module_version": "1.5.0",
          "state": {
            "_model_module": "@jupyter-widgets/controls",
            "_model_module_version": "1.5.0",
            "_model_name": "ProgressStyleModel",
            "_view_count": null,
            "_view_module": "@jupyter-widgets/base",
            "_view_module_version": "1.2.0",
            "_view_name": "StyleView",
            "bar_color": null,
            "description_width": ""
          }
        },
        "6250b36cc5c74e7b92165475e354a052": {
          "model_module": "@jupyter-widgets/base",
          "model_name": "LayoutModel",
          "model_module_version": "1.2.0",
          "state": {
            "_model_module": "@jupyter-widgets/base",
            "_model_module_version": "1.2.0",
            "_model_name": "LayoutModel",
            "_view_count": null,
            "_view_module": "@jupyter-widgets/base",
            "_view_module_version": "1.2.0",
            "_view_name": "LayoutView",
            "align_content": null,
            "align_items": null,
            "align_self": null,
            "border": null,
            "bottom": null,
            "display": null,
            "flex": null,
            "flex_flow": null,
            "grid_area": null,
            "grid_auto_columns": null,
            "grid_auto_flow": null,
            "grid_auto_rows": null,
            "grid_column": null,
            "grid_gap": null,
            "grid_row": null,
            "grid_template_areas": null,
            "grid_template_columns": null,
            "grid_template_rows": null,
            "height": null,
            "justify_content": null,
            "justify_items": null,
            "left": null,
            "margin": null,
            "max_height": null,
            "max_width": null,
            "min_height": null,
            "min_width": null,
            "object_fit": null,
            "object_position": null,
            "order": null,
            "overflow": null,
            "overflow_x": null,
            "overflow_y": null,
            "padding": null,
            "right": null,
            "top": null,
            "visibility": null,
            "width": null
          }
        },
        "da0fe6db69c94d7599f9d2306d20fd1d": {
          "model_module": "@jupyter-widgets/controls",
          "model_name": "DescriptionStyleModel",
          "model_module_version": "1.5.0",
          "state": {
            "_model_module": "@jupyter-widgets/controls",
            "_model_module_version": "1.5.0",
            "_model_name": "DescriptionStyleModel",
            "_view_count": null,
            "_view_module": "@jupyter-widgets/base",
            "_view_module_version": "1.2.0",
            "_view_name": "StyleView",
            "description_width": ""
          }
        },
        "6e614fc2f3704579b545ff829aa17bb5": {
          "model_module": "@jupyter-widgets/controls",
          "model_name": "HBoxModel",
          "model_module_version": "1.5.0",
          "state": {
            "_dom_classes": [],
            "_model_module": "@jupyter-widgets/controls",
            "_model_module_version": "1.5.0",
            "_model_name": "HBoxModel",
            "_view_count": null,
            "_view_module": "@jupyter-widgets/controls",
            "_view_module_version": "1.5.0",
            "_view_name": "HBoxView",
            "box_style": "",
            "children": [
              "IPY_MODEL_d51f0dc428f74216ab498ac8eabc11e5",
              "IPY_MODEL_1a722488e6d04bc8af5451e216774dd1",
              "IPY_MODEL_12a5725e75054af5b0ff15eb3c26d151"
            ],
            "layout": "IPY_MODEL_77ddae69bfe940e992893031d4fd5626"
          }
        },
        "d51f0dc428f74216ab498ac8eabc11e5": {
          "model_module": "@jupyter-widgets/controls",
          "model_name": "HTMLModel",
          "model_module_version": "1.5.0",
          "state": {
            "_dom_classes": [],
            "_model_module": "@jupyter-widgets/controls",
            "_model_module_version": "1.5.0",
            "_model_name": "HTMLModel",
            "_view_count": null,
            "_view_module": "@jupyter-widgets/controls",
            "_view_module_version": "1.5.0",
            "_view_name": "HTMLView",
            "description": "",
            "description_tooltip": null,
            "layout": "IPY_MODEL_8baf2acdfc87474a8a72c2408017b783",
            "placeholder": "​",
            "style": "IPY_MODEL_ef7bed3866f141f780bd109fee51d023",
            "value": "100%"
          }
        },
        "1a722488e6d04bc8af5451e216774dd1": {
          "model_module": "@jupyter-widgets/controls",
          "model_name": "FloatProgressModel",
          "model_module_version": "1.5.0",
          "state": {
            "_dom_classes": [],
            "_model_module": "@jupyter-widgets/controls",
            "_model_module_version": "1.5.0",
            "_model_name": "FloatProgressModel",
            "_view_count": null,
            "_view_module": "@jupyter-widgets/controls",
            "_view_module_version": "1.5.0",
            "_view_name": "ProgressView",
            "bar_style": "success",
            "description": "",
            "description_tooltip": null,
            "layout": "IPY_MODEL_b7581b74690545b2a80789f42f1adcee",
            "max": 1468,
            "min": 0,
            "orientation": "horizontal",
            "style": "IPY_MODEL_76842ee579ad4083a2be84bc338b86a5",
            "value": 1468
          }
        },
        "12a5725e75054af5b0ff15eb3c26d151": {
          "model_module": "@jupyter-widgets/controls",
          "model_name": "HTMLModel",
          "model_module_version": "1.5.0",
          "state": {
            "_dom_classes": [],
            "_model_module": "@jupyter-widgets/controls",
            "_model_module_version": "1.5.0",
            "_model_name": "HTMLModel",
            "_view_count": null,
            "_view_module": "@jupyter-widgets/controls",
            "_view_module_version": "1.5.0",
            "_view_name": "HTMLView",
            "description": "",
            "description_tooltip": null,
            "layout": "IPY_MODEL_346372f4ff004fe48bdd91a732e8bbea",
            "placeholder": "​",
            "style": "IPY_MODEL_a50debed57c54cb28d2025ce778d51f3",
            "value": " 1468/1468 [00:00&lt;00:00, 18391.07it/s]"
          }
        },
        "77ddae69bfe940e992893031d4fd5626": {
          "model_module": "@jupyter-widgets/base",
          "model_name": "LayoutModel",
          "model_module_version": "1.2.0",
          "state": {
            "_model_module": "@jupyter-widgets/base",
            "_model_module_version": "1.2.0",
            "_model_name": "LayoutModel",
            "_view_count": null,
            "_view_module": "@jupyter-widgets/base",
            "_view_module_version": "1.2.0",
            "_view_name": "LayoutView",
            "align_content": null,
            "align_items": null,
            "align_self": null,
            "border": null,
            "bottom": null,
            "display": null,
            "flex": null,
            "flex_flow": null,
            "grid_area": null,
            "grid_auto_columns": null,
            "grid_auto_flow": null,
            "grid_auto_rows": null,
            "grid_column": null,
            "grid_gap": null,
            "grid_row": null,
            "grid_template_areas": null,
            "grid_template_columns": null,
            "grid_template_rows": null,
            "height": null,
            "justify_content": null,
            "justify_items": null,
            "left": null,
            "margin": null,
            "max_height": null,
            "max_width": null,
            "min_height": null,
            "min_width": null,
            "object_fit": null,
            "object_position": null,
            "order": null,
            "overflow": null,
            "overflow_x": null,
            "overflow_y": null,
            "padding": null,
            "right": null,
            "top": null,
            "visibility": null,
            "width": null
          }
        },
        "8baf2acdfc87474a8a72c2408017b783": {
          "model_module": "@jupyter-widgets/base",
          "model_name": "LayoutModel",
          "model_module_version": "1.2.0",
          "state": {
            "_model_module": "@jupyter-widgets/base",
            "_model_module_version": "1.2.0",
            "_model_name": "LayoutModel",
            "_view_count": null,
            "_view_module": "@jupyter-widgets/base",
            "_view_module_version": "1.2.0",
            "_view_name": "LayoutView",
            "align_content": null,
            "align_items": null,
            "align_self": null,
            "border": null,
            "bottom": null,
            "display": null,
            "flex": null,
            "flex_flow": null,
            "grid_area": null,
            "grid_auto_columns": null,
            "grid_auto_flow": null,
            "grid_auto_rows": null,
            "grid_column": null,
            "grid_gap": null,
            "grid_row": null,
            "grid_template_areas": null,
            "grid_template_columns": null,
            "grid_template_rows": null,
            "height": null,
            "justify_content": null,
            "justify_items": null,
            "left": null,
            "margin": null,
            "max_height": null,
            "max_width": null,
            "min_height": null,
            "min_width": null,
            "object_fit": null,
            "object_position": null,
            "order": null,
            "overflow": null,
            "overflow_x": null,
            "overflow_y": null,
            "padding": null,
            "right": null,
            "top": null,
            "visibility": null,
            "width": null
          }
        },
        "ef7bed3866f141f780bd109fee51d023": {
          "model_module": "@jupyter-widgets/controls",
          "model_name": "DescriptionStyleModel",
          "model_module_version": "1.5.0",
          "state": {
            "_model_module": "@jupyter-widgets/controls",
            "_model_module_version": "1.5.0",
            "_model_name": "DescriptionStyleModel",
            "_view_count": null,
            "_view_module": "@jupyter-widgets/base",
            "_view_module_version": "1.2.0",
            "_view_name": "StyleView",
            "description_width": ""
          }
        },
        "b7581b74690545b2a80789f42f1adcee": {
          "model_module": "@jupyter-widgets/base",
          "model_name": "LayoutModel",
          "model_module_version": "1.2.0",
          "state": {
            "_model_module": "@jupyter-widgets/base",
            "_model_module_version": "1.2.0",
            "_model_name": "LayoutModel",
            "_view_count": null,
            "_view_module": "@jupyter-widgets/base",
            "_view_module_version": "1.2.0",
            "_view_name": "LayoutView",
            "align_content": null,
            "align_items": null,
            "align_self": null,
            "border": null,
            "bottom": null,
            "display": null,
            "flex": null,
            "flex_flow": null,
            "grid_area": null,
            "grid_auto_columns": null,
            "grid_auto_flow": null,
            "grid_auto_rows": null,
            "grid_column": null,
            "grid_gap": null,
            "grid_row": null,
            "grid_template_areas": null,
            "grid_template_columns": null,
            "grid_template_rows": null,
            "height": null,
            "justify_content": null,
            "justify_items": null,
            "left": null,
            "margin": null,
            "max_height": null,
            "max_width": null,
            "min_height": null,
            "min_width": null,
            "object_fit": null,
            "object_position": null,
            "order": null,
            "overflow": null,
            "overflow_x": null,
            "overflow_y": null,
            "padding": null,
            "right": null,
            "top": null,
            "visibility": null,
            "width": null
          }
        },
        "76842ee579ad4083a2be84bc338b86a5": {
          "model_module": "@jupyter-widgets/controls",
          "model_name": "ProgressStyleModel",
          "model_module_version": "1.5.0",
          "state": {
            "_model_module": "@jupyter-widgets/controls",
            "_model_module_version": "1.5.0",
            "_model_name": "ProgressStyleModel",
            "_view_count": null,
            "_view_module": "@jupyter-widgets/base",
            "_view_module_version": "1.2.0",
            "_view_name": "StyleView",
            "bar_color": null,
            "description_width": ""
          }
        },
        "346372f4ff004fe48bdd91a732e8bbea": {
          "model_module": "@jupyter-widgets/base",
          "model_name": "LayoutModel",
          "model_module_version": "1.2.0",
          "state": {
            "_model_module": "@jupyter-widgets/base",
            "_model_module_version": "1.2.0",
            "_model_name": "LayoutModel",
            "_view_count": null,
            "_view_module": "@jupyter-widgets/base",
            "_view_module_version": "1.2.0",
            "_view_name": "LayoutView",
            "align_content": null,
            "align_items": null,
            "align_self": null,
            "border": null,
            "bottom": null,
            "display": null,
            "flex": null,
            "flex_flow": null,
            "grid_area": null,
            "grid_auto_columns": null,
            "grid_auto_flow": null,
            "grid_auto_rows": null,
            "grid_column": null,
            "grid_gap": null,
            "grid_row": null,
            "grid_template_areas": null,
            "grid_template_columns": null,
            "grid_template_rows": null,
            "height": null,
            "justify_content": null,
            "justify_items": null,
            "left": null,
            "margin": null,
            "max_height": null,
            "max_width": null,
            "min_height": null,
            "min_width": null,
            "object_fit": null,
            "object_position": null,
            "order": null,
            "overflow": null,
            "overflow_x": null,
            "overflow_y": null,
            "padding": null,
            "right": null,
            "top": null,
            "visibility": null,
            "width": null
          }
        },
        "a50debed57c54cb28d2025ce778d51f3": {
          "model_module": "@jupyter-widgets/controls",
          "model_name": "DescriptionStyleModel",
          "model_module_version": "1.5.0",
          "state": {
            "_model_module": "@jupyter-widgets/controls",
            "_model_module_version": "1.5.0",
            "_model_name": "DescriptionStyleModel",
            "_view_count": null,
            "_view_module": "@jupyter-widgets/base",
            "_view_module_version": "1.2.0",
            "_view_name": "StyleView",
            "description_width": ""
          }
        },
        "cf0ed7175c274a30b2a10fb9e8ce4741": {
          "model_module": "@jupyter-widgets/controls",
          "model_name": "HBoxModel",
          "model_module_version": "1.5.0",
          "state": {
            "_dom_classes": [],
            "_model_module": "@jupyter-widgets/controls",
            "_model_module_version": "1.5.0",
            "_model_name": "HBoxModel",
            "_view_count": null,
            "_view_module": "@jupyter-widgets/controls",
            "_view_module_version": "1.5.0",
            "_view_name": "HBoxView",
            "box_style": "",
            "children": [
              "IPY_MODEL_d112d7dea7f7427486b46581c9b04e25",
              "IPY_MODEL_67e4c9678af841628140bc269e72ec35",
              "IPY_MODEL_db3e71bb16664217806b5c67cd176cf3"
            ],
            "layout": "IPY_MODEL_8db15249c50a46deb2d98afe1cff1917"
          }
        },
        "d112d7dea7f7427486b46581c9b04e25": {
          "model_module": "@jupyter-widgets/controls",
          "model_name": "HTMLModel",
          "model_module_version": "1.5.0",
          "state": {
            "_dom_classes": [],
            "_model_module": "@jupyter-widgets/controls",
            "_model_module_version": "1.5.0",
            "_model_name": "HTMLModel",
            "_view_count": null,
            "_view_module": "@jupyter-widgets/controls",
            "_view_module_version": "1.5.0",
            "_view_name": "HTMLView",
            "description": "",
            "description_tooltip": null,
            "layout": "IPY_MODEL_8c14e5795ac84d2bb408b2c462189984",
            "placeholder": "​",
            "style": "IPY_MODEL_6052211018ab4641ba4496d8c88c68e0",
            "value": "100%"
          }
        },
        "67e4c9678af841628140bc269e72ec35": {
          "model_module": "@jupyter-widgets/controls",
          "model_name": "FloatProgressModel",
          "model_module_version": "1.5.0",
          "state": {
            "_dom_classes": [],
            "_model_module": "@jupyter-widgets/controls",
            "_model_module_version": "1.5.0",
            "_model_name": "FloatProgressModel",
            "_view_count": null,
            "_view_module": "@jupyter-widgets/controls",
            "_view_module_version": "1.5.0",
            "_view_name": "ProgressView",
            "bar_style": "success",
            "description": "",
            "description_tooltip": null,
            "layout": "IPY_MODEL_1a94b24301184a369d125ef25bbe6086",
            "max": 1468,
            "min": 0,
            "orientation": "horizontal",
            "style": "IPY_MODEL_b2ef8f618f12442cb8cf26703e5c449e",
            "value": 1468
          }
        },
        "db3e71bb16664217806b5c67cd176cf3": {
          "model_module": "@jupyter-widgets/controls",
          "model_name": "HTMLModel",
          "model_module_version": "1.5.0",
          "state": {
            "_dom_classes": [],
            "_model_module": "@jupyter-widgets/controls",
            "_model_module_version": "1.5.0",
            "_model_name": "HTMLModel",
            "_view_count": null,
            "_view_module": "@jupyter-widgets/controls",
            "_view_module_version": "1.5.0",
            "_view_name": "HTMLView",
            "description": "",
            "description_tooltip": null,
            "layout": "IPY_MODEL_59cf9f59d38f4b97bae4aaaa62c89b67",
            "placeholder": "​",
            "style": "IPY_MODEL_4e9961aaac5b4e128761450c9c8c9805",
            "value": " 1468/1468 [02:59&lt;00:00,  8.62it/s]"
          }
        },
        "8db15249c50a46deb2d98afe1cff1917": {
          "model_module": "@jupyter-widgets/base",
          "model_name": "LayoutModel",
          "model_module_version": "1.2.0",
          "state": {
            "_model_module": "@jupyter-widgets/base",
            "_model_module_version": "1.2.0",
            "_model_name": "LayoutModel",
            "_view_count": null,
            "_view_module": "@jupyter-widgets/base",
            "_view_module_version": "1.2.0",
            "_view_name": "LayoutView",
            "align_content": null,
            "align_items": null,
            "align_self": null,
            "border": null,
            "bottom": null,
            "display": null,
            "flex": null,
            "flex_flow": null,
            "grid_area": null,
            "grid_auto_columns": null,
            "grid_auto_flow": null,
            "grid_auto_rows": null,
            "grid_column": null,
            "grid_gap": null,
            "grid_row": null,
            "grid_template_areas": null,
            "grid_template_columns": null,
            "grid_template_rows": null,
            "height": null,
            "justify_content": null,
            "justify_items": null,
            "left": null,
            "margin": null,
            "max_height": null,
            "max_width": null,
            "min_height": null,
            "min_width": null,
            "object_fit": null,
            "object_position": null,
            "order": null,
            "overflow": null,
            "overflow_x": null,
            "overflow_y": null,
            "padding": null,
            "right": null,
            "top": null,
            "visibility": null,
            "width": null
          }
        },
        "8c14e5795ac84d2bb408b2c462189984": {
          "model_module": "@jupyter-widgets/base",
          "model_name": "LayoutModel",
          "model_module_version": "1.2.0",
          "state": {
            "_model_module": "@jupyter-widgets/base",
            "_model_module_version": "1.2.0",
            "_model_name": "LayoutModel",
            "_view_count": null,
            "_view_module": "@jupyter-widgets/base",
            "_view_module_version": "1.2.0",
            "_view_name": "LayoutView",
            "align_content": null,
            "align_items": null,
            "align_self": null,
            "border": null,
            "bottom": null,
            "display": null,
            "flex": null,
            "flex_flow": null,
            "grid_area": null,
            "grid_auto_columns": null,
            "grid_auto_flow": null,
            "grid_auto_rows": null,
            "grid_column": null,
            "grid_gap": null,
            "grid_row": null,
            "grid_template_areas": null,
            "grid_template_columns": null,
            "grid_template_rows": null,
            "height": null,
            "justify_content": null,
            "justify_items": null,
            "left": null,
            "margin": null,
            "max_height": null,
            "max_width": null,
            "min_height": null,
            "min_width": null,
            "object_fit": null,
            "object_position": null,
            "order": null,
            "overflow": null,
            "overflow_x": null,
            "overflow_y": null,
            "padding": null,
            "right": null,
            "top": null,
            "visibility": null,
            "width": null
          }
        },
        "6052211018ab4641ba4496d8c88c68e0": {
          "model_module": "@jupyter-widgets/controls",
          "model_name": "DescriptionStyleModel",
          "model_module_version": "1.5.0",
          "state": {
            "_model_module": "@jupyter-widgets/controls",
            "_model_module_version": "1.5.0",
            "_model_name": "DescriptionStyleModel",
            "_view_count": null,
            "_view_module": "@jupyter-widgets/base",
            "_view_module_version": "1.2.0",
            "_view_name": "StyleView",
            "description_width": ""
          }
        },
        "1a94b24301184a369d125ef25bbe6086": {
          "model_module": "@jupyter-widgets/base",
          "model_name": "LayoutModel",
          "model_module_version": "1.2.0",
          "state": {
            "_model_module": "@jupyter-widgets/base",
            "_model_module_version": "1.2.0",
            "_model_name": "LayoutModel",
            "_view_count": null,
            "_view_module": "@jupyter-widgets/base",
            "_view_module_version": "1.2.0",
            "_view_name": "LayoutView",
            "align_content": null,
            "align_items": null,
            "align_self": null,
            "border": null,
            "bottom": null,
            "display": null,
            "flex": null,
            "flex_flow": null,
            "grid_area": null,
            "grid_auto_columns": null,
            "grid_auto_flow": null,
            "grid_auto_rows": null,
            "grid_column": null,
            "grid_gap": null,
            "grid_row": null,
            "grid_template_areas": null,
            "grid_template_columns": null,
            "grid_template_rows": null,
            "height": null,
            "justify_content": null,
            "justify_items": null,
            "left": null,
            "margin": null,
            "max_height": null,
            "max_width": null,
            "min_height": null,
            "min_width": null,
            "object_fit": null,
            "object_position": null,
            "order": null,
            "overflow": null,
            "overflow_x": null,
            "overflow_y": null,
            "padding": null,
            "right": null,
            "top": null,
            "visibility": null,
            "width": null
          }
        },
        "b2ef8f618f12442cb8cf26703e5c449e": {
          "model_module": "@jupyter-widgets/controls",
          "model_name": "ProgressStyleModel",
          "model_module_version": "1.5.0",
          "state": {
            "_model_module": "@jupyter-widgets/controls",
            "_model_module_version": "1.5.0",
            "_model_name": "ProgressStyleModel",
            "_view_count": null,
            "_view_module": "@jupyter-widgets/base",
            "_view_module_version": "1.2.0",
            "_view_name": "StyleView",
            "bar_color": null,
            "description_width": ""
          }
        },
        "59cf9f59d38f4b97bae4aaaa62c89b67": {
          "model_module": "@jupyter-widgets/base",
          "model_name": "LayoutModel",
          "model_module_version": "1.2.0",
          "state": {
            "_model_module": "@jupyter-widgets/base",
            "_model_module_version": "1.2.0",
            "_model_name": "LayoutModel",
            "_view_count": null,
            "_view_module": "@jupyter-widgets/base",
            "_view_module_version": "1.2.0",
            "_view_name": "LayoutView",
            "align_content": null,
            "align_items": null,
            "align_self": null,
            "border": null,
            "bottom": null,
            "display": null,
            "flex": null,
            "flex_flow": null,
            "grid_area": null,
            "grid_auto_columns": null,
            "grid_auto_flow": null,
            "grid_auto_rows": null,
            "grid_column": null,
            "grid_gap": null,
            "grid_row": null,
            "grid_template_areas": null,
            "grid_template_columns": null,
            "grid_template_rows": null,
            "height": null,
            "justify_content": null,
            "justify_items": null,
            "left": null,
            "margin": null,
            "max_height": null,
            "max_width": null,
            "min_height": null,
            "min_width": null,
            "object_fit": null,
            "object_position": null,
            "order": null,
            "overflow": null,
            "overflow_x": null,
            "overflow_y": null,
            "padding": null,
            "right": null,
            "top": null,
            "visibility": null,
            "width": null
          }
        },
        "4e9961aaac5b4e128761450c9c8c9805": {
          "model_module": "@jupyter-widgets/controls",
          "model_name": "DescriptionStyleModel",
          "model_module_version": "1.5.0",
          "state": {
            "_model_module": "@jupyter-widgets/controls",
            "_model_module_version": "1.5.0",
            "_model_name": "DescriptionStyleModel",
            "_view_count": null,
            "_view_module": "@jupyter-widgets/base",
            "_view_module_version": "1.2.0",
            "_view_name": "StyleView",
            "description_width": ""
          }
        },
        "2bf3ff8f2d8e4490aea130a72e77d4ee": {
          "model_module": "@jupyter-widgets/controls",
          "model_name": "HBoxModel",
          "model_module_version": "1.5.0",
          "state": {
            "_dom_classes": [],
            "_model_module": "@jupyter-widgets/controls",
            "_model_module_version": "1.5.0",
            "_model_name": "HBoxModel",
            "_view_count": null,
            "_view_module": "@jupyter-widgets/controls",
            "_view_module_version": "1.5.0",
            "_view_name": "HBoxView",
            "box_style": "",
            "children": [
              "IPY_MODEL_2b010c04aa2940d0bb5e3afcf2e8461c",
              "IPY_MODEL_1a343519090a4268866a97fec3737de8",
              "IPY_MODEL_c8bbed0a22544ad8a049e0bba249b663"
            ],
            "layout": "IPY_MODEL_f27b69c2e13a458787f5f2c97a9f03d5"
          }
        },
        "2b010c04aa2940d0bb5e3afcf2e8461c": {
          "model_module": "@jupyter-widgets/controls",
          "model_name": "HTMLModel",
          "model_module_version": "1.5.0",
          "state": {
            "_dom_classes": [],
            "_model_module": "@jupyter-widgets/controls",
            "_model_module_version": "1.5.0",
            "_model_name": "HTMLModel",
            "_view_count": null,
            "_view_module": "@jupyter-widgets/controls",
            "_view_module_version": "1.5.0",
            "_view_name": "HTMLView",
            "description": "",
            "description_tooltip": null,
            "layout": "IPY_MODEL_9cc76b745b0c4a4fad0c5044a6cfd75b",
            "placeholder": "​",
            "style": "IPY_MODEL_3b89098b313e4cd3aa334915fefc7292",
            "value": "100%"
          }
        },
        "1a343519090a4268866a97fec3737de8": {
          "model_module": "@jupyter-widgets/controls",
          "model_name": "FloatProgressModel",
          "model_module_version": "1.5.0",
          "state": {
            "_dom_classes": [],
            "_model_module": "@jupyter-widgets/controls",
            "_model_module_version": "1.5.0",
            "_model_name": "FloatProgressModel",
            "_view_count": null,
            "_view_module": "@jupyter-widgets/controls",
            "_view_module_version": "1.5.0",
            "_view_name": "ProgressView",
            "bar_style": "success",
            "description": "",
            "description_tooltip": null,
            "layout": "IPY_MODEL_8422c48119514320a80155cbc56d6917",
            "max": 892,
            "min": 0,
            "orientation": "horizontal",
            "style": "IPY_MODEL_82a7324279074b14a5ac7ed468790055",
            "value": 892
          }
        },
        "c8bbed0a22544ad8a049e0bba249b663": {
          "model_module": "@jupyter-widgets/controls",
          "model_name": "HTMLModel",
          "model_module_version": "1.5.0",
          "state": {
            "_dom_classes": [],
            "_model_module": "@jupyter-widgets/controls",
            "_model_module_version": "1.5.0",
            "_model_name": "HTMLModel",
            "_view_count": null,
            "_view_module": "@jupyter-widgets/controls",
            "_view_module_version": "1.5.0",
            "_view_name": "HTMLView",
            "description": "",
            "description_tooltip": null,
            "layout": "IPY_MODEL_414f581e0dfd46e48dedf8b067ccf3d5",
            "placeholder": "​",
            "style": "IPY_MODEL_e65c2fe162724dfcabb7539819016476",
            "value": " 892/892 [00:00&lt;00:00, 1899.15it/s]"
          }
        },
        "f27b69c2e13a458787f5f2c97a9f03d5": {
          "model_module": "@jupyter-widgets/base",
          "model_name": "LayoutModel",
          "model_module_version": "1.2.0",
          "state": {
            "_model_module": "@jupyter-widgets/base",
            "_model_module_version": "1.2.0",
            "_model_name": "LayoutModel",
            "_view_count": null,
            "_view_module": "@jupyter-widgets/base",
            "_view_module_version": "1.2.0",
            "_view_name": "LayoutView",
            "align_content": null,
            "align_items": null,
            "align_self": null,
            "border": null,
            "bottom": null,
            "display": null,
            "flex": null,
            "flex_flow": null,
            "grid_area": null,
            "grid_auto_columns": null,
            "grid_auto_flow": null,
            "grid_auto_rows": null,
            "grid_column": null,
            "grid_gap": null,
            "grid_row": null,
            "grid_template_areas": null,
            "grid_template_columns": null,
            "grid_template_rows": null,
            "height": null,
            "justify_content": null,
            "justify_items": null,
            "left": null,
            "margin": null,
            "max_height": null,
            "max_width": null,
            "min_height": null,
            "min_width": null,
            "object_fit": null,
            "object_position": null,
            "order": null,
            "overflow": null,
            "overflow_x": null,
            "overflow_y": null,
            "padding": null,
            "right": null,
            "top": null,
            "visibility": null,
            "width": null
          }
        },
        "9cc76b745b0c4a4fad0c5044a6cfd75b": {
          "model_module": "@jupyter-widgets/base",
          "model_name": "LayoutModel",
          "model_module_version": "1.2.0",
          "state": {
            "_model_module": "@jupyter-widgets/base",
            "_model_module_version": "1.2.0",
            "_model_name": "LayoutModel",
            "_view_count": null,
            "_view_module": "@jupyter-widgets/base",
            "_view_module_version": "1.2.0",
            "_view_name": "LayoutView",
            "align_content": null,
            "align_items": null,
            "align_self": null,
            "border": null,
            "bottom": null,
            "display": null,
            "flex": null,
            "flex_flow": null,
            "grid_area": null,
            "grid_auto_columns": null,
            "grid_auto_flow": null,
            "grid_auto_rows": null,
            "grid_column": null,
            "grid_gap": null,
            "grid_row": null,
            "grid_template_areas": null,
            "grid_template_columns": null,
            "grid_template_rows": null,
            "height": null,
            "justify_content": null,
            "justify_items": null,
            "left": null,
            "margin": null,
            "max_height": null,
            "max_width": null,
            "min_height": null,
            "min_width": null,
            "object_fit": null,
            "object_position": null,
            "order": null,
            "overflow": null,
            "overflow_x": null,
            "overflow_y": null,
            "padding": null,
            "right": null,
            "top": null,
            "visibility": null,
            "width": null
          }
        },
        "3b89098b313e4cd3aa334915fefc7292": {
          "model_module": "@jupyter-widgets/controls",
          "model_name": "DescriptionStyleModel",
          "model_module_version": "1.5.0",
          "state": {
            "_model_module": "@jupyter-widgets/controls",
            "_model_module_version": "1.5.0",
            "_model_name": "DescriptionStyleModel",
            "_view_count": null,
            "_view_module": "@jupyter-widgets/base",
            "_view_module_version": "1.2.0",
            "_view_name": "StyleView",
            "description_width": ""
          }
        },
        "8422c48119514320a80155cbc56d6917": {
          "model_module": "@jupyter-widgets/base",
          "model_name": "LayoutModel",
          "model_module_version": "1.2.0",
          "state": {
            "_model_module": "@jupyter-widgets/base",
            "_model_module_version": "1.2.0",
            "_model_name": "LayoutModel",
            "_view_count": null,
            "_view_module": "@jupyter-widgets/base",
            "_view_module_version": "1.2.0",
            "_view_name": "LayoutView",
            "align_content": null,
            "align_items": null,
            "align_self": null,
            "border": null,
            "bottom": null,
            "display": null,
            "flex": null,
            "flex_flow": null,
            "grid_area": null,
            "grid_auto_columns": null,
            "grid_auto_flow": null,
            "grid_auto_rows": null,
            "grid_column": null,
            "grid_gap": null,
            "grid_row": null,
            "grid_template_areas": null,
            "grid_template_columns": null,
            "grid_template_rows": null,
            "height": null,
            "justify_content": null,
            "justify_items": null,
            "left": null,
            "margin": null,
            "max_height": null,
            "max_width": null,
            "min_height": null,
            "min_width": null,
            "object_fit": null,
            "object_position": null,
            "order": null,
            "overflow": null,
            "overflow_x": null,
            "overflow_y": null,
            "padding": null,
            "right": null,
            "top": null,
            "visibility": null,
            "width": null
          }
        },
        "82a7324279074b14a5ac7ed468790055": {
          "model_module": "@jupyter-widgets/controls",
          "model_name": "ProgressStyleModel",
          "model_module_version": "1.5.0",
          "state": {
            "_model_module": "@jupyter-widgets/controls",
            "_model_module_version": "1.5.0",
            "_model_name": "ProgressStyleModel",
            "_view_count": null,
            "_view_module": "@jupyter-widgets/base",
            "_view_module_version": "1.2.0",
            "_view_name": "StyleView",
            "bar_color": null,
            "description_width": ""
          }
        },
        "414f581e0dfd46e48dedf8b067ccf3d5": {
          "model_module": "@jupyter-widgets/base",
          "model_name": "LayoutModel",
          "model_module_version": "1.2.0",
          "state": {
            "_model_module": "@jupyter-widgets/base",
            "_model_module_version": "1.2.0",
            "_model_name": "LayoutModel",
            "_view_count": null,
            "_view_module": "@jupyter-widgets/base",
            "_view_module_version": "1.2.0",
            "_view_name": "LayoutView",
            "align_content": null,
            "align_items": null,
            "align_self": null,
            "border": null,
            "bottom": null,
            "display": null,
            "flex": null,
            "flex_flow": null,
            "grid_area": null,
            "grid_auto_columns": null,
            "grid_auto_flow": null,
            "grid_auto_rows": null,
            "grid_column": null,
            "grid_gap": null,
            "grid_row": null,
            "grid_template_areas": null,
            "grid_template_columns": null,
            "grid_template_rows": null,
            "height": null,
            "justify_content": null,
            "justify_items": null,
            "left": null,
            "margin": null,
            "max_height": null,
            "max_width": null,
            "min_height": null,
            "min_width": null,
            "object_fit": null,
            "object_position": null,
            "order": null,
            "overflow": null,
            "overflow_x": null,
            "overflow_y": null,
            "padding": null,
            "right": null,
            "top": null,
            "visibility": null,
            "width": null
          }
        },
        "e65c2fe162724dfcabb7539819016476": {
          "model_module": "@jupyter-widgets/controls",
          "model_name": "DescriptionStyleModel",
          "model_module_version": "1.5.0",
          "state": {
            "_model_module": "@jupyter-widgets/controls",
            "_model_module_version": "1.5.0",
            "_model_name": "DescriptionStyleModel",
            "_view_count": null,
            "_view_module": "@jupyter-widgets/base",
            "_view_module_version": "1.2.0",
            "_view_name": "StyleView",
            "description_width": ""
          }
        },
        "011770e647314aa2b5311d5c83d29824": {
          "model_module": "@jupyter-widgets/controls",
          "model_name": "HBoxModel",
          "model_module_version": "1.5.0",
          "state": {
            "_dom_classes": [],
            "_model_module": "@jupyter-widgets/controls",
            "_model_module_version": "1.5.0",
            "_model_name": "HBoxModel",
            "_view_count": null,
            "_view_module": "@jupyter-widgets/controls",
            "_view_module_version": "1.5.0",
            "_view_name": "HBoxView",
            "box_style": "",
            "children": [
              "IPY_MODEL_e58411214a7644ccb3af4f4ee5e86e85",
              "IPY_MODEL_00c259b8c4a34779ac80243e98191088",
              "IPY_MODEL_d1ff4316be104b868f19776dc03ecd00"
            ],
            "layout": "IPY_MODEL_80b47ec9bd944f69bfa8e1e9b7dd9220"
          }
        },
        "e58411214a7644ccb3af4f4ee5e86e85": {
          "model_module": "@jupyter-widgets/controls",
          "model_name": "HTMLModel",
          "model_module_version": "1.5.0",
          "state": {
            "_dom_classes": [],
            "_model_module": "@jupyter-widgets/controls",
            "_model_module_version": "1.5.0",
            "_model_name": "HTMLModel",
            "_view_count": null,
            "_view_module": "@jupyter-widgets/controls",
            "_view_module_version": "1.5.0",
            "_view_name": "HTMLView",
            "description": "",
            "description_tooltip": null,
            "layout": "IPY_MODEL_7b3cd462ca78410dbf4a4814988fdd58",
            "placeholder": "​",
            "style": "IPY_MODEL_9624f068c88d4ab2955b9cbb4d042842",
            "value": "100%"
          }
        },
        "00c259b8c4a34779ac80243e98191088": {
          "model_module": "@jupyter-widgets/controls",
          "model_name": "FloatProgressModel",
          "model_module_version": "1.5.0",
          "state": {
            "_dom_classes": [],
            "_model_module": "@jupyter-widgets/controls",
            "_model_module_version": "1.5.0",
            "_model_name": "FloatProgressModel",
            "_view_count": null,
            "_view_module": "@jupyter-widgets/controls",
            "_view_module_version": "1.5.0",
            "_view_name": "ProgressView",
            "bar_style": "success",
            "description": "",
            "description_tooltip": null,
            "layout": "IPY_MODEL_17ccda25ecf5445b9815943b1d6e8a3a",
            "max": 892,
            "min": 0,
            "orientation": "horizontal",
            "style": "IPY_MODEL_5e421b42c7c345af862a3ee8e91c7f54",
            "value": 892
          }
        },
        "d1ff4316be104b868f19776dc03ecd00": {
          "model_module": "@jupyter-widgets/controls",
          "model_name": "HTMLModel",
          "model_module_version": "1.5.0",
          "state": {
            "_dom_classes": [],
            "_model_module": "@jupyter-widgets/controls",
            "_model_module_version": "1.5.0",
            "_model_name": "HTMLModel",
            "_view_count": null,
            "_view_module": "@jupyter-widgets/controls",
            "_view_module_version": "1.5.0",
            "_view_name": "HTMLView",
            "description": "",
            "description_tooltip": null,
            "layout": "IPY_MODEL_cbd66f805ab14849a0ec1692f1779e43",
            "placeholder": "​",
            "style": "IPY_MODEL_0e069d90eab74975a1a468dfda72c35d",
            "value": " 892/892 [00:00&lt;00:00, 512.56it/s]"
          }
        },
        "80b47ec9bd944f69bfa8e1e9b7dd9220": {
          "model_module": "@jupyter-widgets/base",
          "model_name": "LayoutModel",
          "model_module_version": "1.2.0",
          "state": {
            "_model_module": "@jupyter-widgets/base",
            "_model_module_version": "1.2.0",
            "_model_name": "LayoutModel",
            "_view_count": null,
            "_view_module": "@jupyter-widgets/base",
            "_view_module_version": "1.2.0",
            "_view_name": "LayoutView",
            "align_content": null,
            "align_items": null,
            "align_self": null,
            "border": null,
            "bottom": null,
            "display": null,
            "flex": null,
            "flex_flow": null,
            "grid_area": null,
            "grid_auto_columns": null,
            "grid_auto_flow": null,
            "grid_auto_rows": null,
            "grid_column": null,
            "grid_gap": null,
            "grid_row": null,
            "grid_template_areas": null,
            "grid_template_columns": null,
            "grid_template_rows": null,
            "height": null,
            "justify_content": null,
            "justify_items": null,
            "left": null,
            "margin": null,
            "max_height": null,
            "max_width": null,
            "min_height": null,
            "min_width": null,
            "object_fit": null,
            "object_position": null,
            "order": null,
            "overflow": null,
            "overflow_x": null,
            "overflow_y": null,
            "padding": null,
            "right": null,
            "top": null,
            "visibility": null,
            "width": null
          }
        },
        "7b3cd462ca78410dbf4a4814988fdd58": {
          "model_module": "@jupyter-widgets/base",
          "model_name": "LayoutModel",
          "model_module_version": "1.2.0",
          "state": {
            "_model_module": "@jupyter-widgets/base",
            "_model_module_version": "1.2.0",
            "_model_name": "LayoutModel",
            "_view_count": null,
            "_view_module": "@jupyter-widgets/base",
            "_view_module_version": "1.2.0",
            "_view_name": "LayoutView",
            "align_content": null,
            "align_items": null,
            "align_self": null,
            "border": null,
            "bottom": null,
            "display": null,
            "flex": null,
            "flex_flow": null,
            "grid_area": null,
            "grid_auto_columns": null,
            "grid_auto_flow": null,
            "grid_auto_rows": null,
            "grid_column": null,
            "grid_gap": null,
            "grid_row": null,
            "grid_template_areas": null,
            "grid_template_columns": null,
            "grid_template_rows": null,
            "height": null,
            "justify_content": null,
            "justify_items": null,
            "left": null,
            "margin": null,
            "max_height": null,
            "max_width": null,
            "min_height": null,
            "min_width": null,
            "object_fit": null,
            "object_position": null,
            "order": null,
            "overflow": null,
            "overflow_x": null,
            "overflow_y": null,
            "padding": null,
            "right": null,
            "top": null,
            "visibility": null,
            "width": null
          }
        },
        "9624f068c88d4ab2955b9cbb4d042842": {
          "model_module": "@jupyter-widgets/controls",
          "model_name": "DescriptionStyleModel",
          "model_module_version": "1.5.0",
          "state": {
            "_model_module": "@jupyter-widgets/controls",
            "_model_module_version": "1.5.0",
            "_model_name": "DescriptionStyleModel",
            "_view_count": null,
            "_view_module": "@jupyter-widgets/base",
            "_view_module_version": "1.2.0",
            "_view_name": "StyleView",
            "description_width": ""
          }
        },
        "17ccda25ecf5445b9815943b1d6e8a3a": {
          "model_module": "@jupyter-widgets/base",
          "model_name": "LayoutModel",
          "model_module_version": "1.2.0",
          "state": {
            "_model_module": "@jupyter-widgets/base",
            "_model_module_version": "1.2.0",
            "_model_name": "LayoutModel",
            "_view_count": null,
            "_view_module": "@jupyter-widgets/base",
            "_view_module_version": "1.2.0",
            "_view_name": "LayoutView",
            "align_content": null,
            "align_items": null,
            "align_self": null,
            "border": null,
            "bottom": null,
            "display": null,
            "flex": null,
            "flex_flow": null,
            "grid_area": null,
            "grid_auto_columns": null,
            "grid_auto_flow": null,
            "grid_auto_rows": null,
            "grid_column": null,
            "grid_gap": null,
            "grid_row": null,
            "grid_template_areas": null,
            "grid_template_columns": null,
            "grid_template_rows": null,
            "height": null,
            "justify_content": null,
            "justify_items": null,
            "left": null,
            "margin": null,
            "max_height": null,
            "max_width": null,
            "min_height": null,
            "min_width": null,
            "object_fit": null,
            "object_position": null,
            "order": null,
            "overflow": null,
            "overflow_x": null,
            "overflow_y": null,
            "padding": null,
            "right": null,
            "top": null,
            "visibility": null,
            "width": null
          }
        },
        "5e421b42c7c345af862a3ee8e91c7f54": {
          "model_module": "@jupyter-widgets/controls",
          "model_name": "ProgressStyleModel",
          "model_module_version": "1.5.0",
          "state": {
            "_model_module": "@jupyter-widgets/controls",
            "_model_module_version": "1.5.0",
            "_model_name": "ProgressStyleModel",
            "_view_count": null,
            "_view_module": "@jupyter-widgets/base",
            "_view_module_version": "1.2.0",
            "_view_name": "StyleView",
            "bar_color": null,
            "description_width": ""
          }
        },
        "cbd66f805ab14849a0ec1692f1779e43": {
          "model_module": "@jupyter-widgets/base",
          "model_name": "LayoutModel",
          "model_module_version": "1.2.0",
          "state": {
            "_model_module": "@jupyter-widgets/base",
            "_model_module_version": "1.2.0",
            "_model_name": "LayoutModel",
            "_view_count": null,
            "_view_module": "@jupyter-widgets/base",
            "_view_module_version": "1.2.0",
            "_view_name": "LayoutView",
            "align_content": null,
            "align_items": null,
            "align_self": null,
            "border": null,
            "bottom": null,
            "display": null,
            "flex": null,
            "flex_flow": null,
            "grid_area": null,
            "grid_auto_columns": null,
            "grid_auto_flow": null,
            "grid_auto_rows": null,
            "grid_column": null,
            "grid_gap": null,
            "grid_row": null,
            "grid_template_areas": null,
            "grid_template_columns": null,
            "grid_template_rows": null,
            "height": null,
            "justify_content": null,
            "justify_items": null,
            "left": null,
            "margin": null,
            "max_height": null,
            "max_width": null,
            "min_height": null,
            "min_width": null,
            "object_fit": null,
            "object_position": null,
            "order": null,
            "overflow": null,
            "overflow_x": null,
            "overflow_y": null,
            "padding": null,
            "right": null,
            "top": null,
            "visibility": null,
            "width": null
          }
        },
        "0e069d90eab74975a1a468dfda72c35d": {
          "model_module": "@jupyter-widgets/controls",
          "model_name": "DescriptionStyleModel",
          "model_module_version": "1.5.0",
          "state": {
            "_model_module": "@jupyter-widgets/controls",
            "_model_module_version": "1.5.0",
            "_model_name": "DescriptionStyleModel",
            "_view_count": null,
            "_view_module": "@jupyter-widgets/base",
            "_view_module_version": "1.2.0",
            "_view_name": "StyleView",
            "description_width": ""
          }
        }
      }
    }
  },
  "nbformat": 4,
  "nbformat_minor": 0
}