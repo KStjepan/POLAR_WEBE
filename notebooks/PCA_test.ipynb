{
 "cells": [
  {
   "cell_type": "markdown",
   "id": "263bd9e4",
   "metadata": {},
   "source": [
    "Streamlined Google PCA notebook"
   ]
  },
  {
   "cell_type": "code",
   "execution_count": 1,
   "id": "ae448216",
   "metadata": {},
   "outputs": [],
   "source": [
    "import gensim\n",
    "from numpy import linalg\n",
    "import numpy as np\n",
    "from sklearn.metrics.pairwise import cosine_similarity\n",
    "from tqdm import tqdm_notebook as tqdm\n",
    "import time\n",
    "from random import shuffle\n",
    "import sys\n",
    "import nltk \n",
    "from nltk.corpus import wordnet \n",
    "import gc\n",
    "from collections import defaultdict\n",
    "import random\n",
    "import json\n",
    "import os\n",
    "\n",
    "from gensim.scripts.glove2word2vec import glove2word2vec\n",
    "from gensim.test.utils import datapath, get_tmpfile\n",
    "\n",
    "from gensim.test.utils import datapath"
   ]
  },
  {
   "cell_type": "code",
   "execution_count": 2,
   "id": "def934b2",
   "metadata": {},
   "outputs": [],
   "source": [
    "import pandas as pd\n",
    "\n",
    "company = pd.read_csv('/Users/stjepankusenic/POLAR_WEBE/data/raw/Out_of_Fortune_1000.csv')\n",
    "name_list = company['0']\n",
    "new_df= pd.read_csv('/Users/stjepankusenic/POLAR_WEBE/data/raw/POLAR-GoogleNews-org-antonyms.csv')"
   ]
  },
  {
   "cell_type": "code",
   "execution_count": 7,
   "id": "a118f550",
   "metadata": {},
   "outputs": [],
   "source": [
    "model_gn = gensim.models.KeyedVectors.load_word2vec_format('/Users/stjepankusenic/POLAR_WEBE/data/raw/glove_norm_300.mod',binary=True)"
   ]
  },
  {
   "cell_type": "code",
   "execution_count": 26,
   "id": "bd21f177",
   "metadata": {},
   "outputs": [
    {
     "name": "stdout",
     "output_type": "stream",
     "text": [
      "yes\n"
     ]
    }
   ],
   "source": [
    "if 'jpmorganchase' in model_gn.vocab:\n",
    "    print('yes')"
   ]
  },
  {
   "cell_type": "code",
   "execution_count": 27,
   "id": "7fe9afce",
   "metadata": {},
   "outputs": [
    {
     "data": {
      "application/vnd.plotly.v1+json": {
       "config": {
        "plotlyServerURL": "https://plot.ly"
       },
       "data": [
        {
         "marker": {
          "color": 2,
          "opacity": 0.8,
          "size": 10
         },
         "mode": "markers+text",
         "name": "Apple",
         "text": [
          "Walmart",
          "Amazon",
          "Exxon_Mobil",
          "Apple",
          "Berkshire_Hathaway",
          "UnitedHealth_Group",
          "McKesson",
          "AmerisourceBergen",
          "Alphabet",
          "Ford_Motor",
          "Cigna",
          "Costco_Wholesale",
          "Chevron",
          "JPMorgan_Chase",
          "General_Motors",
          "Verizon_Communications",
          "Microsoft",
          "Kroger",
          "Fannie_Mae",
          "Home_Depot",
          "Comcast",
          "Anthem",
          "Wells_Fargo",
          "Citigroup",
          "Valero_Energy"
         ],
         "textfont": {
          "size": 20
         },
         "textposition": "top center",
         "type": "scatter3d",
         "x": [
          -0.46817698504595984,
          -0.12046254395164328,
          0.10182515161253476,
          -0.024939717616396583,
          0.15161189715764753,
          0.045135409922041674,
          -0.25065414127998625,
          -0.025074946240177576,
          0.09584288646012044,
          -0.02195159976273476,
          -0.08938725002438032,
          -0.37780594565216263,
          -0.0579649774590967,
          0.3735206209934687,
          0.09606458356600897,
          0.25116299368415157,
          0.107502071607232,
          -0.38254649912547706,
          0.5210602984983662,
          -0.31186839623799534,
          0.051385407110456256,
          -0.1650088336991531,
          0.23548994073895801,
          0.5456708156280576,
          0.19265626812943884
         ],
         "y": [
          -0.21105621658487572,
          -0.2598032493444694,
          -0.22466535470085314,
          -0.3175881082141223,
          0.03352560921740812,
          0.22992229860342064,
          0.19962011221492568,
          0.4440214637663085,
          -0.06488800767560303,
          0.031368743158552786,
          0.43706512666847563,
          -0.07971074971880972,
          -0.2811584692256544,
          0.1111466045769261,
          0.025498393681357295,
          -0.2802890392185954,
          -0.3785310684367481,
          0.2672592330572591,
          0.09523013374034486,
          -0.2245414101910934,
          -0.2930734042405232,
          0.3312725662688346,
          0.03854072952303263,
          -0.03394940705817625,
          -0.1017887916518925
         ],
         "z": [
          -0.2850978930105607,
          0.08997515994628309,
          -0.2578146689335201,
          0.12218896295373459,
          -0.14166217084242944,
          -0.04883660907217086,
          -0.025494765493373105,
          -0.07075637278164927,
          0.05737636681889584,
          0.5939413988723615,
          -0.17399257356521863,
          -0.05779158178592061,
          -0.3450139017624024,
          -0.0002613348394264351,
          0.4977316618005036,
          -0.038697881407911236,
          0.18436862510675955,
          -0.15166232265185128,
          -0.1727307766168965,
          -0.12168637638223036,
          -0.09129499829851469,
          -0.10673863319581899,
          -0.16246650268242832,
          -0.20640475009587514,
          -0.06766814715933767
         ]
        },
        {
         "marker": {
          "color": 2,
          "opacity": 0.8,
          "size": 10
         },
         "mode": "markers+text",
         "name": "Shell",
         "text": [
          "General_Electric",
          "Target",
          "IBM",
          "Boeing",
          "Freddie_Mac",
          "Centene",
          "UPS",
          "Intel",
          "Facebook",
          "FedEx",
          "MetLife",
          "Walt_Disney",
          "PepsiCo",
          "Humana",
          "Archer_Daniels_Midland",
          "Albertsons",
          "Sysco",
          "Lockheed_Martin",
          "HP",
          "Morgan_Stanley",
          "Caterpillar",
          "Cisco_Systems",
          "Pfizer",
          "Delta_Air_Lines",
          "Merck"
         ],
         "textfont": {
          "size": 20
         },
         "textposition": "top center",
         "type": "scatter3d",
         "x": [
          0.04054842289093988,
          -0.3829200121118814,
          0.005447038793400772,
          -0.046623068950113596,
          0.4974413779150905,
          -0.03075613067170428,
          -0.2455775664071044,
          0.05670837625521527,
          -0.022200071673383722,
          -0.20812402469140004,
          0.1900367576829476,
          -0.03516161535829511,
          0.004728630072183972,
          -0.10561819851842257,
          0.0446639023984634,
          -0.33839465816106706,
          -0.27871219406567305,
          -0.049432026922935246,
          -0.12737695241311545,
          0.47892053537985285,
          -0.13549661628710744,
          0.027401245436881428,
          0.08836794570390395,
          0.005586080848252629,
          0.09345631384175063
         ],
         "y": [
          0.0013988340196621413,
          -0.21524633590197711,
          -0.25165002445250445,
          0.09681308294230688,
          0.09388269822234045,
          0.5403496256465157,
          -0.06692195319422839,
          -0.3044255032835908,
          -0.10953120373994206,
          -0.03487048530777395,
          0.16828790467895235,
          0.07386215042270151,
          -0.1076426592595797,
          0.47654534342865046,
          0.1815557444645223,
          0.010745981951342298,
          -0.020157153434841472,
          -0.030536724563695605,
          -0.20325636412021442,
          -0.0734171729609546,
          0.2668449278781858,
          -0.1428374635401403,
          0.16334228104080328,
          -0.09627865359604493,
          0.0897153844440768
         ],
         "z": [
          0.3524510528189185,
          -0.16246509679445903,
          0.1947158297082368,
          0.4305730980588766,
          -0.23737090754402967,
          0.1114250341796449,
          -0.002392297074068399,
          0.15970578256867946,
          0.1102795645747072,
          -0.019915102689127193,
          -0.22489947616779354,
          0.11296659684377601,
          -0.10721524236453933,
          -0.0700607053249229,
          0.18627881013798325,
          -0.3639861387237913,
          -0.1154341522575363,
          0.2058391761385288,
          0.05922211016643736,
          -0.12173128506192833,
          0.30834646372769386,
          0.20949911712256908,
          -0.021697023642382806,
          -0.04136155548402965,
          0.027716432161553985
         ]
        },
        {
         "marker": {
          "color": 2,
          "opacity": 0.8,
          "size": 10
         },
         "mode": "markers+text",
         "name": "Boeing",
         "text": [
          "Charter_Communications",
          "Allstate",
          "Nationwide",
          "Best_Buy",
          "Dow",
          "Tyson_Foods",
          "TJX",
          "TIAA",
          "Oracle",
          "General_Dynamics",
          "Deere",
          "Nike",
          "Progressive",
          "Honeywell_International",
          "ConocoPhillips",
          "USAA",
          "Exelon",
          "Northrop_Grumman",
          "Northwestern_Mutual",
          "3M",
          "Abbott_Laboratories",
          "CHS",
          "Travelers_Cos.",
          "Philip_Morris_International",
          "Raytheon"
         ],
         "textfont": {
          "size": 20
         },
         "textposition": "top center",
         "type": "scatter3d",
         "x": [],
         "y": [],
         "z": []
        },
        {
         "marker": {
          "color": "black",
          "opacity": 1,
          "size": 10
         },
         "mode": "markers+text",
         "name": "input words",
         "text": [
          "Arrow_Electronics",
          "Starbucks",
          "Paccar",
          "Thermo_Fisher_Scientific",
          "Jabil",
          "Tesla",
          "PBF_Energy",
          "Qualcomm",
          "Synnex",
          "Dollar_Tree",
          "Cummins",
          "Micron_Technology",
          "Amgen",
          "Penske_Automotive_Group",
          "Visa",
          "Broadcom",
          "Nucor",
          "Gilead_Sciences",
          "Southwest_Airlines",
          "Halliburton",
          "Eli_Lilly",
          "Aflac",
          "Lennar",
          "Occidental_Petroleum",
          "Rite_Aid",
          "DuPont",
          "AutoNation",
          "ManpowerGroup",
          "Danaher",
          "Whirlpool",
          "AECOM",
          "Netflix",
          "Lear",
          "Altria_Group",
          "Avnet",
          "Genuine_Parts",
          "NextEra_Energy",
          "CarMax",
          "Tenet_Healthcare",
          "Emerson_Electric",
          "CDW",
          "Fluor",
          "D.R._Horton",
          "Tenneco",
          "EOG_Resources",
          "BD",
          "Salesforce",
          "Mastercard",
          "Molina_Healthcare",
          "Cognizant_Technology_Solutions",
          "Gap",
          "Aramark",
          "Nordstrom",
          "Waste_Management",
          "C.H._Robinson_Worldwide",
          "PPG_Industries",
          "Omnicom_Group",
          "Loews",
          "Ecolab",
          "Stryker",
          "Estée_Lauder",
          "Applied_Materials",
          "BlackRock",
          "Texas_Instruments",
          "Biogen",
          "Automatic_Data_Processing",
          "Illinois_Tool_Works",
          "DaVita",
          "VF",
          "Las_Vegas_Sands",
          "Textron",
          "Kellogg",
          "Kinder_Morgan",
          "Ameriprise_Financial",
          "MGM_Resorts_International",
          "DISH_Network",
          "Lithia_Motors",
          "DTE_Energy",
          "Consolidated_Edison",
          "LKQ",
          "Sempra_Energy",
          "CenterPoint_Energy",
          "Quanta_Services",
          "Unum_Group",
          "CSX",
          "AutoZone",
          "Charles_Schwab",
          "Ally_Financial",
          "Xcel_Energy",
          "Corning",
          "Ball",
          "Fox",
          "Norfolk_Southern",
          "Navistar_International",
          "Adobe",
          "J.C._Penney",
          "Discovery",
          "Nvidia",
          "Entergy",
          "FirstEnergy",
          "eBay",
          "Boston_Scientific",
          "ODP",
          "Steel_Dynamics",
          "Sonic_Automotive",
          "Alcoa",
          "Henry_Schein",
          "Interpublic_Group",
          "PulteGroup",
          "AES",
          "Fiserv",
          "BorgWarner",
          "Oneok",
          "Assurant",
          "Calpine",
          "Mohawk_Industries",
          "PVH",
          "Campbell_Soup",
          "NRG_Energy",
          "Fifth_Third_Bancorp",
          "Newmont",
          "Cheniere_Energy",
          "Advance_Auto_Parts",
          "Markel",
          "Hormel_Foods",
          "Pioneer_Natural_Resources",
          "Eastman_Chemical",
          "EMCOR_Group",
          "Avis_Budget_Group",
          "KKR",
          "AGCO",
          "Alleghany",
          "Icahn_Enterprises",
          "Ryder_System",
          "Mosaic",
          "Huntington_Ingalls_Industries",
          "Anixter_International",
          "Genworth_Financial",
          "Targa_Resources",
          "Coty",
          "Dana",
          "Autoliv",
          "Darden_Restaurants",
          "Chesapeake_Energy",
          "NOV",
          "Oshkosh",
          "WESCO_International",
          "Tractor_Supply",
          "Huntsman",
          "Masco",
          "Sanmina",
          "Amphenol",
          "Williams",
          "Andersons",
          "Westlake_Chemical",
          "Constellation_Brands",
          "JetBlue_Airways",
          "Foot_Locker",
          "Hershey",
          "Thor_Industries",
          "Regeneron_Pharmaceuticals",
          "Spirit_AeroSystems_Holdings",
          "J.M._Smucker",
          "PPL",
          "Insight_Enterprises",
          "Quest_Diagnostics",
          "KeyCorp",
          "DCP_Midstream",
          "Graybar_Electric",
          "NVR",
          "Ulta_Beauty",
          "Blackstone_Group",
          "Dean_Foods",
          "UGI",
          "Builders_FirstSource",
          "Toll_Brothers",
          "Asbury_Automotive_Group",
          "MasTec",
          "Owens_Corning",
          "Dover",
          "Beacon_Roofing_Supply",
          "Avery_Dennison",
          "Hanesbrands",
          "NCR",
          "Cintas",
          "Polaris",
          "Seaboard",
          "Intuit",
          "Regions_Financial",
          "Rockwell_Automation",
          "Wynn_Resorts",
          "Securian_Financial_Group",
          "Weyerhaeuser",
          "Intercontinental_Exchange",
          "Hess",
          "ABM_Industries",
          "Activision_Blizzard",
          "GameStop",
          "APA",
          "AK_Steel_Holding",
          "Ralph_Lauren",
          "Celanese",
          "Ascena_Retail_Group",
          "Clorox",
          "Graphic_Packaging_Holding",
          "NetApp",
          "Olin",
          "Avantor",
          "Tapestry",
          "TD_Ameritrade_Holding",
          "Analog_Devices",
          "Ameren",
          "Commercial_Metals",
          "Levi_Strauss",
          "Cerner",
          "Huntington_Bancshares",
          "KBR",
          "Sprouts_Farmers_Market",
          "T._Rowe_Price",
          "Yum_Brands",
          "Chipotle_Mexican_Grill",
          "Patterson",
          "Equinix",
          "ON_Semiconductor",
          "TransDigm_Group",
          "Sonoco_Products",
          "Microchip_Technology",
          "McCormick",
          "MDU_Resources_Group",
          "Fastenal",
          "Big_Lots",
          "Under_Armour",
          "Xylem",
          "Domtar",
          "NiSource",
          "Marathon_Oil",
          "Agilent_Technologies",
          "Ametek",
          "ADT",
          "Michaels",
          "Kemper",
          "Hyatt_Hotels",
          "Alexion_Pharmaceuticals",
          "CACI_International",
          "Electronic_Arts",
          "Vulcan_Materials",
          "TreeHouse_Foods",
          "Global_Payments",
          "Yellow",
          "CME_Group",
          "Chewy",
          "Carlisle",
          "Sealed_Air",
          "Watsco",
          "Martin_Marietta_Materials",
          "Hasbro",
          "Square",
          "Terex",
          "FMC",
          "Boise_Cascade",
          "Peabody_Energy",
          "Greif",
          "Concho_Resources",
          "Hubbell",
          "CF_Industries_Holdings",
          "KLA",
          "Brunswick",
          "KB_Home",
          "Mattel",
          "Silgan_Holdings",
          "Zebra_Technologies",
          "Intuitive_Surgical",
          "Tutor_Perini",
          "Juniper_Networks",
          "Tiffany",
          "EQT",
          "Antero_Resources",
          "Meritor",
          "Broadridge_Financial_Solutions",
          "Edwards_Lifesciences",
          "Colfax",
          "Insperity",
          "American_Eagle_Outfitters",
          "Iron_Mountain",
          "Nasdaq",
          "Gartner",
          "Sinclair_Broadcast_Group",
          "Ingles_Markets",
          "Vertex_Pharmaceuticals",
          "Spectrum_Brands_Holdings",
          "Flowers_Foods",
          "CUNA_Mutual_Group",
          "Allegheny_Technologies",
          "Landstar_System",
          "Amkor_Technology",
          "PPD",
          "Urban_Outfitters",
          "Sabre",
          "Parsons",
          "Flowserve",
          "Carvana",
          "ASGN",
          "Sally_Beauty_Holdings",
          "ScanSource",
          "Ventas",
          "Spirit_Airlines",
          "Comerica",
          "Timken",
          "Paychex",
          "Amerco",
          "Worthington_Industries",
          "Laureate_Education",
          "Acuity_Brands",
          "Meritage_Homes",
          "Alliant_Energy",
          "Workday",
          "Meredith",
          "Albemarle",
          "Ciena",
          "Weis_Markets",
          "Illumina",
          "SVB_Financial_Group",
          "Stifel_Financial",
          "Mednax",
          "Equifax",
          "Pitney_Bowes",
          "ServiceNow",
          "Twitter",
          "Steelcase",
          "Sanderson_Farms",
          "WABCO_Holdings",
          "Clean_Harbors",
          "Puget_Energy",
          "Scientific_Games",
          "Granite_Construction",
          "Carlyle_Group",
          "Skyworks_Solutions",
          "Aleris",
          "Hexion",
          "Hologic",
          "Red_Hat",
          "Synopsys",
          "PolyOne",
          "Dycom_Industries",
          "Cabot",
          "Prologis",
          "Boyd_Gaming",
          "Stericycle",
          "CIT_Group",
          "Crane",
          "Cinemark_Holdings",
          "Autodesk",
          "Trimble",
          "Zions_Bancorp.",
          "Regal_Beloit",
          "Varian_Medical_Systems",
          "PriceSmart",
          "Brinker_International",
          "Digital_Realty_Trust",
          "Pool",
          "Infor",
          "Plexus",
          "Teledyne_Technologies",
          "Toro",
          "GMS",
          "Tetra_Tech",
          "Primoris_Services",
          "Elanco_Animal_Health",
          "Xilinx",
          "Columbia_Sportswear",
          "Greenbrier",
          "Presidio",
          "Citrix_Systems",
          "GoDaddy",
          "SkyWest",
          "Middleby",
          "NOW",
          "Unisys",
          "Visteon",
          "Moog",
          "Legg_Mason",
          "Atmos_Energy",
          "Woodward",
          "Palo_Alto_Networks",
          "H.B._Fuller",
          "Akamai_Technologies",
          "Maximus",
          "PerkinElmer",
          "AptarGroup",
          "ITT",
          "Donaldson",
          "Kirby",
          "Popular",
          "Range_Resources",
          "Amica_Mutual_Insurance",
          "EnerSys",
          "Valmont_Industries",
          "PAE",
          "Texas_Roadhouse",
          "Euronet_Worldwide",
          "Energizer_Holdings",
          "Magellan_Midstream_Partners",
          "Hain_Celestial_Group",
          "Univision_Communications",
          "Equity_Residential",
          "Colony_Capital",
          "TTM_Technologies",
          "Guess",
          "Vishay_Intertechnology",
          "TransUnion",
          "Cooper",
          "FleetCor_Technologies",
          "RH",
          "BlueLinx_Holdings",
          "Verisk_Analytics",
          "ResMed",
          "Teleflex",
          "Interactive_Brokers_Group",
          "Caesars_Entertainment",
          "Catalent",
          "Itron",
          "IDEX",
          "Belden",
          "Cheesecake_Factory",
          "Werner_Enterprises",
          "Ingersoll_Rand",
          "Verso",
          "Nu_Skin_Enterprises",
          "Revlon",
          "Arista_Networks",
          "IDEXX_Laboratories",
          "Align_Technology",
          "Waters",
          "Synovus_Financial",
          "Valvoline",
          "SLM",
          "Kennametal",
          "TrueBlue",
          "Cimarex_Energy",
          "Splunk",
          "Hexcel",
          "FTI_Consulting",
          "Cadence_Design_Systems",
          "AvalonBay_Communities",
          "Maxim_Integrated_Products",
          "Teradyne",
          "EPAM_Systems",
          "Vail_Resorts",
          "Benchmark_Electronics",
          "HNI",
          "F5_Networks",
          "Affiliated_Managers_Group",
          "OGE_Energy",
          "Universal",
          "BOK_Financial",
          "ManTech_International",
          "AMN_Healthcare_Services",
          "Groupon",
          "Modine_Manufacturing",
          "Griffon",
          "Cypress_Semiconductor",
          "Generac_Holdings",
          "Matson",
          "Genesco",
          "Nordson",
          "NewMarket",
          "Rexnord",
          "Incyte",
          "Fortinet",
          "AAR",
          "Schnitzer_Steel_Industries",
          "BGC_Partners",
          "EchoStar",
          "Beazer_Homes_USA",
          "Bruker",
          "Viasat",
          "HEICO",
          "TCF_Financial",
          "Primerica",
          "Oceaneering_International",
          "Copart",
          "Evercore",
          "Deckers_Outdoor",
          "Express",
          "Hovnanian_Enterprises",
          "Rollins",
          "Deluxe"
         ],
         "textfont": {
          "size": 20
         },
         "textposition": "top center",
         "type": "scatter3d",
         "x": [],
         "y": [],
         "z": []
        }
       ],
       "layout": {
        "autosize": false,
        "font": {
         "family": " Courier New ",
         "size": 15
        },
        "height": 1000,
        "legend": {
         "font": {
          "color": "black",
          "family": "Courier New",
          "size": 25
         },
         "x": 1,
         "y": 0.5
        },
        "margin": {
         "b": 0,
         "l": 0,
         "r": 0,
         "t": 0
        },
        "showlegend": true,
        "template": {
         "data": {
          "bar": [
           {
            "error_x": {
             "color": "#2a3f5f"
            },
            "error_y": {
             "color": "#2a3f5f"
            },
            "marker": {
             "line": {
              "color": "#E5ECF6",
              "width": 0.5
             },
             "pattern": {
              "fillmode": "overlay",
              "size": 10,
              "solidity": 0.2
             }
            },
            "type": "bar"
           }
          ],
          "barpolar": [
           {
            "marker": {
             "line": {
              "color": "#E5ECF6",
              "width": 0.5
             },
             "pattern": {
              "fillmode": "overlay",
              "size": 10,
              "solidity": 0.2
             }
            },
            "type": "barpolar"
           }
          ],
          "carpet": [
           {
            "aaxis": {
             "endlinecolor": "#2a3f5f",
             "gridcolor": "white",
             "linecolor": "white",
             "minorgridcolor": "white",
             "startlinecolor": "#2a3f5f"
            },
            "baxis": {
             "endlinecolor": "#2a3f5f",
             "gridcolor": "white",
             "linecolor": "white",
             "minorgridcolor": "white",
             "startlinecolor": "#2a3f5f"
            },
            "type": "carpet"
           }
          ],
          "choropleth": [
           {
            "colorbar": {
             "outlinewidth": 0,
             "ticks": ""
            },
            "type": "choropleth"
           }
          ],
          "contour": [
           {
            "colorbar": {
             "outlinewidth": 0,
             "ticks": ""
            },
            "colorscale": [
             [
              0,
              "#0d0887"
             ],
             [
              0.1111111111111111,
              "#46039f"
             ],
             [
              0.2222222222222222,
              "#7201a8"
             ],
             [
              0.3333333333333333,
              "#9c179e"
             ],
             [
              0.4444444444444444,
              "#bd3786"
             ],
             [
              0.5555555555555556,
              "#d8576b"
             ],
             [
              0.6666666666666666,
              "#ed7953"
             ],
             [
              0.7777777777777778,
              "#fb9f3a"
             ],
             [
              0.8888888888888888,
              "#fdca26"
             ],
             [
              1,
              "#f0f921"
             ]
            ],
            "type": "contour"
           }
          ],
          "contourcarpet": [
           {
            "colorbar": {
             "outlinewidth": 0,
             "ticks": ""
            },
            "type": "contourcarpet"
           }
          ],
          "heatmap": [
           {
            "colorbar": {
             "outlinewidth": 0,
             "ticks": ""
            },
            "colorscale": [
             [
              0,
              "#0d0887"
             ],
             [
              0.1111111111111111,
              "#46039f"
             ],
             [
              0.2222222222222222,
              "#7201a8"
             ],
             [
              0.3333333333333333,
              "#9c179e"
             ],
             [
              0.4444444444444444,
              "#bd3786"
             ],
             [
              0.5555555555555556,
              "#d8576b"
             ],
             [
              0.6666666666666666,
              "#ed7953"
             ],
             [
              0.7777777777777778,
              "#fb9f3a"
             ],
             [
              0.8888888888888888,
              "#fdca26"
             ],
             [
              1,
              "#f0f921"
             ]
            ],
            "type": "heatmap"
           }
          ],
          "heatmapgl": [
           {
            "colorbar": {
             "outlinewidth": 0,
             "ticks": ""
            },
            "colorscale": [
             [
              0,
              "#0d0887"
             ],
             [
              0.1111111111111111,
              "#46039f"
             ],
             [
              0.2222222222222222,
              "#7201a8"
             ],
             [
              0.3333333333333333,
              "#9c179e"
             ],
             [
              0.4444444444444444,
              "#bd3786"
             ],
             [
              0.5555555555555556,
              "#d8576b"
             ],
             [
              0.6666666666666666,
              "#ed7953"
             ],
             [
              0.7777777777777778,
              "#fb9f3a"
             ],
             [
              0.8888888888888888,
              "#fdca26"
             ],
             [
              1,
              "#f0f921"
             ]
            ],
            "type": "heatmapgl"
           }
          ],
          "histogram": [
           {
            "marker": {
             "pattern": {
              "fillmode": "overlay",
              "size": 10,
              "solidity": 0.2
             }
            },
            "type": "histogram"
           }
          ],
          "histogram2d": [
           {
            "colorbar": {
             "outlinewidth": 0,
             "ticks": ""
            },
            "colorscale": [
             [
              0,
              "#0d0887"
             ],
             [
              0.1111111111111111,
              "#46039f"
             ],
             [
              0.2222222222222222,
              "#7201a8"
             ],
             [
              0.3333333333333333,
              "#9c179e"
             ],
             [
              0.4444444444444444,
              "#bd3786"
             ],
             [
              0.5555555555555556,
              "#d8576b"
             ],
             [
              0.6666666666666666,
              "#ed7953"
             ],
             [
              0.7777777777777778,
              "#fb9f3a"
             ],
             [
              0.8888888888888888,
              "#fdca26"
             ],
             [
              1,
              "#f0f921"
             ]
            ],
            "type": "histogram2d"
           }
          ],
          "histogram2dcontour": [
           {
            "colorbar": {
             "outlinewidth": 0,
             "ticks": ""
            },
            "colorscale": [
             [
              0,
              "#0d0887"
             ],
             [
              0.1111111111111111,
              "#46039f"
             ],
             [
              0.2222222222222222,
              "#7201a8"
             ],
             [
              0.3333333333333333,
              "#9c179e"
             ],
             [
              0.4444444444444444,
              "#bd3786"
             ],
             [
              0.5555555555555556,
              "#d8576b"
             ],
             [
              0.6666666666666666,
              "#ed7953"
             ],
             [
              0.7777777777777778,
              "#fb9f3a"
             ],
             [
              0.8888888888888888,
              "#fdca26"
             ],
             [
              1,
              "#f0f921"
             ]
            ],
            "type": "histogram2dcontour"
           }
          ],
          "mesh3d": [
           {
            "colorbar": {
             "outlinewidth": 0,
             "ticks": ""
            },
            "type": "mesh3d"
           }
          ],
          "parcoords": [
           {
            "line": {
             "colorbar": {
              "outlinewidth": 0,
              "ticks": ""
             }
            },
            "type": "parcoords"
           }
          ],
          "pie": [
           {
            "automargin": true,
            "type": "pie"
           }
          ],
          "scatter": [
           {
            "fillpattern": {
             "fillmode": "overlay",
             "size": 10,
             "solidity": 0.2
            },
            "type": "scatter"
           }
          ],
          "scatter3d": [
           {
            "line": {
             "colorbar": {
              "outlinewidth": 0,
              "ticks": ""
             }
            },
            "marker": {
             "colorbar": {
              "outlinewidth": 0,
              "ticks": ""
             }
            },
            "type": "scatter3d"
           }
          ],
          "scattercarpet": [
           {
            "marker": {
             "colorbar": {
              "outlinewidth": 0,
              "ticks": ""
             }
            },
            "type": "scattercarpet"
           }
          ],
          "scattergeo": [
           {
            "marker": {
             "colorbar": {
              "outlinewidth": 0,
              "ticks": ""
             }
            },
            "type": "scattergeo"
           }
          ],
          "scattergl": [
           {
            "marker": {
             "colorbar": {
              "outlinewidth": 0,
              "ticks": ""
             }
            },
            "type": "scattergl"
           }
          ],
          "scattermapbox": [
           {
            "marker": {
             "colorbar": {
              "outlinewidth": 0,
              "ticks": ""
             }
            },
            "type": "scattermapbox"
           }
          ],
          "scatterpolar": [
           {
            "marker": {
             "colorbar": {
              "outlinewidth": 0,
              "ticks": ""
             }
            },
            "type": "scatterpolar"
           }
          ],
          "scatterpolargl": [
           {
            "marker": {
             "colorbar": {
              "outlinewidth": 0,
              "ticks": ""
             }
            },
            "type": "scatterpolargl"
           }
          ],
          "scatterternary": [
           {
            "marker": {
             "colorbar": {
              "outlinewidth": 0,
              "ticks": ""
             }
            },
            "type": "scatterternary"
           }
          ],
          "surface": [
           {
            "colorbar": {
             "outlinewidth": 0,
             "ticks": ""
            },
            "colorscale": [
             [
              0,
              "#0d0887"
             ],
             [
              0.1111111111111111,
              "#46039f"
             ],
             [
              0.2222222222222222,
              "#7201a8"
             ],
             [
              0.3333333333333333,
              "#9c179e"
             ],
             [
              0.4444444444444444,
              "#bd3786"
             ],
             [
              0.5555555555555556,
              "#d8576b"
             ],
             [
              0.6666666666666666,
              "#ed7953"
             ],
             [
              0.7777777777777778,
              "#fb9f3a"
             ],
             [
              0.8888888888888888,
              "#fdca26"
             ],
             [
              1,
              "#f0f921"
             ]
            ],
            "type": "surface"
           }
          ],
          "table": [
           {
            "cells": {
             "fill": {
              "color": "#EBF0F8"
             },
             "line": {
              "color": "white"
             }
            },
            "header": {
             "fill": {
              "color": "#C8D4E3"
             },
             "line": {
              "color": "white"
             }
            },
            "type": "table"
           }
          ]
         },
         "layout": {
          "annotationdefaults": {
           "arrowcolor": "#2a3f5f",
           "arrowhead": 0,
           "arrowwidth": 1
          },
          "autotypenumbers": "strict",
          "coloraxis": {
           "colorbar": {
            "outlinewidth": 0,
            "ticks": ""
           }
          },
          "colorscale": {
           "diverging": [
            [
             0,
             "#8e0152"
            ],
            [
             0.1,
             "#c51b7d"
            ],
            [
             0.2,
             "#de77ae"
            ],
            [
             0.3,
             "#f1b6da"
            ],
            [
             0.4,
             "#fde0ef"
            ],
            [
             0.5,
             "#f7f7f7"
            ],
            [
             0.6,
             "#e6f5d0"
            ],
            [
             0.7,
             "#b8e186"
            ],
            [
             0.8,
             "#7fbc41"
            ],
            [
             0.9,
             "#4d9221"
            ],
            [
             1,
             "#276419"
            ]
           ],
           "sequential": [
            [
             0,
             "#0d0887"
            ],
            [
             0.1111111111111111,
             "#46039f"
            ],
            [
             0.2222222222222222,
             "#7201a8"
            ],
            [
             0.3333333333333333,
             "#9c179e"
            ],
            [
             0.4444444444444444,
             "#bd3786"
            ],
            [
             0.5555555555555556,
             "#d8576b"
            ],
            [
             0.6666666666666666,
             "#ed7953"
            ],
            [
             0.7777777777777778,
             "#fb9f3a"
            ],
            [
             0.8888888888888888,
             "#fdca26"
            ],
            [
             1,
             "#f0f921"
            ]
           ],
           "sequentialminus": [
            [
             0,
             "#0d0887"
            ],
            [
             0.1111111111111111,
             "#46039f"
            ],
            [
             0.2222222222222222,
             "#7201a8"
            ],
            [
             0.3333333333333333,
             "#9c179e"
            ],
            [
             0.4444444444444444,
             "#bd3786"
            ],
            [
             0.5555555555555556,
             "#d8576b"
            ],
            [
             0.6666666666666666,
             "#ed7953"
            ],
            [
             0.7777777777777778,
             "#fb9f3a"
            ],
            [
             0.8888888888888888,
             "#fdca26"
            ],
            [
             1,
             "#f0f921"
            ]
           ]
          },
          "colorway": [
           "#636efa",
           "#EF553B",
           "#00cc96",
           "#ab63fa",
           "#FFA15A",
           "#19d3f3",
           "#FF6692",
           "#B6E880",
           "#FF97FF",
           "#FECB52"
          ],
          "font": {
           "color": "#2a3f5f"
          },
          "geo": {
           "bgcolor": "white",
           "lakecolor": "white",
           "landcolor": "#E5ECF6",
           "showlakes": true,
           "showland": true,
           "subunitcolor": "white"
          },
          "hoverlabel": {
           "align": "left"
          },
          "hovermode": "closest",
          "mapbox": {
           "style": "light"
          },
          "paper_bgcolor": "white",
          "plot_bgcolor": "#E5ECF6",
          "polar": {
           "angularaxis": {
            "gridcolor": "white",
            "linecolor": "white",
            "ticks": ""
           },
           "bgcolor": "#E5ECF6",
           "radialaxis": {
            "gridcolor": "white",
            "linecolor": "white",
            "ticks": ""
           }
          },
          "scene": {
           "xaxis": {
            "backgroundcolor": "#E5ECF6",
            "gridcolor": "white",
            "gridwidth": 2,
            "linecolor": "white",
            "showbackground": true,
            "ticks": "",
            "zerolinecolor": "white"
           },
           "yaxis": {
            "backgroundcolor": "#E5ECF6",
            "gridcolor": "white",
            "gridwidth": 2,
            "linecolor": "white",
            "showbackground": true,
            "ticks": "",
            "zerolinecolor": "white"
           },
           "zaxis": {
            "backgroundcolor": "#E5ECF6",
            "gridcolor": "white",
            "gridwidth": 2,
            "linecolor": "white",
            "showbackground": true,
            "ticks": "",
            "zerolinecolor": "white"
           }
          },
          "shapedefaults": {
           "line": {
            "color": "#2a3f5f"
           }
          },
          "ternary": {
           "aaxis": {
            "gridcolor": "white",
            "linecolor": "white",
            "ticks": ""
           },
           "baxis": {
            "gridcolor": "white",
            "linecolor": "white",
            "ticks": ""
           },
           "bgcolor": "#E5ECF6",
           "caxis": {
            "gridcolor": "white",
            "linecolor": "white",
            "ticks": ""
           }
          },
          "title": {
           "x": 0.05
          },
          "xaxis": {
           "automargin": true,
           "gridcolor": "white",
           "linecolor": "white",
           "ticks": "",
           "title": {
            "standoff": 15
           },
           "zerolinecolor": "white",
           "zerolinewidth": 2
          },
          "yaxis": {
           "automargin": true,
           "gridcolor": "white",
           "linecolor": "white",
           "ticks": "",
           "title": {
            "standoff": 15
           },
           "zerolinecolor": "white",
           "zerolinewidth": 2
          }
         }
        },
        "width": 1000
       }
      },
      "text/html": [
       "<div>                            <div id=\"0e8903b3-f4de-4278-b204-e6abb89fb575\" class=\"plotly-graph-div\" style=\"height:1000px; width:1000px;\"></div>            <script type=\"text/javascript\">                require([\"plotly\"], function(Plotly) {                    window.PLOTLYENV=window.PLOTLYENV || {};                                    if (document.getElementById(\"0e8903b3-f4de-4278-b204-e6abb89fb575\")) {                    Plotly.newPlot(                        \"0e8903b3-f4de-4278-b204-e6abb89fb575\",                        [{\"marker\":{\"color\":2,\"opacity\":0.8,\"size\":10},\"mode\":\"markers+text\",\"name\":\"Apple\",\"text\":[\"Walmart\",\"Amazon\",\"Exxon_Mobil\",\"Apple\",\"Berkshire_Hathaway\",\"UnitedHealth_Group\",\"McKesson\",\"AmerisourceBergen\",\"Alphabet\",\"Ford_Motor\",\"Cigna\",\"Costco_Wholesale\",\"Chevron\",\"JPMorgan_Chase\",\"General_Motors\",\"Verizon_Communications\",\"Microsoft\",\"Kroger\",\"Fannie_Mae\",\"Home_Depot\",\"Comcast\",\"Anthem\",\"Wells_Fargo\",\"Citigroup\",\"Valero_Energy\"],\"textfont\":{\"size\":20},\"textposition\":\"top center\",\"x\":[-0.46817698504595984,-0.12046254395164328,0.10182515161253476,-0.024939717616396583,0.15161189715764753,0.045135409922041674,-0.25065414127998625,-0.025074946240177576,0.09584288646012044,-0.02195159976273476,-0.08938725002438032,-0.37780594565216263,-0.0579649774590967,0.3735206209934687,0.09606458356600897,0.25116299368415157,0.107502071607232,-0.38254649912547706,0.5210602984983662,-0.31186839623799534,0.051385407110456256,-0.1650088336991531,0.23548994073895801,0.5456708156280576,0.19265626812943884],\"y\":[-0.21105621658487572,-0.2598032493444694,-0.22466535470085314,-0.3175881082141223,0.03352560921740812,0.22992229860342064,0.19962011221492568,0.4440214637663085,-0.06488800767560303,0.031368743158552786,0.43706512666847563,-0.07971074971880972,-0.2811584692256544,0.1111466045769261,0.025498393681357295,-0.2802890392185954,-0.3785310684367481,0.2672592330572591,0.09523013374034486,-0.2245414101910934,-0.2930734042405232,0.3312725662688346,0.03854072952303263,-0.03394940705817625,-0.1017887916518925],\"z\":[-0.2850978930105607,0.08997515994628309,-0.2578146689335201,0.12218896295373459,-0.14166217084242944,-0.04883660907217086,-0.025494765493373105,-0.07075637278164927,0.05737636681889584,0.5939413988723615,-0.17399257356521863,-0.05779158178592061,-0.3450139017624024,-0.0002613348394264351,0.4977316618005036,-0.038697881407911236,0.18436862510675955,-0.15166232265185128,-0.1727307766168965,-0.12168637638223036,-0.09129499829851469,-0.10673863319581899,-0.16246650268242832,-0.20640475009587514,-0.06766814715933767],\"type\":\"scatter3d\"},{\"marker\":{\"color\":2,\"opacity\":0.8,\"size\":10},\"mode\":\"markers+text\",\"name\":\"Shell\",\"text\":[\"General_Electric\",\"Target\",\"IBM\",\"Boeing\",\"Freddie_Mac\",\"Centene\",\"UPS\",\"Intel\",\"Facebook\",\"FedEx\",\"MetLife\",\"Walt_Disney\",\"PepsiCo\",\"Humana\",\"Archer_Daniels_Midland\",\"Albertsons\",\"Sysco\",\"Lockheed_Martin\",\"HP\",\"Morgan_Stanley\",\"Caterpillar\",\"Cisco_Systems\",\"Pfizer\",\"Delta_Air_Lines\",\"Merck\"],\"textfont\":{\"size\":20},\"textposition\":\"top center\",\"x\":[0.04054842289093988,-0.3829200121118814,0.005447038793400772,-0.046623068950113596,0.4974413779150905,-0.03075613067170428,-0.2455775664071044,0.05670837625521527,-0.022200071673383722,-0.20812402469140004,0.1900367576829476,-0.03516161535829511,0.004728630072183972,-0.10561819851842257,0.0446639023984634,-0.33839465816106706,-0.27871219406567305,-0.049432026922935246,-0.12737695241311545,0.47892053537985285,-0.13549661628710744,0.027401245436881428,0.08836794570390395,0.005586080848252629,0.09345631384175063],\"y\":[0.0013988340196621413,-0.21524633590197711,-0.25165002445250445,0.09681308294230688,0.09388269822234045,0.5403496256465157,-0.06692195319422839,-0.3044255032835908,-0.10953120373994206,-0.03487048530777395,0.16828790467895235,0.07386215042270151,-0.1076426592595797,0.47654534342865046,0.1815557444645223,0.010745981951342298,-0.020157153434841472,-0.030536724563695605,-0.20325636412021442,-0.0734171729609546,0.2668449278781858,-0.1428374635401403,0.16334228104080328,-0.09627865359604493,0.0897153844440768],\"z\":[0.3524510528189185,-0.16246509679445903,0.1947158297082368,0.4305730980588766,-0.23737090754402967,0.1114250341796449,-0.002392297074068399,0.15970578256867946,0.1102795645747072,-0.019915102689127193,-0.22489947616779354,0.11296659684377601,-0.10721524236453933,-0.0700607053249229,0.18627881013798325,-0.3639861387237913,-0.1154341522575363,0.2058391761385288,0.05922211016643736,-0.12173128506192833,0.30834646372769386,0.20949911712256908,-0.021697023642382806,-0.04136155548402965,0.027716432161553985],\"type\":\"scatter3d\"},{\"marker\":{\"color\":2,\"opacity\":0.8,\"size\":10},\"mode\":\"markers+text\",\"name\":\"Boeing\",\"text\":[\"Charter_Communications\",\"Allstate\",\"Nationwide\",\"Best_Buy\",\"Dow\",\"Tyson_Foods\",\"TJX\",\"TIAA\",\"Oracle\",\"General_Dynamics\",\"Deere\",\"Nike\",\"Progressive\",\"Honeywell_International\",\"ConocoPhillips\",\"USAA\",\"Exelon\",\"Northrop_Grumman\",\"Northwestern_Mutual\",\"3M\",\"Abbott_Laboratories\",\"CHS\",\"Travelers_Cos.\",\"Philip_Morris_International\",\"Raytheon\"],\"textfont\":{\"size\":20},\"textposition\":\"top center\",\"x\":[],\"y\":[],\"z\":[],\"type\":\"scatter3d\"},{\"marker\":{\"color\":\"black\",\"opacity\":1,\"size\":10},\"mode\":\"markers+text\",\"name\":\"input words\",\"text\":[\"Arrow_Electronics\",\"Starbucks\",\"Paccar\",\"Thermo_Fisher_Scientific\",\"Jabil\",\"Tesla\",\"PBF_Energy\",\"Qualcomm\",\"Synnex\",\"Dollar_Tree\",\"Cummins\",\"Micron_Technology\",\"Amgen\",\"Penske_Automotive_Group\",\"Visa\",\"Broadcom\",\"Nucor\",\"Gilead_Sciences\",\"Southwest_Airlines\",\"Halliburton\",\"Eli_Lilly\",\"Aflac\",\"Lennar\",\"Occidental_Petroleum\",\"Rite_Aid\",\"DuPont\",\"AutoNation\",\"ManpowerGroup\",\"Danaher\",\"Whirlpool\",\"AECOM\",\"Netflix\",\"Lear\",\"Altria_Group\",\"Avnet\",\"Genuine_Parts\",\"NextEra_Energy\",\"CarMax\",\"Tenet_Healthcare\",\"Emerson_Electric\",\"CDW\",\"Fluor\",\"D.R._Horton\",\"Tenneco\",\"EOG_Resources\",\"BD\",\"Salesforce\",\"Mastercard\",\"Molina_Healthcare\",\"Cognizant_Technology_Solutions\",\"Gap\",\"Aramark\",\"Nordstrom\",\"Waste_Management\",\"C.H._Robinson_Worldwide\",\"PPG_Industries\",\"Omnicom_Group\",\"Loews\",\"Ecolab\",\"Stryker\",\"Est\\u00e9e_Lauder\",\"Applied_Materials\",\"BlackRock\",\"Texas_Instruments\",\"Biogen\",\"Automatic_Data_Processing\",\"Illinois_Tool_Works\",\"DaVita\",\"VF\",\"Las_Vegas_Sands\",\"Textron\",\"Kellogg\",\"Kinder_Morgan\",\"Ameriprise_Financial\",\"MGM_Resorts_International\",\"DISH_Network\",\"Lithia_Motors\",\"DTE_Energy\",\"Consolidated_Edison\",\"LKQ\",\"Sempra_Energy\",\"CenterPoint_Energy\",\"Quanta_Services\",\"Unum_Group\",\"CSX\",\"AutoZone\",\"Charles_Schwab\",\"Ally_Financial\",\"Xcel_Energy\",\"Corning\",\"Ball\",\"Fox\",\"Norfolk_Southern\",\"Navistar_International\",\"Adobe\",\"J.C._Penney\",\"Discovery\",\"Nvidia\",\"Entergy\",\"FirstEnergy\",\"eBay\",\"Boston_Scientific\",\"ODP\",\"Steel_Dynamics\",\"Sonic_Automotive\",\"Alcoa\",\"Henry_Schein\",\"Interpublic_Group\",\"PulteGroup\",\"AES\",\"Fiserv\",\"BorgWarner\",\"Oneok\",\"Assurant\",\"Calpine\",\"Mohawk_Industries\",\"PVH\",\"Campbell_Soup\",\"NRG_Energy\",\"Fifth_Third_Bancorp\",\"Newmont\",\"Cheniere_Energy\",\"Advance_Auto_Parts\",\"Markel\",\"Hormel_Foods\",\"Pioneer_Natural_Resources\",\"Eastman_Chemical\",\"EMCOR_Group\",\"Avis_Budget_Group\",\"KKR\",\"AGCO\",\"Alleghany\",\"Icahn_Enterprises\",\"Ryder_System\",\"Mosaic\",\"Huntington_Ingalls_Industries\",\"Anixter_International\",\"Genworth_Financial\",\"Targa_Resources\",\"Coty\",\"Dana\",\"Autoliv\",\"Darden_Restaurants\",\"Chesapeake_Energy\",\"NOV\",\"Oshkosh\",\"WESCO_International\",\"Tractor_Supply\",\"Huntsman\",\"Masco\",\"Sanmina\",\"Amphenol\",\"Williams\",\"Andersons\",\"Westlake_Chemical\",\"Constellation_Brands\",\"JetBlue_Airways\",\"Foot_Locker\",\"Hershey\",\"Thor_Industries\",\"Regeneron_Pharmaceuticals\",\"Spirit_AeroSystems_Holdings\",\"J.M._Smucker\",\"PPL\",\"Insight_Enterprises\",\"Quest_Diagnostics\",\"KeyCorp\",\"DCP_Midstream\",\"Graybar_Electric\",\"NVR\",\"Ulta_Beauty\",\"Blackstone_Group\",\"Dean_Foods\",\"UGI\",\"Builders_FirstSource\",\"Toll_Brothers\",\"Asbury_Automotive_Group\",\"MasTec\",\"Owens_Corning\",\"Dover\",\"Beacon_Roofing_Supply\",\"Avery_Dennison\",\"Hanesbrands\",\"NCR\",\"Cintas\",\"Polaris\",\"Seaboard\",\"Intuit\",\"Regions_Financial\",\"Rockwell_Automation\",\"Wynn_Resorts\",\"Securian_Financial_Group\",\"Weyerhaeuser\",\"Intercontinental_Exchange\",\"Hess\",\"ABM_Industries\",\"Activision_Blizzard\",\"GameStop\",\"APA\",\"AK_Steel_Holding\",\"Ralph_Lauren\",\"Celanese\",\"Ascena_Retail_Group\",\"Clorox\",\"Graphic_Packaging_Holding\",\"NetApp\",\"Olin\",\"Avantor\",\"Tapestry\",\"TD_Ameritrade_Holding\",\"Analog_Devices\",\"Ameren\",\"Commercial_Metals\",\"Levi_Strauss\",\"Cerner\",\"Huntington_Bancshares\",\"KBR\",\"Sprouts_Farmers_Market\",\"T._Rowe_Price\",\"Yum_Brands\",\"Chipotle_Mexican_Grill\",\"Patterson\",\"Equinix\",\"ON_Semiconductor\",\"TransDigm_Group\",\"Sonoco_Products\",\"Microchip_Technology\",\"McCormick\",\"MDU_Resources_Group\",\"Fastenal\",\"Big_Lots\",\"Under_Armour\",\"Xylem\",\"Domtar\",\"NiSource\",\"Marathon_Oil\",\"Agilent_Technologies\",\"Ametek\",\"ADT\",\"Michaels\",\"Kemper\",\"Hyatt_Hotels\",\"Alexion_Pharmaceuticals\",\"CACI_International\",\"Electronic_Arts\",\"Vulcan_Materials\",\"TreeHouse_Foods\",\"Global_Payments\",\"Yellow\",\"CME_Group\",\"Chewy\",\"Carlisle\",\"Sealed_Air\",\"Watsco\",\"Martin_Marietta_Materials\",\"Hasbro\",\"Square\",\"Terex\",\"FMC\",\"Boise_Cascade\",\"Peabody_Energy\",\"Greif\",\"Concho_Resources\",\"Hubbell\",\"CF_Industries_Holdings\",\"KLA\",\"Brunswick\",\"KB_Home\",\"Mattel\",\"Silgan_Holdings\",\"Zebra_Technologies\",\"Intuitive_Surgical\",\"Tutor_Perini\",\"Juniper_Networks\",\"Tiffany\",\"EQT\",\"Antero_Resources\",\"Meritor\",\"Broadridge_Financial_Solutions\",\"Edwards_Lifesciences\",\"Colfax\",\"Insperity\",\"American_Eagle_Outfitters\",\"Iron_Mountain\",\"Nasdaq\",\"Gartner\",\"Sinclair_Broadcast_Group\",\"Ingles_Markets\",\"Vertex_Pharmaceuticals\",\"Spectrum_Brands_Holdings\",\"Flowers_Foods\",\"CUNA_Mutual_Group\",\"Allegheny_Technologies\",\"Landstar_System\",\"Amkor_Technology\",\"PPD\",\"Urban_Outfitters\",\"Sabre\",\"Parsons\",\"Flowserve\",\"Carvana\",\"ASGN\",\"Sally_Beauty_Holdings\",\"ScanSource\",\"Ventas\",\"Spirit_Airlines\",\"Comerica\",\"Timken\",\"Paychex\",\"Amerco\",\"Worthington_Industries\",\"Laureate_Education\",\"Acuity_Brands\",\"Meritage_Homes\",\"Alliant_Energy\",\"Workday\",\"Meredith\",\"Albemarle\",\"Ciena\",\"Weis_Markets\",\"Illumina\",\"SVB_Financial_Group\",\"Stifel_Financial\",\"Mednax\",\"Equifax\",\"Pitney_Bowes\",\"ServiceNow\",\"Twitter\",\"Steelcase\",\"Sanderson_Farms\",\"WABCO_Holdings\",\"Clean_Harbors\",\"Puget_Energy\",\"Scientific_Games\",\"Granite_Construction\",\"Carlyle_Group\",\"Skyworks_Solutions\",\"Aleris\",\"Hexion\",\"Hologic\",\"Red_Hat\",\"Synopsys\",\"PolyOne\",\"Dycom_Industries\",\"Cabot\",\"Prologis\",\"Boyd_Gaming\",\"Stericycle\",\"CIT_Group\",\"Crane\",\"Cinemark_Holdings\",\"Autodesk\",\"Trimble\",\"Zions_Bancorp.\",\"Regal_Beloit\",\"Varian_Medical_Systems\",\"PriceSmart\",\"Brinker_International\",\"Digital_Realty_Trust\",\"Pool\",\"Infor\",\"Plexus\",\"Teledyne_Technologies\",\"Toro\",\"GMS\",\"Tetra_Tech\",\"Primoris_Services\",\"Elanco_Animal_Health\",\"Xilinx\",\"Columbia_Sportswear\",\"Greenbrier\",\"Presidio\",\"Citrix_Systems\",\"GoDaddy\",\"SkyWest\",\"Middleby\",\"NOW\",\"Unisys\",\"Visteon\",\"Moog\",\"Legg_Mason\",\"Atmos_Energy\",\"Woodward\",\"Palo_Alto_Networks\",\"H.B._Fuller\",\"Akamai_Technologies\",\"Maximus\",\"PerkinElmer\",\"AptarGroup\",\"ITT\",\"Donaldson\",\"Kirby\",\"Popular\",\"Range_Resources\",\"Amica_Mutual_Insurance\",\"EnerSys\",\"Valmont_Industries\",\"PAE\",\"Texas_Roadhouse\",\"Euronet_Worldwide\",\"Energizer_Holdings\",\"Magellan_Midstream_Partners\",\"Hain_Celestial_Group\",\"Univision_Communications\",\"Equity_Residential\",\"Colony_Capital\",\"TTM_Technologies\",\"Guess\",\"Vishay_Intertechnology\",\"TransUnion\",\"Cooper\",\"FleetCor_Technologies\",\"RH\",\"BlueLinx_Holdings\",\"Verisk_Analytics\",\"ResMed\",\"Teleflex\",\"Interactive_Brokers_Group\",\"Caesars_Entertainment\",\"Catalent\",\"Itron\",\"IDEX\",\"Belden\",\"Cheesecake_Factory\",\"Werner_Enterprises\",\"Ingersoll_Rand\",\"Verso\",\"Nu_Skin_Enterprises\",\"Revlon\",\"Arista_Networks\",\"IDEXX_Laboratories\",\"Align_Technology\",\"Waters\",\"Synovus_Financial\",\"Valvoline\",\"SLM\",\"Kennametal\",\"TrueBlue\",\"Cimarex_Energy\",\"Splunk\",\"Hexcel\",\"FTI_Consulting\",\"Cadence_Design_Systems\",\"AvalonBay_Communities\",\"Maxim_Integrated_Products\",\"Teradyne\",\"EPAM_Systems\",\"Vail_Resorts\",\"Benchmark_Electronics\",\"HNI\",\"F5_Networks\",\"Affiliated_Managers_Group\",\"OGE_Energy\",\"Universal\",\"BOK_Financial\",\"ManTech_International\",\"AMN_Healthcare_Services\",\"Groupon\",\"Modine_Manufacturing\",\"Griffon\",\"Cypress_Semiconductor\",\"Generac_Holdings\",\"Matson\",\"Genesco\",\"Nordson\",\"NewMarket\",\"Rexnord\",\"Incyte\",\"Fortinet\",\"AAR\",\"Schnitzer_Steel_Industries\",\"BGC_Partners\",\"EchoStar\",\"Beazer_Homes_USA\",\"Bruker\",\"Viasat\",\"HEICO\",\"TCF_Financial\",\"Primerica\",\"Oceaneering_International\",\"Copart\",\"Evercore\",\"Deckers_Outdoor\",\"Express\",\"Hovnanian_Enterprises\",\"Rollins\",\"Deluxe\"],\"textfont\":{\"size\":20},\"textposition\":\"top center\",\"x\":[],\"y\":[],\"z\":[],\"type\":\"scatter3d\"}],                        {\"autosize\":false,\"font\":{\"family\":\" Courier New \",\"size\":15},\"height\":1000,\"legend\":{\"font\":{\"color\":\"black\",\"family\":\"Courier New\",\"size\":25},\"x\":1,\"y\":0.5},\"margin\":{\"b\":0,\"l\":0,\"r\":0,\"t\":0},\"showlegend\":true,\"width\":1000,\"template\":{\"data\":{\"histogram2dcontour\":[{\"type\":\"histogram2dcontour\",\"colorbar\":{\"outlinewidth\":0,\"ticks\":\"\"},\"colorscale\":[[0.0,\"#0d0887\"],[0.1111111111111111,\"#46039f\"],[0.2222222222222222,\"#7201a8\"],[0.3333333333333333,\"#9c179e\"],[0.4444444444444444,\"#bd3786\"],[0.5555555555555556,\"#d8576b\"],[0.6666666666666666,\"#ed7953\"],[0.7777777777777778,\"#fb9f3a\"],[0.8888888888888888,\"#fdca26\"],[1.0,\"#f0f921\"]]}],\"choropleth\":[{\"type\":\"choropleth\",\"colorbar\":{\"outlinewidth\":0,\"ticks\":\"\"}}],\"histogram2d\":[{\"type\":\"histogram2d\",\"colorbar\":{\"outlinewidth\":0,\"ticks\":\"\"},\"colorscale\":[[0.0,\"#0d0887\"],[0.1111111111111111,\"#46039f\"],[0.2222222222222222,\"#7201a8\"],[0.3333333333333333,\"#9c179e\"],[0.4444444444444444,\"#bd3786\"],[0.5555555555555556,\"#d8576b\"],[0.6666666666666666,\"#ed7953\"],[0.7777777777777778,\"#fb9f3a\"],[0.8888888888888888,\"#fdca26\"],[1.0,\"#f0f921\"]]}],\"heatmap\":[{\"type\":\"heatmap\",\"colorbar\":{\"outlinewidth\":0,\"ticks\":\"\"},\"colorscale\":[[0.0,\"#0d0887\"],[0.1111111111111111,\"#46039f\"],[0.2222222222222222,\"#7201a8\"],[0.3333333333333333,\"#9c179e\"],[0.4444444444444444,\"#bd3786\"],[0.5555555555555556,\"#d8576b\"],[0.6666666666666666,\"#ed7953\"],[0.7777777777777778,\"#fb9f3a\"],[0.8888888888888888,\"#fdca26\"],[1.0,\"#f0f921\"]]}],\"heatmapgl\":[{\"type\":\"heatmapgl\",\"colorbar\":{\"outlinewidth\":0,\"ticks\":\"\"},\"colorscale\":[[0.0,\"#0d0887\"],[0.1111111111111111,\"#46039f\"],[0.2222222222222222,\"#7201a8\"],[0.3333333333333333,\"#9c179e\"],[0.4444444444444444,\"#bd3786\"],[0.5555555555555556,\"#d8576b\"],[0.6666666666666666,\"#ed7953\"],[0.7777777777777778,\"#fb9f3a\"],[0.8888888888888888,\"#fdca26\"],[1.0,\"#f0f921\"]]}],\"contourcarpet\":[{\"type\":\"contourcarpet\",\"colorbar\":{\"outlinewidth\":0,\"ticks\":\"\"}}],\"contour\":[{\"type\":\"contour\",\"colorbar\":{\"outlinewidth\":0,\"ticks\":\"\"},\"colorscale\":[[0.0,\"#0d0887\"],[0.1111111111111111,\"#46039f\"],[0.2222222222222222,\"#7201a8\"],[0.3333333333333333,\"#9c179e\"],[0.4444444444444444,\"#bd3786\"],[0.5555555555555556,\"#d8576b\"],[0.6666666666666666,\"#ed7953\"],[0.7777777777777778,\"#fb9f3a\"],[0.8888888888888888,\"#fdca26\"],[1.0,\"#f0f921\"]]}],\"surface\":[{\"type\":\"surface\",\"colorbar\":{\"outlinewidth\":0,\"ticks\":\"\"},\"colorscale\":[[0.0,\"#0d0887\"],[0.1111111111111111,\"#46039f\"],[0.2222222222222222,\"#7201a8\"],[0.3333333333333333,\"#9c179e\"],[0.4444444444444444,\"#bd3786\"],[0.5555555555555556,\"#d8576b\"],[0.6666666666666666,\"#ed7953\"],[0.7777777777777778,\"#fb9f3a\"],[0.8888888888888888,\"#fdca26\"],[1.0,\"#f0f921\"]]}],\"mesh3d\":[{\"type\":\"mesh3d\",\"colorbar\":{\"outlinewidth\":0,\"ticks\":\"\"}}],\"scatter\":[{\"fillpattern\":{\"fillmode\":\"overlay\",\"size\":10,\"solidity\":0.2},\"type\":\"scatter\"}],\"parcoords\":[{\"type\":\"parcoords\",\"line\":{\"colorbar\":{\"outlinewidth\":0,\"ticks\":\"\"}}}],\"scatterpolargl\":[{\"type\":\"scatterpolargl\",\"marker\":{\"colorbar\":{\"outlinewidth\":0,\"ticks\":\"\"}}}],\"bar\":[{\"error_x\":{\"color\":\"#2a3f5f\"},\"error_y\":{\"color\":\"#2a3f5f\"},\"marker\":{\"line\":{\"color\":\"#E5ECF6\",\"width\":0.5},\"pattern\":{\"fillmode\":\"overlay\",\"size\":10,\"solidity\":0.2}},\"type\":\"bar\"}],\"scattergeo\":[{\"type\":\"scattergeo\",\"marker\":{\"colorbar\":{\"outlinewidth\":0,\"ticks\":\"\"}}}],\"scatterpolar\":[{\"type\":\"scatterpolar\",\"marker\":{\"colorbar\":{\"outlinewidth\":0,\"ticks\":\"\"}}}],\"histogram\":[{\"marker\":{\"pattern\":{\"fillmode\":\"overlay\",\"size\":10,\"solidity\":0.2}},\"type\":\"histogram\"}],\"scattergl\":[{\"type\":\"scattergl\",\"marker\":{\"colorbar\":{\"outlinewidth\":0,\"ticks\":\"\"}}}],\"scatter3d\":[{\"type\":\"scatter3d\",\"line\":{\"colorbar\":{\"outlinewidth\":0,\"ticks\":\"\"}},\"marker\":{\"colorbar\":{\"outlinewidth\":0,\"ticks\":\"\"}}}],\"scattermapbox\":[{\"type\":\"scattermapbox\",\"marker\":{\"colorbar\":{\"outlinewidth\":0,\"ticks\":\"\"}}}],\"scatterternary\":[{\"type\":\"scatterternary\",\"marker\":{\"colorbar\":{\"outlinewidth\":0,\"ticks\":\"\"}}}],\"scattercarpet\":[{\"type\":\"scattercarpet\",\"marker\":{\"colorbar\":{\"outlinewidth\":0,\"ticks\":\"\"}}}],\"carpet\":[{\"aaxis\":{\"endlinecolor\":\"#2a3f5f\",\"gridcolor\":\"white\",\"linecolor\":\"white\",\"minorgridcolor\":\"white\",\"startlinecolor\":\"#2a3f5f\"},\"baxis\":{\"endlinecolor\":\"#2a3f5f\",\"gridcolor\":\"white\",\"linecolor\":\"white\",\"minorgridcolor\":\"white\",\"startlinecolor\":\"#2a3f5f\"},\"type\":\"carpet\"}],\"table\":[{\"cells\":{\"fill\":{\"color\":\"#EBF0F8\"},\"line\":{\"color\":\"white\"}},\"header\":{\"fill\":{\"color\":\"#C8D4E3\"},\"line\":{\"color\":\"white\"}},\"type\":\"table\"}],\"barpolar\":[{\"marker\":{\"line\":{\"color\":\"#E5ECF6\",\"width\":0.5},\"pattern\":{\"fillmode\":\"overlay\",\"size\":10,\"solidity\":0.2}},\"type\":\"barpolar\"}],\"pie\":[{\"automargin\":true,\"type\":\"pie\"}]},\"layout\":{\"autotypenumbers\":\"strict\",\"colorway\":[\"#636efa\",\"#EF553B\",\"#00cc96\",\"#ab63fa\",\"#FFA15A\",\"#19d3f3\",\"#FF6692\",\"#B6E880\",\"#FF97FF\",\"#FECB52\"],\"font\":{\"color\":\"#2a3f5f\"},\"hovermode\":\"closest\",\"hoverlabel\":{\"align\":\"left\"},\"paper_bgcolor\":\"white\",\"plot_bgcolor\":\"#E5ECF6\",\"polar\":{\"bgcolor\":\"#E5ECF6\",\"angularaxis\":{\"gridcolor\":\"white\",\"linecolor\":\"white\",\"ticks\":\"\"},\"radialaxis\":{\"gridcolor\":\"white\",\"linecolor\":\"white\",\"ticks\":\"\"}},\"ternary\":{\"bgcolor\":\"#E5ECF6\",\"aaxis\":{\"gridcolor\":\"white\",\"linecolor\":\"white\",\"ticks\":\"\"},\"baxis\":{\"gridcolor\":\"white\",\"linecolor\":\"white\",\"ticks\":\"\"},\"caxis\":{\"gridcolor\":\"white\",\"linecolor\":\"white\",\"ticks\":\"\"}},\"coloraxis\":{\"colorbar\":{\"outlinewidth\":0,\"ticks\":\"\"}},\"colorscale\":{\"sequential\":[[0.0,\"#0d0887\"],[0.1111111111111111,\"#46039f\"],[0.2222222222222222,\"#7201a8\"],[0.3333333333333333,\"#9c179e\"],[0.4444444444444444,\"#bd3786\"],[0.5555555555555556,\"#d8576b\"],[0.6666666666666666,\"#ed7953\"],[0.7777777777777778,\"#fb9f3a\"],[0.8888888888888888,\"#fdca26\"],[1.0,\"#f0f921\"]],\"sequentialminus\":[[0.0,\"#0d0887\"],[0.1111111111111111,\"#46039f\"],[0.2222222222222222,\"#7201a8\"],[0.3333333333333333,\"#9c179e\"],[0.4444444444444444,\"#bd3786\"],[0.5555555555555556,\"#d8576b\"],[0.6666666666666666,\"#ed7953\"],[0.7777777777777778,\"#fb9f3a\"],[0.8888888888888888,\"#fdca26\"],[1.0,\"#f0f921\"]],\"diverging\":[[0,\"#8e0152\"],[0.1,\"#c51b7d\"],[0.2,\"#de77ae\"],[0.3,\"#f1b6da\"],[0.4,\"#fde0ef\"],[0.5,\"#f7f7f7\"],[0.6,\"#e6f5d0\"],[0.7,\"#b8e186\"],[0.8,\"#7fbc41\"],[0.9,\"#4d9221\"],[1,\"#276419\"]]},\"xaxis\":{\"gridcolor\":\"white\",\"linecolor\":\"white\",\"ticks\":\"\",\"title\":{\"standoff\":15},\"zerolinecolor\":\"white\",\"automargin\":true,\"zerolinewidth\":2},\"yaxis\":{\"gridcolor\":\"white\",\"linecolor\":\"white\",\"ticks\":\"\",\"title\":{\"standoff\":15},\"zerolinecolor\":\"white\",\"automargin\":true,\"zerolinewidth\":2},\"scene\":{\"xaxis\":{\"backgroundcolor\":\"#E5ECF6\",\"gridcolor\":\"white\",\"linecolor\":\"white\",\"showbackground\":true,\"ticks\":\"\",\"zerolinecolor\":\"white\",\"gridwidth\":2},\"yaxis\":{\"backgroundcolor\":\"#E5ECF6\",\"gridcolor\":\"white\",\"linecolor\":\"white\",\"showbackground\":true,\"ticks\":\"\",\"zerolinecolor\":\"white\",\"gridwidth\":2},\"zaxis\":{\"backgroundcolor\":\"#E5ECF6\",\"gridcolor\":\"white\",\"linecolor\":\"white\",\"showbackground\":true,\"ticks\":\"\",\"zerolinecolor\":\"white\",\"gridwidth\":2}},\"shapedefaults\":{\"line\":{\"color\":\"#2a3f5f\"}},\"annotationdefaults\":{\"arrowcolor\":\"#2a3f5f\",\"arrowhead\":0,\"arrowwidth\":1},\"geo\":{\"bgcolor\":\"white\",\"landcolor\":\"#E5ECF6\",\"subunitcolor\":\"white\",\"showland\":true,\"showlakes\":true,\"lakecolor\":\"white\"},\"title\":{\"x\":0.05},\"mapbox\":{\"style\":\"light\"}}}},                        {\"responsive\": true}                    ).then(function(){\n",
       "                            \n",
       "var gd = document.getElementById('0e8903b3-f4de-4278-b204-e6abb89fb575');\n",
       "var x = new MutationObserver(function (mutations, observer) {{\n",
       "        var display = window.getComputedStyle(gd).display;\n",
       "        if (!display || display === 'none') {{\n",
       "            console.log([gd, 'removed!']);\n",
       "            Plotly.purge(gd);\n",
       "            observer.disconnect();\n",
       "        }}\n",
       "}});\n",
       "\n",
       "// Listen for the removal of the full notebook cells\n",
       "var notebookContainer = gd.closest('#notebook-container');\n",
       "if (notebookContainer) {{\n",
       "    x.observe(notebookContainer, {childList: true});\n",
       "}}\n",
       "\n",
       "// Listen for the clearing of the current output cell\n",
       "var outputEl = gd.closest('.output');\n",
       "if (outputEl) {{\n",
       "    x.observe(outputEl, {childList: true});\n",
       "}}\n",
       "\n",
       "                        })                };                });            </script>        </div>"
      ]
     },
     "metadata": {},
     "output_type": "display_data"
    }
   ],
   "source": [
    "import plotly\n",
    "import numpy as np\n",
    "import plotly.graph_objs as go\n",
    "from sklearn.decomposition import PCA\n",
    "\n",
    "def display_pca_scatterplot_3D(model, user_input=None, words=None, label=None, color_map=None, topn=25, sample=10):\n",
    "\n",
    "    word_vectors = word_vectors = np.array(model.loc[:,model.columns!='Unnamed: 0'])\n",
    "    #word_vectors = [model.loc[model['Unnamed: 0']==w,model.columns!='Unnamed: 0']for w in words]\n",
    "    #word_vectors = np.array(word_vectors.loc[:,word_vectors.columns!='Unnamed: 0'])\n",
    "    #df.loc[:, df.columns!='column1']\n",
    "    #display(word_vectors)\n",
    "    three_dim = PCA(random_state=0).fit_transform(word_vectors)[:,:3]\n",
    "    # For 2D, change the three_dim variable into something like two_dim like the following:\n",
    "    #two_dim = PCA(random_state=0).fit_transform(word_vectors)[:,:2]\n",
    "\n",
    "    data = []\n",
    "    count = 0\n",
    "    \n",
    "    for i in range (len(user_input)):\n",
    "\n",
    "                trace = go.Scatter3d(\n",
    "                    x = three_dim[count:count+topn,0], \n",
    "                    y = three_dim[count:count+topn,1],  \n",
    "                    z = three_dim[count:count+topn,2],\n",
    "                    text = words[count:count+topn],\n",
    "                    name = user_input[i],\n",
    "                    textposition = \"top center\",\n",
    "                    textfont_size = 20,\n",
    "                    mode = 'markers+text',\n",
    "                    marker = {\n",
    "                        'size': 10,\n",
    "                        'opacity': 0.8,\n",
    "                        'color': 2\n",
    "                    }\n",
    "       \n",
    "                )\n",
    "                \n",
    "                # For 2D, instead of using go.Scatter3d, we need to use go.Scatter and delete the z variable. Also, instead of using\n",
    "                # variable three_dim, use the variable that we have declared earlier (e.g two_dim)\n",
    "            \n",
    "                data.append(trace)\n",
    "                count = count+topn\n",
    "\n",
    "    trace_input = go.Scatter3d(\n",
    "                    x = three_dim[count:,0], \n",
    "                    y = three_dim[count:,1],  \n",
    "                    z = three_dim[count:,2],\n",
    "                    text = words[count:],\n",
    "                    name = 'input words',\n",
    "                    textposition = \"top center\",\n",
    "                    textfont_size = 20,\n",
    "                    mode = 'markers+text',\n",
    "                    marker = {\n",
    "                        'size': 10,\n",
    "                        'opacity': 1,\n",
    "                        'color': 'black'\n",
    "                    }\n",
    "                    )\n",
    "\n",
    "    # For 2D, instead of using go.Scatter3d, we need to use go.Scatter and delete the z variable.  Also, instead of using\n",
    "    # variable three_dim, use the variable that we have declared earlier (e.g two_dim)\n",
    "            \n",
    "    data.append(trace_input)\n",
    "    \n",
    "# Configure the layout\n",
    "\n",
    "    layout = go.Layout(\n",
    "        margin = {'l': 0, 'r': 0, 'b': 0, 't': 0},\n",
    "        showlegend=True,\n",
    "        legend=dict(\n",
    "        x=1,\n",
    "        y=0.5,\n",
    "        font=dict(\n",
    "            family=\"Courier New\",\n",
    "            size=25,\n",
    "            color=\"black\"\n",
    "        )),\n",
    "        font = dict(\n",
    "            family = \" Courier New \",\n",
    "            size = 15),\n",
    "        autosize = False,\n",
    "        width = 1000,\n",
    "        height = 1000\n",
    "        )\n",
    "\n",
    "\n",
    "    plot_figure = go.Figure(data = data, layout = layout)\n",
    "    plot_figure.show()\n",
    "    \n",
    "display_pca_scatterplot_3D(model=new_df[0:50], user_input=['Apple', 'Shell', 'Boeing'], words=name_list)\n"
   ]
  },
  {
   "cell_type": "code",
   "execution_count": 31,
   "id": "c7d90a54",
   "metadata": {},
   "outputs": [
    {
     "data": {
      "application/vnd.plotly.v1+json": {
       "config": {
        "plotlyServerURL": "https://plot.ly"
       },
       "data": [
        {
         "marker": {
          "color": 2,
          "opacity": 0.8,
          "size": 10
         },
         "mode": "markers+text",
         "name": "Centene",
         "text": [
          "Walmart",
          "Amazon",
          "Exxon_Mobil",
          "Apple",
          "Berkshire_Hathaway",
          "UnitedHealth_Group",
          "McKesson",
          "AmerisourceBergen",
          "Alphabet",
          "Ford_Motor",
          "Cigna",
          "Costco_Wholesale",
          "Chevron",
          "JPMorgan_Chase",
          "General_Motors"
         ],
         "textfont": {
          "size": 20
         },
         "textposition": "top center",
         "type": "scatter",
         "x": [
          -0.46817698504595984,
          -0.12046254395164328,
          0.10182515161253476,
          -0.024939717616396583,
          0.15161189715764753,
          0.045135409922041674,
          -0.25065414127998625,
          -0.025074946240177576,
          0.09584288646012044,
          -0.02195159976273476,
          -0.08938725002438032,
          -0.37780594565216263,
          -0.0579649774590967,
          0.3735206209934687,
          0.09606458356600897
         ],
         "y": [
          -0.21105621658487572,
          -0.2598032493444694,
          -0.22466535470085314,
          -0.3175881082141223,
          0.03352560921740812,
          0.22992229860342064,
          0.19962011221492568,
          0.4440214637663085,
          -0.06488800767560303,
          0.031368743158552786,
          0.43706512666847563,
          -0.07971074971880972,
          -0.2811584692256544,
          0.1111466045769261,
          0.025498393681357295
         ]
        },
        {
         "marker": {
          "color": 2,
          "opacity": 0.8,
          "size": 10
         },
         "mode": "markers+text",
         "name": "Microsoft",
         "text": [
          "Verizon_Communications",
          "Microsoft",
          "Kroger",
          "Fannie_Mae",
          "Home_Depot",
          "Comcast",
          "Anthem",
          "Wells_Fargo",
          "Citigroup",
          "Valero_Energy",
          "General_Electric",
          "Target",
          "IBM",
          "Boeing",
          "Freddie_Mac"
         ],
         "textfont": {
          "size": 20
         },
         "textposition": "top center",
         "type": "scatter",
         "x": [
          0.25116299368415157,
          0.107502071607232,
          -0.38254649912547706,
          0.5210602984983662,
          -0.31186839623799534,
          0.051385407110456256,
          -0.1650088336991531,
          0.23548994073895801,
          0.5456708156280576,
          0.19265626812943884,
          0.04054842289093988,
          -0.3829200121118814,
          0.005447038793400772,
          -0.046623068950113596,
          0.4974413779150905
         ],
         "y": [
          -0.2802890392185954,
          -0.3785310684367481,
          0.2672592330572591,
          0.09523013374034486,
          -0.2245414101910934,
          -0.2930734042405232,
          0.3312725662688346,
          0.03854072952303263,
          -0.03394940705817625,
          -0.1017887916518925,
          0.0013988340196621413,
          -0.21524633590197711,
          -0.25165002445250445,
          0.09681308294230688,
          0.09388269822234045
         ]
        },
        {
         "marker": {
          "color": 2,
          "opacity": 0.8,
          "size": 10
         },
         "mode": "markers+text",
         "name": "Walmart",
         "text": [
          "Centene",
          "UPS",
          "Intel",
          "Facebook",
          "FedEx",
          "MetLife",
          "Walt_Disney",
          "PepsiCo",
          "Humana",
          "Archer_Daniels_Midland",
          "Albertsons",
          "Sysco",
          "Lockheed_Martin",
          "HP",
          "Morgan_Stanley"
         ],
         "textfont": {
          "size": 20
         },
         "textposition": "top center",
         "type": "scatter",
         "x": [
          -0.03075613067170428,
          -0.2455775664071044,
          0.05670837625521527,
          -0.022200071673383722,
          -0.20812402469140004,
          0.1900367576829476,
          -0.03516161535829511,
          0.004728630072183972,
          -0.10561819851842257,
          0.0446639023984634,
          -0.33839465816106706,
          -0.27871219406567305,
          -0.049432026922935246,
          -0.12737695241311545,
          0.47892053537985285
         ],
         "y": [
          0.5403496256465157,
          -0.06692195319422839,
          -0.3044255032835908,
          -0.10953120373994206,
          -0.03487048530777395,
          0.16828790467895235,
          0.07386215042270151,
          -0.1076426592595797,
          0.47654534342865046,
          0.1815557444645223,
          0.010745981951342298,
          -0.020157153434841472,
          -0.030536724563695605,
          -0.20325636412021442,
          -0.0734171729609546
         ]
        },
        {
         "marker": {
          "color": "black",
          "opacity": 1,
          "size": 10
         },
         "mode": "markers+text",
         "name": "input words",
         "text": [
          "Caterpillar",
          "Cisco_Systems",
          "Pfizer",
          "Delta_Air_Lines",
          "Merck",
          "Charter_Communications",
          "Allstate",
          "Nationwide",
          "Best_Buy",
          "Dow",
          "Tyson_Foods",
          "TJX",
          "TIAA",
          "Oracle",
          "General_Dynamics",
          "Deere",
          "Nike",
          "Progressive",
          "Honeywell_International",
          "ConocoPhillips",
          "USAA",
          "Exelon",
          "Northrop_Grumman",
          "Northwestern_Mutual",
          "3M",
          "Abbott_Laboratories",
          "CHS",
          "Travelers_Cos.",
          "Philip_Morris_International",
          "Raytheon",
          "Arrow_Electronics",
          "Starbucks",
          "Paccar",
          "Thermo_Fisher_Scientific",
          "Jabil",
          "Tesla",
          "PBF_Energy",
          "Qualcomm",
          "Synnex",
          "Dollar_Tree",
          "Cummins",
          "Micron_Technology",
          "Amgen",
          "Penske_Automotive_Group",
          "Visa",
          "Broadcom",
          "Nucor",
          "Gilead_Sciences",
          "Southwest_Airlines",
          "Halliburton",
          "Eli_Lilly",
          "Aflac",
          "Lennar",
          "Occidental_Petroleum",
          "Rite_Aid",
          "DuPont",
          "AutoNation",
          "ManpowerGroup",
          "Danaher",
          "Whirlpool",
          "AECOM",
          "Netflix",
          "Lear",
          "Altria_Group",
          "Avnet",
          "Genuine_Parts",
          "NextEra_Energy",
          "CarMax",
          "Tenet_Healthcare",
          "Emerson_Electric",
          "CDW",
          "Fluor",
          "D.R._Horton",
          "Tenneco",
          "EOG_Resources",
          "BD",
          "Salesforce",
          "Mastercard",
          "Molina_Healthcare",
          "Cognizant_Technology_Solutions",
          "Gap",
          "Aramark",
          "Nordstrom",
          "Waste_Management",
          "C.H._Robinson_Worldwide",
          "PPG_Industries",
          "Omnicom_Group",
          "Loews",
          "Ecolab",
          "Stryker",
          "Estée_Lauder",
          "Applied_Materials",
          "BlackRock",
          "Texas_Instruments",
          "Biogen",
          "Automatic_Data_Processing",
          "Illinois_Tool_Works",
          "DaVita",
          "VF",
          "Las_Vegas_Sands",
          "Textron",
          "Kellogg",
          "Kinder_Morgan",
          "Ameriprise_Financial",
          "MGM_Resorts_International",
          "DISH_Network",
          "Lithia_Motors",
          "DTE_Energy",
          "Consolidated_Edison",
          "LKQ",
          "Sempra_Energy",
          "CenterPoint_Energy",
          "Quanta_Services",
          "Unum_Group",
          "CSX",
          "AutoZone",
          "Charles_Schwab",
          "Ally_Financial",
          "Xcel_Energy",
          "Corning",
          "Ball",
          "Fox",
          "Norfolk_Southern",
          "Navistar_International",
          "Adobe",
          "J.C._Penney",
          "Discovery",
          "Nvidia",
          "Entergy",
          "FirstEnergy",
          "eBay",
          "Boston_Scientific",
          "ODP",
          "Steel_Dynamics",
          "Sonic_Automotive",
          "Alcoa",
          "Henry_Schein",
          "Interpublic_Group",
          "PulteGroup",
          "AES",
          "Fiserv",
          "BorgWarner",
          "Oneok",
          "Assurant",
          "Calpine",
          "Mohawk_Industries",
          "PVH",
          "Campbell_Soup",
          "NRG_Energy",
          "Fifth_Third_Bancorp",
          "Newmont",
          "Cheniere_Energy",
          "Advance_Auto_Parts",
          "Markel",
          "Hormel_Foods",
          "Pioneer_Natural_Resources",
          "Eastman_Chemical",
          "EMCOR_Group",
          "Avis_Budget_Group",
          "KKR",
          "AGCO",
          "Alleghany",
          "Icahn_Enterprises",
          "Ryder_System",
          "Mosaic",
          "Huntington_Ingalls_Industries",
          "Anixter_International",
          "Genworth_Financial",
          "Targa_Resources",
          "Coty",
          "Dana",
          "Autoliv",
          "Darden_Restaurants",
          "Chesapeake_Energy",
          "NOV",
          "Oshkosh",
          "WESCO_International",
          "Tractor_Supply",
          "Huntsman",
          "Masco",
          "Sanmina",
          "Amphenol",
          "Williams",
          "Andersons",
          "Westlake_Chemical",
          "Constellation_Brands",
          "JetBlue_Airways",
          "Foot_Locker",
          "Hershey",
          "Thor_Industries",
          "Regeneron_Pharmaceuticals",
          "Spirit_AeroSystems_Holdings",
          "J.M._Smucker",
          "PPL",
          "Insight_Enterprises",
          "Quest_Diagnostics",
          "KeyCorp",
          "DCP_Midstream",
          "Graybar_Electric",
          "NVR",
          "Ulta_Beauty",
          "Blackstone_Group",
          "Dean_Foods",
          "UGI",
          "Builders_FirstSource",
          "Toll_Brothers",
          "Asbury_Automotive_Group",
          "MasTec",
          "Owens_Corning",
          "Dover",
          "Beacon_Roofing_Supply",
          "Avery_Dennison",
          "Hanesbrands",
          "NCR",
          "Cintas",
          "Polaris",
          "Seaboard",
          "Intuit",
          "Regions_Financial",
          "Rockwell_Automation",
          "Wynn_Resorts",
          "Securian_Financial_Group",
          "Weyerhaeuser",
          "Intercontinental_Exchange",
          "Hess",
          "ABM_Industries",
          "Activision_Blizzard",
          "GameStop",
          "APA",
          "AK_Steel_Holding",
          "Ralph_Lauren",
          "Celanese",
          "Ascena_Retail_Group",
          "Clorox",
          "Graphic_Packaging_Holding",
          "NetApp",
          "Olin",
          "Avantor",
          "Tapestry",
          "TD_Ameritrade_Holding",
          "Analog_Devices",
          "Ameren",
          "Commercial_Metals",
          "Levi_Strauss",
          "Cerner",
          "Huntington_Bancshares",
          "KBR",
          "Sprouts_Farmers_Market",
          "T._Rowe_Price",
          "Yum_Brands",
          "Chipotle_Mexican_Grill",
          "Patterson",
          "Equinix",
          "ON_Semiconductor",
          "TransDigm_Group",
          "Sonoco_Products",
          "Microchip_Technology",
          "McCormick",
          "MDU_Resources_Group",
          "Fastenal",
          "Big_Lots",
          "Under_Armour",
          "Xylem",
          "Domtar",
          "NiSource",
          "Marathon_Oil",
          "Agilent_Technologies",
          "Ametek",
          "ADT",
          "Michaels",
          "Kemper",
          "Hyatt_Hotels",
          "Alexion_Pharmaceuticals",
          "CACI_International",
          "Electronic_Arts",
          "Vulcan_Materials",
          "TreeHouse_Foods",
          "Global_Payments",
          "Yellow",
          "CME_Group",
          "Chewy",
          "Carlisle",
          "Sealed_Air",
          "Watsco",
          "Martin_Marietta_Materials",
          "Hasbro",
          "Square",
          "Terex",
          "FMC",
          "Boise_Cascade",
          "Peabody_Energy",
          "Greif",
          "Concho_Resources",
          "Hubbell",
          "CF_Industries_Holdings",
          "KLA",
          "Brunswick",
          "KB_Home",
          "Mattel",
          "Silgan_Holdings",
          "Zebra_Technologies",
          "Intuitive_Surgical",
          "Tutor_Perini",
          "Juniper_Networks",
          "Tiffany",
          "EQT",
          "Antero_Resources",
          "Meritor",
          "Broadridge_Financial_Solutions",
          "Edwards_Lifesciences",
          "Colfax",
          "Insperity",
          "American_Eagle_Outfitters",
          "Iron_Mountain",
          "Nasdaq",
          "Gartner",
          "Sinclair_Broadcast_Group",
          "Ingles_Markets",
          "Vertex_Pharmaceuticals",
          "Spectrum_Brands_Holdings",
          "Flowers_Foods",
          "CUNA_Mutual_Group",
          "Allegheny_Technologies",
          "Landstar_System",
          "Amkor_Technology",
          "PPD",
          "Urban_Outfitters",
          "Sabre",
          "Parsons",
          "Flowserve",
          "Carvana",
          "ASGN",
          "Sally_Beauty_Holdings",
          "ScanSource",
          "Ventas",
          "Spirit_Airlines",
          "Comerica",
          "Timken",
          "Paychex",
          "Amerco",
          "Worthington_Industries",
          "Laureate_Education",
          "Acuity_Brands",
          "Meritage_Homes",
          "Alliant_Energy",
          "Workday",
          "Meredith",
          "Albemarle",
          "Ciena",
          "Weis_Markets",
          "Illumina",
          "SVB_Financial_Group",
          "Stifel_Financial",
          "Mednax",
          "Equifax",
          "Pitney_Bowes",
          "ServiceNow",
          "Twitter",
          "Steelcase",
          "Sanderson_Farms",
          "WABCO_Holdings",
          "Clean_Harbors",
          "Puget_Energy",
          "Scientific_Games",
          "Granite_Construction",
          "Carlyle_Group",
          "Skyworks_Solutions",
          "Aleris",
          "Hexion",
          "Hologic",
          "Red_Hat",
          "Synopsys",
          "PolyOne",
          "Dycom_Industries",
          "Cabot",
          "Prologis",
          "Boyd_Gaming",
          "Stericycle",
          "CIT_Group",
          "Crane",
          "Cinemark_Holdings",
          "Autodesk",
          "Trimble",
          "Zions_Bancorp.",
          "Regal_Beloit",
          "Varian_Medical_Systems",
          "PriceSmart",
          "Brinker_International",
          "Digital_Realty_Trust",
          "Pool",
          "Infor",
          "Plexus",
          "Teledyne_Technologies",
          "Toro",
          "GMS",
          "Tetra_Tech",
          "Primoris_Services",
          "Elanco_Animal_Health",
          "Xilinx",
          "Columbia_Sportswear",
          "Greenbrier",
          "Presidio",
          "Citrix_Systems",
          "GoDaddy",
          "SkyWest",
          "Middleby",
          "NOW",
          "Unisys",
          "Visteon",
          "Moog",
          "Legg_Mason",
          "Atmos_Energy",
          "Woodward",
          "Palo_Alto_Networks",
          "H.B._Fuller",
          "Akamai_Technologies",
          "Maximus",
          "PerkinElmer",
          "AptarGroup",
          "ITT",
          "Donaldson",
          "Kirby",
          "Popular",
          "Range_Resources",
          "Amica_Mutual_Insurance",
          "EnerSys",
          "Valmont_Industries",
          "PAE",
          "Texas_Roadhouse",
          "Euronet_Worldwide",
          "Energizer_Holdings",
          "Magellan_Midstream_Partners",
          "Hain_Celestial_Group",
          "Univision_Communications",
          "Equity_Residential",
          "Colony_Capital",
          "TTM_Technologies",
          "Guess",
          "Vishay_Intertechnology",
          "TransUnion",
          "Cooper",
          "FleetCor_Technologies",
          "RH",
          "BlueLinx_Holdings",
          "Verisk_Analytics",
          "ResMed",
          "Teleflex",
          "Interactive_Brokers_Group",
          "Caesars_Entertainment",
          "Catalent",
          "Itron",
          "IDEX",
          "Belden",
          "Cheesecake_Factory",
          "Werner_Enterprises",
          "Ingersoll_Rand",
          "Verso",
          "Nu_Skin_Enterprises",
          "Revlon",
          "Arista_Networks",
          "IDEXX_Laboratories",
          "Align_Technology",
          "Waters",
          "Synovus_Financial",
          "Valvoline",
          "SLM",
          "Kennametal",
          "TrueBlue",
          "Cimarex_Energy",
          "Splunk",
          "Hexcel",
          "FTI_Consulting",
          "Cadence_Design_Systems",
          "AvalonBay_Communities",
          "Maxim_Integrated_Products",
          "Teradyne",
          "EPAM_Systems",
          "Vail_Resorts",
          "Benchmark_Electronics",
          "HNI",
          "F5_Networks",
          "Affiliated_Managers_Group",
          "OGE_Energy",
          "Universal",
          "BOK_Financial",
          "ManTech_International",
          "AMN_Healthcare_Services",
          "Groupon",
          "Modine_Manufacturing",
          "Griffon",
          "Cypress_Semiconductor",
          "Generac_Holdings",
          "Matson",
          "Genesco",
          "Nordson",
          "NewMarket",
          "Rexnord",
          "Incyte",
          "Fortinet",
          "AAR",
          "Schnitzer_Steel_Industries",
          "BGC_Partners",
          "EchoStar",
          "Beazer_Homes_USA",
          "Bruker",
          "Viasat",
          "HEICO",
          "TCF_Financial",
          "Primerica",
          "Oceaneering_International",
          "Copart",
          "Evercore",
          "Deckers_Outdoor",
          "Express",
          "Hovnanian_Enterprises",
          "Rollins",
          "Deluxe"
         ],
         "textfont": {
          "size": 20
         },
         "textposition": "top center",
         "type": "scatter",
         "x": [
          -0.13549661628710744,
          0.027401245436881428,
          0.08836794570390395,
          0.005586080848252629,
          0.09345631384175063
         ],
         "y": [
          0.2668449278781858,
          -0.1428374635401403,
          0.16334228104080328,
          -0.09627865359604493,
          0.0897153844440768
         ]
        }
       ],
       "layout": {
        "autosize": false,
        "font": {
         "family": " Courier New ",
         "size": 15
        },
        "height": 1000,
        "legend": {
         "font": {
          "color": "black",
          "family": "Courier New",
          "size": 25
         },
         "x": 1,
         "y": 0.5
        },
        "margin": {
         "b": 0,
         "l": 0,
         "r": 0,
         "t": 0
        },
        "showlegend": true,
        "template": {
         "data": {
          "bar": [
           {
            "error_x": {
             "color": "#2a3f5f"
            },
            "error_y": {
             "color": "#2a3f5f"
            },
            "marker": {
             "line": {
              "color": "#E5ECF6",
              "width": 0.5
             },
             "pattern": {
              "fillmode": "overlay",
              "size": 10,
              "solidity": 0.2
             }
            },
            "type": "bar"
           }
          ],
          "barpolar": [
           {
            "marker": {
             "line": {
              "color": "#E5ECF6",
              "width": 0.5
             },
             "pattern": {
              "fillmode": "overlay",
              "size": 10,
              "solidity": 0.2
             }
            },
            "type": "barpolar"
           }
          ],
          "carpet": [
           {
            "aaxis": {
             "endlinecolor": "#2a3f5f",
             "gridcolor": "white",
             "linecolor": "white",
             "minorgridcolor": "white",
             "startlinecolor": "#2a3f5f"
            },
            "baxis": {
             "endlinecolor": "#2a3f5f",
             "gridcolor": "white",
             "linecolor": "white",
             "minorgridcolor": "white",
             "startlinecolor": "#2a3f5f"
            },
            "type": "carpet"
           }
          ],
          "choropleth": [
           {
            "colorbar": {
             "outlinewidth": 0,
             "ticks": ""
            },
            "type": "choropleth"
           }
          ],
          "contour": [
           {
            "colorbar": {
             "outlinewidth": 0,
             "ticks": ""
            },
            "colorscale": [
             [
              0,
              "#0d0887"
             ],
             [
              0.1111111111111111,
              "#46039f"
             ],
             [
              0.2222222222222222,
              "#7201a8"
             ],
             [
              0.3333333333333333,
              "#9c179e"
             ],
             [
              0.4444444444444444,
              "#bd3786"
             ],
             [
              0.5555555555555556,
              "#d8576b"
             ],
             [
              0.6666666666666666,
              "#ed7953"
             ],
             [
              0.7777777777777778,
              "#fb9f3a"
             ],
             [
              0.8888888888888888,
              "#fdca26"
             ],
             [
              1,
              "#f0f921"
             ]
            ],
            "type": "contour"
           }
          ],
          "contourcarpet": [
           {
            "colorbar": {
             "outlinewidth": 0,
             "ticks": ""
            },
            "type": "contourcarpet"
           }
          ],
          "heatmap": [
           {
            "colorbar": {
             "outlinewidth": 0,
             "ticks": ""
            },
            "colorscale": [
             [
              0,
              "#0d0887"
             ],
             [
              0.1111111111111111,
              "#46039f"
             ],
             [
              0.2222222222222222,
              "#7201a8"
             ],
             [
              0.3333333333333333,
              "#9c179e"
             ],
             [
              0.4444444444444444,
              "#bd3786"
             ],
             [
              0.5555555555555556,
              "#d8576b"
             ],
             [
              0.6666666666666666,
              "#ed7953"
             ],
             [
              0.7777777777777778,
              "#fb9f3a"
             ],
             [
              0.8888888888888888,
              "#fdca26"
             ],
             [
              1,
              "#f0f921"
             ]
            ],
            "type": "heatmap"
           }
          ],
          "heatmapgl": [
           {
            "colorbar": {
             "outlinewidth": 0,
             "ticks": ""
            },
            "colorscale": [
             [
              0,
              "#0d0887"
             ],
             [
              0.1111111111111111,
              "#46039f"
             ],
             [
              0.2222222222222222,
              "#7201a8"
             ],
             [
              0.3333333333333333,
              "#9c179e"
             ],
             [
              0.4444444444444444,
              "#bd3786"
             ],
             [
              0.5555555555555556,
              "#d8576b"
             ],
             [
              0.6666666666666666,
              "#ed7953"
             ],
             [
              0.7777777777777778,
              "#fb9f3a"
             ],
             [
              0.8888888888888888,
              "#fdca26"
             ],
             [
              1,
              "#f0f921"
             ]
            ],
            "type": "heatmapgl"
           }
          ],
          "histogram": [
           {
            "marker": {
             "pattern": {
              "fillmode": "overlay",
              "size": 10,
              "solidity": 0.2
             }
            },
            "type": "histogram"
           }
          ],
          "histogram2d": [
           {
            "colorbar": {
             "outlinewidth": 0,
             "ticks": ""
            },
            "colorscale": [
             [
              0,
              "#0d0887"
             ],
             [
              0.1111111111111111,
              "#46039f"
             ],
             [
              0.2222222222222222,
              "#7201a8"
             ],
             [
              0.3333333333333333,
              "#9c179e"
             ],
             [
              0.4444444444444444,
              "#bd3786"
             ],
             [
              0.5555555555555556,
              "#d8576b"
             ],
             [
              0.6666666666666666,
              "#ed7953"
             ],
             [
              0.7777777777777778,
              "#fb9f3a"
             ],
             [
              0.8888888888888888,
              "#fdca26"
             ],
             [
              1,
              "#f0f921"
             ]
            ],
            "type": "histogram2d"
           }
          ],
          "histogram2dcontour": [
           {
            "colorbar": {
             "outlinewidth": 0,
             "ticks": ""
            },
            "colorscale": [
             [
              0,
              "#0d0887"
             ],
             [
              0.1111111111111111,
              "#46039f"
             ],
             [
              0.2222222222222222,
              "#7201a8"
             ],
             [
              0.3333333333333333,
              "#9c179e"
             ],
             [
              0.4444444444444444,
              "#bd3786"
             ],
             [
              0.5555555555555556,
              "#d8576b"
             ],
             [
              0.6666666666666666,
              "#ed7953"
             ],
             [
              0.7777777777777778,
              "#fb9f3a"
             ],
             [
              0.8888888888888888,
              "#fdca26"
             ],
             [
              1,
              "#f0f921"
             ]
            ],
            "type": "histogram2dcontour"
           }
          ],
          "mesh3d": [
           {
            "colorbar": {
             "outlinewidth": 0,
             "ticks": ""
            },
            "type": "mesh3d"
           }
          ],
          "parcoords": [
           {
            "line": {
             "colorbar": {
              "outlinewidth": 0,
              "ticks": ""
             }
            },
            "type": "parcoords"
           }
          ],
          "pie": [
           {
            "automargin": true,
            "type": "pie"
           }
          ],
          "scatter": [
           {
            "fillpattern": {
             "fillmode": "overlay",
             "size": 10,
             "solidity": 0.2
            },
            "type": "scatter"
           }
          ],
          "scatter3d": [
           {
            "line": {
             "colorbar": {
              "outlinewidth": 0,
              "ticks": ""
             }
            },
            "marker": {
             "colorbar": {
              "outlinewidth": 0,
              "ticks": ""
             }
            },
            "type": "scatter3d"
           }
          ],
          "scattercarpet": [
           {
            "marker": {
             "colorbar": {
              "outlinewidth": 0,
              "ticks": ""
             }
            },
            "type": "scattercarpet"
           }
          ],
          "scattergeo": [
           {
            "marker": {
             "colorbar": {
              "outlinewidth": 0,
              "ticks": ""
             }
            },
            "type": "scattergeo"
           }
          ],
          "scattergl": [
           {
            "marker": {
             "colorbar": {
              "outlinewidth": 0,
              "ticks": ""
             }
            },
            "type": "scattergl"
           }
          ],
          "scattermapbox": [
           {
            "marker": {
             "colorbar": {
              "outlinewidth": 0,
              "ticks": ""
             }
            },
            "type": "scattermapbox"
           }
          ],
          "scatterpolar": [
           {
            "marker": {
             "colorbar": {
              "outlinewidth": 0,
              "ticks": ""
             }
            },
            "type": "scatterpolar"
           }
          ],
          "scatterpolargl": [
           {
            "marker": {
             "colorbar": {
              "outlinewidth": 0,
              "ticks": ""
             }
            },
            "type": "scatterpolargl"
           }
          ],
          "scatterternary": [
           {
            "marker": {
             "colorbar": {
              "outlinewidth": 0,
              "ticks": ""
             }
            },
            "type": "scatterternary"
           }
          ],
          "surface": [
           {
            "colorbar": {
             "outlinewidth": 0,
             "ticks": ""
            },
            "colorscale": [
             [
              0,
              "#0d0887"
             ],
             [
              0.1111111111111111,
              "#46039f"
             ],
             [
              0.2222222222222222,
              "#7201a8"
             ],
             [
              0.3333333333333333,
              "#9c179e"
             ],
             [
              0.4444444444444444,
              "#bd3786"
             ],
             [
              0.5555555555555556,
              "#d8576b"
             ],
             [
              0.6666666666666666,
              "#ed7953"
             ],
             [
              0.7777777777777778,
              "#fb9f3a"
             ],
             [
              0.8888888888888888,
              "#fdca26"
             ],
             [
              1,
              "#f0f921"
             ]
            ],
            "type": "surface"
           }
          ],
          "table": [
           {
            "cells": {
             "fill": {
              "color": "#EBF0F8"
             },
             "line": {
              "color": "white"
             }
            },
            "header": {
             "fill": {
              "color": "#C8D4E3"
             },
             "line": {
              "color": "white"
             }
            },
            "type": "table"
           }
          ]
         },
         "layout": {
          "annotationdefaults": {
           "arrowcolor": "#2a3f5f",
           "arrowhead": 0,
           "arrowwidth": 1
          },
          "autotypenumbers": "strict",
          "coloraxis": {
           "colorbar": {
            "outlinewidth": 0,
            "ticks": ""
           }
          },
          "colorscale": {
           "diverging": [
            [
             0,
             "#8e0152"
            ],
            [
             0.1,
             "#c51b7d"
            ],
            [
             0.2,
             "#de77ae"
            ],
            [
             0.3,
             "#f1b6da"
            ],
            [
             0.4,
             "#fde0ef"
            ],
            [
             0.5,
             "#f7f7f7"
            ],
            [
             0.6,
             "#e6f5d0"
            ],
            [
             0.7,
             "#b8e186"
            ],
            [
             0.8,
             "#7fbc41"
            ],
            [
             0.9,
             "#4d9221"
            ],
            [
             1,
             "#276419"
            ]
           ],
           "sequential": [
            [
             0,
             "#0d0887"
            ],
            [
             0.1111111111111111,
             "#46039f"
            ],
            [
             0.2222222222222222,
             "#7201a8"
            ],
            [
             0.3333333333333333,
             "#9c179e"
            ],
            [
             0.4444444444444444,
             "#bd3786"
            ],
            [
             0.5555555555555556,
             "#d8576b"
            ],
            [
             0.6666666666666666,
             "#ed7953"
            ],
            [
             0.7777777777777778,
             "#fb9f3a"
            ],
            [
             0.8888888888888888,
             "#fdca26"
            ],
            [
             1,
             "#f0f921"
            ]
           ],
           "sequentialminus": [
            [
             0,
             "#0d0887"
            ],
            [
             0.1111111111111111,
             "#46039f"
            ],
            [
             0.2222222222222222,
             "#7201a8"
            ],
            [
             0.3333333333333333,
             "#9c179e"
            ],
            [
             0.4444444444444444,
             "#bd3786"
            ],
            [
             0.5555555555555556,
             "#d8576b"
            ],
            [
             0.6666666666666666,
             "#ed7953"
            ],
            [
             0.7777777777777778,
             "#fb9f3a"
            ],
            [
             0.8888888888888888,
             "#fdca26"
            ],
            [
             1,
             "#f0f921"
            ]
           ]
          },
          "colorway": [
           "#636efa",
           "#EF553B",
           "#00cc96",
           "#ab63fa",
           "#FFA15A",
           "#19d3f3",
           "#FF6692",
           "#B6E880",
           "#FF97FF",
           "#FECB52"
          ],
          "font": {
           "color": "#2a3f5f"
          },
          "geo": {
           "bgcolor": "white",
           "lakecolor": "white",
           "landcolor": "#E5ECF6",
           "showlakes": true,
           "showland": true,
           "subunitcolor": "white"
          },
          "hoverlabel": {
           "align": "left"
          },
          "hovermode": "closest",
          "mapbox": {
           "style": "light"
          },
          "paper_bgcolor": "white",
          "plot_bgcolor": "#E5ECF6",
          "polar": {
           "angularaxis": {
            "gridcolor": "white",
            "linecolor": "white",
            "ticks": ""
           },
           "bgcolor": "#E5ECF6",
           "radialaxis": {
            "gridcolor": "white",
            "linecolor": "white",
            "ticks": ""
           }
          },
          "scene": {
           "xaxis": {
            "backgroundcolor": "#E5ECF6",
            "gridcolor": "white",
            "gridwidth": 2,
            "linecolor": "white",
            "showbackground": true,
            "ticks": "",
            "zerolinecolor": "white"
           },
           "yaxis": {
            "backgroundcolor": "#E5ECF6",
            "gridcolor": "white",
            "gridwidth": 2,
            "linecolor": "white",
            "showbackground": true,
            "ticks": "",
            "zerolinecolor": "white"
           },
           "zaxis": {
            "backgroundcolor": "#E5ECF6",
            "gridcolor": "white",
            "gridwidth": 2,
            "linecolor": "white",
            "showbackground": true,
            "ticks": "",
            "zerolinecolor": "white"
           }
          },
          "shapedefaults": {
           "line": {
            "color": "#2a3f5f"
           }
          },
          "ternary": {
           "aaxis": {
            "gridcolor": "white",
            "linecolor": "white",
            "ticks": ""
           },
           "baxis": {
            "gridcolor": "white",
            "linecolor": "white",
            "ticks": ""
           },
           "bgcolor": "#E5ECF6",
           "caxis": {
            "gridcolor": "white",
            "linecolor": "white",
            "ticks": ""
           }
          },
          "title": {
           "x": 0.05
          },
          "xaxis": {
           "automargin": true,
           "gridcolor": "white",
           "linecolor": "white",
           "ticks": "",
           "title": {
            "standoff": 15
           },
           "zerolinecolor": "white",
           "zerolinewidth": 2
          },
          "yaxis": {
           "automargin": true,
           "gridcolor": "white",
           "linecolor": "white",
           "ticks": "",
           "title": {
            "standoff": 15
           },
           "zerolinecolor": "white",
           "zerolinewidth": 2
          }
         }
        },
        "width": 1000
       }
      },
      "text/html": [
       "<div>                            <div id=\"037553b7-e696-4fe7-9727-3fda3a6bd36f\" class=\"plotly-graph-div\" style=\"height:1000px; width:1000px;\"></div>            <script type=\"text/javascript\">                require([\"plotly\"], function(Plotly) {                    window.PLOTLYENV=window.PLOTLYENV || {};                                    if (document.getElementById(\"037553b7-e696-4fe7-9727-3fda3a6bd36f\")) {                    Plotly.newPlot(                        \"037553b7-e696-4fe7-9727-3fda3a6bd36f\",                        [{\"marker\":{\"color\":2,\"opacity\":0.8,\"size\":10},\"mode\":\"markers+text\",\"name\":\"Centene\",\"text\":[\"Walmart\",\"Amazon\",\"Exxon_Mobil\",\"Apple\",\"Berkshire_Hathaway\",\"UnitedHealth_Group\",\"McKesson\",\"AmerisourceBergen\",\"Alphabet\",\"Ford_Motor\",\"Cigna\",\"Costco_Wholesale\",\"Chevron\",\"JPMorgan_Chase\",\"General_Motors\"],\"textfont\":{\"size\":20},\"textposition\":\"top center\",\"x\":[-0.46817698504595984,-0.12046254395164328,0.10182515161253476,-0.024939717616396583,0.15161189715764753,0.045135409922041674,-0.25065414127998625,-0.025074946240177576,0.09584288646012044,-0.02195159976273476,-0.08938725002438032,-0.37780594565216263,-0.0579649774590967,0.3735206209934687,0.09606458356600897],\"y\":[-0.21105621658487572,-0.2598032493444694,-0.22466535470085314,-0.3175881082141223,0.03352560921740812,0.22992229860342064,0.19962011221492568,0.4440214637663085,-0.06488800767560303,0.031368743158552786,0.43706512666847563,-0.07971074971880972,-0.2811584692256544,0.1111466045769261,0.025498393681357295],\"type\":\"scatter\"},{\"marker\":{\"color\":2,\"opacity\":0.8,\"size\":10},\"mode\":\"markers+text\",\"name\":\"Microsoft\",\"text\":[\"Verizon_Communications\",\"Microsoft\",\"Kroger\",\"Fannie_Mae\",\"Home_Depot\",\"Comcast\",\"Anthem\",\"Wells_Fargo\",\"Citigroup\",\"Valero_Energy\",\"General_Electric\",\"Target\",\"IBM\",\"Boeing\",\"Freddie_Mac\"],\"textfont\":{\"size\":20},\"textposition\":\"top center\",\"x\":[0.25116299368415157,0.107502071607232,-0.38254649912547706,0.5210602984983662,-0.31186839623799534,0.051385407110456256,-0.1650088336991531,0.23548994073895801,0.5456708156280576,0.19265626812943884,0.04054842289093988,-0.3829200121118814,0.005447038793400772,-0.046623068950113596,0.4974413779150905],\"y\":[-0.2802890392185954,-0.3785310684367481,0.2672592330572591,0.09523013374034486,-0.2245414101910934,-0.2930734042405232,0.3312725662688346,0.03854072952303263,-0.03394940705817625,-0.1017887916518925,0.0013988340196621413,-0.21524633590197711,-0.25165002445250445,0.09681308294230688,0.09388269822234045],\"type\":\"scatter\"},{\"marker\":{\"color\":2,\"opacity\":0.8,\"size\":10},\"mode\":\"markers+text\",\"name\":\"Walmart\",\"text\":[\"Centene\",\"UPS\",\"Intel\",\"Facebook\",\"FedEx\",\"MetLife\",\"Walt_Disney\",\"PepsiCo\",\"Humana\",\"Archer_Daniels_Midland\",\"Albertsons\",\"Sysco\",\"Lockheed_Martin\",\"HP\",\"Morgan_Stanley\"],\"textfont\":{\"size\":20},\"textposition\":\"top center\",\"x\":[-0.03075613067170428,-0.2455775664071044,0.05670837625521527,-0.022200071673383722,-0.20812402469140004,0.1900367576829476,-0.03516161535829511,0.004728630072183972,-0.10561819851842257,0.0446639023984634,-0.33839465816106706,-0.27871219406567305,-0.049432026922935246,-0.12737695241311545,0.47892053537985285],\"y\":[0.5403496256465157,-0.06692195319422839,-0.3044255032835908,-0.10953120373994206,-0.03487048530777395,0.16828790467895235,0.07386215042270151,-0.1076426592595797,0.47654534342865046,0.1815557444645223,0.010745981951342298,-0.020157153434841472,-0.030536724563695605,-0.20325636412021442,-0.0734171729609546],\"type\":\"scatter\"},{\"marker\":{\"color\":\"black\",\"opacity\":1,\"size\":10},\"mode\":\"markers+text\",\"name\":\"input words\",\"text\":[\"Caterpillar\",\"Cisco_Systems\",\"Pfizer\",\"Delta_Air_Lines\",\"Merck\",\"Charter_Communications\",\"Allstate\",\"Nationwide\",\"Best_Buy\",\"Dow\",\"Tyson_Foods\",\"TJX\",\"TIAA\",\"Oracle\",\"General_Dynamics\",\"Deere\",\"Nike\",\"Progressive\",\"Honeywell_International\",\"ConocoPhillips\",\"USAA\",\"Exelon\",\"Northrop_Grumman\",\"Northwestern_Mutual\",\"3M\",\"Abbott_Laboratories\",\"CHS\",\"Travelers_Cos.\",\"Philip_Morris_International\",\"Raytheon\",\"Arrow_Electronics\",\"Starbucks\",\"Paccar\",\"Thermo_Fisher_Scientific\",\"Jabil\",\"Tesla\",\"PBF_Energy\",\"Qualcomm\",\"Synnex\",\"Dollar_Tree\",\"Cummins\",\"Micron_Technology\",\"Amgen\",\"Penske_Automotive_Group\",\"Visa\",\"Broadcom\",\"Nucor\",\"Gilead_Sciences\",\"Southwest_Airlines\",\"Halliburton\",\"Eli_Lilly\",\"Aflac\",\"Lennar\",\"Occidental_Petroleum\",\"Rite_Aid\",\"DuPont\",\"AutoNation\",\"ManpowerGroup\",\"Danaher\",\"Whirlpool\",\"AECOM\",\"Netflix\",\"Lear\",\"Altria_Group\",\"Avnet\",\"Genuine_Parts\",\"NextEra_Energy\",\"CarMax\",\"Tenet_Healthcare\",\"Emerson_Electric\",\"CDW\",\"Fluor\",\"D.R._Horton\",\"Tenneco\",\"EOG_Resources\",\"BD\",\"Salesforce\",\"Mastercard\",\"Molina_Healthcare\",\"Cognizant_Technology_Solutions\",\"Gap\",\"Aramark\",\"Nordstrom\",\"Waste_Management\",\"C.H._Robinson_Worldwide\",\"PPG_Industries\",\"Omnicom_Group\",\"Loews\",\"Ecolab\",\"Stryker\",\"Est\\u00e9e_Lauder\",\"Applied_Materials\",\"BlackRock\",\"Texas_Instruments\",\"Biogen\",\"Automatic_Data_Processing\",\"Illinois_Tool_Works\",\"DaVita\",\"VF\",\"Las_Vegas_Sands\",\"Textron\",\"Kellogg\",\"Kinder_Morgan\",\"Ameriprise_Financial\",\"MGM_Resorts_International\",\"DISH_Network\",\"Lithia_Motors\",\"DTE_Energy\",\"Consolidated_Edison\",\"LKQ\",\"Sempra_Energy\",\"CenterPoint_Energy\",\"Quanta_Services\",\"Unum_Group\",\"CSX\",\"AutoZone\",\"Charles_Schwab\",\"Ally_Financial\",\"Xcel_Energy\",\"Corning\",\"Ball\",\"Fox\",\"Norfolk_Southern\",\"Navistar_International\",\"Adobe\",\"J.C._Penney\",\"Discovery\",\"Nvidia\",\"Entergy\",\"FirstEnergy\",\"eBay\",\"Boston_Scientific\",\"ODP\",\"Steel_Dynamics\",\"Sonic_Automotive\",\"Alcoa\",\"Henry_Schein\",\"Interpublic_Group\",\"PulteGroup\",\"AES\",\"Fiserv\",\"BorgWarner\",\"Oneok\",\"Assurant\",\"Calpine\",\"Mohawk_Industries\",\"PVH\",\"Campbell_Soup\",\"NRG_Energy\",\"Fifth_Third_Bancorp\",\"Newmont\",\"Cheniere_Energy\",\"Advance_Auto_Parts\",\"Markel\",\"Hormel_Foods\",\"Pioneer_Natural_Resources\",\"Eastman_Chemical\",\"EMCOR_Group\",\"Avis_Budget_Group\",\"KKR\",\"AGCO\",\"Alleghany\",\"Icahn_Enterprises\",\"Ryder_System\",\"Mosaic\",\"Huntington_Ingalls_Industries\",\"Anixter_International\",\"Genworth_Financial\",\"Targa_Resources\",\"Coty\",\"Dana\",\"Autoliv\",\"Darden_Restaurants\",\"Chesapeake_Energy\",\"NOV\",\"Oshkosh\",\"WESCO_International\",\"Tractor_Supply\",\"Huntsman\",\"Masco\",\"Sanmina\",\"Amphenol\",\"Williams\",\"Andersons\",\"Westlake_Chemical\",\"Constellation_Brands\",\"JetBlue_Airways\",\"Foot_Locker\",\"Hershey\",\"Thor_Industries\",\"Regeneron_Pharmaceuticals\",\"Spirit_AeroSystems_Holdings\",\"J.M._Smucker\",\"PPL\",\"Insight_Enterprises\",\"Quest_Diagnostics\",\"KeyCorp\",\"DCP_Midstream\",\"Graybar_Electric\",\"NVR\",\"Ulta_Beauty\",\"Blackstone_Group\",\"Dean_Foods\",\"UGI\",\"Builders_FirstSource\",\"Toll_Brothers\",\"Asbury_Automotive_Group\",\"MasTec\",\"Owens_Corning\",\"Dover\",\"Beacon_Roofing_Supply\",\"Avery_Dennison\",\"Hanesbrands\",\"NCR\",\"Cintas\",\"Polaris\",\"Seaboard\",\"Intuit\",\"Regions_Financial\",\"Rockwell_Automation\",\"Wynn_Resorts\",\"Securian_Financial_Group\",\"Weyerhaeuser\",\"Intercontinental_Exchange\",\"Hess\",\"ABM_Industries\",\"Activision_Blizzard\",\"GameStop\",\"APA\",\"AK_Steel_Holding\",\"Ralph_Lauren\",\"Celanese\",\"Ascena_Retail_Group\",\"Clorox\",\"Graphic_Packaging_Holding\",\"NetApp\",\"Olin\",\"Avantor\",\"Tapestry\",\"TD_Ameritrade_Holding\",\"Analog_Devices\",\"Ameren\",\"Commercial_Metals\",\"Levi_Strauss\",\"Cerner\",\"Huntington_Bancshares\",\"KBR\",\"Sprouts_Farmers_Market\",\"T._Rowe_Price\",\"Yum_Brands\",\"Chipotle_Mexican_Grill\",\"Patterson\",\"Equinix\",\"ON_Semiconductor\",\"TransDigm_Group\",\"Sonoco_Products\",\"Microchip_Technology\",\"McCormick\",\"MDU_Resources_Group\",\"Fastenal\",\"Big_Lots\",\"Under_Armour\",\"Xylem\",\"Domtar\",\"NiSource\",\"Marathon_Oil\",\"Agilent_Technologies\",\"Ametek\",\"ADT\",\"Michaels\",\"Kemper\",\"Hyatt_Hotels\",\"Alexion_Pharmaceuticals\",\"CACI_International\",\"Electronic_Arts\",\"Vulcan_Materials\",\"TreeHouse_Foods\",\"Global_Payments\",\"Yellow\",\"CME_Group\",\"Chewy\",\"Carlisle\",\"Sealed_Air\",\"Watsco\",\"Martin_Marietta_Materials\",\"Hasbro\",\"Square\",\"Terex\",\"FMC\",\"Boise_Cascade\",\"Peabody_Energy\",\"Greif\",\"Concho_Resources\",\"Hubbell\",\"CF_Industries_Holdings\",\"KLA\",\"Brunswick\",\"KB_Home\",\"Mattel\",\"Silgan_Holdings\",\"Zebra_Technologies\",\"Intuitive_Surgical\",\"Tutor_Perini\",\"Juniper_Networks\",\"Tiffany\",\"EQT\",\"Antero_Resources\",\"Meritor\",\"Broadridge_Financial_Solutions\",\"Edwards_Lifesciences\",\"Colfax\",\"Insperity\",\"American_Eagle_Outfitters\",\"Iron_Mountain\",\"Nasdaq\",\"Gartner\",\"Sinclair_Broadcast_Group\",\"Ingles_Markets\",\"Vertex_Pharmaceuticals\",\"Spectrum_Brands_Holdings\",\"Flowers_Foods\",\"CUNA_Mutual_Group\",\"Allegheny_Technologies\",\"Landstar_System\",\"Amkor_Technology\",\"PPD\",\"Urban_Outfitters\",\"Sabre\",\"Parsons\",\"Flowserve\",\"Carvana\",\"ASGN\",\"Sally_Beauty_Holdings\",\"ScanSource\",\"Ventas\",\"Spirit_Airlines\",\"Comerica\",\"Timken\",\"Paychex\",\"Amerco\",\"Worthington_Industries\",\"Laureate_Education\",\"Acuity_Brands\",\"Meritage_Homes\",\"Alliant_Energy\",\"Workday\",\"Meredith\",\"Albemarle\",\"Ciena\",\"Weis_Markets\",\"Illumina\",\"SVB_Financial_Group\",\"Stifel_Financial\",\"Mednax\",\"Equifax\",\"Pitney_Bowes\",\"ServiceNow\",\"Twitter\",\"Steelcase\",\"Sanderson_Farms\",\"WABCO_Holdings\",\"Clean_Harbors\",\"Puget_Energy\",\"Scientific_Games\",\"Granite_Construction\",\"Carlyle_Group\",\"Skyworks_Solutions\",\"Aleris\",\"Hexion\",\"Hologic\",\"Red_Hat\",\"Synopsys\",\"PolyOne\",\"Dycom_Industries\",\"Cabot\",\"Prologis\",\"Boyd_Gaming\",\"Stericycle\",\"CIT_Group\",\"Crane\",\"Cinemark_Holdings\",\"Autodesk\",\"Trimble\",\"Zions_Bancorp.\",\"Regal_Beloit\",\"Varian_Medical_Systems\",\"PriceSmart\",\"Brinker_International\",\"Digital_Realty_Trust\",\"Pool\",\"Infor\",\"Plexus\",\"Teledyne_Technologies\",\"Toro\",\"GMS\",\"Tetra_Tech\",\"Primoris_Services\",\"Elanco_Animal_Health\",\"Xilinx\",\"Columbia_Sportswear\",\"Greenbrier\",\"Presidio\",\"Citrix_Systems\",\"GoDaddy\",\"SkyWest\",\"Middleby\",\"NOW\",\"Unisys\",\"Visteon\",\"Moog\",\"Legg_Mason\",\"Atmos_Energy\",\"Woodward\",\"Palo_Alto_Networks\",\"H.B._Fuller\",\"Akamai_Technologies\",\"Maximus\",\"PerkinElmer\",\"AptarGroup\",\"ITT\",\"Donaldson\",\"Kirby\",\"Popular\",\"Range_Resources\",\"Amica_Mutual_Insurance\",\"EnerSys\",\"Valmont_Industries\",\"PAE\",\"Texas_Roadhouse\",\"Euronet_Worldwide\",\"Energizer_Holdings\",\"Magellan_Midstream_Partners\",\"Hain_Celestial_Group\",\"Univision_Communications\",\"Equity_Residential\",\"Colony_Capital\",\"TTM_Technologies\",\"Guess\",\"Vishay_Intertechnology\",\"TransUnion\",\"Cooper\",\"FleetCor_Technologies\",\"RH\",\"BlueLinx_Holdings\",\"Verisk_Analytics\",\"ResMed\",\"Teleflex\",\"Interactive_Brokers_Group\",\"Caesars_Entertainment\",\"Catalent\",\"Itron\",\"IDEX\",\"Belden\",\"Cheesecake_Factory\",\"Werner_Enterprises\",\"Ingersoll_Rand\",\"Verso\",\"Nu_Skin_Enterprises\",\"Revlon\",\"Arista_Networks\",\"IDEXX_Laboratories\",\"Align_Technology\",\"Waters\",\"Synovus_Financial\",\"Valvoline\",\"SLM\",\"Kennametal\",\"TrueBlue\",\"Cimarex_Energy\",\"Splunk\",\"Hexcel\",\"FTI_Consulting\",\"Cadence_Design_Systems\",\"AvalonBay_Communities\",\"Maxim_Integrated_Products\",\"Teradyne\",\"EPAM_Systems\",\"Vail_Resorts\",\"Benchmark_Electronics\",\"HNI\",\"F5_Networks\",\"Affiliated_Managers_Group\",\"OGE_Energy\",\"Universal\",\"BOK_Financial\",\"ManTech_International\",\"AMN_Healthcare_Services\",\"Groupon\",\"Modine_Manufacturing\",\"Griffon\",\"Cypress_Semiconductor\",\"Generac_Holdings\",\"Matson\",\"Genesco\",\"Nordson\",\"NewMarket\",\"Rexnord\",\"Incyte\",\"Fortinet\",\"AAR\",\"Schnitzer_Steel_Industries\",\"BGC_Partners\",\"EchoStar\",\"Beazer_Homes_USA\",\"Bruker\",\"Viasat\",\"HEICO\",\"TCF_Financial\",\"Primerica\",\"Oceaneering_International\",\"Copart\",\"Evercore\",\"Deckers_Outdoor\",\"Express\",\"Hovnanian_Enterprises\",\"Rollins\",\"Deluxe\"],\"textfont\":{\"size\":20},\"textposition\":\"top center\",\"x\":[-0.13549661628710744,0.027401245436881428,0.08836794570390395,0.005586080848252629,0.09345631384175063],\"y\":[0.2668449278781858,-0.1428374635401403,0.16334228104080328,-0.09627865359604493,0.0897153844440768],\"type\":\"scatter\"}],                        {\"autosize\":false,\"font\":{\"family\":\" Courier New \",\"size\":15},\"height\":1000,\"legend\":{\"font\":{\"color\":\"black\",\"family\":\"Courier New\",\"size\":25},\"x\":1,\"y\":0.5},\"margin\":{\"b\":0,\"l\":0,\"r\":0,\"t\":0},\"showlegend\":true,\"width\":1000,\"template\":{\"data\":{\"histogram2dcontour\":[{\"type\":\"histogram2dcontour\",\"colorbar\":{\"outlinewidth\":0,\"ticks\":\"\"},\"colorscale\":[[0.0,\"#0d0887\"],[0.1111111111111111,\"#46039f\"],[0.2222222222222222,\"#7201a8\"],[0.3333333333333333,\"#9c179e\"],[0.4444444444444444,\"#bd3786\"],[0.5555555555555556,\"#d8576b\"],[0.6666666666666666,\"#ed7953\"],[0.7777777777777778,\"#fb9f3a\"],[0.8888888888888888,\"#fdca26\"],[1.0,\"#f0f921\"]]}],\"choropleth\":[{\"type\":\"choropleth\",\"colorbar\":{\"outlinewidth\":0,\"ticks\":\"\"}}],\"histogram2d\":[{\"type\":\"histogram2d\",\"colorbar\":{\"outlinewidth\":0,\"ticks\":\"\"},\"colorscale\":[[0.0,\"#0d0887\"],[0.1111111111111111,\"#46039f\"],[0.2222222222222222,\"#7201a8\"],[0.3333333333333333,\"#9c179e\"],[0.4444444444444444,\"#bd3786\"],[0.5555555555555556,\"#d8576b\"],[0.6666666666666666,\"#ed7953\"],[0.7777777777777778,\"#fb9f3a\"],[0.8888888888888888,\"#fdca26\"],[1.0,\"#f0f921\"]]}],\"heatmap\":[{\"type\":\"heatmap\",\"colorbar\":{\"outlinewidth\":0,\"ticks\":\"\"},\"colorscale\":[[0.0,\"#0d0887\"],[0.1111111111111111,\"#46039f\"],[0.2222222222222222,\"#7201a8\"],[0.3333333333333333,\"#9c179e\"],[0.4444444444444444,\"#bd3786\"],[0.5555555555555556,\"#d8576b\"],[0.6666666666666666,\"#ed7953\"],[0.7777777777777778,\"#fb9f3a\"],[0.8888888888888888,\"#fdca26\"],[1.0,\"#f0f921\"]]}],\"heatmapgl\":[{\"type\":\"heatmapgl\",\"colorbar\":{\"outlinewidth\":0,\"ticks\":\"\"},\"colorscale\":[[0.0,\"#0d0887\"],[0.1111111111111111,\"#46039f\"],[0.2222222222222222,\"#7201a8\"],[0.3333333333333333,\"#9c179e\"],[0.4444444444444444,\"#bd3786\"],[0.5555555555555556,\"#d8576b\"],[0.6666666666666666,\"#ed7953\"],[0.7777777777777778,\"#fb9f3a\"],[0.8888888888888888,\"#fdca26\"],[1.0,\"#f0f921\"]]}],\"contourcarpet\":[{\"type\":\"contourcarpet\",\"colorbar\":{\"outlinewidth\":0,\"ticks\":\"\"}}],\"contour\":[{\"type\":\"contour\",\"colorbar\":{\"outlinewidth\":0,\"ticks\":\"\"},\"colorscale\":[[0.0,\"#0d0887\"],[0.1111111111111111,\"#46039f\"],[0.2222222222222222,\"#7201a8\"],[0.3333333333333333,\"#9c179e\"],[0.4444444444444444,\"#bd3786\"],[0.5555555555555556,\"#d8576b\"],[0.6666666666666666,\"#ed7953\"],[0.7777777777777778,\"#fb9f3a\"],[0.8888888888888888,\"#fdca26\"],[1.0,\"#f0f921\"]]}],\"surface\":[{\"type\":\"surface\",\"colorbar\":{\"outlinewidth\":0,\"ticks\":\"\"},\"colorscale\":[[0.0,\"#0d0887\"],[0.1111111111111111,\"#46039f\"],[0.2222222222222222,\"#7201a8\"],[0.3333333333333333,\"#9c179e\"],[0.4444444444444444,\"#bd3786\"],[0.5555555555555556,\"#d8576b\"],[0.6666666666666666,\"#ed7953\"],[0.7777777777777778,\"#fb9f3a\"],[0.8888888888888888,\"#fdca26\"],[1.0,\"#f0f921\"]]}],\"mesh3d\":[{\"type\":\"mesh3d\",\"colorbar\":{\"outlinewidth\":0,\"ticks\":\"\"}}],\"scatter\":[{\"fillpattern\":{\"fillmode\":\"overlay\",\"size\":10,\"solidity\":0.2},\"type\":\"scatter\"}],\"parcoords\":[{\"type\":\"parcoords\",\"line\":{\"colorbar\":{\"outlinewidth\":0,\"ticks\":\"\"}}}],\"scatterpolargl\":[{\"type\":\"scatterpolargl\",\"marker\":{\"colorbar\":{\"outlinewidth\":0,\"ticks\":\"\"}}}],\"bar\":[{\"error_x\":{\"color\":\"#2a3f5f\"},\"error_y\":{\"color\":\"#2a3f5f\"},\"marker\":{\"line\":{\"color\":\"#E5ECF6\",\"width\":0.5},\"pattern\":{\"fillmode\":\"overlay\",\"size\":10,\"solidity\":0.2}},\"type\":\"bar\"}],\"scattergeo\":[{\"type\":\"scattergeo\",\"marker\":{\"colorbar\":{\"outlinewidth\":0,\"ticks\":\"\"}}}],\"scatterpolar\":[{\"type\":\"scatterpolar\",\"marker\":{\"colorbar\":{\"outlinewidth\":0,\"ticks\":\"\"}}}],\"histogram\":[{\"marker\":{\"pattern\":{\"fillmode\":\"overlay\",\"size\":10,\"solidity\":0.2}},\"type\":\"histogram\"}],\"scattergl\":[{\"type\":\"scattergl\",\"marker\":{\"colorbar\":{\"outlinewidth\":0,\"ticks\":\"\"}}}],\"scatter3d\":[{\"type\":\"scatter3d\",\"line\":{\"colorbar\":{\"outlinewidth\":0,\"ticks\":\"\"}},\"marker\":{\"colorbar\":{\"outlinewidth\":0,\"ticks\":\"\"}}}],\"scattermapbox\":[{\"type\":\"scattermapbox\",\"marker\":{\"colorbar\":{\"outlinewidth\":0,\"ticks\":\"\"}}}],\"scatterternary\":[{\"type\":\"scatterternary\",\"marker\":{\"colorbar\":{\"outlinewidth\":0,\"ticks\":\"\"}}}],\"scattercarpet\":[{\"type\":\"scattercarpet\",\"marker\":{\"colorbar\":{\"outlinewidth\":0,\"ticks\":\"\"}}}],\"carpet\":[{\"aaxis\":{\"endlinecolor\":\"#2a3f5f\",\"gridcolor\":\"white\",\"linecolor\":\"white\",\"minorgridcolor\":\"white\",\"startlinecolor\":\"#2a3f5f\"},\"baxis\":{\"endlinecolor\":\"#2a3f5f\",\"gridcolor\":\"white\",\"linecolor\":\"white\",\"minorgridcolor\":\"white\",\"startlinecolor\":\"#2a3f5f\"},\"type\":\"carpet\"}],\"table\":[{\"cells\":{\"fill\":{\"color\":\"#EBF0F8\"},\"line\":{\"color\":\"white\"}},\"header\":{\"fill\":{\"color\":\"#C8D4E3\"},\"line\":{\"color\":\"white\"}},\"type\":\"table\"}],\"barpolar\":[{\"marker\":{\"line\":{\"color\":\"#E5ECF6\",\"width\":0.5},\"pattern\":{\"fillmode\":\"overlay\",\"size\":10,\"solidity\":0.2}},\"type\":\"barpolar\"}],\"pie\":[{\"automargin\":true,\"type\":\"pie\"}]},\"layout\":{\"autotypenumbers\":\"strict\",\"colorway\":[\"#636efa\",\"#EF553B\",\"#00cc96\",\"#ab63fa\",\"#FFA15A\",\"#19d3f3\",\"#FF6692\",\"#B6E880\",\"#FF97FF\",\"#FECB52\"],\"font\":{\"color\":\"#2a3f5f\"},\"hovermode\":\"closest\",\"hoverlabel\":{\"align\":\"left\"},\"paper_bgcolor\":\"white\",\"plot_bgcolor\":\"#E5ECF6\",\"polar\":{\"bgcolor\":\"#E5ECF6\",\"angularaxis\":{\"gridcolor\":\"white\",\"linecolor\":\"white\",\"ticks\":\"\"},\"radialaxis\":{\"gridcolor\":\"white\",\"linecolor\":\"white\",\"ticks\":\"\"}},\"ternary\":{\"bgcolor\":\"#E5ECF6\",\"aaxis\":{\"gridcolor\":\"white\",\"linecolor\":\"white\",\"ticks\":\"\"},\"baxis\":{\"gridcolor\":\"white\",\"linecolor\":\"white\",\"ticks\":\"\"},\"caxis\":{\"gridcolor\":\"white\",\"linecolor\":\"white\",\"ticks\":\"\"}},\"coloraxis\":{\"colorbar\":{\"outlinewidth\":0,\"ticks\":\"\"}},\"colorscale\":{\"sequential\":[[0.0,\"#0d0887\"],[0.1111111111111111,\"#46039f\"],[0.2222222222222222,\"#7201a8\"],[0.3333333333333333,\"#9c179e\"],[0.4444444444444444,\"#bd3786\"],[0.5555555555555556,\"#d8576b\"],[0.6666666666666666,\"#ed7953\"],[0.7777777777777778,\"#fb9f3a\"],[0.8888888888888888,\"#fdca26\"],[1.0,\"#f0f921\"]],\"sequentialminus\":[[0.0,\"#0d0887\"],[0.1111111111111111,\"#46039f\"],[0.2222222222222222,\"#7201a8\"],[0.3333333333333333,\"#9c179e\"],[0.4444444444444444,\"#bd3786\"],[0.5555555555555556,\"#d8576b\"],[0.6666666666666666,\"#ed7953\"],[0.7777777777777778,\"#fb9f3a\"],[0.8888888888888888,\"#fdca26\"],[1.0,\"#f0f921\"]],\"diverging\":[[0,\"#8e0152\"],[0.1,\"#c51b7d\"],[0.2,\"#de77ae\"],[0.3,\"#f1b6da\"],[0.4,\"#fde0ef\"],[0.5,\"#f7f7f7\"],[0.6,\"#e6f5d0\"],[0.7,\"#b8e186\"],[0.8,\"#7fbc41\"],[0.9,\"#4d9221\"],[1,\"#276419\"]]},\"xaxis\":{\"gridcolor\":\"white\",\"linecolor\":\"white\",\"ticks\":\"\",\"title\":{\"standoff\":15},\"zerolinecolor\":\"white\",\"automargin\":true,\"zerolinewidth\":2},\"yaxis\":{\"gridcolor\":\"white\",\"linecolor\":\"white\",\"ticks\":\"\",\"title\":{\"standoff\":15},\"zerolinecolor\":\"white\",\"automargin\":true,\"zerolinewidth\":2},\"scene\":{\"xaxis\":{\"backgroundcolor\":\"#E5ECF6\",\"gridcolor\":\"white\",\"linecolor\":\"white\",\"showbackground\":true,\"ticks\":\"\",\"zerolinecolor\":\"white\",\"gridwidth\":2},\"yaxis\":{\"backgroundcolor\":\"#E5ECF6\",\"gridcolor\":\"white\",\"linecolor\":\"white\",\"showbackground\":true,\"ticks\":\"\",\"zerolinecolor\":\"white\",\"gridwidth\":2},\"zaxis\":{\"backgroundcolor\":\"#E5ECF6\",\"gridcolor\":\"white\",\"linecolor\":\"white\",\"showbackground\":true,\"ticks\":\"\",\"zerolinecolor\":\"white\",\"gridwidth\":2}},\"shapedefaults\":{\"line\":{\"color\":\"#2a3f5f\"}},\"annotationdefaults\":{\"arrowcolor\":\"#2a3f5f\",\"arrowhead\":0,\"arrowwidth\":1},\"geo\":{\"bgcolor\":\"white\",\"landcolor\":\"#E5ECF6\",\"subunitcolor\":\"white\",\"showland\":true,\"showlakes\":true,\"lakecolor\":\"white\"},\"title\":{\"x\":0.05},\"mapbox\":{\"style\":\"light\"}}}},                        {\"responsive\": true}                    ).then(function(){\n",
       "                            \n",
       "var gd = document.getElementById('037553b7-e696-4fe7-9727-3fda3a6bd36f');\n",
       "var x = new MutationObserver(function (mutations, observer) {{\n",
       "        var display = window.getComputedStyle(gd).display;\n",
       "        if (!display || display === 'none') {{\n",
       "            console.log([gd, 'removed!']);\n",
       "            Plotly.purge(gd);\n",
       "            observer.disconnect();\n",
       "        }}\n",
       "}});\n",
       "\n",
       "// Listen for the removal of the full notebook cells\n",
       "var notebookContainer = gd.closest('#notebook-container');\n",
       "if (notebookContainer) {{\n",
       "    x.observe(notebookContainer, {childList: true});\n",
       "}}\n",
       "\n",
       "// Listen for the clearing of the current output cell\n",
       "var outputEl = gd.closest('.output');\n",
       "if (outputEl) {{\n",
       "    x.observe(outputEl, {childList: true});\n",
       "}}\n",
       "\n",
       "                        })                };                });            </script>        </div>"
      ]
     },
     "metadata": {},
     "output_type": "display_data"
    }
   ],
   "source": [
    "import plotly\n",
    "import numpy as np\n",
    "import plotly.graph_objs as go\n",
    "from sklearn.decomposition import PCA\n",
    "\n",
    "def display_pca_scatterplot_2D(model, user_input=None, words=None, label=None, color_map=None, topn=15, sample=10):\n",
    "\n",
    "    word_vectors = word_vectors = np.array(model.loc[:,model.columns!='Unnamed: 0'])\n",
    "    #word_vectors = [model.loc[model['Unnamed: 0']==w,model.columns!='Unnamed: 0']for w in words]\n",
    "    #word_vectors = np.array(word_vectors.loc[:,word_vectors.columns!='Unnamed: 0'])\n",
    "    #df.loc[:, df.columns!='column1']\n",
    "    #display(word_vectors)\n",
    "    #three_dim = PCA(random_state=0).fit_transform(word_vectors)[:,:3]\n",
    "    # For 2D, change the three_dim variable into something like two_dim like the following:\n",
    "    three_dim = PCA(random_state=0).fit_transform(word_vectors)[:,:2]\n",
    "\n",
    "    data = []\n",
    "    count = 0\n",
    "    \n",
    "    for i in range (len(user_input)):\n",
    "\n",
    "                trace = go.Scatter(\n",
    "                    x = three_dim[count:count+topn,0], \n",
    "                    y = three_dim[count:count+topn,1],  \n",
    "                    text = words[count:count+topn],\n",
    "                    name = user_input[i],\n",
    "                    textposition = \"top center\",\n",
    "                    textfont_size = 20,\n",
    "                    mode = 'markers+text',\n",
    "                    marker = {\n",
    "                        'size': 10,\n",
    "                        'opacity': 0.8,\n",
    "                        'color': 2\n",
    "                    }\n",
    "       \n",
    "                )\n",
    "                \n",
    "                # For 2D, instead of using go.Scatter3d, we need to use go.Scatter and delete the z variable. Also, instead of using\n",
    "                # variable three_dim, use the variable that we have declared earlier (e.g two_dim)\n",
    "            \n",
    "                data.append(trace)\n",
    "                count = count+topn\n",
    "\n",
    "    trace_input = go.Scatter(\n",
    "                    x = three_dim[count:,0], \n",
    "                    y = three_dim[count:,1],  \n",
    "                    text = words[count:],\n",
    "                    name = 'input words',\n",
    "                    textposition = \"top center\",\n",
    "                    textfont_size = 20,\n",
    "                    mode = 'markers+text',\n",
    "                    marker = {\n",
    "                        'size': 10,\n",
    "                        'opacity': 1,\n",
    "                        'color': 'black'\n",
    "                    }\n",
    "                    )\n",
    "\n",
    "    # For 2D, instead of using go.Scatter3d, we need to use go.Scatter and delete the z variable.  Also, instead of using\n",
    "    # variable three_dim, use the variable that we have declared earlier (e.g two_dim)\n",
    "            \n",
    "    data.append(trace_input)\n",
    "    \n",
    "# Configure the layout\n",
    "\n",
    "    layout = go.Layout(\n",
    "        margin = {'l': 0, 'r': 0, 'b': 0, 't': 0},\n",
    "        showlegend=True,\n",
    "        legend=dict(\n",
    "        x=1,\n",
    "        y=0.5,\n",
    "        font=dict(\n",
    "            family=\"Courier New\",\n",
    "            size=25,\n",
    "            color=\"black\"\n",
    "        )),\n",
    "        font = dict(\n",
    "            family = \" Courier New \",\n",
    "            size = 15),\n",
    "        autosize = False,\n",
    "        width = 1000,\n",
    "        height = 1000\n",
    "        )\n",
    "\n",
    "\n",
    "    plot_figure = go.Figure(data = data, layout = layout)\n",
    "    plot_figure.show()\n",
    "    \n",
    "display_pca_scatterplot_2D(model=new_df[0:50], user_input=['Centene', 'Microsoft', 'Walmart'], words=name_list)"
   ]
  },
  {
   "cell_type": "code",
   "execution_count": null,
   "id": "4cdd3cd8",
   "metadata": {},
   "outputs": [],
   "source": []
  }
 ],
 "metadata": {
  "kernelspec": {
   "display_name": "Python 3 (ipykernel)",
   "language": "python",
   "name": "python3"
  },
  "language_info": {
   "codemirror_mode": {
    "name": "ipython",
    "version": 3
   },
   "file_extension": ".py",
   "mimetype": "text/x-python",
   "name": "python",
   "nbconvert_exporter": "python",
   "pygments_lexer": "ipython3",
   "version": "3.9.5"
  }
 },
 "nbformat": 4,
 "nbformat_minor": 5
}
